{
 "cells": [
  {
   "cell_type": "code",
   "execution_count": 1,
   "metadata": {
    "collapsed": true
   },
   "outputs": [],
   "source": [
    "import graphlab"
   ]
  },
  {
   "cell_type": "code",
   "execution_count": 22,
   "metadata": {
    "collapsed": false
   },
   "outputs": [
    {
     "data": {
      "text/html": [
       "<pre>Finished parsing file /home/him/AllProjects/Enigma/train.csv</pre>"
      ],
      "text/plain": [
       "Finished parsing file /home/him/AllProjects/Enigma/train.csv"
      ]
     },
     "metadata": {},
     "output_type": "display_data"
    },
    {
     "data": {
      "text/html": [
       "<pre>Parsing completed. Parsed 100 lines in 1.09737 secs.</pre>"
      ],
      "text/plain": [
       "Parsing completed. Parsed 100 lines in 1.09737 secs."
      ]
     },
     "metadata": {},
     "output_type": "display_data"
    },
    {
     "data": {
      "text/html": [
       "<pre>Finished parsing file /home/him/AllProjects/Enigma/train.csv</pre>"
      ],
      "text/plain": [
       "Finished parsing file /home/him/AllProjects/Enigma/train.csv"
      ]
     },
     "metadata": {},
     "output_type": "display_data"
    },
    {
     "data": {
      "text/html": [
       "<pre>Parsing completed. Parsed 52397 lines in 1.15606 secs.</pre>"
      ],
      "text/plain": [
       "Parsing completed. Parsed 52397 lines in 1.15606 secs."
      ]
     },
     "metadata": {},
     "output_type": "display_data"
    },
    {
     "name": "stdout",
     "output_type": "stream",
     "text": [
      "------------------------------------------------------\n",
      "Inferred types from first line of file as \n",
      "column_type_hints=[str,str,str,int,int,int,int,int,int,int,int,int,int,int,int,int,int,int,int,int,int,int,int,int,int,int,int,int,int,int,int,int,int,int,int,int,int,int,int,int,int,int,int,int,int,int,int,int,int,int,int,int,int,int,int,int,int,int,int,int,int,int,int,int,int,int,int,int,int,int,int,int,int,int,int,int,int,int,int,int,int,int,int,int,int,int,int,int,int,int,int,int,int,int,int,int,int,int,int,int,int,int,int,int,int,int,int,int,int,int,int,int,int,int,int,int,int,int,int,int,int,int,int,int,int,int,int,int,int,int,int,int,int,int,int,int,int,int,int,int,int,int,int,int,int,int,int,int,int,int,int,int,int,int,int,int,int,int,int,int,int,int,int,int,int,int,int,int,int,int,int,int,int,int,int,int,int,int,int,int,int,int,int,int,int,int,int,int,int,int,int,int,int,int,int,int,int,int,int,int,int,int,int,int,int,int,int,int,int,int,int,int,int,int,int,int,int,int,int,int,float,int,int,float,int,float,int,int,float,int,float,int,int,float,int,float,int,int,float,int,float,int,int,float,int,float,int,int,float,int,float,int,int,float,int,float,int,int,float,int,float,int,int,float,int,float,int,int,float,int]\n",
      "If parsing fails due to incorrect types, you can correct\n",
      "the inferred type list above and pass it to read_csv in\n",
      "the column_type_hints argument\n",
      "------------------------------------------------------\n"
     ]
    }
   ],
   "source": [
    "sf = graphlab.SFrame('train.csv')"
   ]
  },
  {
   "cell_type": "code",
   "execution_count": 23,
   "metadata": {
    "collapsed": false
   },
   "outputs": [
    {
     "data": {
      "text/html": [
       "<div style=\"max-height:1000px;max-width:1500px;overflow:auto;\"><table frame=\"box\" rules=\"cols\">\n",
       "    <tr>\n",
       "        <th style=\"padding-left: 1em; padding-right: 1em; text-align: center\">1</th>\n",
       "        <th style=\"padding-left: 1em; padding-right: 1em; text-align: center\">2</th>\n",
       "        <th style=\"padding-left: 1em; padding-right: 1em; text-align: center\">3</th>\n",
       "        <th style=\"padding-left: 1em; padding-right: 1em; text-align: center\">4</th>\n",
       "        <th style=\"padding-left: 1em; padding-right: 1em; text-align: center\">5</th>\n",
       "        <th style=\"padding-left: 1em; padding-right: 1em; text-align: center\">6</th>\n",
       "        <th style=\"padding-left: 1em; padding-right: 1em; text-align: center\">7</th>\n",
       "        <th style=\"padding-left: 1em; padding-right: 1em; text-align: center\">8</th>\n",
       "        <th style=\"padding-left: 1em; padding-right: 1em; text-align: center\">9</th>\n",
       "        <th style=\"padding-left: 1em; padding-right: 1em; text-align: center\">10</th>\n",
       "        <th style=\"padding-left: 1em; padding-right: 1em; text-align: center\">11</th>\n",
       "        <th style=\"padding-left: 1em; padding-right: 1em; text-align: center\">12</th>\n",
       "        <th style=\"padding-left: 1em; padding-right: 1em; text-align: center\">13</th>\n",
       "        <th style=\"padding-left: 1em; padding-right: 1em; text-align: center\">14</th>\n",
       "        <th style=\"padding-left: 1em; padding-right: 1em; text-align: center\">15</th>\n",
       "        <th style=\"padding-left: 1em; padding-right: 1em; text-align: center\">16</th>\n",
       "        <th style=\"padding-left: 1em; padding-right: 1em; text-align: center\">17</th>\n",
       "        <th style=\"padding-left: 1em; padding-right: 1em; text-align: center\">18</th>\n",
       "        <th style=\"padding-left: 1em; padding-right: 1em; text-align: center\">19</th>\n",
       "        <th style=\"padding-left: 1em; padding-right: 1em; text-align: center\">20</th>\n",
       "        <th style=\"padding-left: 1em; padding-right: 1em; text-align: center\">21</th>\n",
       "        <th style=\"padding-left: 1em; padding-right: 1em; text-align: center\">22</th>\n",
       "        <th style=\"padding-left: 1em; padding-right: 1em; text-align: center\">23</th>\n",
       "    </tr>\n",
       "    <tr>\n",
       "        <td style=\"padding-left: 1em; padding-right: 1em; text-align: center; vertical-align: top\">Y0</td>\n",
       "        <td style=\"padding-left: 1em; padding-right: 1em; text-align: center; vertical-align: top\">Friday</td>\n",
       "        <td style=\"padding-left: 1em; padding-right: 1em; text-align: center; vertical-align: top\">Thursday</td>\n",
       "        <td style=\"padding-left: 1em; padding-right: 1em; text-align: center; vertical-align: top\">0</td>\n",
       "        <td style=\"padding-left: 1em; padding-right: 1em; text-align: center; vertical-align: top\">0</td>\n",
       "        <td style=\"padding-left: 1em; padding-right: 1em; text-align: center; vertical-align: top\">0</td>\n",
       "        <td style=\"padding-left: 1em; padding-right: 1em; text-align: center; vertical-align: top\">0</td>\n",
       "        <td style=\"padding-left: 1em; padding-right: 1em; text-align: center; vertical-align: top\">0</td>\n",
       "        <td style=\"padding-left: 1em; padding-right: 1em; text-align: center; vertical-align: top\">0</td>\n",
       "        <td style=\"padding-left: 1em; padding-right: 1em; text-align: center; vertical-align: top\">0</td>\n",
       "        <td style=\"padding-left: 1em; padding-right: 1em; text-align: center; vertical-align: top\">0</td>\n",
       "        <td style=\"padding-left: 1em; padding-right: 1em; text-align: center; vertical-align: top\">0</td>\n",
       "        <td style=\"padding-left: 1em; padding-right: 1em; text-align: center; vertical-align: top\">0</td>\n",
       "        <td style=\"padding-left: 1em; padding-right: 1em; text-align: center; vertical-align: top\">0</td>\n",
       "        <td style=\"padding-left: 1em; padding-right: 1em; text-align: center; vertical-align: top\">0</td>\n",
       "        <td style=\"padding-left: 1em; padding-right: 1em; text-align: center; vertical-align: top\">0</td>\n",
       "        <td style=\"padding-left: 1em; padding-right: 1em; text-align: center; vertical-align: top\">0</td>\n",
       "        <td style=\"padding-left: 1em; padding-right: 1em; text-align: center; vertical-align: top\">0</td>\n",
       "        <td style=\"padding-left: 1em; padding-right: 1em; text-align: center; vertical-align: top\">0</td>\n",
       "        <td style=\"padding-left: 1em; padding-right: 1em; text-align: center; vertical-align: top\">0</td>\n",
       "        <td style=\"padding-left: 1em; padding-right: 1em; text-align: center; vertical-align: top\">0</td>\n",
       "        <td style=\"padding-left: 1em; padding-right: 1em; text-align: center; vertical-align: top\">0</td>\n",
       "        <td style=\"padding-left: 1em; padding-right: 1em; text-align: center; vertical-align: top\">0</td>\n",
       "    </tr>\n",
       "    <tr>\n",
       "        <td style=\"padding-left: 1em; padding-right: 1em; text-align: center; vertical-align: top\">Y1</td>\n",
       "        <td style=\"padding-left: 1em; padding-right: 1em; text-align: center; vertical-align: top\">Friday</td>\n",
       "        <td style=\"padding-left: 1em; padding-right: 1em; text-align: center; vertical-align: top\">Wednesday</td>\n",
       "        <td style=\"padding-left: 1em; padding-right: 1em; text-align: center; vertical-align: top\">0</td>\n",
       "        <td style=\"padding-left: 1em; padding-right: 1em; text-align: center; vertical-align: top\">0</td>\n",
       "        <td style=\"padding-left: 1em; padding-right: 1em; text-align: center; vertical-align: top\">0</td>\n",
       "        <td style=\"padding-left: 1em; padding-right: 1em; text-align: center; vertical-align: top\">0</td>\n",
       "        <td style=\"padding-left: 1em; padding-right: 1em; text-align: center; vertical-align: top\">0</td>\n",
       "        <td style=\"padding-left: 1em; padding-right: 1em; text-align: center; vertical-align: top\">0</td>\n",
       "        <td style=\"padding-left: 1em; padding-right: 1em; text-align: center; vertical-align: top\">0</td>\n",
       "        <td style=\"padding-left: 1em; padding-right: 1em; text-align: center; vertical-align: top\">0</td>\n",
       "        <td style=\"padding-left: 1em; padding-right: 1em; text-align: center; vertical-align: top\">0</td>\n",
       "        <td style=\"padding-left: 1em; padding-right: 1em; text-align: center; vertical-align: top\">0</td>\n",
       "        <td style=\"padding-left: 1em; padding-right: 1em; text-align: center; vertical-align: top\">0</td>\n",
       "        <td style=\"padding-left: 1em; padding-right: 1em; text-align: center; vertical-align: top\">0</td>\n",
       "        <td style=\"padding-left: 1em; padding-right: 1em; text-align: center; vertical-align: top\">0</td>\n",
       "        <td style=\"padding-left: 1em; padding-right: 1em; text-align: center; vertical-align: top\">0</td>\n",
       "        <td style=\"padding-left: 1em; padding-right: 1em; text-align: center; vertical-align: top\">0</td>\n",
       "        <td style=\"padding-left: 1em; padding-right: 1em; text-align: center; vertical-align: top\">0</td>\n",
       "        <td style=\"padding-left: 1em; padding-right: 1em; text-align: center; vertical-align: top\">0</td>\n",
       "        <td style=\"padding-left: 1em; padding-right: 1em; text-align: center; vertical-align: top\">0</td>\n",
       "        <td style=\"padding-left: 1em; padding-right: 1em; text-align: center; vertical-align: top\">0</td>\n",
       "        <td style=\"padding-left: 1em; padding-right: 1em; text-align: center; vertical-align: top\">0</td>\n",
       "    </tr>\n",
       "    <tr>\n",
       "        <td style=\"padding-left: 1em; padding-right: 1em; text-align: center; vertical-align: top\">Y2</td>\n",
       "        <td style=\"padding-left: 1em; padding-right: 1em; text-align: center; vertical-align: top\">Friday</td>\n",
       "        <td style=\"padding-left: 1em; padding-right: 1em; text-align: center; vertical-align: top\">Wednesday</td>\n",
       "        <td style=\"padding-left: 1em; padding-right: 1em; text-align: center; vertical-align: top\">0</td>\n",
       "        <td style=\"padding-left: 1em; padding-right: 1em; text-align: center; vertical-align: top\">0</td>\n",
       "        <td style=\"padding-left: 1em; padding-right: 1em; text-align: center; vertical-align: top\">0</td>\n",
       "        <td style=\"padding-left: 1em; padding-right: 1em; text-align: center; vertical-align: top\">0</td>\n",
       "        <td style=\"padding-left: 1em; padding-right: 1em; text-align: center; vertical-align: top\">0</td>\n",
       "        <td style=\"padding-left: 1em; padding-right: 1em; text-align: center; vertical-align: top\">0</td>\n",
       "        <td style=\"padding-left: 1em; padding-right: 1em; text-align: center; vertical-align: top\">0</td>\n",
       "        <td style=\"padding-left: 1em; padding-right: 1em; text-align: center; vertical-align: top\">0</td>\n",
       "        <td style=\"padding-left: 1em; padding-right: 1em; text-align: center; vertical-align: top\">0</td>\n",
       "        <td style=\"padding-left: 1em; padding-right: 1em; text-align: center; vertical-align: top\">0</td>\n",
       "        <td style=\"padding-left: 1em; padding-right: 1em; text-align: center; vertical-align: top\">0</td>\n",
       "        <td style=\"padding-left: 1em; padding-right: 1em; text-align: center; vertical-align: top\">0</td>\n",
       "        <td style=\"padding-left: 1em; padding-right: 1em; text-align: center; vertical-align: top\">0</td>\n",
       "        <td style=\"padding-left: 1em; padding-right: 1em; text-align: center; vertical-align: top\">0</td>\n",
       "        <td style=\"padding-left: 1em; padding-right: 1em; text-align: center; vertical-align: top\">0</td>\n",
       "        <td style=\"padding-left: 1em; padding-right: 1em; text-align: center; vertical-align: top\">0</td>\n",
       "        <td style=\"padding-left: 1em; padding-right: 1em; text-align: center; vertical-align: top\">0</td>\n",
       "        <td style=\"padding-left: 1em; padding-right: 1em; text-align: center; vertical-align: top\">0</td>\n",
       "        <td style=\"padding-left: 1em; padding-right: 1em; text-align: center; vertical-align: top\">0</td>\n",
       "        <td style=\"padding-left: 1em; padding-right: 1em; text-align: center; vertical-align: top\">0</td>\n",
       "    </tr>\n",
       "    <tr>\n",
       "        <td style=\"padding-left: 1em; padding-right: 1em; text-align: center; vertical-align: top\">Y3</td>\n",
       "        <td style=\"padding-left: 1em; padding-right: 1em; text-align: center; vertical-align: top\">Friday</td>\n",
       "        <td style=\"padding-left: 1em; padding-right: 1em; text-align: center; vertical-align: top\">Thursday</td>\n",
       "        <td style=\"padding-left: 1em; padding-right: 1em; text-align: center; vertical-align: top\">0</td>\n",
       "        <td style=\"padding-left: 1em; padding-right: 1em; text-align: center; vertical-align: top\">0</td>\n",
       "        <td style=\"padding-left: 1em; padding-right: 1em; text-align: center; vertical-align: top\">0</td>\n",
       "        <td style=\"padding-left: 1em; padding-right: 1em; text-align: center; vertical-align: top\">0</td>\n",
       "        <td style=\"padding-left: 1em; padding-right: 1em; text-align: center; vertical-align: top\">0</td>\n",
       "        <td style=\"padding-left: 1em; padding-right: 1em; text-align: center; vertical-align: top\">0</td>\n",
       "        <td style=\"padding-left: 1em; padding-right: 1em; text-align: center; vertical-align: top\">0</td>\n",
       "        <td style=\"padding-left: 1em; padding-right: 1em; text-align: center; vertical-align: top\">0</td>\n",
       "        <td style=\"padding-left: 1em; padding-right: 1em; text-align: center; vertical-align: top\">0</td>\n",
       "        <td style=\"padding-left: 1em; padding-right: 1em; text-align: center; vertical-align: top\">0</td>\n",
       "        <td style=\"padding-left: 1em; padding-right: 1em; text-align: center; vertical-align: top\">0</td>\n",
       "        <td style=\"padding-left: 1em; padding-right: 1em; text-align: center; vertical-align: top\">0</td>\n",
       "        <td style=\"padding-left: 1em; padding-right: 1em; text-align: center; vertical-align: top\">0</td>\n",
       "        <td style=\"padding-left: 1em; padding-right: 1em; text-align: center; vertical-align: top\">0</td>\n",
       "        <td style=\"padding-left: 1em; padding-right: 1em; text-align: center; vertical-align: top\">0</td>\n",
       "        <td style=\"padding-left: 1em; padding-right: 1em; text-align: center; vertical-align: top\">0</td>\n",
       "        <td style=\"padding-left: 1em; padding-right: 1em; text-align: center; vertical-align: top\">0</td>\n",
       "        <td style=\"padding-left: 1em; padding-right: 1em; text-align: center; vertical-align: top\">0</td>\n",
       "        <td style=\"padding-left: 1em; padding-right: 1em; text-align: center; vertical-align: top\">0</td>\n",
       "        <td style=\"padding-left: 1em; padding-right: 1em; text-align: center; vertical-align: top\">0</td>\n",
       "    </tr>\n",
       "    <tr>\n",
       "        <td style=\"padding-left: 1em; padding-right: 1em; text-align: center; vertical-align: top\">Y4</td>\n",
       "        <td style=\"padding-left: 1em; padding-right: 1em; text-align: center; vertical-align: top\">Saturday</td>\n",
       "        <td style=\"padding-left: 1em; padding-right: 1em; text-align: center; vertical-align: top\">Thursday</td>\n",
       "        <td style=\"padding-left: 1em; padding-right: 1em; text-align: center; vertical-align: top\">0</td>\n",
       "        <td style=\"padding-left: 1em; padding-right: 1em; text-align: center; vertical-align: top\">0</td>\n",
       "        <td style=\"padding-left: 1em; padding-right: 1em; text-align: center; vertical-align: top\">0</td>\n",
       "        <td style=\"padding-left: 1em; padding-right: 1em; text-align: center; vertical-align: top\">0</td>\n",
       "        <td style=\"padding-left: 1em; padding-right: 1em; text-align: center; vertical-align: top\">0</td>\n",
       "        <td style=\"padding-left: 1em; padding-right: 1em; text-align: center; vertical-align: top\">0</td>\n",
       "        <td style=\"padding-left: 1em; padding-right: 1em; text-align: center; vertical-align: top\">0</td>\n",
       "        <td style=\"padding-left: 1em; padding-right: 1em; text-align: center; vertical-align: top\">0</td>\n",
       "        <td style=\"padding-left: 1em; padding-right: 1em; text-align: center; vertical-align: top\">0</td>\n",
       "        <td style=\"padding-left: 1em; padding-right: 1em; text-align: center; vertical-align: top\">0</td>\n",
       "        <td style=\"padding-left: 1em; padding-right: 1em; text-align: center; vertical-align: top\">0</td>\n",
       "        <td style=\"padding-left: 1em; padding-right: 1em; text-align: center; vertical-align: top\">0</td>\n",
       "        <td style=\"padding-left: 1em; padding-right: 1em; text-align: center; vertical-align: top\">0</td>\n",
       "        <td style=\"padding-left: 1em; padding-right: 1em; text-align: center; vertical-align: top\">0</td>\n",
       "        <td style=\"padding-left: 1em; padding-right: 1em; text-align: center; vertical-align: top\">0</td>\n",
       "        <td style=\"padding-left: 1em; padding-right: 1em; text-align: center; vertical-align: top\">0</td>\n",
       "        <td style=\"padding-left: 1em; padding-right: 1em; text-align: center; vertical-align: top\">0</td>\n",
       "        <td style=\"padding-left: 1em; padding-right: 1em; text-align: center; vertical-align: top\">0</td>\n",
       "        <td style=\"padding-left: 1em; padding-right: 1em; text-align: center; vertical-align: top\">0</td>\n",
       "        <td style=\"padding-left: 1em; padding-right: 1em; text-align: center; vertical-align: top\">0</td>\n",
       "    </tr>\n",
       "    <tr>\n",
       "        <td style=\"padding-left: 1em; padding-right: 1em; text-align: center; vertical-align: top\">Y5</td>\n",
       "        <td style=\"padding-left: 1em; padding-right: 1em; text-align: center; vertical-align: top\">Saturday</td>\n",
       "        <td style=\"padding-left: 1em; padding-right: 1em; text-align: center; vertical-align: top\">Wednesday</td>\n",
       "        <td style=\"padding-left: 1em; padding-right: 1em; text-align: center; vertical-align: top\">0</td>\n",
       "        <td style=\"padding-left: 1em; padding-right: 1em; text-align: center; vertical-align: top\">0</td>\n",
       "        <td style=\"padding-left: 1em; padding-right: 1em; text-align: center; vertical-align: top\">0</td>\n",
       "        <td style=\"padding-left: 1em; padding-right: 1em; text-align: center; vertical-align: top\">0</td>\n",
       "        <td style=\"padding-left: 1em; padding-right: 1em; text-align: center; vertical-align: top\">0</td>\n",
       "        <td style=\"padding-left: 1em; padding-right: 1em; text-align: center; vertical-align: top\">0</td>\n",
       "        <td style=\"padding-left: 1em; padding-right: 1em; text-align: center; vertical-align: top\">0</td>\n",
       "        <td style=\"padding-left: 1em; padding-right: 1em; text-align: center; vertical-align: top\">0</td>\n",
       "        <td style=\"padding-left: 1em; padding-right: 1em; text-align: center; vertical-align: top\">0</td>\n",
       "        <td style=\"padding-left: 1em; padding-right: 1em; text-align: center; vertical-align: top\">0</td>\n",
       "        <td style=\"padding-left: 1em; padding-right: 1em; text-align: center; vertical-align: top\">0</td>\n",
       "        <td style=\"padding-left: 1em; padding-right: 1em; text-align: center; vertical-align: top\">0</td>\n",
       "        <td style=\"padding-left: 1em; padding-right: 1em; text-align: center; vertical-align: top\">0</td>\n",
       "        <td style=\"padding-left: 1em; padding-right: 1em; text-align: center; vertical-align: top\">0</td>\n",
       "        <td style=\"padding-left: 1em; padding-right: 1em; text-align: center; vertical-align: top\">0</td>\n",
       "        <td style=\"padding-left: 1em; padding-right: 1em; text-align: center; vertical-align: top\">0</td>\n",
       "        <td style=\"padding-left: 1em; padding-right: 1em; text-align: center; vertical-align: top\">0</td>\n",
       "        <td style=\"padding-left: 1em; padding-right: 1em; text-align: center; vertical-align: top\">0</td>\n",
       "        <td style=\"padding-left: 1em; padding-right: 1em; text-align: center; vertical-align: top\">0</td>\n",
       "        <td style=\"padding-left: 1em; padding-right: 1em; text-align: center; vertical-align: top\">0</td>\n",
       "    </tr>\n",
       "    <tr>\n",
       "        <td style=\"padding-left: 1em; padding-right: 1em; text-align: center; vertical-align: top\">Y6</td>\n",
       "        <td style=\"padding-left: 1em; padding-right: 1em; text-align: center; vertical-align: top\">Saturday</td>\n",
       "        <td style=\"padding-left: 1em; padding-right: 1em; text-align: center; vertical-align: top\">Wednesday</td>\n",
       "        <td style=\"padding-left: 1em; padding-right: 1em; text-align: center; vertical-align: top\">0</td>\n",
       "        <td style=\"padding-left: 1em; padding-right: 1em; text-align: center; vertical-align: top\">0</td>\n",
       "        <td style=\"padding-left: 1em; padding-right: 1em; text-align: center; vertical-align: top\">0</td>\n",
       "        <td style=\"padding-left: 1em; padding-right: 1em; text-align: center; vertical-align: top\">0</td>\n",
       "        <td style=\"padding-left: 1em; padding-right: 1em; text-align: center; vertical-align: top\">0</td>\n",
       "        <td style=\"padding-left: 1em; padding-right: 1em; text-align: center; vertical-align: top\">0</td>\n",
       "        <td style=\"padding-left: 1em; padding-right: 1em; text-align: center; vertical-align: top\">0</td>\n",
       "        <td style=\"padding-left: 1em; padding-right: 1em; text-align: center; vertical-align: top\">0</td>\n",
       "        <td style=\"padding-left: 1em; padding-right: 1em; text-align: center; vertical-align: top\">0</td>\n",
       "        <td style=\"padding-left: 1em; padding-right: 1em; text-align: center; vertical-align: top\">0</td>\n",
       "        <td style=\"padding-left: 1em; padding-right: 1em; text-align: center; vertical-align: top\">0</td>\n",
       "        <td style=\"padding-left: 1em; padding-right: 1em; text-align: center; vertical-align: top\">0</td>\n",
       "        <td style=\"padding-left: 1em; padding-right: 1em; text-align: center; vertical-align: top\">0</td>\n",
       "        <td style=\"padding-left: 1em; padding-right: 1em; text-align: center; vertical-align: top\">0</td>\n",
       "        <td style=\"padding-left: 1em; padding-right: 1em; text-align: center; vertical-align: top\">0</td>\n",
       "        <td style=\"padding-left: 1em; padding-right: 1em; text-align: center; vertical-align: top\">0</td>\n",
       "        <td style=\"padding-left: 1em; padding-right: 1em; text-align: center; vertical-align: top\">0</td>\n",
       "        <td style=\"padding-left: 1em; padding-right: 1em; text-align: center; vertical-align: top\">0</td>\n",
       "        <td style=\"padding-left: 1em; padding-right: 1em; text-align: center; vertical-align: top\">0</td>\n",
       "        <td style=\"padding-left: 1em; padding-right: 1em; text-align: center; vertical-align: top\">0</td>\n",
       "    </tr>\n",
       "    <tr>\n",
       "        <td style=\"padding-left: 1em; padding-right: 1em; text-align: center; vertical-align: top\">Y7</td>\n",
       "        <td style=\"padding-left: 1em; padding-right: 1em; text-align: center; vertical-align: top\">Saturday</td>\n",
       "        <td style=\"padding-left: 1em; padding-right: 1em; text-align: center; vertical-align: top\">Thursday</td>\n",
       "        <td style=\"padding-left: 1em; padding-right: 1em; text-align: center; vertical-align: top\">0</td>\n",
       "        <td style=\"padding-left: 1em; padding-right: 1em; text-align: center; vertical-align: top\">0</td>\n",
       "        <td style=\"padding-left: 1em; padding-right: 1em; text-align: center; vertical-align: top\">0</td>\n",
       "        <td style=\"padding-left: 1em; padding-right: 1em; text-align: center; vertical-align: top\">0</td>\n",
       "        <td style=\"padding-left: 1em; padding-right: 1em; text-align: center; vertical-align: top\">0</td>\n",
       "        <td style=\"padding-left: 1em; padding-right: 1em; text-align: center; vertical-align: top\">0</td>\n",
       "        <td style=\"padding-left: 1em; padding-right: 1em; text-align: center; vertical-align: top\">0</td>\n",
       "        <td style=\"padding-left: 1em; padding-right: 1em; text-align: center; vertical-align: top\">0</td>\n",
       "        <td style=\"padding-left: 1em; padding-right: 1em; text-align: center; vertical-align: top\">0</td>\n",
       "        <td style=\"padding-left: 1em; padding-right: 1em; text-align: center; vertical-align: top\">0</td>\n",
       "        <td style=\"padding-left: 1em; padding-right: 1em; text-align: center; vertical-align: top\">0</td>\n",
       "        <td style=\"padding-left: 1em; padding-right: 1em; text-align: center; vertical-align: top\">0</td>\n",
       "        <td style=\"padding-left: 1em; padding-right: 1em; text-align: center; vertical-align: top\">0</td>\n",
       "        <td style=\"padding-left: 1em; padding-right: 1em; text-align: center; vertical-align: top\">0</td>\n",
       "        <td style=\"padding-left: 1em; padding-right: 1em; text-align: center; vertical-align: top\">0</td>\n",
       "        <td style=\"padding-left: 1em; padding-right: 1em; text-align: center; vertical-align: top\">0</td>\n",
       "        <td style=\"padding-left: 1em; padding-right: 1em; text-align: center; vertical-align: top\">0</td>\n",
       "        <td style=\"padding-left: 1em; padding-right: 1em; text-align: center; vertical-align: top\">0</td>\n",
       "        <td style=\"padding-left: 1em; padding-right: 1em; text-align: center; vertical-align: top\">0</td>\n",
       "        <td style=\"padding-left: 1em; padding-right: 1em; text-align: center; vertical-align: top\">0</td>\n",
       "    </tr>\n",
       "    <tr>\n",
       "        <td style=\"padding-left: 1em; padding-right: 1em; text-align: center; vertical-align: top\">Y8</td>\n",
       "        <td style=\"padding-left: 1em; padding-right: 1em; text-align: center; vertical-align: top\">Sunday</td>\n",
       "        <td style=\"padding-left: 1em; padding-right: 1em; text-align: center; vertical-align: top\">Thursday</td>\n",
       "        <td style=\"padding-left: 1em; padding-right: 1em; text-align: center; vertical-align: top\">0</td>\n",
       "        <td style=\"padding-left: 1em; padding-right: 1em; text-align: center; vertical-align: top\">0</td>\n",
       "        <td style=\"padding-left: 1em; padding-right: 1em; text-align: center; vertical-align: top\">0</td>\n",
       "        <td style=\"padding-left: 1em; padding-right: 1em; text-align: center; vertical-align: top\">0</td>\n",
       "        <td style=\"padding-left: 1em; padding-right: 1em; text-align: center; vertical-align: top\">0</td>\n",
       "        <td style=\"padding-left: 1em; padding-right: 1em; text-align: center; vertical-align: top\">0</td>\n",
       "        <td style=\"padding-left: 1em; padding-right: 1em; text-align: center; vertical-align: top\">0</td>\n",
       "        <td style=\"padding-left: 1em; padding-right: 1em; text-align: center; vertical-align: top\">0</td>\n",
       "        <td style=\"padding-left: 1em; padding-right: 1em; text-align: center; vertical-align: top\">0</td>\n",
       "        <td style=\"padding-left: 1em; padding-right: 1em; text-align: center; vertical-align: top\">0</td>\n",
       "        <td style=\"padding-left: 1em; padding-right: 1em; text-align: center; vertical-align: top\">0</td>\n",
       "        <td style=\"padding-left: 1em; padding-right: 1em; text-align: center; vertical-align: top\">0</td>\n",
       "        <td style=\"padding-left: 1em; padding-right: 1em; text-align: center; vertical-align: top\">0</td>\n",
       "        <td style=\"padding-left: 1em; padding-right: 1em; text-align: center; vertical-align: top\">0</td>\n",
       "        <td style=\"padding-left: 1em; padding-right: 1em; text-align: center; vertical-align: top\">0</td>\n",
       "        <td style=\"padding-left: 1em; padding-right: 1em; text-align: center; vertical-align: top\">0</td>\n",
       "        <td style=\"padding-left: 1em; padding-right: 1em; text-align: center; vertical-align: top\">0</td>\n",
       "        <td style=\"padding-left: 1em; padding-right: 1em; text-align: center; vertical-align: top\">0</td>\n",
       "        <td style=\"padding-left: 1em; padding-right: 1em; text-align: center; vertical-align: top\">0</td>\n",
       "        <td style=\"padding-left: 1em; padding-right: 1em; text-align: center; vertical-align: top\">0</td>\n",
       "    </tr>\n",
       "    <tr>\n",
       "        <td style=\"padding-left: 1em; padding-right: 1em; text-align: center; vertical-align: top\">Y9</td>\n",
       "        <td style=\"padding-left: 1em; padding-right: 1em; text-align: center; vertical-align: top\">Sunday</td>\n",
       "        <td style=\"padding-left: 1em; padding-right: 1em; text-align: center; vertical-align: top\">Thursday</td>\n",
       "        <td style=\"padding-left: 1em; padding-right: 1em; text-align: center; vertical-align: top\">0</td>\n",
       "        <td style=\"padding-left: 1em; padding-right: 1em; text-align: center; vertical-align: top\">0</td>\n",
       "        <td style=\"padding-left: 1em; padding-right: 1em; text-align: center; vertical-align: top\">0</td>\n",
       "        <td style=\"padding-left: 1em; padding-right: 1em; text-align: center; vertical-align: top\">0</td>\n",
       "        <td style=\"padding-left: 1em; padding-right: 1em; text-align: center; vertical-align: top\">0</td>\n",
       "        <td style=\"padding-left: 1em; padding-right: 1em; text-align: center; vertical-align: top\">0</td>\n",
       "        <td style=\"padding-left: 1em; padding-right: 1em; text-align: center; vertical-align: top\">0</td>\n",
       "        <td style=\"padding-left: 1em; padding-right: 1em; text-align: center; vertical-align: top\">0</td>\n",
       "        <td style=\"padding-left: 1em; padding-right: 1em; text-align: center; vertical-align: top\">0</td>\n",
       "        <td style=\"padding-left: 1em; padding-right: 1em; text-align: center; vertical-align: top\">0</td>\n",
       "        <td style=\"padding-left: 1em; padding-right: 1em; text-align: center; vertical-align: top\">0</td>\n",
       "        <td style=\"padding-left: 1em; padding-right: 1em; text-align: center; vertical-align: top\">0</td>\n",
       "        <td style=\"padding-left: 1em; padding-right: 1em; text-align: center; vertical-align: top\">0</td>\n",
       "        <td style=\"padding-left: 1em; padding-right: 1em; text-align: center; vertical-align: top\">0</td>\n",
       "        <td style=\"padding-left: 1em; padding-right: 1em; text-align: center; vertical-align: top\">0</td>\n",
       "        <td style=\"padding-left: 1em; padding-right: 1em; text-align: center; vertical-align: top\">0</td>\n",
       "        <td style=\"padding-left: 1em; padding-right: 1em; text-align: center; vertical-align: top\">0</td>\n",
       "        <td style=\"padding-left: 1em; padding-right: 1em; text-align: center; vertical-align: top\">0</td>\n",
       "        <td style=\"padding-left: 1em; padding-right: 1em; text-align: center; vertical-align: top\">0</td>\n",
       "        <td style=\"padding-left: 1em; padding-right: 1em; text-align: center; vertical-align: top\">0</td>\n",
       "    </tr>\n",
       "</table>\n",
       "<table frame=\"box\" rules=\"cols\">\n",
       "    <tr>\n",
       "        <th style=\"padding-left: 1em; padding-right: 1em; text-align: center\">24</th>\n",
       "        <th style=\"padding-left: 1em; padding-right: 1em; text-align: center\">25</th>\n",
       "        <th style=\"padding-left: 1em; padding-right: 1em; text-align: center\">26</th>\n",
       "        <th style=\"padding-left: 1em; padding-right: 1em; text-align: center\">27</th>\n",
       "        <th style=\"padding-left: 1em; padding-right: 1em; text-align: center\">28</th>\n",
       "        <th style=\"padding-left: 1em; padding-right: 1em; text-align: center\">29</th>\n",
       "        <th style=\"padding-left: 1em; padding-right: 1em; text-align: center\">30</th>\n",
       "        <th style=\"padding-left: 1em; padding-right: 1em; text-align: center\">31</th>\n",
       "        <th style=\"padding-left: 1em; padding-right: 1em; text-align: center\">32</th>\n",
       "        <th style=\"padding-left: 1em; padding-right: 1em; text-align: center\">33</th>\n",
       "        <th style=\"padding-left: 1em; padding-right: 1em; text-align: center\">34</th>\n",
       "        <th style=\"padding-left: 1em; padding-right: 1em; text-align: center\">35</th>\n",
       "        <th style=\"padding-left: 1em; padding-right: 1em; text-align: center\">36</th>\n",
       "        <th style=\"padding-left: 1em; padding-right: 1em; text-align: center\">37</th>\n",
       "        <th style=\"padding-left: 1em; padding-right: 1em; text-align: center\">38</th>\n",
       "        <th style=\"padding-left: 1em; padding-right: 1em; text-align: center\">39</th>\n",
       "        <th style=\"padding-left: 1em; padding-right: 1em; text-align: center\">40</th>\n",
       "        <th style=\"padding-left: 1em; padding-right: 1em; text-align: center\">...</th>\n",
       "    </tr>\n",
       "    <tr>\n",
       "        <td style=\"padding-left: 1em; padding-right: 1em; text-align: center; vertical-align: top\">0</td>\n",
       "        <td style=\"padding-left: 1em; padding-right: 1em; text-align: center; vertical-align: top\">0</td>\n",
       "        <td style=\"padding-left: 1em; padding-right: 1em; text-align: center; vertical-align: top\">0</td>\n",
       "        <td style=\"padding-left: 1em; padding-right: 1em; text-align: center; vertical-align: top\">0</td>\n",
       "        <td style=\"padding-left: 1em; padding-right: 1em; text-align: center; vertical-align: top\">0</td>\n",
       "        <td style=\"padding-left: 1em; padding-right: 1em; text-align: center; vertical-align: top\">0</td>\n",
       "        <td style=\"padding-left: 1em; padding-right: 1em; text-align: center; vertical-align: top\">0</td>\n",
       "        <td style=\"padding-left: 1em; padding-right: 1em; text-align: center; vertical-align: top\">0</td>\n",
       "        <td style=\"padding-left: 1em; padding-right: 1em; text-align: center; vertical-align: top\">0</td>\n",
       "        <td style=\"padding-left: 1em; padding-right: 1em; text-align: center; vertical-align: top\">0</td>\n",
       "        <td style=\"padding-left: 1em; padding-right: 1em; text-align: center; vertical-align: top\">0</td>\n",
       "        <td style=\"padding-left: 1em; padding-right: 1em; text-align: center; vertical-align: top\">0</td>\n",
       "        <td style=\"padding-left: 1em; padding-right: 1em; text-align: center; vertical-align: top\">0</td>\n",
       "        <td style=\"padding-left: 1em; padding-right: 1em; text-align: center; vertical-align: top\">0</td>\n",
       "        <td style=\"padding-left: 1em; padding-right: 1em; text-align: center; vertical-align: top\">0</td>\n",
       "        <td style=\"padding-left: 1em; padding-right: 1em; text-align: center; vertical-align: top\">0</td>\n",
       "        <td style=\"padding-left: 1em; padding-right: 1em; text-align: center; vertical-align: top\">0</td>\n",
       "        <td style=\"padding-left: 1em; padding-right: 1em; text-align: center; vertical-align: top\">...</td>\n",
       "    </tr>\n",
       "    <tr>\n",
       "        <td style=\"padding-left: 1em; padding-right: 1em; text-align: center; vertical-align: top\">0</td>\n",
       "        <td style=\"padding-left: 1em; padding-right: 1em; text-align: center; vertical-align: top\">0</td>\n",
       "        <td style=\"padding-left: 1em; padding-right: 1em; text-align: center; vertical-align: top\">0</td>\n",
       "        <td style=\"padding-left: 1em; padding-right: 1em; text-align: center; vertical-align: top\">0</td>\n",
       "        <td style=\"padding-left: 1em; padding-right: 1em; text-align: center; vertical-align: top\">0</td>\n",
       "        <td style=\"padding-left: 1em; padding-right: 1em; text-align: center; vertical-align: top\">0</td>\n",
       "        <td style=\"padding-left: 1em; padding-right: 1em; text-align: center; vertical-align: top\">0</td>\n",
       "        <td style=\"padding-left: 1em; padding-right: 1em; text-align: center; vertical-align: top\">0</td>\n",
       "        <td style=\"padding-left: 1em; padding-right: 1em; text-align: center; vertical-align: top\">0</td>\n",
       "        <td style=\"padding-left: 1em; padding-right: 1em; text-align: center; vertical-align: top\">0</td>\n",
       "        <td style=\"padding-left: 1em; padding-right: 1em; text-align: center; vertical-align: top\">0</td>\n",
       "        <td style=\"padding-left: 1em; padding-right: 1em; text-align: center; vertical-align: top\">0</td>\n",
       "        <td style=\"padding-left: 1em; padding-right: 1em; text-align: center; vertical-align: top\">0</td>\n",
       "        <td style=\"padding-left: 1em; padding-right: 1em; text-align: center; vertical-align: top\">0</td>\n",
       "        <td style=\"padding-left: 1em; padding-right: 1em; text-align: center; vertical-align: top\">0</td>\n",
       "        <td style=\"padding-left: 1em; padding-right: 1em; text-align: center; vertical-align: top\">0</td>\n",
       "        <td style=\"padding-left: 1em; padding-right: 1em; text-align: center; vertical-align: top\">0</td>\n",
       "        <td style=\"padding-left: 1em; padding-right: 1em; text-align: center; vertical-align: top\">...</td>\n",
       "    </tr>\n",
       "    <tr>\n",
       "        <td style=\"padding-left: 1em; padding-right: 1em; text-align: center; vertical-align: top\">0</td>\n",
       "        <td style=\"padding-left: 1em; padding-right: 1em; text-align: center; vertical-align: top\">0</td>\n",
       "        <td style=\"padding-left: 1em; padding-right: 1em; text-align: center; vertical-align: top\">0</td>\n",
       "        <td style=\"padding-left: 1em; padding-right: 1em; text-align: center; vertical-align: top\">0</td>\n",
       "        <td style=\"padding-left: 1em; padding-right: 1em; text-align: center; vertical-align: top\">0</td>\n",
       "        <td style=\"padding-left: 1em; padding-right: 1em; text-align: center; vertical-align: top\">0</td>\n",
       "        <td style=\"padding-left: 1em; padding-right: 1em; text-align: center; vertical-align: top\">0</td>\n",
       "        <td style=\"padding-left: 1em; padding-right: 1em; text-align: center; vertical-align: top\">0</td>\n",
       "        <td style=\"padding-left: 1em; padding-right: 1em; text-align: center; vertical-align: top\">0</td>\n",
       "        <td style=\"padding-left: 1em; padding-right: 1em; text-align: center; vertical-align: top\">0</td>\n",
       "        <td style=\"padding-left: 1em; padding-right: 1em; text-align: center; vertical-align: top\">0</td>\n",
       "        <td style=\"padding-left: 1em; padding-right: 1em; text-align: center; vertical-align: top\">0</td>\n",
       "        <td style=\"padding-left: 1em; padding-right: 1em; text-align: center; vertical-align: top\">0</td>\n",
       "        <td style=\"padding-left: 1em; padding-right: 1em; text-align: center; vertical-align: top\">0</td>\n",
       "        <td style=\"padding-left: 1em; padding-right: 1em; text-align: center; vertical-align: top\">0</td>\n",
       "        <td style=\"padding-left: 1em; padding-right: 1em; text-align: center; vertical-align: top\">0</td>\n",
       "        <td style=\"padding-left: 1em; padding-right: 1em; text-align: center; vertical-align: top\">0</td>\n",
       "        <td style=\"padding-left: 1em; padding-right: 1em; text-align: center; vertical-align: top\">...</td>\n",
       "    </tr>\n",
       "    <tr>\n",
       "        <td style=\"padding-left: 1em; padding-right: 1em; text-align: center; vertical-align: top\">0</td>\n",
       "        <td style=\"padding-left: 1em; padding-right: 1em; text-align: center; vertical-align: top\">0</td>\n",
       "        <td style=\"padding-left: 1em; padding-right: 1em; text-align: center; vertical-align: top\">0</td>\n",
       "        <td style=\"padding-left: 1em; padding-right: 1em; text-align: center; vertical-align: top\">0</td>\n",
       "        <td style=\"padding-left: 1em; padding-right: 1em; text-align: center; vertical-align: top\">0</td>\n",
       "        <td style=\"padding-left: 1em; padding-right: 1em; text-align: center; vertical-align: top\">0</td>\n",
       "        <td style=\"padding-left: 1em; padding-right: 1em; text-align: center; vertical-align: top\">0</td>\n",
       "        <td style=\"padding-left: 1em; padding-right: 1em; text-align: center; vertical-align: top\">0</td>\n",
       "        <td style=\"padding-left: 1em; padding-right: 1em; text-align: center; vertical-align: top\">0</td>\n",
       "        <td style=\"padding-left: 1em; padding-right: 1em; text-align: center; vertical-align: top\">0</td>\n",
       "        <td style=\"padding-left: 1em; padding-right: 1em; text-align: center; vertical-align: top\">0</td>\n",
       "        <td style=\"padding-left: 1em; padding-right: 1em; text-align: center; vertical-align: top\">0</td>\n",
       "        <td style=\"padding-left: 1em; padding-right: 1em; text-align: center; vertical-align: top\">0</td>\n",
       "        <td style=\"padding-left: 1em; padding-right: 1em; text-align: center; vertical-align: top\">0</td>\n",
       "        <td style=\"padding-left: 1em; padding-right: 1em; text-align: center; vertical-align: top\">0</td>\n",
       "        <td style=\"padding-left: 1em; padding-right: 1em; text-align: center; vertical-align: top\">0</td>\n",
       "        <td style=\"padding-left: 1em; padding-right: 1em; text-align: center; vertical-align: top\">0</td>\n",
       "        <td style=\"padding-left: 1em; padding-right: 1em; text-align: center; vertical-align: top\">...</td>\n",
       "    </tr>\n",
       "    <tr>\n",
       "        <td style=\"padding-left: 1em; padding-right: 1em; text-align: center; vertical-align: top\">0</td>\n",
       "        <td style=\"padding-left: 1em; padding-right: 1em; text-align: center; vertical-align: top\">0</td>\n",
       "        <td style=\"padding-left: 1em; padding-right: 1em; text-align: center; vertical-align: top\">0</td>\n",
       "        <td style=\"padding-left: 1em; padding-right: 1em; text-align: center; vertical-align: top\">0</td>\n",
       "        <td style=\"padding-left: 1em; padding-right: 1em; text-align: center; vertical-align: top\">0</td>\n",
       "        <td style=\"padding-left: 1em; padding-right: 1em; text-align: center; vertical-align: top\">0</td>\n",
       "        <td style=\"padding-left: 1em; padding-right: 1em; text-align: center; vertical-align: top\">0</td>\n",
       "        <td style=\"padding-left: 1em; padding-right: 1em; text-align: center; vertical-align: top\">0</td>\n",
       "        <td style=\"padding-left: 1em; padding-right: 1em; text-align: center; vertical-align: top\">0</td>\n",
       "        <td style=\"padding-left: 1em; padding-right: 1em; text-align: center; vertical-align: top\">0</td>\n",
       "        <td style=\"padding-left: 1em; padding-right: 1em; text-align: center; vertical-align: top\">0</td>\n",
       "        <td style=\"padding-left: 1em; padding-right: 1em; text-align: center; vertical-align: top\">0</td>\n",
       "        <td style=\"padding-left: 1em; padding-right: 1em; text-align: center; vertical-align: top\">0</td>\n",
       "        <td style=\"padding-left: 1em; padding-right: 1em; text-align: center; vertical-align: top\">0</td>\n",
       "        <td style=\"padding-left: 1em; padding-right: 1em; text-align: center; vertical-align: top\">0</td>\n",
       "        <td style=\"padding-left: 1em; padding-right: 1em; text-align: center; vertical-align: top\">0</td>\n",
       "        <td style=\"padding-left: 1em; padding-right: 1em; text-align: center; vertical-align: top\">0</td>\n",
       "        <td style=\"padding-left: 1em; padding-right: 1em; text-align: center; vertical-align: top\">...</td>\n",
       "    </tr>\n",
       "    <tr>\n",
       "        <td style=\"padding-left: 1em; padding-right: 1em; text-align: center; vertical-align: top\">0</td>\n",
       "        <td style=\"padding-left: 1em; padding-right: 1em; text-align: center; vertical-align: top\">0</td>\n",
       "        <td style=\"padding-left: 1em; padding-right: 1em; text-align: center; vertical-align: top\">0</td>\n",
       "        <td style=\"padding-left: 1em; padding-right: 1em; text-align: center; vertical-align: top\">0</td>\n",
       "        <td style=\"padding-left: 1em; padding-right: 1em; text-align: center; vertical-align: top\">0</td>\n",
       "        <td style=\"padding-left: 1em; padding-right: 1em; text-align: center; vertical-align: top\">0</td>\n",
       "        <td style=\"padding-left: 1em; padding-right: 1em; text-align: center; vertical-align: top\">0</td>\n",
       "        <td style=\"padding-left: 1em; padding-right: 1em; text-align: center; vertical-align: top\">0</td>\n",
       "        <td style=\"padding-left: 1em; padding-right: 1em; text-align: center; vertical-align: top\">0</td>\n",
       "        <td style=\"padding-left: 1em; padding-right: 1em; text-align: center; vertical-align: top\">0</td>\n",
       "        <td style=\"padding-left: 1em; padding-right: 1em; text-align: center; vertical-align: top\">0</td>\n",
       "        <td style=\"padding-left: 1em; padding-right: 1em; text-align: center; vertical-align: top\">0</td>\n",
       "        <td style=\"padding-left: 1em; padding-right: 1em; text-align: center; vertical-align: top\">0</td>\n",
       "        <td style=\"padding-left: 1em; padding-right: 1em; text-align: center; vertical-align: top\">0</td>\n",
       "        <td style=\"padding-left: 1em; padding-right: 1em; text-align: center; vertical-align: top\">0</td>\n",
       "        <td style=\"padding-left: 1em; padding-right: 1em; text-align: center; vertical-align: top\">0</td>\n",
       "        <td style=\"padding-left: 1em; padding-right: 1em; text-align: center; vertical-align: top\">0</td>\n",
       "        <td style=\"padding-left: 1em; padding-right: 1em; text-align: center; vertical-align: top\">...</td>\n",
       "    </tr>\n",
       "    <tr>\n",
       "        <td style=\"padding-left: 1em; padding-right: 1em; text-align: center; vertical-align: top\">0</td>\n",
       "        <td style=\"padding-left: 1em; padding-right: 1em; text-align: center; vertical-align: top\">0</td>\n",
       "        <td style=\"padding-left: 1em; padding-right: 1em; text-align: center; vertical-align: top\">0</td>\n",
       "        <td style=\"padding-left: 1em; padding-right: 1em; text-align: center; vertical-align: top\">0</td>\n",
       "        <td style=\"padding-left: 1em; padding-right: 1em; text-align: center; vertical-align: top\">0</td>\n",
       "        <td style=\"padding-left: 1em; padding-right: 1em; text-align: center; vertical-align: top\">0</td>\n",
       "        <td style=\"padding-left: 1em; padding-right: 1em; text-align: center; vertical-align: top\">0</td>\n",
       "        <td style=\"padding-left: 1em; padding-right: 1em; text-align: center; vertical-align: top\">0</td>\n",
       "        <td style=\"padding-left: 1em; padding-right: 1em; text-align: center; vertical-align: top\">0</td>\n",
       "        <td style=\"padding-left: 1em; padding-right: 1em; text-align: center; vertical-align: top\">0</td>\n",
       "        <td style=\"padding-left: 1em; padding-right: 1em; text-align: center; vertical-align: top\">0</td>\n",
       "        <td style=\"padding-left: 1em; padding-right: 1em; text-align: center; vertical-align: top\">0</td>\n",
       "        <td style=\"padding-left: 1em; padding-right: 1em; text-align: center; vertical-align: top\">0</td>\n",
       "        <td style=\"padding-left: 1em; padding-right: 1em; text-align: center; vertical-align: top\">0</td>\n",
       "        <td style=\"padding-left: 1em; padding-right: 1em; text-align: center; vertical-align: top\">0</td>\n",
       "        <td style=\"padding-left: 1em; padding-right: 1em; text-align: center; vertical-align: top\">0</td>\n",
       "        <td style=\"padding-left: 1em; padding-right: 1em; text-align: center; vertical-align: top\">0</td>\n",
       "        <td style=\"padding-left: 1em; padding-right: 1em; text-align: center; vertical-align: top\">...</td>\n",
       "    </tr>\n",
       "    <tr>\n",
       "        <td style=\"padding-left: 1em; padding-right: 1em; text-align: center; vertical-align: top\">0</td>\n",
       "        <td style=\"padding-left: 1em; padding-right: 1em; text-align: center; vertical-align: top\">0</td>\n",
       "        <td style=\"padding-left: 1em; padding-right: 1em; text-align: center; vertical-align: top\">0</td>\n",
       "        <td style=\"padding-left: 1em; padding-right: 1em; text-align: center; vertical-align: top\">0</td>\n",
       "        <td style=\"padding-left: 1em; padding-right: 1em; text-align: center; vertical-align: top\">0</td>\n",
       "        <td style=\"padding-left: 1em; padding-right: 1em; text-align: center; vertical-align: top\">0</td>\n",
       "        <td style=\"padding-left: 1em; padding-right: 1em; text-align: center; vertical-align: top\">0</td>\n",
       "        <td style=\"padding-left: 1em; padding-right: 1em; text-align: center; vertical-align: top\">0</td>\n",
       "        <td style=\"padding-left: 1em; padding-right: 1em; text-align: center; vertical-align: top\">0</td>\n",
       "        <td style=\"padding-left: 1em; padding-right: 1em; text-align: center; vertical-align: top\">0</td>\n",
       "        <td style=\"padding-left: 1em; padding-right: 1em; text-align: center; vertical-align: top\">0</td>\n",
       "        <td style=\"padding-left: 1em; padding-right: 1em; text-align: center; vertical-align: top\">0</td>\n",
       "        <td style=\"padding-left: 1em; padding-right: 1em; text-align: center; vertical-align: top\">0</td>\n",
       "        <td style=\"padding-left: 1em; padding-right: 1em; text-align: center; vertical-align: top\">0</td>\n",
       "        <td style=\"padding-left: 1em; padding-right: 1em; text-align: center; vertical-align: top\">0</td>\n",
       "        <td style=\"padding-left: 1em; padding-right: 1em; text-align: center; vertical-align: top\">0</td>\n",
       "        <td style=\"padding-left: 1em; padding-right: 1em; text-align: center; vertical-align: top\">0</td>\n",
       "        <td style=\"padding-left: 1em; padding-right: 1em; text-align: center; vertical-align: top\">...</td>\n",
       "    </tr>\n",
       "    <tr>\n",
       "        <td style=\"padding-left: 1em; padding-right: 1em; text-align: center; vertical-align: top\">0</td>\n",
       "        <td style=\"padding-left: 1em; padding-right: 1em; text-align: center; vertical-align: top\">0</td>\n",
       "        <td style=\"padding-left: 1em; padding-right: 1em; text-align: center; vertical-align: top\">0</td>\n",
       "        <td style=\"padding-left: 1em; padding-right: 1em; text-align: center; vertical-align: top\">0</td>\n",
       "        <td style=\"padding-left: 1em; padding-right: 1em; text-align: center; vertical-align: top\">0</td>\n",
       "        <td style=\"padding-left: 1em; padding-right: 1em; text-align: center; vertical-align: top\">0</td>\n",
       "        <td style=\"padding-left: 1em; padding-right: 1em; text-align: center; vertical-align: top\">0</td>\n",
       "        <td style=\"padding-left: 1em; padding-right: 1em; text-align: center; vertical-align: top\">0</td>\n",
       "        <td style=\"padding-left: 1em; padding-right: 1em; text-align: center; vertical-align: top\">0</td>\n",
       "        <td style=\"padding-left: 1em; padding-right: 1em; text-align: center; vertical-align: top\">0</td>\n",
       "        <td style=\"padding-left: 1em; padding-right: 1em; text-align: center; vertical-align: top\">0</td>\n",
       "        <td style=\"padding-left: 1em; padding-right: 1em; text-align: center; vertical-align: top\">0</td>\n",
       "        <td style=\"padding-left: 1em; padding-right: 1em; text-align: center; vertical-align: top\">0</td>\n",
       "        <td style=\"padding-left: 1em; padding-right: 1em; text-align: center; vertical-align: top\">0</td>\n",
       "        <td style=\"padding-left: 1em; padding-right: 1em; text-align: center; vertical-align: top\">0</td>\n",
       "        <td style=\"padding-left: 1em; padding-right: 1em; text-align: center; vertical-align: top\">0</td>\n",
       "        <td style=\"padding-left: 1em; padding-right: 1em; text-align: center; vertical-align: top\">0</td>\n",
       "        <td style=\"padding-left: 1em; padding-right: 1em; text-align: center; vertical-align: top\">...</td>\n",
       "    </tr>\n",
       "    <tr>\n",
       "        <td style=\"padding-left: 1em; padding-right: 1em; text-align: center; vertical-align: top\">0</td>\n",
       "        <td style=\"padding-left: 1em; padding-right: 1em; text-align: center; vertical-align: top\">0</td>\n",
       "        <td style=\"padding-left: 1em; padding-right: 1em; text-align: center; vertical-align: top\">0</td>\n",
       "        <td style=\"padding-left: 1em; padding-right: 1em; text-align: center; vertical-align: top\">0</td>\n",
       "        <td style=\"padding-left: 1em; padding-right: 1em; text-align: center; vertical-align: top\">0</td>\n",
       "        <td style=\"padding-left: 1em; padding-right: 1em; text-align: center; vertical-align: top\">0</td>\n",
       "        <td style=\"padding-left: 1em; padding-right: 1em; text-align: center; vertical-align: top\">0</td>\n",
       "        <td style=\"padding-left: 1em; padding-right: 1em; text-align: center; vertical-align: top\">0</td>\n",
       "        <td style=\"padding-left: 1em; padding-right: 1em; text-align: center; vertical-align: top\">0</td>\n",
       "        <td style=\"padding-left: 1em; padding-right: 1em; text-align: center; vertical-align: top\">0</td>\n",
       "        <td style=\"padding-left: 1em; padding-right: 1em; text-align: center; vertical-align: top\">0</td>\n",
       "        <td style=\"padding-left: 1em; padding-right: 1em; text-align: center; vertical-align: top\">0</td>\n",
       "        <td style=\"padding-left: 1em; padding-right: 1em; text-align: center; vertical-align: top\">0</td>\n",
       "        <td style=\"padding-left: 1em; padding-right: 1em; text-align: center; vertical-align: top\">0</td>\n",
       "        <td style=\"padding-left: 1em; padding-right: 1em; text-align: center; vertical-align: top\">0</td>\n",
       "        <td style=\"padding-left: 1em; padding-right: 1em; text-align: center; vertical-align: top\">0</td>\n",
       "        <td style=\"padding-left: 1em; padding-right: 1em; text-align: center; vertical-align: top\">0</td>\n",
       "        <td style=\"padding-left: 1em; padding-right: 1em; text-align: center; vertical-align: top\">...</td>\n",
       "    </tr>\n",
       "</table>\n",
       "[10 rows x 270 columns]<br/>\n",
       "</div>"
      ],
      "text/plain": [
       "Columns:\n",
       "\t1\tstr\n",
       "\t2\tstr\n",
       "\t3\tstr\n",
       "\t4\tint\n",
       "\t5\tint\n",
       "\t6\tint\n",
       "\t7\tint\n",
       "\t8\tint\n",
       "\t9\tint\n",
       "\t10\tint\n",
       "\t11\tint\n",
       "\t12\tint\n",
       "\t13\tint\n",
       "\t14\tint\n",
       "\t15\tint\n",
       "\t16\tint\n",
       "\t17\tint\n",
       "\t18\tint\n",
       "\t19\tint\n",
       "\t20\tint\n",
       "\t21\tint\n",
       "\t22\tint\n",
       "\t23\tint\n",
       "\t24\tint\n",
       "\t25\tint\n",
       "\t26\tint\n",
       "\t27\tint\n",
       "\t28\tint\n",
       "\t29\tint\n",
       "\t30\tint\n",
       "\t31\tint\n",
       "\t32\tint\n",
       "\t33\tint\n",
       "\t34\tint\n",
       "\t35\tint\n",
       "\t36\tint\n",
       "\t37\tint\n",
       "\t38\tint\n",
       "\t39\tint\n",
       "\t40\tint\n",
       "\t41\tint\n",
       "\t42\tint\n",
       "\t43\tint\n",
       "\t44\tint\n",
       "\t45\tint\n",
       "\t46\tint\n",
       "\t47\tint\n",
       "\t48\tint\n",
       "\t49\tint\n",
       "\t50\tint\n",
       "\t51\tint\n",
       "\t52\tint\n",
       "\t53\tint\n",
       "\t54\tint\n",
       "\t55\tint\n",
       "\t56\tint\n",
       "\t57\tint\n",
       "\t58\tint\n",
       "\t59\tint\n",
       "\t60\tint\n",
       "\t61\tint\n",
       "\t62\tint\n",
       "\t63\tint\n",
       "\t64\tint\n",
       "\t65\tint\n",
       "\t66\tint\n",
       "\t67\tint\n",
       "\t68\tint\n",
       "\t69\tint\n",
       "\t70\tint\n",
       "\t71\tint\n",
       "\t72\tint\n",
       "\t73\tint\n",
       "\t74\tint\n",
       "\t75\tint\n",
       "\t76\tint\n",
       "\t77\tint\n",
       "\t78\tint\n",
       "\t79\tint\n",
       "\t80\tint\n",
       "\t81\tint\n",
       "\t82\tint\n",
       "\t83\tint\n",
       "\t84\tint\n",
       "\t85\tint\n",
       "\t86\tint\n",
       "\t87\tint\n",
       "\t88\tint\n",
       "\t89\tint\n",
       "\t90\tint\n",
       "\t91\tint\n",
       "\t92\tint\n",
       "\t93\tint\n",
       "\t94\tint\n",
       "\t95\tint\n",
       "\t96\tint\n",
       "\t97\tint\n",
       "\t98\tint\n",
       "\t99\tint\n",
       "\t100\tint\n",
       "\t101\tint\n",
       "\t102\tint\n",
       "\t103\tint\n",
       "\t104\tint\n",
       "\t105\tint\n",
       "\t106\tint\n",
       "\t107\tint\n",
       "\t108\tint\n",
       "\t109\tint\n",
       "\t110\tint\n",
       "\t111\tint\n",
       "\t112\tint\n",
       "\t113\tint\n",
       "\t114\tint\n",
       "\t115\tint\n",
       "\t116\tint\n",
       "\t117\tint\n",
       "\t118\tint\n",
       "\t119\tint\n",
       "\t120\tint\n",
       "\t121\tint\n",
       "\t122\tint\n",
       "\t123\tint\n",
       "\t124\tint\n",
       "\t125\tint\n",
       "\t126\tint\n",
       "\t127\tint\n",
       "\t128\tint\n",
       "\t129\tint\n",
       "\t130\tint\n",
       "\t131\tint\n",
       "\t132\tint\n",
       "\t133\tint\n",
       "\t134\tint\n",
       "\t135\tint\n",
       "\t136\tint\n",
       "\t137\tint\n",
       "\t138\tint\n",
       "\t139\tint\n",
       "\t140\tint\n",
       "\t141\tint\n",
       "\t142\tint\n",
       "\t143\tint\n",
       "\t144\tint\n",
       "\t145\tint\n",
       "\t146\tint\n",
       "\t147\tint\n",
       "\t148\tint\n",
       "\t149\tint\n",
       "\t150\tint\n",
       "\t151\tint\n",
       "\t152\tint\n",
       "\t153\tint\n",
       "\t154\tint\n",
       "\t155\tint\n",
       "\t156\tint\n",
       "\t157\tint\n",
       "\t158\tint\n",
       "\t159\tint\n",
       "\t160\tint\n",
       "\t161\tint\n",
       "\t162\tint\n",
       "\t163\tint\n",
       "\t164\tint\n",
       "\t165\tint\n",
       "\t166\tint\n",
       "\t167\tint\n",
       "\t168\tint\n",
       "\t169\tint\n",
       "\t170\tint\n",
       "\t171\tint\n",
       "\t172\tint\n",
       "\t173\tint\n",
       "\t174\tint\n",
       "\t175\tint\n",
       "\t176\tint\n",
       "\t177\tint\n",
       "\t178\tint\n",
       "\t179\tint\n",
       "\t180\tint\n",
       "\t181\tint\n",
       "\t182\tint\n",
       "\t183\tint\n",
       "\t184\tint\n",
       "\t185\tint\n",
       "\t186\tint\n",
       "\t187\tint\n",
       "\t188\tint\n",
       "\t189\tint\n",
       "\t190\tint\n",
       "\t191\tint\n",
       "\t192\tint\n",
       "\t193\tint\n",
       "\t194\tint\n",
       "\t195\tint\n",
       "\t196\tint\n",
       "\t197\tint\n",
       "\t198\tint\n",
       "\t199\tint\n",
       "\t200\tint\n",
       "\t201\tint\n",
       "\t202\tint\n",
       "\t203\tint\n",
       "\t204\tint\n",
       "\t205\tint\n",
       "\t206\tint\n",
       "\t207\tint\n",
       "\t208\tint\n",
       "\t209\tint\n",
       "\t210\tint\n",
       "\t211\tint\n",
       "\t212\tint\n",
       "\t213\tint\n",
       "\t214\tint\n",
       "\t215\tint\n",
       "\t216\tint\n",
       "\t217\tint\n",
       "\t218\tint\n",
       "\t219\tint\n",
       "\t220\tint\n",
       "\t221\tfloat\n",
       "\t222\tint\n",
       "\t223\tint\n",
       "\t224\tfloat\n",
       "\t225\tint\n",
       "\t226\tfloat\n",
       "\t227\tint\n",
       "\t228\tint\n",
       "\t229\tfloat\n",
       "\t230\tint\n",
       "\t231\tfloat\n",
       "\t232\tint\n",
       "\t233\tint\n",
       "\t234\tfloat\n",
       "\t235\tint\n",
       "\t236\tfloat\n",
       "\t237\tint\n",
       "\t238\tint\n",
       "\t239\tfloat\n",
       "\t240\tint\n",
       "\t241\tfloat\n",
       "\t242\tint\n",
       "\t243\tint\n",
       "\t244\tfloat\n",
       "\t245\tint\n",
       "\t246\tfloat\n",
       "\t247\tint\n",
       "\t248\tint\n",
       "\t249\tfloat\n",
       "\t250\tint\n",
       "\t251\tfloat\n",
       "\t252\tint\n",
       "\t253\tint\n",
       "\t254\tfloat\n",
       "\t255\tint\n",
       "\t256\tfloat\n",
       "\t257\tint\n",
       "\t258\tint\n",
       "\t259\tfloat\n",
       "\t260\tint\n",
       "\t261\tfloat\n",
       "\t262\tint\n",
       "\t263\tint\n",
       "\t264\tfloat\n",
       "\t265\tint\n",
       "\t266\tfloat\n",
       "\t267\tint\n",
       "\t268\tint\n",
       "\t269\tfloat\n",
       "\t270\tint\n",
       "\n",
       "Rows: 10\n",
       "\n",
       "Data:\n",
       "+----+----------+-----------+---+---+---+---+---+---+----+----+----+----+----+----+\n",
       "| 1  |    2     |     3     | 4 | 5 | 6 | 7 | 8 | 9 | 10 | 11 | 12 | 13 | 14 | 15 |\n",
       "+----+----------+-----------+---+---+---+---+---+---+----+----+----+----+----+----+\n",
       "| Y0 |  Friday  |  Thursday | 0 | 0 | 0 | 0 | 0 | 0 | 0  | 0  | 0  | 0  | 0  | 0  |\n",
       "| Y1 |  Friday  | Wednesday | 0 | 0 | 0 | 0 | 0 | 0 | 0  | 0  | 0  | 0  | 0  | 0  |\n",
       "| Y2 |  Friday  | Wednesday | 0 | 0 | 0 | 0 | 0 | 0 | 0  | 0  | 0  | 0  | 0  | 0  |\n",
       "| Y3 |  Friday  |  Thursday | 0 | 0 | 0 | 0 | 0 | 0 | 0  | 0  | 0  | 0  | 0  | 0  |\n",
       "| Y4 | Saturday |  Thursday | 0 | 0 | 0 | 0 | 0 | 0 | 0  | 0  | 0  | 0  | 0  | 0  |\n",
       "| Y5 | Saturday | Wednesday | 0 | 0 | 0 | 0 | 0 | 0 | 0  | 0  | 0  | 0  | 0  | 0  |\n",
       "| Y6 | Saturday | Wednesday | 0 | 0 | 0 | 0 | 0 | 0 | 0  | 0  | 0  | 0  | 0  | 0  |\n",
       "| Y7 | Saturday |  Thursday | 0 | 0 | 0 | 0 | 0 | 0 | 0  | 0  | 0  | 0  | 0  | 0  |\n",
       "| Y8 |  Sunday  |  Thursday | 0 | 0 | 0 | 0 | 0 | 0 | 0  | 0  | 0  | 0  | 0  | 0  |\n",
       "| Y9 |  Sunday  |  Thursday | 0 | 0 | 0 | 0 | 0 | 0 | 0  | 0  | 0  | 0  | 0  | 0  |\n",
       "+----+----------+-----------+---+---+---+---+---+---+----+----+----+----+----+----+\n",
       "+----+----+----+----+----+-----+\n",
       "| 16 | 17 | 18 | 19 | 20 | ... |\n",
       "+----+----+----+----+----+-----+\n",
       "| 0  | 0  | 0  | 0  | 0  | ... |\n",
       "| 0  | 0  | 0  | 0  | 0  | ... |\n",
       "| 0  | 0  | 0  | 0  | 0  | ... |\n",
       "| 0  | 0  | 0  | 0  | 0  | ... |\n",
       "| 0  | 0  | 0  | 0  | 0  | ... |\n",
       "| 0  | 0  | 0  | 0  | 0  | ... |\n",
       "| 0  | 0  | 0  | 0  | 0  | ... |\n",
       "| 0  | 0  | 0  | 0  | 0  | ... |\n",
       "| 0  | 0  | 0  | 0  | 0  | ... |\n",
       "| 0  | 0  | 0  | 0  | 0  | ... |\n",
       "+----+----+----+----+----+-----+\n",
       "[10 rows x 270 columns]"
      ]
     },
     "execution_count": 23,
     "metadata": {},
     "output_type": "execute_result"
    }
   ],
   "source": [
    "sf.head()"
   ]
  },
  {
   "cell_type": "code",
   "execution_count": 36,
   "metadata": {
    "collapsed": false
   },
   "outputs": [],
   "source": [
    "ftcp = ['2','3']\n",
    "ft = ['2','3']\n",
    "sf2 = sf[ftcp]\n",
    "for i in range(4,204):\n",
    "    if sf[str(i)].sum()>20:\n",
    "        sf2.add_column(sf[str(i)],name=str(i))\n",
    "        ft.append(str(i))\n",
    "for j in range(204,271):\n",
    "    sf2.add_column(sf[str(j)],name=str(j))\n",
    "    ft.append(str(j))"
   ]
  },
  {
   "cell_type": "code",
   "execution_count": 37,
   "metadata": {
    "collapsed": false
   },
   "outputs": [
    {
     "data": {
      "text/html": [
       "<div style=\"max-height:1000px;max-width:1500px;overflow:auto;\"><table frame=\"box\" rules=\"cols\">\n",
       "    <tr>\n",
       "        <th style=\"padding-left: 1em; padding-right: 1em; text-align: center\">2</th>\n",
       "        <th style=\"padding-left: 1em; padding-right: 1em; text-align: center\">3</th>\n",
       "        <th style=\"padding-left: 1em; padding-right: 1em; text-align: center\">4</th>\n",
       "        <th style=\"padding-left: 1em; padding-right: 1em; text-align: center\">5</th>\n",
       "        <th style=\"padding-left: 1em; padding-right: 1em; text-align: center\">8</th>\n",
       "        <th style=\"padding-left: 1em; padding-right: 1em; text-align: center\">9</th>\n",
       "        <th style=\"padding-left: 1em; padding-right: 1em; text-align: center\">10</th>\n",
       "        <th style=\"padding-left: 1em; padding-right: 1em; text-align: center\">11</th>\n",
       "        <th style=\"padding-left: 1em; padding-right: 1em; text-align: center\">12</th>\n",
       "        <th style=\"padding-left: 1em; padding-right: 1em; text-align: center\">13</th>\n",
       "        <th style=\"padding-left: 1em; padding-right: 1em; text-align: center\">15</th>\n",
       "        <th style=\"padding-left: 1em; padding-right: 1em; text-align: center\">16</th>\n",
       "        <th style=\"padding-left: 1em; padding-right: 1em; text-align: center\">18</th>\n",
       "        <th style=\"padding-left: 1em; padding-right: 1em; text-align: center\">19</th>\n",
       "        <th style=\"padding-left: 1em; padding-right: 1em; text-align: center\">20</th>\n",
       "        <th style=\"padding-left: 1em; padding-right: 1em; text-align: center\">23</th>\n",
       "        <th style=\"padding-left: 1em; padding-right: 1em; text-align: center\">24</th>\n",
       "        <th style=\"padding-left: 1em; padding-right: 1em; text-align: center\">27</th>\n",
       "        <th style=\"padding-left: 1em; padding-right: 1em; text-align: center\">29</th>\n",
       "        <th style=\"padding-left: 1em; padding-right: 1em; text-align: center\">30</th>\n",
       "        <th style=\"padding-left: 1em; padding-right: 1em; text-align: center\">34</th>\n",
       "        <th style=\"padding-left: 1em; padding-right: 1em; text-align: center\">37</th>\n",
       "    </tr>\n",
       "    <tr>\n",
       "        <td style=\"padding-left: 1em; padding-right: 1em; text-align: center; vertical-align: top\">Friday</td>\n",
       "        <td style=\"padding-left: 1em; padding-right: 1em; text-align: center; vertical-align: top\">Thursday</td>\n",
       "        <td style=\"padding-left: 1em; padding-right: 1em; text-align: center; vertical-align: top\">0</td>\n",
       "        <td style=\"padding-left: 1em; padding-right: 1em; text-align: center; vertical-align: top\">0</td>\n",
       "        <td style=\"padding-left: 1em; padding-right: 1em; text-align: center; vertical-align: top\">0</td>\n",
       "        <td style=\"padding-left: 1em; padding-right: 1em; text-align: center; vertical-align: top\">0</td>\n",
       "        <td style=\"padding-left: 1em; padding-right: 1em; text-align: center; vertical-align: top\">0</td>\n",
       "        <td style=\"padding-left: 1em; padding-right: 1em; text-align: center; vertical-align: top\">0</td>\n",
       "        <td style=\"padding-left: 1em; padding-right: 1em; text-align: center; vertical-align: top\">0</td>\n",
       "        <td style=\"padding-left: 1em; padding-right: 1em; text-align: center; vertical-align: top\">0</td>\n",
       "        <td style=\"padding-left: 1em; padding-right: 1em; text-align: center; vertical-align: top\">0</td>\n",
       "        <td style=\"padding-left: 1em; padding-right: 1em; text-align: center; vertical-align: top\">0</td>\n",
       "        <td style=\"padding-left: 1em; padding-right: 1em; text-align: center; vertical-align: top\">0</td>\n",
       "        <td style=\"padding-left: 1em; padding-right: 1em; text-align: center; vertical-align: top\">0</td>\n",
       "        <td style=\"padding-left: 1em; padding-right: 1em; text-align: center; vertical-align: top\">0</td>\n",
       "        <td style=\"padding-left: 1em; padding-right: 1em; text-align: center; vertical-align: top\">0</td>\n",
       "        <td style=\"padding-left: 1em; padding-right: 1em; text-align: center; vertical-align: top\">0</td>\n",
       "        <td style=\"padding-left: 1em; padding-right: 1em; text-align: center; vertical-align: top\">0</td>\n",
       "        <td style=\"padding-left: 1em; padding-right: 1em; text-align: center; vertical-align: top\">0</td>\n",
       "        <td style=\"padding-left: 1em; padding-right: 1em; text-align: center; vertical-align: top\">0</td>\n",
       "        <td style=\"padding-left: 1em; padding-right: 1em; text-align: center; vertical-align: top\">0</td>\n",
       "        <td style=\"padding-left: 1em; padding-right: 1em; text-align: center; vertical-align: top\">0</td>\n",
       "    </tr>\n",
       "    <tr>\n",
       "        <td style=\"padding-left: 1em; padding-right: 1em; text-align: center; vertical-align: top\">Friday</td>\n",
       "        <td style=\"padding-left: 1em; padding-right: 1em; text-align: center; vertical-align: top\">Wednesday</td>\n",
       "        <td style=\"padding-left: 1em; padding-right: 1em; text-align: center; vertical-align: top\">0</td>\n",
       "        <td style=\"padding-left: 1em; padding-right: 1em; text-align: center; vertical-align: top\">0</td>\n",
       "        <td style=\"padding-left: 1em; padding-right: 1em; text-align: center; vertical-align: top\">0</td>\n",
       "        <td style=\"padding-left: 1em; padding-right: 1em; text-align: center; vertical-align: top\">0</td>\n",
       "        <td style=\"padding-left: 1em; padding-right: 1em; text-align: center; vertical-align: top\">0</td>\n",
       "        <td style=\"padding-left: 1em; padding-right: 1em; text-align: center; vertical-align: top\">0</td>\n",
       "        <td style=\"padding-left: 1em; padding-right: 1em; text-align: center; vertical-align: top\">0</td>\n",
       "        <td style=\"padding-left: 1em; padding-right: 1em; text-align: center; vertical-align: top\">0</td>\n",
       "        <td style=\"padding-left: 1em; padding-right: 1em; text-align: center; vertical-align: top\">0</td>\n",
       "        <td style=\"padding-left: 1em; padding-right: 1em; text-align: center; vertical-align: top\">0</td>\n",
       "        <td style=\"padding-left: 1em; padding-right: 1em; text-align: center; vertical-align: top\">0</td>\n",
       "        <td style=\"padding-left: 1em; padding-right: 1em; text-align: center; vertical-align: top\">0</td>\n",
       "        <td style=\"padding-left: 1em; padding-right: 1em; text-align: center; vertical-align: top\">0</td>\n",
       "        <td style=\"padding-left: 1em; padding-right: 1em; text-align: center; vertical-align: top\">0</td>\n",
       "        <td style=\"padding-left: 1em; padding-right: 1em; text-align: center; vertical-align: top\">0</td>\n",
       "        <td style=\"padding-left: 1em; padding-right: 1em; text-align: center; vertical-align: top\">0</td>\n",
       "        <td style=\"padding-left: 1em; padding-right: 1em; text-align: center; vertical-align: top\">0</td>\n",
       "        <td style=\"padding-left: 1em; padding-right: 1em; text-align: center; vertical-align: top\">0</td>\n",
       "        <td style=\"padding-left: 1em; padding-right: 1em; text-align: center; vertical-align: top\">0</td>\n",
       "        <td style=\"padding-left: 1em; padding-right: 1em; text-align: center; vertical-align: top\">0</td>\n",
       "    </tr>\n",
       "    <tr>\n",
       "        <td style=\"padding-left: 1em; padding-right: 1em; text-align: center; vertical-align: top\">Friday</td>\n",
       "        <td style=\"padding-left: 1em; padding-right: 1em; text-align: center; vertical-align: top\">Wednesday</td>\n",
       "        <td style=\"padding-left: 1em; padding-right: 1em; text-align: center; vertical-align: top\">0</td>\n",
       "        <td style=\"padding-left: 1em; padding-right: 1em; text-align: center; vertical-align: top\">0</td>\n",
       "        <td style=\"padding-left: 1em; padding-right: 1em; text-align: center; vertical-align: top\">0</td>\n",
       "        <td style=\"padding-left: 1em; padding-right: 1em; text-align: center; vertical-align: top\">0</td>\n",
       "        <td style=\"padding-left: 1em; padding-right: 1em; text-align: center; vertical-align: top\">0</td>\n",
       "        <td style=\"padding-left: 1em; padding-right: 1em; text-align: center; vertical-align: top\">0</td>\n",
       "        <td style=\"padding-left: 1em; padding-right: 1em; text-align: center; vertical-align: top\">0</td>\n",
       "        <td style=\"padding-left: 1em; padding-right: 1em; text-align: center; vertical-align: top\">0</td>\n",
       "        <td style=\"padding-left: 1em; padding-right: 1em; text-align: center; vertical-align: top\">0</td>\n",
       "        <td style=\"padding-left: 1em; padding-right: 1em; text-align: center; vertical-align: top\">0</td>\n",
       "        <td style=\"padding-left: 1em; padding-right: 1em; text-align: center; vertical-align: top\">0</td>\n",
       "        <td style=\"padding-left: 1em; padding-right: 1em; text-align: center; vertical-align: top\">0</td>\n",
       "        <td style=\"padding-left: 1em; padding-right: 1em; text-align: center; vertical-align: top\">0</td>\n",
       "        <td style=\"padding-left: 1em; padding-right: 1em; text-align: center; vertical-align: top\">0</td>\n",
       "        <td style=\"padding-left: 1em; padding-right: 1em; text-align: center; vertical-align: top\">0</td>\n",
       "        <td style=\"padding-left: 1em; padding-right: 1em; text-align: center; vertical-align: top\">0</td>\n",
       "        <td style=\"padding-left: 1em; padding-right: 1em; text-align: center; vertical-align: top\">0</td>\n",
       "        <td style=\"padding-left: 1em; padding-right: 1em; text-align: center; vertical-align: top\">0</td>\n",
       "        <td style=\"padding-left: 1em; padding-right: 1em; text-align: center; vertical-align: top\">0</td>\n",
       "        <td style=\"padding-left: 1em; padding-right: 1em; text-align: center; vertical-align: top\">0</td>\n",
       "    </tr>\n",
       "    <tr>\n",
       "        <td style=\"padding-left: 1em; padding-right: 1em; text-align: center; vertical-align: top\">Friday</td>\n",
       "        <td style=\"padding-left: 1em; padding-right: 1em; text-align: center; vertical-align: top\">Thursday</td>\n",
       "        <td style=\"padding-left: 1em; padding-right: 1em; text-align: center; vertical-align: top\">0</td>\n",
       "        <td style=\"padding-left: 1em; padding-right: 1em; text-align: center; vertical-align: top\">0</td>\n",
       "        <td style=\"padding-left: 1em; padding-right: 1em; text-align: center; vertical-align: top\">0</td>\n",
       "        <td style=\"padding-left: 1em; padding-right: 1em; text-align: center; vertical-align: top\">0</td>\n",
       "        <td style=\"padding-left: 1em; padding-right: 1em; text-align: center; vertical-align: top\">0</td>\n",
       "        <td style=\"padding-left: 1em; padding-right: 1em; text-align: center; vertical-align: top\">0</td>\n",
       "        <td style=\"padding-left: 1em; padding-right: 1em; text-align: center; vertical-align: top\">0</td>\n",
       "        <td style=\"padding-left: 1em; padding-right: 1em; text-align: center; vertical-align: top\">0</td>\n",
       "        <td style=\"padding-left: 1em; padding-right: 1em; text-align: center; vertical-align: top\">0</td>\n",
       "        <td style=\"padding-left: 1em; padding-right: 1em; text-align: center; vertical-align: top\">0</td>\n",
       "        <td style=\"padding-left: 1em; padding-right: 1em; text-align: center; vertical-align: top\">0</td>\n",
       "        <td style=\"padding-left: 1em; padding-right: 1em; text-align: center; vertical-align: top\">0</td>\n",
       "        <td style=\"padding-left: 1em; padding-right: 1em; text-align: center; vertical-align: top\">0</td>\n",
       "        <td style=\"padding-left: 1em; padding-right: 1em; text-align: center; vertical-align: top\">0</td>\n",
       "        <td style=\"padding-left: 1em; padding-right: 1em; text-align: center; vertical-align: top\">0</td>\n",
       "        <td style=\"padding-left: 1em; padding-right: 1em; text-align: center; vertical-align: top\">0</td>\n",
       "        <td style=\"padding-left: 1em; padding-right: 1em; text-align: center; vertical-align: top\">0</td>\n",
       "        <td style=\"padding-left: 1em; padding-right: 1em; text-align: center; vertical-align: top\">0</td>\n",
       "        <td style=\"padding-left: 1em; padding-right: 1em; text-align: center; vertical-align: top\">0</td>\n",
       "        <td style=\"padding-left: 1em; padding-right: 1em; text-align: center; vertical-align: top\">0</td>\n",
       "    </tr>\n",
       "    <tr>\n",
       "        <td style=\"padding-left: 1em; padding-right: 1em; text-align: center; vertical-align: top\">Saturday</td>\n",
       "        <td style=\"padding-left: 1em; padding-right: 1em; text-align: center; vertical-align: top\">Thursday</td>\n",
       "        <td style=\"padding-left: 1em; padding-right: 1em; text-align: center; vertical-align: top\">0</td>\n",
       "        <td style=\"padding-left: 1em; padding-right: 1em; text-align: center; vertical-align: top\">0</td>\n",
       "        <td style=\"padding-left: 1em; padding-right: 1em; text-align: center; vertical-align: top\">0</td>\n",
       "        <td style=\"padding-left: 1em; padding-right: 1em; text-align: center; vertical-align: top\">0</td>\n",
       "        <td style=\"padding-left: 1em; padding-right: 1em; text-align: center; vertical-align: top\">0</td>\n",
       "        <td style=\"padding-left: 1em; padding-right: 1em; text-align: center; vertical-align: top\">0</td>\n",
       "        <td style=\"padding-left: 1em; padding-right: 1em; text-align: center; vertical-align: top\">0</td>\n",
       "        <td style=\"padding-left: 1em; padding-right: 1em; text-align: center; vertical-align: top\">0</td>\n",
       "        <td style=\"padding-left: 1em; padding-right: 1em; text-align: center; vertical-align: top\">0</td>\n",
       "        <td style=\"padding-left: 1em; padding-right: 1em; text-align: center; vertical-align: top\">0</td>\n",
       "        <td style=\"padding-left: 1em; padding-right: 1em; text-align: center; vertical-align: top\">0</td>\n",
       "        <td style=\"padding-left: 1em; padding-right: 1em; text-align: center; vertical-align: top\">0</td>\n",
       "        <td style=\"padding-left: 1em; padding-right: 1em; text-align: center; vertical-align: top\">0</td>\n",
       "        <td style=\"padding-left: 1em; padding-right: 1em; text-align: center; vertical-align: top\">0</td>\n",
       "        <td style=\"padding-left: 1em; padding-right: 1em; text-align: center; vertical-align: top\">0</td>\n",
       "        <td style=\"padding-left: 1em; padding-right: 1em; text-align: center; vertical-align: top\">0</td>\n",
       "        <td style=\"padding-left: 1em; padding-right: 1em; text-align: center; vertical-align: top\">0</td>\n",
       "        <td style=\"padding-left: 1em; padding-right: 1em; text-align: center; vertical-align: top\">0</td>\n",
       "        <td style=\"padding-left: 1em; padding-right: 1em; text-align: center; vertical-align: top\">0</td>\n",
       "        <td style=\"padding-left: 1em; padding-right: 1em; text-align: center; vertical-align: top\">0</td>\n",
       "    </tr>\n",
       "    <tr>\n",
       "        <td style=\"padding-left: 1em; padding-right: 1em; text-align: center; vertical-align: top\">Saturday</td>\n",
       "        <td style=\"padding-left: 1em; padding-right: 1em; text-align: center; vertical-align: top\">Wednesday</td>\n",
       "        <td style=\"padding-left: 1em; padding-right: 1em; text-align: center; vertical-align: top\">0</td>\n",
       "        <td style=\"padding-left: 1em; padding-right: 1em; text-align: center; vertical-align: top\">0</td>\n",
       "        <td style=\"padding-left: 1em; padding-right: 1em; text-align: center; vertical-align: top\">0</td>\n",
       "        <td style=\"padding-left: 1em; padding-right: 1em; text-align: center; vertical-align: top\">0</td>\n",
       "        <td style=\"padding-left: 1em; padding-right: 1em; text-align: center; vertical-align: top\">0</td>\n",
       "        <td style=\"padding-left: 1em; padding-right: 1em; text-align: center; vertical-align: top\">0</td>\n",
       "        <td style=\"padding-left: 1em; padding-right: 1em; text-align: center; vertical-align: top\">0</td>\n",
       "        <td style=\"padding-left: 1em; padding-right: 1em; text-align: center; vertical-align: top\">0</td>\n",
       "        <td style=\"padding-left: 1em; padding-right: 1em; text-align: center; vertical-align: top\">0</td>\n",
       "        <td style=\"padding-left: 1em; padding-right: 1em; text-align: center; vertical-align: top\">0</td>\n",
       "        <td style=\"padding-left: 1em; padding-right: 1em; text-align: center; vertical-align: top\">0</td>\n",
       "        <td style=\"padding-left: 1em; padding-right: 1em; text-align: center; vertical-align: top\">0</td>\n",
       "        <td style=\"padding-left: 1em; padding-right: 1em; text-align: center; vertical-align: top\">0</td>\n",
       "        <td style=\"padding-left: 1em; padding-right: 1em; text-align: center; vertical-align: top\">0</td>\n",
       "        <td style=\"padding-left: 1em; padding-right: 1em; text-align: center; vertical-align: top\">0</td>\n",
       "        <td style=\"padding-left: 1em; padding-right: 1em; text-align: center; vertical-align: top\">0</td>\n",
       "        <td style=\"padding-left: 1em; padding-right: 1em; text-align: center; vertical-align: top\">0</td>\n",
       "        <td style=\"padding-left: 1em; padding-right: 1em; text-align: center; vertical-align: top\">0</td>\n",
       "        <td style=\"padding-left: 1em; padding-right: 1em; text-align: center; vertical-align: top\">0</td>\n",
       "        <td style=\"padding-left: 1em; padding-right: 1em; text-align: center; vertical-align: top\">0</td>\n",
       "    </tr>\n",
       "    <tr>\n",
       "        <td style=\"padding-left: 1em; padding-right: 1em; text-align: center; vertical-align: top\">Saturday</td>\n",
       "        <td style=\"padding-left: 1em; padding-right: 1em; text-align: center; vertical-align: top\">Wednesday</td>\n",
       "        <td style=\"padding-left: 1em; padding-right: 1em; text-align: center; vertical-align: top\">0</td>\n",
       "        <td style=\"padding-left: 1em; padding-right: 1em; text-align: center; vertical-align: top\">0</td>\n",
       "        <td style=\"padding-left: 1em; padding-right: 1em; text-align: center; vertical-align: top\">0</td>\n",
       "        <td style=\"padding-left: 1em; padding-right: 1em; text-align: center; vertical-align: top\">0</td>\n",
       "        <td style=\"padding-left: 1em; padding-right: 1em; text-align: center; vertical-align: top\">0</td>\n",
       "        <td style=\"padding-left: 1em; padding-right: 1em; text-align: center; vertical-align: top\">0</td>\n",
       "        <td style=\"padding-left: 1em; padding-right: 1em; text-align: center; vertical-align: top\">0</td>\n",
       "        <td style=\"padding-left: 1em; padding-right: 1em; text-align: center; vertical-align: top\">0</td>\n",
       "        <td style=\"padding-left: 1em; padding-right: 1em; text-align: center; vertical-align: top\">0</td>\n",
       "        <td style=\"padding-left: 1em; padding-right: 1em; text-align: center; vertical-align: top\">0</td>\n",
       "        <td style=\"padding-left: 1em; padding-right: 1em; text-align: center; vertical-align: top\">0</td>\n",
       "        <td style=\"padding-left: 1em; padding-right: 1em; text-align: center; vertical-align: top\">0</td>\n",
       "        <td style=\"padding-left: 1em; padding-right: 1em; text-align: center; vertical-align: top\">0</td>\n",
       "        <td style=\"padding-left: 1em; padding-right: 1em; text-align: center; vertical-align: top\">0</td>\n",
       "        <td style=\"padding-left: 1em; padding-right: 1em; text-align: center; vertical-align: top\">0</td>\n",
       "        <td style=\"padding-left: 1em; padding-right: 1em; text-align: center; vertical-align: top\">0</td>\n",
       "        <td style=\"padding-left: 1em; padding-right: 1em; text-align: center; vertical-align: top\">0</td>\n",
       "        <td style=\"padding-left: 1em; padding-right: 1em; text-align: center; vertical-align: top\">0</td>\n",
       "        <td style=\"padding-left: 1em; padding-right: 1em; text-align: center; vertical-align: top\">0</td>\n",
       "        <td style=\"padding-left: 1em; padding-right: 1em; text-align: center; vertical-align: top\">0</td>\n",
       "    </tr>\n",
       "    <tr>\n",
       "        <td style=\"padding-left: 1em; padding-right: 1em; text-align: center; vertical-align: top\">Saturday</td>\n",
       "        <td style=\"padding-left: 1em; padding-right: 1em; text-align: center; vertical-align: top\">Thursday</td>\n",
       "        <td style=\"padding-left: 1em; padding-right: 1em; text-align: center; vertical-align: top\">0</td>\n",
       "        <td style=\"padding-left: 1em; padding-right: 1em; text-align: center; vertical-align: top\">0</td>\n",
       "        <td style=\"padding-left: 1em; padding-right: 1em; text-align: center; vertical-align: top\">0</td>\n",
       "        <td style=\"padding-left: 1em; padding-right: 1em; text-align: center; vertical-align: top\">0</td>\n",
       "        <td style=\"padding-left: 1em; padding-right: 1em; text-align: center; vertical-align: top\">0</td>\n",
       "        <td style=\"padding-left: 1em; padding-right: 1em; text-align: center; vertical-align: top\">0</td>\n",
       "        <td style=\"padding-left: 1em; padding-right: 1em; text-align: center; vertical-align: top\">0</td>\n",
       "        <td style=\"padding-left: 1em; padding-right: 1em; text-align: center; vertical-align: top\">0</td>\n",
       "        <td style=\"padding-left: 1em; padding-right: 1em; text-align: center; vertical-align: top\">0</td>\n",
       "        <td style=\"padding-left: 1em; padding-right: 1em; text-align: center; vertical-align: top\">0</td>\n",
       "        <td style=\"padding-left: 1em; padding-right: 1em; text-align: center; vertical-align: top\">0</td>\n",
       "        <td style=\"padding-left: 1em; padding-right: 1em; text-align: center; vertical-align: top\">0</td>\n",
       "        <td style=\"padding-left: 1em; padding-right: 1em; text-align: center; vertical-align: top\">0</td>\n",
       "        <td style=\"padding-left: 1em; padding-right: 1em; text-align: center; vertical-align: top\">0</td>\n",
       "        <td style=\"padding-left: 1em; padding-right: 1em; text-align: center; vertical-align: top\">0</td>\n",
       "        <td style=\"padding-left: 1em; padding-right: 1em; text-align: center; vertical-align: top\">0</td>\n",
       "        <td style=\"padding-left: 1em; padding-right: 1em; text-align: center; vertical-align: top\">0</td>\n",
       "        <td style=\"padding-left: 1em; padding-right: 1em; text-align: center; vertical-align: top\">0</td>\n",
       "        <td style=\"padding-left: 1em; padding-right: 1em; text-align: center; vertical-align: top\">0</td>\n",
       "        <td style=\"padding-left: 1em; padding-right: 1em; text-align: center; vertical-align: top\">0</td>\n",
       "    </tr>\n",
       "    <tr>\n",
       "        <td style=\"padding-left: 1em; padding-right: 1em; text-align: center; vertical-align: top\">Sunday</td>\n",
       "        <td style=\"padding-left: 1em; padding-right: 1em; text-align: center; vertical-align: top\">Thursday</td>\n",
       "        <td style=\"padding-left: 1em; padding-right: 1em; text-align: center; vertical-align: top\">0</td>\n",
       "        <td style=\"padding-left: 1em; padding-right: 1em; text-align: center; vertical-align: top\">0</td>\n",
       "        <td style=\"padding-left: 1em; padding-right: 1em; text-align: center; vertical-align: top\">0</td>\n",
       "        <td style=\"padding-left: 1em; padding-right: 1em; text-align: center; vertical-align: top\">0</td>\n",
       "        <td style=\"padding-left: 1em; padding-right: 1em; text-align: center; vertical-align: top\">0</td>\n",
       "        <td style=\"padding-left: 1em; padding-right: 1em; text-align: center; vertical-align: top\">0</td>\n",
       "        <td style=\"padding-left: 1em; padding-right: 1em; text-align: center; vertical-align: top\">0</td>\n",
       "        <td style=\"padding-left: 1em; padding-right: 1em; text-align: center; vertical-align: top\">0</td>\n",
       "        <td style=\"padding-left: 1em; padding-right: 1em; text-align: center; vertical-align: top\">0</td>\n",
       "        <td style=\"padding-left: 1em; padding-right: 1em; text-align: center; vertical-align: top\">0</td>\n",
       "        <td style=\"padding-left: 1em; padding-right: 1em; text-align: center; vertical-align: top\">0</td>\n",
       "        <td style=\"padding-left: 1em; padding-right: 1em; text-align: center; vertical-align: top\">0</td>\n",
       "        <td style=\"padding-left: 1em; padding-right: 1em; text-align: center; vertical-align: top\">0</td>\n",
       "        <td style=\"padding-left: 1em; padding-right: 1em; text-align: center; vertical-align: top\">0</td>\n",
       "        <td style=\"padding-left: 1em; padding-right: 1em; text-align: center; vertical-align: top\">0</td>\n",
       "        <td style=\"padding-left: 1em; padding-right: 1em; text-align: center; vertical-align: top\">0</td>\n",
       "        <td style=\"padding-left: 1em; padding-right: 1em; text-align: center; vertical-align: top\">0</td>\n",
       "        <td style=\"padding-left: 1em; padding-right: 1em; text-align: center; vertical-align: top\">0</td>\n",
       "        <td style=\"padding-left: 1em; padding-right: 1em; text-align: center; vertical-align: top\">0</td>\n",
       "        <td style=\"padding-left: 1em; padding-right: 1em; text-align: center; vertical-align: top\">0</td>\n",
       "    </tr>\n",
       "    <tr>\n",
       "        <td style=\"padding-left: 1em; padding-right: 1em; text-align: center; vertical-align: top\">Sunday</td>\n",
       "        <td style=\"padding-left: 1em; padding-right: 1em; text-align: center; vertical-align: top\">Thursday</td>\n",
       "        <td style=\"padding-left: 1em; padding-right: 1em; text-align: center; vertical-align: top\">0</td>\n",
       "        <td style=\"padding-left: 1em; padding-right: 1em; text-align: center; vertical-align: top\">0</td>\n",
       "        <td style=\"padding-left: 1em; padding-right: 1em; text-align: center; vertical-align: top\">0</td>\n",
       "        <td style=\"padding-left: 1em; padding-right: 1em; text-align: center; vertical-align: top\">0</td>\n",
       "        <td style=\"padding-left: 1em; padding-right: 1em; text-align: center; vertical-align: top\">0</td>\n",
       "        <td style=\"padding-left: 1em; padding-right: 1em; text-align: center; vertical-align: top\">0</td>\n",
       "        <td style=\"padding-left: 1em; padding-right: 1em; text-align: center; vertical-align: top\">0</td>\n",
       "        <td style=\"padding-left: 1em; padding-right: 1em; text-align: center; vertical-align: top\">0</td>\n",
       "        <td style=\"padding-left: 1em; padding-right: 1em; text-align: center; vertical-align: top\">0</td>\n",
       "        <td style=\"padding-left: 1em; padding-right: 1em; text-align: center; vertical-align: top\">0</td>\n",
       "        <td style=\"padding-left: 1em; padding-right: 1em; text-align: center; vertical-align: top\">0</td>\n",
       "        <td style=\"padding-left: 1em; padding-right: 1em; text-align: center; vertical-align: top\">0</td>\n",
       "        <td style=\"padding-left: 1em; padding-right: 1em; text-align: center; vertical-align: top\">0</td>\n",
       "        <td style=\"padding-left: 1em; padding-right: 1em; text-align: center; vertical-align: top\">0</td>\n",
       "        <td style=\"padding-left: 1em; padding-right: 1em; text-align: center; vertical-align: top\">0</td>\n",
       "        <td style=\"padding-left: 1em; padding-right: 1em; text-align: center; vertical-align: top\">0</td>\n",
       "        <td style=\"padding-left: 1em; padding-right: 1em; text-align: center; vertical-align: top\">0</td>\n",
       "        <td style=\"padding-left: 1em; padding-right: 1em; text-align: center; vertical-align: top\">0</td>\n",
       "        <td style=\"padding-left: 1em; padding-right: 1em; text-align: center; vertical-align: top\">0</td>\n",
       "        <td style=\"padding-left: 1em; padding-right: 1em; text-align: center; vertical-align: top\">0</td>\n",
       "    </tr>\n",
       "</table>\n",
       "<table frame=\"box\" rules=\"cols\">\n",
       "    <tr>\n",
       "        <th style=\"padding-left: 1em; padding-right: 1em; text-align: center\">39</th>\n",
       "        <th style=\"padding-left: 1em; padding-right: 1em; text-align: center\">41</th>\n",
       "        <th style=\"padding-left: 1em; padding-right: 1em; text-align: center\">42</th>\n",
       "        <th style=\"padding-left: 1em; padding-right: 1em; text-align: center\">43</th>\n",
       "        <th style=\"padding-left: 1em; padding-right: 1em; text-align: center\">44</th>\n",
       "        <th style=\"padding-left: 1em; padding-right: 1em; text-align: center\">45</th>\n",
       "        <th style=\"padding-left: 1em; padding-right: 1em; text-align: center\">46</th>\n",
       "        <th style=\"padding-left: 1em; padding-right: 1em; text-align: center\">47</th>\n",
       "        <th style=\"padding-left: 1em; padding-right: 1em; text-align: center\">48</th>\n",
       "        <th style=\"padding-left: 1em; padding-right: 1em; text-align: center\">49</th>\n",
       "        <th style=\"padding-left: 1em; padding-right: 1em; text-align: center\">51</th>\n",
       "        <th style=\"padding-left: 1em; padding-right: 1em; text-align: center\">53</th>\n",
       "        <th style=\"padding-left: 1em; padding-right: 1em; text-align: center\">55</th>\n",
       "        <th style=\"padding-left: 1em; padding-right: 1em; text-align: center\">56</th>\n",
       "        <th style=\"padding-left: 1em; padding-right: 1em; text-align: center\">57</th>\n",
       "        <th style=\"padding-left: 1em; padding-right: 1em; text-align: center\">58</th>\n",
       "        <th style=\"padding-left: 1em; padding-right: 1em; text-align: center\">59</th>\n",
       "        <th style=\"padding-left: 1em; padding-right: 1em; text-align: center\">60</th>\n",
       "        <th style=\"padding-left: 1em; padding-right: 1em; text-align: center\">...</th>\n",
       "    </tr>\n",
       "    <tr>\n",
       "        <td style=\"padding-left: 1em; padding-right: 1em; text-align: center; vertical-align: top\">0</td>\n",
       "        <td style=\"padding-left: 1em; padding-right: 1em; text-align: center; vertical-align: top\">0</td>\n",
       "        <td style=\"padding-left: 1em; padding-right: 1em; text-align: center; vertical-align: top\">0</td>\n",
       "        <td style=\"padding-left: 1em; padding-right: 1em; text-align: center; vertical-align: top\">0</td>\n",
       "        <td style=\"padding-left: 1em; padding-right: 1em; text-align: center; vertical-align: top\">0</td>\n",
       "        <td style=\"padding-left: 1em; padding-right: 1em; text-align: center; vertical-align: top\">0</td>\n",
       "        <td style=\"padding-left: 1em; padding-right: 1em; text-align: center; vertical-align: top\">0</td>\n",
       "        <td style=\"padding-left: 1em; padding-right: 1em; text-align: center; vertical-align: top\">0</td>\n",
       "        <td style=\"padding-left: 1em; padding-right: 1em; text-align: center; vertical-align: top\">0</td>\n",
       "        <td style=\"padding-left: 1em; padding-right: 1em; text-align: center; vertical-align: top\">0</td>\n",
       "        <td style=\"padding-left: 1em; padding-right: 1em; text-align: center; vertical-align: top\">0</td>\n",
       "        <td style=\"padding-left: 1em; padding-right: 1em; text-align: center; vertical-align: top\">0</td>\n",
       "        <td style=\"padding-left: 1em; padding-right: 1em; text-align: center; vertical-align: top\">0</td>\n",
       "        <td style=\"padding-left: 1em; padding-right: 1em; text-align: center; vertical-align: top\">0</td>\n",
       "        <td style=\"padding-left: 1em; padding-right: 1em; text-align: center; vertical-align: top\">0</td>\n",
       "        <td style=\"padding-left: 1em; padding-right: 1em; text-align: center; vertical-align: top\">0</td>\n",
       "        <td style=\"padding-left: 1em; padding-right: 1em; text-align: center; vertical-align: top\">0</td>\n",
       "        <td style=\"padding-left: 1em; padding-right: 1em; text-align: center; vertical-align: top\">0</td>\n",
       "        <td style=\"padding-left: 1em; padding-right: 1em; text-align: center; vertical-align: top\">...</td>\n",
       "    </tr>\n",
       "    <tr>\n",
       "        <td style=\"padding-left: 1em; padding-right: 1em; text-align: center; vertical-align: top\">0</td>\n",
       "        <td style=\"padding-left: 1em; padding-right: 1em; text-align: center; vertical-align: top\">0</td>\n",
       "        <td style=\"padding-left: 1em; padding-right: 1em; text-align: center; vertical-align: top\">0</td>\n",
       "        <td style=\"padding-left: 1em; padding-right: 1em; text-align: center; vertical-align: top\">0</td>\n",
       "        <td style=\"padding-left: 1em; padding-right: 1em; text-align: center; vertical-align: top\">0</td>\n",
       "        <td style=\"padding-left: 1em; padding-right: 1em; text-align: center; vertical-align: top\">0</td>\n",
       "        <td style=\"padding-left: 1em; padding-right: 1em; text-align: center; vertical-align: top\">0</td>\n",
       "        <td style=\"padding-left: 1em; padding-right: 1em; text-align: center; vertical-align: top\">0</td>\n",
       "        <td style=\"padding-left: 1em; padding-right: 1em; text-align: center; vertical-align: top\">0</td>\n",
       "        <td style=\"padding-left: 1em; padding-right: 1em; text-align: center; vertical-align: top\">0</td>\n",
       "        <td style=\"padding-left: 1em; padding-right: 1em; text-align: center; vertical-align: top\">0</td>\n",
       "        <td style=\"padding-left: 1em; padding-right: 1em; text-align: center; vertical-align: top\">0</td>\n",
       "        <td style=\"padding-left: 1em; padding-right: 1em; text-align: center; vertical-align: top\">0</td>\n",
       "        <td style=\"padding-left: 1em; padding-right: 1em; text-align: center; vertical-align: top\">0</td>\n",
       "        <td style=\"padding-left: 1em; padding-right: 1em; text-align: center; vertical-align: top\">0</td>\n",
       "        <td style=\"padding-left: 1em; padding-right: 1em; text-align: center; vertical-align: top\">0</td>\n",
       "        <td style=\"padding-left: 1em; padding-right: 1em; text-align: center; vertical-align: top\">0</td>\n",
       "        <td style=\"padding-left: 1em; padding-right: 1em; text-align: center; vertical-align: top\">0</td>\n",
       "        <td style=\"padding-left: 1em; padding-right: 1em; text-align: center; vertical-align: top\">...</td>\n",
       "    </tr>\n",
       "    <tr>\n",
       "        <td style=\"padding-left: 1em; padding-right: 1em; text-align: center; vertical-align: top\">0</td>\n",
       "        <td style=\"padding-left: 1em; padding-right: 1em; text-align: center; vertical-align: top\">0</td>\n",
       "        <td style=\"padding-left: 1em; padding-right: 1em; text-align: center; vertical-align: top\">0</td>\n",
       "        <td style=\"padding-left: 1em; padding-right: 1em; text-align: center; vertical-align: top\">0</td>\n",
       "        <td style=\"padding-left: 1em; padding-right: 1em; text-align: center; vertical-align: top\">0</td>\n",
       "        <td style=\"padding-left: 1em; padding-right: 1em; text-align: center; vertical-align: top\">0</td>\n",
       "        <td style=\"padding-left: 1em; padding-right: 1em; text-align: center; vertical-align: top\">0</td>\n",
       "        <td style=\"padding-left: 1em; padding-right: 1em; text-align: center; vertical-align: top\">0</td>\n",
       "        <td style=\"padding-left: 1em; padding-right: 1em; text-align: center; vertical-align: top\">0</td>\n",
       "        <td style=\"padding-left: 1em; padding-right: 1em; text-align: center; vertical-align: top\">0</td>\n",
       "        <td style=\"padding-left: 1em; padding-right: 1em; text-align: center; vertical-align: top\">0</td>\n",
       "        <td style=\"padding-left: 1em; padding-right: 1em; text-align: center; vertical-align: top\">0</td>\n",
       "        <td style=\"padding-left: 1em; padding-right: 1em; text-align: center; vertical-align: top\">0</td>\n",
       "        <td style=\"padding-left: 1em; padding-right: 1em; text-align: center; vertical-align: top\">0</td>\n",
       "        <td style=\"padding-left: 1em; padding-right: 1em; text-align: center; vertical-align: top\">0</td>\n",
       "        <td style=\"padding-left: 1em; padding-right: 1em; text-align: center; vertical-align: top\">0</td>\n",
       "        <td style=\"padding-left: 1em; padding-right: 1em; text-align: center; vertical-align: top\">0</td>\n",
       "        <td style=\"padding-left: 1em; padding-right: 1em; text-align: center; vertical-align: top\">0</td>\n",
       "        <td style=\"padding-left: 1em; padding-right: 1em; text-align: center; vertical-align: top\">...</td>\n",
       "    </tr>\n",
       "    <tr>\n",
       "        <td style=\"padding-left: 1em; padding-right: 1em; text-align: center; vertical-align: top\">0</td>\n",
       "        <td style=\"padding-left: 1em; padding-right: 1em; text-align: center; vertical-align: top\">0</td>\n",
       "        <td style=\"padding-left: 1em; padding-right: 1em; text-align: center; vertical-align: top\">0</td>\n",
       "        <td style=\"padding-left: 1em; padding-right: 1em; text-align: center; vertical-align: top\">0</td>\n",
       "        <td style=\"padding-left: 1em; padding-right: 1em; text-align: center; vertical-align: top\">0</td>\n",
       "        <td style=\"padding-left: 1em; padding-right: 1em; text-align: center; vertical-align: top\">0</td>\n",
       "        <td style=\"padding-left: 1em; padding-right: 1em; text-align: center; vertical-align: top\">0</td>\n",
       "        <td style=\"padding-left: 1em; padding-right: 1em; text-align: center; vertical-align: top\">0</td>\n",
       "        <td style=\"padding-left: 1em; padding-right: 1em; text-align: center; vertical-align: top\">0</td>\n",
       "        <td style=\"padding-left: 1em; padding-right: 1em; text-align: center; vertical-align: top\">0</td>\n",
       "        <td style=\"padding-left: 1em; padding-right: 1em; text-align: center; vertical-align: top\">0</td>\n",
       "        <td style=\"padding-left: 1em; padding-right: 1em; text-align: center; vertical-align: top\">0</td>\n",
       "        <td style=\"padding-left: 1em; padding-right: 1em; text-align: center; vertical-align: top\">0</td>\n",
       "        <td style=\"padding-left: 1em; padding-right: 1em; text-align: center; vertical-align: top\">0</td>\n",
       "        <td style=\"padding-left: 1em; padding-right: 1em; text-align: center; vertical-align: top\">0</td>\n",
       "        <td style=\"padding-left: 1em; padding-right: 1em; text-align: center; vertical-align: top\">0</td>\n",
       "        <td style=\"padding-left: 1em; padding-right: 1em; text-align: center; vertical-align: top\">0</td>\n",
       "        <td style=\"padding-left: 1em; padding-right: 1em; text-align: center; vertical-align: top\">0</td>\n",
       "        <td style=\"padding-left: 1em; padding-right: 1em; text-align: center; vertical-align: top\">...</td>\n",
       "    </tr>\n",
       "    <tr>\n",
       "        <td style=\"padding-left: 1em; padding-right: 1em; text-align: center; vertical-align: top\">0</td>\n",
       "        <td style=\"padding-left: 1em; padding-right: 1em; text-align: center; vertical-align: top\">0</td>\n",
       "        <td style=\"padding-left: 1em; padding-right: 1em; text-align: center; vertical-align: top\">0</td>\n",
       "        <td style=\"padding-left: 1em; padding-right: 1em; text-align: center; vertical-align: top\">0</td>\n",
       "        <td style=\"padding-left: 1em; padding-right: 1em; text-align: center; vertical-align: top\">0</td>\n",
       "        <td style=\"padding-left: 1em; padding-right: 1em; text-align: center; vertical-align: top\">0</td>\n",
       "        <td style=\"padding-left: 1em; padding-right: 1em; text-align: center; vertical-align: top\">0</td>\n",
       "        <td style=\"padding-left: 1em; padding-right: 1em; text-align: center; vertical-align: top\">0</td>\n",
       "        <td style=\"padding-left: 1em; padding-right: 1em; text-align: center; vertical-align: top\">0</td>\n",
       "        <td style=\"padding-left: 1em; padding-right: 1em; text-align: center; vertical-align: top\">0</td>\n",
       "        <td style=\"padding-left: 1em; padding-right: 1em; text-align: center; vertical-align: top\">0</td>\n",
       "        <td style=\"padding-left: 1em; padding-right: 1em; text-align: center; vertical-align: top\">0</td>\n",
       "        <td style=\"padding-left: 1em; padding-right: 1em; text-align: center; vertical-align: top\">0</td>\n",
       "        <td style=\"padding-left: 1em; padding-right: 1em; text-align: center; vertical-align: top\">0</td>\n",
       "        <td style=\"padding-left: 1em; padding-right: 1em; text-align: center; vertical-align: top\">0</td>\n",
       "        <td style=\"padding-left: 1em; padding-right: 1em; text-align: center; vertical-align: top\">0</td>\n",
       "        <td style=\"padding-left: 1em; padding-right: 1em; text-align: center; vertical-align: top\">0</td>\n",
       "        <td style=\"padding-left: 1em; padding-right: 1em; text-align: center; vertical-align: top\">0</td>\n",
       "        <td style=\"padding-left: 1em; padding-right: 1em; text-align: center; vertical-align: top\">...</td>\n",
       "    </tr>\n",
       "    <tr>\n",
       "        <td style=\"padding-left: 1em; padding-right: 1em; text-align: center; vertical-align: top\">0</td>\n",
       "        <td style=\"padding-left: 1em; padding-right: 1em; text-align: center; vertical-align: top\">0</td>\n",
       "        <td style=\"padding-left: 1em; padding-right: 1em; text-align: center; vertical-align: top\">0</td>\n",
       "        <td style=\"padding-left: 1em; padding-right: 1em; text-align: center; vertical-align: top\">0</td>\n",
       "        <td style=\"padding-left: 1em; padding-right: 1em; text-align: center; vertical-align: top\">0</td>\n",
       "        <td style=\"padding-left: 1em; padding-right: 1em; text-align: center; vertical-align: top\">0</td>\n",
       "        <td style=\"padding-left: 1em; padding-right: 1em; text-align: center; vertical-align: top\">0</td>\n",
       "        <td style=\"padding-left: 1em; padding-right: 1em; text-align: center; vertical-align: top\">0</td>\n",
       "        <td style=\"padding-left: 1em; padding-right: 1em; text-align: center; vertical-align: top\">0</td>\n",
       "        <td style=\"padding-left: 1em; padding-right: 1em; text-align: center; vertical-align: top\">0</td>\n",
       "        <td style=\"padding-left: 1em; padding-right: 1em; text-align: center; vertical-align: top\">0</td>\n",
       "        <td style=\"padding-left: 1em; padding-right: 1em; text-align: center; vertical-align: top\">0</td>\n",
       "        <td style=\"padding-left: 1em; padding-right: 1em; text-align: center; vertical-align: top\">0</td>\n",
       "        <td style=\"padding-left: 1em; padding-right: 1em; text-align: center; vertical-align: top\">0</td>\n",
       "        <td style=\"padding-left: 1em; padding-right: 1em; text-align: center; vertical-align: top\">0</td>\n",
       "        <td style=\"padding-left: 1em; padding-right: 1em; text-align: center; vertical-align: top\">0</td>\n",
       "        <td style=\"padding-left: 1em; padding-right: 1em; text-align: center; vertical-align: top\">0</td>\n",
       "        <td style=\"padding-left: 1em; padding-right: 1em; text-align: center; vertical-align: top\">0</td>\n",
       "        <td style=\"padding-left: 1em; padding-right: 1em; text-align: center; vertical-align: top\">...</td>\n",
       "    </tr>\n",
       "    <tr>\n",
       "        <td style=\"padding-left: 1em; padding-right: 1em; text-align: center; vertical-align: top\">0</td>\n",
       "        <td style=\"padding-left: 1em; padding-right: 1em; text-align: center; vertical-align: top\">0</td>\n",
       "        <td style=\"padding-left: 1em; padding-right: 1em; text-align: center; vertical-align: top\">0</td>\n",
       "        <td style=\"padding-left: 1em; padding-right: 1em; text-align: center; vertical-align: top\">0</td>\n",
       "        <td style=\"padding-left: 1em; padding-right: 1em; text-align: center; vertical-align: top\">0</td>\n",
       "        <td style=\"padding-left: 1em; padding-right: 1em; text-align: center; vertical-align: top\">0</td>\n",
       "        <td style=\"padding-left: 1em; padding-right: 1em; text-align: center; vertical-align: top\">0</td>\n",
       "        <td style=\"padding-left: 1em; padding-right: 1em; text-align: center; vertical-align: top\">0</td>\n",
       "        <td style=\"padding-left: 1em; padding-right: 1em; text-align: center; vertical-align: top\">0</td>\n",
       "        <td style=\"padding-left: 1em; padding-right: 1em; text-align: center; vertical-align: top\">0</td>\n",
       "        <td style=\"padding-left: 1em; padding-right: 1em; text-align: center; vertical-align: top\">0</td>\n",
       "        <td style=\"padding-left: 1em; padding-right: 1em; text-align: center; vertical-align: top\">0</td>\n",
       "        <td style=\"padding-left: 1em; padding-right: 1em; text-align: center; vertical-align: top\">0</td>\n",
       "        <td style=\"padding-left: 1em; padding-right: 1em; text-align: center; vertical-align: top\">0</td>\n",
       "        <td style=\"padding-left: 1em; padding-right: 1em; text-align: center; vertical-align: top\">0</td>\n",
       "        <td style=\"padding-left: 1em; padding-right: 1em; text-align: center; vertical-align: top\">0</td>\n",
       "        <td style=\"padding-left: 1em; padding-right: 1em; text-align: center; vertical-align: top\">0</td>\n",
       "        <td style=\"padding-left: 1em; padding-right: 1em; text-align: center; vertical-align: top\">0</td>\n",
       "        <td style=\"padding-left: 1em; padding-right: 1em; text-align: center; vertical-align: top\">...</td>\n",
       "    </tr>\n",
       "    <tr>\n",
       "        <td style=\"padding-left: 1em; padding-right: 1em; text-align: center; vertical-align: top\">0</td>\n",
       "        <td style=\"padding-left: 1em; padding-right: 1em; text-align: center; vertical-align: top\">0</td>\n",
       "        <td style=\"padding-left: 1em; padding-right: 1em; text-align: center; vertical-align: top\">0</td>\n",
       "        <td style=\"padding-left: 1em; padding-right: 1em; text-align: center; vertical-align: top\">0</td>\n",
       "        <td style=\"padding-left: 1em; padding-right: 1em; text-align: center; vertical-align: top\">0</td>\n",
       "        <td style=\"padding-left: 1em; padding-right: 1em; text-align: center; vertical-align: top\">0</td>\n",
       "        <td style=\"padding-left: 1em; padding-right: 1em; text-align: center; vertical-align: top\">0</td>\n",
       "        <td style=\"padding-left: 1em; padding-right: 1em; text-align: center; vertical-align: top\">0</td>\n",
       "        <td style=\"padding-left: 1em; padding-right: 1em; text-align: center; vertical-align: top\">0</td>\n",
       "        <td style=\"padding-left: 1em; padding-right: 1em; text-align: center; vertical-align: top\">0</td>\n",
       "        <td style=\"padding-left: 1em; padding-right: 1em; text-align: center; vertical-align: top\">0</td>\n",
       "        <td style=\"padding-left: 1em; padding-right: 1em; text-align: center; vertical-align: top\">0</td>\n",
       "        <td style=\"padding-left: 1em; padding-right: 1em; text-align: center; vertical-align: top\">0</td>\n",
       "        <td style=\"padding-left: 1em; padding-right: 1em; text-align: center; vertical-align: top\">0</td>\n",
       "        <td style=\"padding-left: 1em; padding-right: 1em; text-align: center; vertical-align: top\">0</td>\n",
       "        <td style=\"padding-left: 1em; padding-right: 1em; text-align: center; vertical-align: top\">0</td>\n",
       "        <td style=\"padding-left: 1em; padding-right: 1em; text-align: center; vertical-align: top\">0</td>\n",
       "        <td style=\"padding-left: 1em; padding-right: 1em; text-align: center; vertical-align: top\">0</td>\n",
       "        <td style=\"padding-left: 1em; padding-right: 1em; text-align: center; vertical-align: top\">...</td>\n",
       "    </tr>\n",
       "    <tr>\n",
       "        <td style=\"padding-left: 1em; padding-right: 1em; text-align: center; vertical-align: top\">0</td>\n",
       "        <td style=\"padding-left: 1em; padding-right: 1em; text-align: center; vertical-align: top\">0</td>\n",
       "        <td style=\"padding-left: 1em; padding-right: 1em; text-align: center; vertical-align: top\">0</td>\n",
       "        <td style=\"padding-left: 1em; padding-right: 1em; text-align: center; vertical-align: top\">0</td>\n",
       "        <td style=\"padding-left: 1em; padding-right: 1em; text-align: center; vertical-align: top\">0</td>\n",
       "        <td style=\"padding-left: 1em; padding-right: 1em; text-align: center; vertical-align: top\">0</td>\n",
       "        <td style=\"padding-left: 1em; padding-right: 1em; text-align: center; vertical-align: top\">0</td>\n",
       "        <td style=\"padding-left: 1em; padding-right: 1em; text-align: center; vertical-align: top\">0</td>\n",
       "        <td style=\"padding-left: 1em; padding-right: 1em; text-align: center; vertical-align: top\">0</td>\n",
       "        <td style=\"padding-left: 1em; padding-right: 1em; text-align: center; vertical-align: top\">0</td>\n",
       "        <td style=\"padding-left: 1em; padding-right: 1em; text-align: center; vertical-align: top\">0</td>\n",
       "        <td style=\"padding-left: 1em; padding-right: 1em; text-align: center; vertical-align: top\">0</td>\n",
       "        <td style=\"padding-left: 1em; padding-right: 1em; text-align: center; vertical-align: top\">0</td>\n",
       "        <td style=\"padding-left: 1em; padding-right: 1em; text-align: center; vertical-align: top\">0</td>\n",
       "        <td style=\"padding-left: 1em; padding-right: 1em; text-align: center; vertical-align: top\">0</td>\n",
       "        <td style=\"padding-left: 1em; padding-right: 1em; text-align: center; vertical-align: top\">0</td>\n",
       "        <td style=\"padding-left: 1em; padding-right: 1em; text-align: center; vertical-align: top\">0</td>\n",
       "        <td style=\"padding-left: 1em; padding-right: 1em; text-align: center; vertical-align: top\">0</td>\n",
       "        <td style=\"padding-left: 1em; padding-right: 1em; text-align: center; vertical-align: top\">...</td>\n",
       "    </tr>\n",
       "    <tr>\n",
       "        <td style=\"padding-left: 1em; padding-right: 1em; text-align: center; vertical-align: top\">0</td>\n",
       "        <td style=\"padding-left: 1em; padding-right: 1em; text-align: center; vertical-align: top\">0</td>\n",
       "        <td style=\"padding-left: 1em; padding-right: 1em; text-align: center; vertical-align: top\">0</td>\n",
       "        <td style=\"padding-left: 1em; padding-right: 1em; text-align: center; vertical-align: top\">0</td>\n",
       "        <td style=\"padding-left: 1em; padding-right: 1em; text-align: center; vertical-align: top\">0</td>\n",
       "        <td style=\"padding-left: 1em; padding-right: 1em; text-align: center; vertical-align: top\">0</td>\n",
       "        <td style=\"padding-left: 1em; padding-right: 1em; text-align: center; vertical-align: top\">0</td>\n",
       "        <td style=\"padding-left: 1em; padding-right: 1em; text-align: center; vertical-align: top\">0</td>\n",
       "        <td style=\"padding-left: 1em; padding-right: 1em; text-align: center; vertical-align: top\">0</td>\n",
       "        <td style=\"padding-left: 1em; padding-right: 1em; text-align: center; vertical-align: top\">0</td>\n",
       "        <td style=\"padding-left: 1em; padding-right: 1em; text-align: center; vertical-align: top\">0</td>\n",
       "        <td style=\"padding-left: 1em; padding-right: 1em; text-align: center; vertical-align: top\">0</td>\n",
       "        <td style=\"padding-left: 1em; padding-right: 1em; text-align: center; vertical-align: top\">0</td>\n",
       "        <td style=\"padding-left: 1em; padding-right: 1em; text-align: center; vertical-align: top\">0</td>\n",
       "        <td style=\"padding-left: 1em; padding-right: 1em; text-align: center; vertical-align: top\">0</td>\n",
       "        <td style=\"padding-left: 1em; padding-right: 1em; text-align: center; vertical-align: top\">0</td>\n",
       "        <td style=\"padding-left: 1em; padding-right: 1em; text-align: center; vertical-align: top\">0</td>\n",
       "        <td style=\"padding-left: 1em; padding-right: 1em; text-align: center; vertical-align: top\">0</td>\n",
       "        <td style=\"padding-left: 1em; padding-right: 1em; text-align: center; vertical-align: top\">...</td>\n",
       "    </tr>\n",
       "</table>\n",
       "[10 rows x 220 columns]<br/>\n",
       "</div>"
      ],
      "text/plain": [
       "Columns:\n",
       "\t2\tstr\n",
       "\t3\tstr\n",
       "\t4\tint\n",
       "\t5\tint\n",
       "\t8\tint\n",
       "\t9\tint\n",
       "\t10\tint\n",
       "\t11\tint\n",
       "\t12\tint\n",
       "\t13\tint\n",
       "\t15\tint\n",
       "\t16\tint\n",
       "\t18\tint\n",
       "\t19\tint\n",
       "\t20\tint\n",
       "\t23\tint\n",
       "\t24\tint\n",
       "\t27\tint\n",
       "\t29\tint\n",
       "\t30\tint\n",
       "\t34\tint\n",
       "\t37\tint\n",
       "\t39\tint\n",
       "\t41\tint\n",
       "\t42\tint\n",
       "\t43\tint\n",
       "\t44\tint\n",
       "\t45\tint\n",
       "\t46\tint\n",
       "\t47\tint\n",
       "\t48\tint\n",
       "\t49\tint\n",
       "\t51\tint\n",
       "\t53\tint\n",
       "\t55\tint\n",
       "\t56\tint\n",
       "\t57\tint\n",
       "\t58\tint\n",
       "\t59\tint\n",
       "\t60\tint\n",
       "\t61\tint\n",
       "\t62\tint\n",
       "\t63\tint\n",
       "\t64\tint\n",
       "\t66\tint\n",
       "\t67\tint\n",
       "\t68\tint\n",
       "\t69\tint\n",
       "\t72\tint\n",
       "\t74\tint\n",
       "\t75\tint\n",
       "\t76\tint\n",
       "\t77\tint\n",
       "\t78\tint\n",
       "\t79\tint\n",
       "\t80\tint\n",
       "\t81\tint\n",
       "\t82\tint\n",
       "\t83\tint\n",
       "\t84\tint\n",
       "\t85\tint\n",
       "\t86\tint\n",
       "\t87\tint\n",
       "\t88\tint\n",
       "\t91\tint\n",
       "\t92\tint\n",
       "\t93\tint\n",
       "\t94\tint\n",
       "\t95\tint\n",
       "\t98\tint\n",
       "\t99\tint\n",
       "\t100\tint\n",
       "\t101\tint\n",
       "\t103\tint\n",
       "\t104\tint\n",
       "\t105\tint\n",
       "\t106\tint\n",
       "\t108\tint\n",
       "\t111\tint\n",
       "\t112\tint\n",
       "\t115\tint\n",
       "\t116\tint\n",
       "\t117\tint\n",
       "\t118\tint\n",
       "\t119\tint\n",
       "\t121\tint\n",
       "\t122\tint\n",
       "\t123\tint\n",
       "\t124\tint\n",
       "\t125\tint\n",
       "\t127\tint\n",
       "\t128\tint\n",
       "\t129\tint\n",
       "\t130\tint\n",
       "\t132\tint\n",
       "\t133\tint\n",
       "\t134\tint\n",
       "\t135\tint\n",
       "\t136\tint\n",
       "\t137\tint\n",
       "\t138\tint\n",
       "\t142\tint\n",
       "\t143\tint\n",
       "\t144\tint\n",
       "\t145\tint\n",
       "\t146\tint\n",
       "\t147\tint\n",
       "\t148\tint\n",
       "\t149\tint\n",
       "\t150\tint\n",
       "\t151\tint\n",
       "\t152\tint\n",
       "\t154\tint\n",
       "\t155\tint\n",
       "\t156\tint\n",
       "\t157\tint\n",
       "\t158\tint\n",
       "\t159\tint\n",
       "\t160\tint\n",
       "\t161\tint\n",
       "\t162\tint\n",
       "\t163\tint\n",
       "\t166\tint\n",
       "\t167\tint\n",
       "\t168\tint\n",
       "\t169\tint\n",
       "\t170\tint\n",
       "\t171\tint\n",
       "\t172\tint\n",
       "\t173\tint\n",
       "\t174\tint\n",
       "\t175\tint\n",
       "\t176\tint\n",
       "\t178\tint\n",
       "\t179\tint\n",
       "\t180\tint\n",
       "\t181\tint\n",
       "\t182\tint\n",
       "\t183\tint\n",
       "\t186\tint\n",
       "\t187\tint\n",
       "\t188\tint\n",
       "\t189\tint\n",
       "\t190\tint\n",
       "\t192\tint\n",
       "\t193\tint\n",
       "\t195\tint\n",
       "\t196\tint\n",
       "\t198\tint\n",
       "\t199\tint\n",
       "\t200\tint\n",
       "\t201\tint\n",
       "\t202\tint\n",
       "\t204\tint\n",
       "\t205\tint\n",
       "\t206\tint\n",
       "\t207\tint\n",
       "\t208\tint\n",
       "\t209\tint\n",
       "\t210\tint\n",
       "\t211\tint\n",
       "\t212\tint\n",
       "\t213\tint\n",
       "\t214\tint\n",
       "\t215\tint\n",
       "\t216\tint\n",
       "\t217\tint\n",
       "\t218\tint\n",
       "\t219\tint\n",
       "\t220\tint\n",
       "\t221\tfloat\n",
       "\t222\tint\n",
       "\t223\tint\n",
       "\t224\tfloat\n",
       "\t225\tint\n",
       "\t226\tfloat\n",
       "\t227\tint\n",
       "\t228\tint\n",
       "\t229\tfloat\n",
       "\t230\tint\n",
       "\t231\tfloat\n",
       "\t232\tint\n",
       "\t233\tint\n",
       "\t234\tfloat\n",
       "\t235\tint\n",
       "\t236\tfloat\n",
       "\t237\tint\n",
       "\t238\tint\n",
       "\t239\tfloat\n",
       "\t240\tint\n",
       "\t241\tfloat\n",
       "\t242\tint\n",
       "\t243\tint\n",
       "\t244\tfloat\n",
       "\t245\tint\n",
       "\t246\tfloat\n",
       "\t247\tint\n",
       "\t248\tint\n",
       "\t249\tfloat\n",
       "\t250\tint\n",
       "\t251\tfloat\n",
       "\t252\tint\n",
       "\t253\tint\n",
       "\t254\tfloat\n",
       "\t255\tint\n",
       "\t256\tfloat\n",
       "\t257\tint\n",
       "\t258\tint\n",
       "\t259\tfloat\n",
       "\t260\tint\n",
       "\t261\tfloat\n",
       "\t262\tint\n",
       "\t263\tint\n",
       "\t264\tfloat\n",
       "\t265\tint\n",
       "\t266\tfloat\n",
       "\t267\tint\n",
       "\t268\tint\n",
       "\t269\tfloat\n",
       "\t270\tint\n",
       "\n",
       "Rows: 10\n",
       "\n",
       "Data:\n",
       "+----------+-----------+---+---+---+---+----+----+----+----+----+----+----+----+\n",
       "|    2     |     3     | 4 | 5 | 8 | 9 | 10 | 11 | 12 | 13 | 15 | 16 | 18 | 19 |\n",
       "+----------+-----------+---+---+---+---+----+----+----+----+----+----+----+----+\n",
       "|  Friday  |  Thursday | 0 | 0 | 0 | 0 | 0  | 0  | 0  | 0  | 0  | 0  | 0  | 0  |\n",
       "|  Friday  | Wednesday | 0 | 0 | 0 | 0 | 0  | 0  | 0  | 0  | 0  | 0  | 0  | 0  |\n",
       "|  Friday  | Wednesday | 0 | 0 | 0 | 0 | 0  | 0  | 0  | 0  | 0  | 0  | 0  | 0  |\n",
       "|  Friday  |  Thursday | 0 | 0 | 0 | 0 | 0  | 0  | 0  | 0  | 0  | 0  | 0  | 0  |\n",
       "| Saturday |  Thursday | 0 | 0 | 0 | 0 | 0  | 0  | 0  | 0  | 0  | 0  | 0  | 0  |\n",
       "| Saturday | Wednesday | 0 | 0 | 0 | 0 | 0  | 0  | 0  | 0  | 0  | 0  | 0  | 0  |\n",
       "| Saturday | Wednesday | 0 | 0 | 0 | 0 | 0  | 0  | 0  | 0  | 0  | 0  | 0  | 0  |\n",
       "| Saturday |  Thursday | 0 | 0 | 0 | 0 | 0  | 0  | 0  | 0  | 0  | 0  | 0  | 0  |\n",
       "|  Sunday  |  Thursday | 0 | 0 | 0 | 0 | 0  | 0  | 0  | 0  | 0  | 0  | 0  | 0  |\n",
       "|  Sunday  |  Thursday | 0 | 0 | 0 | 0 | 0  | 0  | 0  | 0  | 0  | 0  | 0  | 0  |\n",
       "+----------+-----------+---+---+---+---+----+----+----+----+----+----+----+----+\n",
       "+----+----+----+----+----+----+-----+\n",
       "| 20 | 23 | 24 | 27 | 29 | 30 | ... |\n",
       "+----+----+----+----+----+----+-----+\n",
       "| 0  | 0  | 0  | 0  | 0  | 0  | ... |\n",
       "| 0  | 0  | 0  | 0  | 0  | 0  | ... |\n",
       "| 0  | 0  | 0  | 0  | 0  | 0  | ... |\n",
       "| 0  | 0  | 0  | 0  | 0  | 0  | ... |\n",
       "| 0  | 0  | 0  | 0  | 0  | 0  | ... |\n",
       "| 0  | 0  | 0  | 0  | 0  | 0  | ... |\n",
       "| 0  | 0  | 0  | 0  | 0  | 0  | ... |\n",
       "| 0  | 0  | 0  | 0  | 0  | 0  | ... |\n",
       "| 0  | 0  | 0  | 0  | 0  | 0  | ... |\n",
       "| 0  | 0  | 0  | 0  | 0  | 0  | ... |\n",
       "+----+----+----+----+----+----+-----+\n",
       "[10 rows x 220 columns]"
      ]
     },
     "execution_count": 37,
     "metadata": {},
     "output_type": "execute_result"
    }
   ],
   "source": [
    "sf2.head()"
   ]
  },
  {
   "cell_type": "code",
   "execution_count": 42,
   "metadata": {
    "collapsed": false
   },
   "outputs": [
    {
     "name": "stdout",
     "output_type": "stream",
     "text": [
      "['2', '3', '4', '5', '8', '9', '10', '11', '12', '13', '15', '16', '18', '19', '20', '23', '24', '27', '29', '30', '34', '37', '39', '41', '42', '43', '44', '45', '46', '47', '48', '49', '51', '53', '55', '56', '57', '58', '59', '60', '61', '62', '63', '64', '66', '67', '68', '69', '72', '74', '75', '76', '77', '78', '79', '80', '81', '82', '83', '84', '85', '86', '87', '88', '91', '92', '93', '94', '95', '98', '99', '100', '101', '103', '104', '105', '106', '108', '111', '112', '115', '116', '117', '118', '119', '121', '122', '123', '124', '125', '127', '128', '129', '130', '132', '133', '134', '135', '136', '137', '138', '142', '143', '144', '145', '146', '147', '148', '149', '150', '151', '152', '154', '155', '156', '157', '158', '159', '160', '161', '162', '163', '166', '167', '168', '169', '170', '171', '172', '173', '174', '175', '176', '178', '179', '180', '181', '182', '183', '186', '187', '188', '189', '190', '192', '193', '195', '196', '198', '199', '200', '201', '202', '204', '205', '206', '207', '208', '209', '210', '211', '212', '213', '214', '215', '216', '217', '218', '219', '220', '221', '222', '223', '224', '225', '226', '227', '228', '229', '230', '231', '232', '233', '234', '235', '236', '237', '238', '239', '240', '241', '242', '243', '244', '245', '246', '247', '248', '249', '250', '251', '252', '253', '254', '255', '256', '257', '258', '259', '260', '261', '262', '263', '264', '265', '266', '267', '268', '269']\n"
     ]
    }
   ],
   "source": [
    "print ft "
   ]
  },
  {
   "cell_type": "code",
   "execution_count": 74,
   "metadata": {
    "collapsed": true
   },
   "outputs": [],
   "source": [
    "train,test = sf.random_split(0.9)"
   ]
  },
  {
   "cell_type": "code",
   "execution_count": 86,
   "metadata": {
    "collapsed": false
   },
   "outputs": [
    {
     "data": {
      "text/html": [
       "<pre>WARNING: Detected extremely low variance for feature(s) '230', '235', '255' because all entries are nearly the same.\n",
       "Proceeding with model training using all features. If the model does not provide results of adequate quality, exclude the above mentioned feature(s) from the input dataset.</pre>"
      ],
      "text/plain": [
       "WARNING: Detected extremely low variance for feature(s) '230', '235', '255' because all entries are nearly the same.\n",
       "Proceeding with model training using all features. If the model does not provide results of adequate quality, exclude the above mentioned feature(s) from the input dataset."
      ]
     },
     "metadata": {},
     "output_type": "display_data"
    },
    {
     "data": {
      "text/html": [
       "<pre>Boosted trees regression:</pre>"
      ],
      "text/plain": [
       "Boosted trees regression:"
      ]
     },
     "metadata": {},
     "output_type": "display_data"
    },
    {
     "data": {
      "text/html": [
       "<pre>--------------------------------------------------------</pre>"
      ],
      "text/plain": [
       "--------------------------------------------------------"
      ]
     },
     "metadata": {},
     "output_type": "display_data"
    },
    {
     "data": {
      "text/html": [
       "<pre>Number of examples          : 47356</pre>"
      ],
      "text/plain": [
       "Number of examples          : 47356"
      ]
     },
     "metadata": {},
     "output_type": "display_data"
    },
    {
     "data": {
      "text/html": [
       "<pre>Number of features          : 219</pre>"
      ],
      "text/plain": [
       "Number of features          : 219"
      ]
     },
     "metadata": {},
     "output_type": "display_data"
    },
    {
     "data": {
      "text/html": [
       "<pre>Number of unpacked features : 219</pre>"
      ],
      "text/plain": [
       "Number of unpacked features : 219"
      ]
     },
     "metadata": {},
     "output_type": "display_data"
    },
    {
     "data": {
      "text/html": [
       "<pre>+-----------+--------------+--------------------+---------------+----------------------+-----------------+</pre>"
      ],
      "text/plain": [
       "+-----------+--------------+--------------------+---------------+----------------------+-----------------+"
      ]
     },
     "metadata": {},
     "output_type": "display_data"
    },
    {
     "data": {
      "text/html": [
       "<pre>| Iteration | Elapsed Time | Training-max_error | Training-rmse | Validation-max_error | Validation-rmse |</pre>"
      ],
      "text/plain": [
       "| Iteration | Elapsed Time | Training-max_error | Training-rmse | Validation-max_error | Validation-rmse |"
      ]
     },
     "metadata": {},
     "output_type": "display_data"
    },
    {
     "data": {
      "text/html": [
       "<pre>+-----------+--------------+--------------------+---------------+----------------------+-----------------+</pre>"
      ],
      "text/plain": [
       "+-----------+--------------+--------------------+---------------+----------------------+-----------------+"
      ]
     },
     "metadata": {},
     "output_type": "display_data"
    },
    {
     "data": {
      "text/html": [
       "<pre>| 1         | 4.433207     | 1287.49            | 29.5101       | 563.752              | 31.9534         |</pre>"
      ],
      "text/plain": [
       "| 1         | 4.433207     | 1287.49            | 29.5101       | 563.752              | 31.9534         |"
      ]
     },
     "metadata": {},
     "output_type": "display_data"
    },
    {
     "data": {
      "text/html": [
       "<pre>| 2         | 7.735202     | 1170.95            | 23.1086       | 527.955              | 25.5866         |</pre>"
      ],
      "text/plain": [
       "| 2         | 7.735202     | 1170.95            | 23.1086       | 527.955              | 25.5866         |"
      ]
     },
     "metadata": {},
     "output_type": "display_data"
    },
    {
     "data": {
      "text/html": [
       "<pre>| 3         | 11.220913    | 1086.6             | 18.2281       | 498.974              | 21.1368         |</pre>"
      ],
      "text/plain": [
       "| 3         | 11.220913    | 1086.6             | 18.2281       | 498.974              | 21.1368         |"
      ]
     },
     "metadata": {},
     "output_type": "display_data"
    },
    {
     "data": {
      "text/html": [
       "<pre>| 4         | 14.565342    | 1019.2             | 14.7126       | 476.513              | 18.0194         |</pre>"
      ],
      "text/plain": [
       "| 4         | 14.565342    | 1019.2             | 14.7126       | 476.513              | 18.0194         |"
      ]
     },
     "metadata": {},
     "output_type": "display_data"
    },
    {
     "data": {
      "text/html": [
       "<pre>| 5         | 19.243352    | 956.663            | 12.0182       | 472.892              | 15.9419         |</pre>"
      ],
      "text/plain": [
       "| 5         | 19.243352    | 956.663            | 12.0182       | 472.892              | 15.9419         |"
      ]
     },
     "metadata": {},
     "output_type": "display_data"
    },
    {
     "data": {
      "text/html": [
       "<pre>| 6         | 23.337703    | 907.012            | 10.0364       | 462.373              | 14.6838         |</pre>"
      ],
      "text/plain": [
       "| 6         | 23.337703    | 907.012            | 10.0364       | 462.373              | 14.6838         |"
      ]
     },
     "metadata": {},
     "output_type": "display_data"
    },
    {
     "data": {
      "text/html": [
       "<pre>| 7         | 27.039834    | 866.622            | 8.55497       | 461.418              | 13.7937         |</pre>"
      ],
      "text/plain": [
       "| 7         | 27.039834    | 866.622            | 8.55497       | 461.418              | 13.7937         |"
      ]
     },
     "metadata": {},
     "output_type": "display_data"
    },
    {
     "data": {
      "text/html": [
       "<pre>| 8         | 30.992594    | 833.989            | 7.43717       | 456.94               | 13.1636         |</pre>"
      ],
      "text/plain": [
       "| 8         | 30.992594    | 833.989            | 7.43717       | 456.94               | 13.1636         |"
      ]
     },
     "metadata": {},
     "output_type": "display_data"
    },
    {
     "data": {
      "text/html": [
       "<pre>| 9         | 34.623863    | 810.182            | 6.64866       | 452.878              | 12.8075         |</pre>"
      ],
      "text/plain": [
       "| 9         | 34.623863    | 810.182            | 6.64866       | 452.878              | 12.8075         |"
      ]
     },
     "metadata": {},
     "output_type": "display_data"
    },
    {
     "data": {
      "text/html": [
       "<pre>| 10        | 38.761070    | 788.803            | 6.08267       | 449.361              | 12.5526         |</pre>"
      ],
      "text/plain": [
       "| 10        | 38.761070    | 788.803            | 6.08267       | 449.361              | 12.5526         |"
      ]
     },
     "metadata": {},
     "output_type": "display_data"
    },
    {
     "data": {
      "text/html": [
       "<pre>| 11        | 42.884809    | 771.497            | 5.67414       | 446.162              | 12.3756         |</pre>"
      ],
      "text/plain": [
       "| 11        | 42.884809    | 771.497            | 5.67414       | 446.162              | 12.3756         |"
      ]
     },
     "metadata": {},
     "output_type": "display_data"
    },
    {
     "data": {
      "text/html": [
       "<pre>| 12        | 47.142259    | 759.165            | 5.38617       | 443.11               | 12.2572         |</pre>"
      ],
      "text/plain": [
       "| 12        | 47.142259    | 759.165            | 5.38617       | 443.11               | 12.2572         |"
      ]
     },
     "metadata": {},
     "output_type": "display_data"
    },
    {
     "data": {
      "text/html": [
       "<pre>| 13        | 52.004063    | 749.196            | 5.18094       | 441.739              | 12.1694         |</pre>"
      ],
      "text/plain": [
       "| 13        | 52.004063    | 749.196            | 5.18094       | 441.739              | 12.1694         |"
      ]
     },
     "metadata": {},
     "output_type": "display_data"
    },
    {
     "data": {
      "text/html": [
       "<pre>| 14        | 56.400342    | 740.568            | 5.03405       | 440.072              | 12.1117         |</pre>"
      ],
      "text/plain": [
       "| 14        | 56.400342    | 740.568            | 5.03405       | 440.072              | 12.1117         |"
      ]
     },
     "metadata": {},
     "output_type": "display_data"
    },
    {
     "data": {
      "text/html": [
       "<pre>| 15        | 60.912300    | 732.497            | 4.93287       | 438.572              | 12.0769         |</pre>"
      ],
      "text/plain": [
       "| 15        | 60.912300    | 732.497            | 4.93287       | 438.572              | 12.0769         |"
      ]
     },
     "metadata": {},
     "output_type": "display_data"
    },
    {
     "data": {
      "text/html": [
       "<pre>| 16        | 65.703764    | 727.298            | 4.86295       | 438.285              | 12.0465         |</pre>"
      ],
      "text/plain": [
       "| 16        | 65.703764    | 727.298            | 4.86295       | 438.285              | 12.0465         |"
      ]
     },
     "metadata": {},
     "output_type": "display_data"
    },
    {
     "data": {
      "text/html": [
       "<pre>| 17        | 70.474359    | 723.138            | 4.81377       | 437.722              | 12.0304         |</pre>"
      ],
      "text/plain": [
       "| 17        | 70.474359    | 723.138            | 4.81377       | 437.722              | 12.0304         |"
      ]
     },
     "metadata": {},
     "output_type": "display_data"
    },
    {
     "data": {
      "text/html": [
       "<pre>| 18        | 75.182582    | 719.811            | 4.77901       | 437.663              | 12.0178         |</pre>"
      ],
      "text/plain": [
       "| 18        | 75.182582    | 719.811            | 4.77901       | 437.663              | 12.0178         |"
      ]
     },
     "metadata": {},
     "output_type": "display_data"
    },
    {
     "data": {
      "text/html": [
       "<pre>| 19        | 79.420620    | 717.148            | 4.75477       | 437.519              | 12.0096         |</pre>"
      ],
      "text/plain": [
       "| 19        | 79.420620    | 717.148            | 4.75477       | 437.519              | 12.0096         |"
      ]
     },
     "metadata": {},
     "output_type": "display_data"
    },
    {
     "data": {
      "text/html": [
       "<pre>| 20        | 83.901775    | 715.019            | 4.73743       | 434.171              | 11.98           |</pre>"
      ],
      "text/plain": [
       "| 20        | 83.901775    | 715.019            | 4.73743       | 434.171              | 11.98           |"
      ]
     },
     "metadata": {},
     "output_type": "display_data"
    },
    {
     "data": {
      "text/html": [
       "<pre>| 21        | 88.181793    | 713.315            | 4.72525       | 434.096              | 11.9775         |</pre>"
      ],
      "text/plain": [
       "| 21        | 88.181793    | 713.315            | 4.72525       | 434.096              | 11.9775         |"
      ]
     },
     "metadata": {},
     "output_type": "display_data"
    },
    {
     "data": {
      "text/html": [
       "<pre>| 22        | 92.576718    | 711.952            | 4.71652       | 433.919              | 11.9731         |</pre>"
      ],
      "text/plain": [
       "| 22        | 92.576718    | 711.952            | 4.71652       | 433.919              | 11.9731         |"
      ]
     },
     "metadata": {},
     "output_type": "display_data"
    },
    {
     "data": {
      "text/html": [
       "<pre>| 23        | 96.476350    | 710.862            | 4.7101        | 433.859              | 11.9714         |</pre>"
      ],
      "text/plain": [
       "| 23        | 96.476350    | 710.862            | 4.7101        | 433.859              | 11.9714         |"
      ]
     },
     "metadata": {},
     "output_type": "display_data"
    },
    {
     "data": {
      "text/html": [
       "<pre>| 24        | 100.335300   | 710.075            | 4.70558       | 433.802              | 11.9712         |</pre>"
      ],
      "text/plain": [
       "| 24        | 100.335300   | 710.075            | 4.70558       | 433.802              | 11.9712         |"
      ]
     },
     "metadata": {},
     "output_type": "display_data"
    },
    {
     "data": {
      "text/html": [
       "<pre>| 25        | 104.438147   | 709.362            | 4.7024        | 433.757              | 11.9705         |</pre>"
      ],
      "text/plain": [
       "| 25        | 104.438147   | 709.362            | 4.7024        | 433.757              | 11.9705         |"
      ]
     },
     "metadata": {},
     "output_type": "display_data"
    },
    {
     "data": {
      "text/html": [
       "<pre>| 26        | 108.411525   | 708.641            | 4.70011       | 433.743              | 11.9703         |</pre>"
      ],
      "text/plain": [
       "| 26        | 108.411525   | 708.641            | 4.70011       | 433.743              | 11.9703         |"
      ]
     },
     "metadata": {},
     "output_type": "display_data"
    },
    {
     "data": {
      "text/html": [
       "<pre>| 27        | 112.246257   | 708.213            | 4.69851       | 433.74               | 11.9699         |</pre>"
      ],
      "text/plain": [
       "| 27        | 112.246257   | 708.213            | 4.69851       | 433.74               | 11.9699         |"
      ]
     },
     "metadata": {},
     "output_type": "display_data"
    },
    {
     "data": {
      "text/html": [
       "<pre>| 28        | 115.915865   | 707.87             | 4.69739       | 433.719              | 11.9703         |</pre>"
      ],
      "text/plain": [
       "| 28        | 115.915865   | 707.87             | 4.69739       | 433.719              | 11.9703         |"
      ]
     },
     "metadata": {},
     "output_type": "display_data"
    },
    {
     "data": {
      "text/html": [
       "<pre>| 29        | 119.555065   | 707.596            | 4.69659       | 433.701              | 11.9703         |</pre>"
      ],
      "text/plain": [
       "| 29        | 119.555065   | 707.596            | 4.69659       | 433.701              | 11.9703         |"
      ]
     },
     "metadata": {},
     "output_type": "display_data"
    },
    {
     "data": {
      "text/html": [
       "<pre>| 30        | 122.796726   | 707.389            | 4.69601       | 433.697              | 11.9706         |</pre>"
      ],
      "text/plain": [
       "| 30        | 122.796726   | 707.389            | 4.69601       | 433.697              | 11.9706         |"
      ]
     },
     "metadata": {},
     "output_type": "display_data"
    },
    {
     "data": {
      "text/html": [
       "<pre>| 31        | 125.799316   | 707.211            | 4.69561       | 433.694              | 11.9707         |</pre>"
      ],
      "text/plain": [
       "| 31        | 125.799316   | 707.211            | 4.69561       | 433.694              | 11.9707         |"
      ]
     },
     "metadata": {},
     "output_type": "display_data"
    },
    {
     "data": {
      "text/html": [
       "<pre>| 32        | 128.703119   | 707.069            | 4.69532       | 433.657              | 11.9704         |</pre>"
      ],
      "text/plain": [
       "| 32        | 128.703119   | 707.069            | 4.69532       | 433.657              | 11.9704         |"
      ]
     },
     "metadata": {},
     "output_type": "display_data"
    },
    {
     "data": {
      "text/html": [
       "<pre>| 33        | 132.318533   | 706.955            | 4.69511       | 433.656              | 11.9697         |</pre>"
      ],
      "text/plain": [
       "| 33        | 132.318533   | 706.955            | 4.69511       | 433.656              | 11.9697         |"
      ]
     },
     "metadata": {},
     "output_type": "display_data"
    },
    {
     "data": {
      "text/html": [
       "<pre>| 34        | 134.930357   | 706.864            | 4.69496       | 433.632              | 11.9689         |</pre>"
      ],
      "text/plain": [
       "| 34        | 134.930357   | 706.864            | 4.69496       | 433.632              | 11.9689         |"
      ]
     },
     "metadata": {},
     "output_type": "display_data"
    },
    {
     "data": {
      "text/html": [
       "<pre>| 35        | 137.519018   | 706.791            | 4.69485       | 433.623              | 11.9683         |</pre>"
      ],
      "text/plain": [
       "| 35        | 137.519018   | 706.791            | 4.69485       | 433.623              | 11.9683         |"
      ]
     },
     "metadata": {},
     "output_type": "display_data"
    },
    {
     "data": {
      "text/html": [
       "<pre>| 36        | 140.033953   | 706.733            | 4.69478       | 433.616              | 11.9678         |</pre>"
      ],
      "text/plain": [
       "| 36        | 140.033953   | 706.733            | 4.69478       | 433.616              | 11.9678         |"
      ]
     },
     "metadata": {},
     "output_type": "display_data"
    },
    {
     "data": {
      "text/html": [
       "<pre>| 37        | 142.593079   | 706.686            | 4.69472       | 433.604              | 11.9674         |</pre>"
      ],
      "text/plain": [
       "| 37        | 142.593079   | 706.686            | 4.69472       | 433.604              | 11.9674         |"
      ]
     },
     "metadata": {},
     "output_type": "display_data"
    },
    {
     "data": {
      "text/html": [
       "<pre>| 38        | 145.100475   | 706.649            | 4.69468       | 433.6                | 11.9671         |</pre>"
      ],
      "text/plain": [
       "| 38        | 145.100475   | 706.649            | 4.69468       | 433.6                | 11.9671         |"
      ]
     },
     "metadata": {},
     "output_type": "display_data"
    },
    {
     "data": {
      "text/html": [
       "<pre>| 39        | 147.756005   | 706.619            | 4.69465       | 433.597              | 11.9668         |</pre>"
      ],
      "text/plain": [
       "| 39        | 147.756005   | 706.619            | 4.69465       | 433.597              | 11.9668         |"
      ]
     },
     "metadata": {},
     "output_type": "display_data"
    },
    {
     "data": {
      "text/html": [
       "<pre>| 40        | 150.190188   | 706.595            | 4.69463       | 433.594              | 11.9666         |</pre>"
      ],
      "text/plain": [
       "| 40        | 150.190188   | 706.595            | 4.69463       | 433.594              | 11.9666         |"
      ]
     },
     "metadata": {},
     "output_type": "display_data"
    },
    {
     "data": {
      "text/html": [
       "<pre>| 41        | 152.411201   | 706.576            | 4.69462       | 433.594              | 11.9664         |</pre>"
      ],
      "text/plain": [
       "| 41        | 152.411201   | 706.576            | 4.69462       | 433.594              | 11.9664         |"
      ]
     },
     "metadata": {},
     "output_type": "display_data"
    },
    {
     "data": {
      "text/html": [
       "<pre>| 42        | 154.553253   | 706.561            | 4.69461       | 433.594              | 11.9663         |</pre>"
      ],
      "text/plain": [
       "| 42        | 154.553253   | 706.561            | 4.69461       | 433.594              | 11.9663         |"
      ]
     },
     "metadata": {},
     "output_type": "display_data"
    },
    {
     "data": {
      "text/html": [
       "<pre>| 43        | 156.538305   | 706.549            | 4.6946        | 433.594              | 11.9662         |</pre>"
      ],
      "text/plain": [
       "| 43        | 156.538305   | 706.549            | 4.6946        | 433.594              | 11.9662         |"
      ]
     },
     "metadata": {},
     "output_type": "display_data"
    },
    {
     "data": {
      "text/html": [
       "<pre>| 44        | 158.351476   | 706.539            | 4.69459       | 433.594              | 11.9662         |</pre>"
      ],
      "text/plain": [
       "| 44        | 158.351476   | 706.539            | 4.69459       | 433.594              | 11.9662         |"
      ]
     },
     "metadata": {},
     "output_type": "display_data"
    },
    {
     "data": {
      "text/html": [
       "<pre>| 45        | 160.142674   | 706.531            | 4.69459       | 433.594              | 11.9662         |</pre>"
      ],
      "text/plain": [
       "| 45        | 160.142674   | 706.531            | 4.69459       | 433.594              | 11.9662         |"
      ]
     },
     "metadata": {},
     "output_type": "display_data"
    },
    {
     "data": {
      "text/html": [
       "<pre>| 46        | 162.014584   | 706.525            | 4.69459       | 433.594              | 11.9662         |</pre>"
      ],
      "text/plain": [
       "| 46        | 162.014584   | 706.525            | 4.69459       | 433.594              | 11.9662         |"
      ]
     },
     "metadata": {},
     "output_type": "display_data"
    },
    {
     "data": {
      "text/html": [
       "<pre>| 47        | 163.747422   | 706.52             | 4.69458       | 433.594              | 11.9662         |</pre>"
      ],
      "text/plain": [
       "| 47        | 163.747422   | 706.52             | 4.69458       | 433.594              | 11.9662         |"
      ]
     },
     "metadata": {},
     "output_type": "display_data"
    },
    {
     "data": {
      "text/html": [
       "<pre>| 48        | 165.681569   | 706.516            | 4.69458       | 433.594              | 11.9662         |</pre>"
      ],
      "text/plain": [
       "| 48        | 165.681569   | 706.516            | 4.69458       | 433.594              | 11.9662         |"
      ]
     },
     "metadata": {},
     "output_type": "display_data"
    },
    {
     "data": {
      "text/html": [
       "<pre>| 49        | 167.728866   | 706.513            | 4.69458       | 433.594              | 11.9662         |</pre>"
      ],
      "text/plain": [
       "| 49        | 167.728866   | 706.513            | 4.69458       | 433.594              | 11.9662         |"
      ]
     },
     "metadata": {},
     "output_type": "display_data"
    },
    {
     "data": {
      "text/html": [
       "<pre>| 50        | 169.266729   | 706.51             | 4.69458       | 433.594              | 11.9662         |</pre>"
      ],
      "text/plain": [
       "| 50        | 169.266729   | 706.51             | 4.69458       | 433.594              | 11.9662         |"
      ]
     },
     "metadata": {},
     "output_type": "display_data"
    },
    {
     "data": {
      "text/html": [
       "<pre>| 51        | 170.720321   | 706.508            | 4.69458       | 433.594              | 11.9662         |</pre>"
      ],
      "text/plain": [
       "| 51        | 170.720321   | 706.508            | 4.69458       | 433.594              | 11.9662         |"
      ]
     },
     "metadata": {},
     "output_type": "display_data"
    },
    {
     "data": {
      "text/html": [
       "<pre>| 52        | 172.100669   | 706.507            | 4.69458       | 433.594              | 11.9662         |</pre>"
      ],
      "text/plain": [
       "| 52        | 172.100669   | 706.507            | 4.69458       | 433.594              | 11.9662         |"
      ]
     },
     "metadata": {},
     "output_type": "display_data"
    },
    {
     "data": {
      "text/html": [
       "<pre>| 53        | 173.700501   | 706.505            | 4.69458       | 433.594              | 11.9661         |</pre>"
      ],
      "text/plain": [
       "| 53        | 173.700501   | 706.505            | 4.69458       | 433.594              | 11.9661         |"
      ]
     },
     "metadata": {},
     "output_type": "display_data"
    },
    {
     "data": {
      "text/html": [
       "<pre>| 54        | 175.149827   | 706.504            | 4.69458       | 433.594              | 11.9661         |</pre>"
      ],
      "text/plain": [
       "| 54        | 175.149827   | 706.504            | 4.69458       | 433.594              | 11.9661         |"
      ]
     },
     "metadata": {},
     "output_type": "display_data"
    },
    {
     "data": {
      "text/html": [
       "<pre>| 55        | 176.594703   | 706.504            | 4.69458       | 433.594              | 11.9661         |</pre>"
      ],
      "text/plain": [
       "| 55        | 176.594703   | 706.504            | 4.69458       | 433.594              | 11.9661         |"
      ]
     },
     "metadata": {},
     "output_type": "display_data"
    },
    {
     "data": {
      "text/html": [
       "<pre>| 56        | 178.150128   | 706.503            | 4.69458       | 433.594              | 11.9661         |</pre>"
      ],
      "text/plain": [
       "| 56        | 178.150128   | 706.503            | 4.69458       | 433.594              | 11.9661         |"
      ]
     },
     "metadata": {},
     "output_type": "display_data"
    },
    {
     "data": {
      "text/html": [
       "<pre>| 57        | 179.493167   | 706.502            | 4.69458       | 433.594              | 11.9661         |</pre>"
      ],
      "text/plain": [
       "| 57        | 179.493167   | 706.502            | 4.69458       | 433.594              | 11.9661         |"
      ]
     },
     "metadata": {},
     "output_type": "display_data"
    },
    {
     "data": {
      "text/html": [
       "<pre>| 58        | 180.545575   | 706.502            | 4.69458       | 433.594              | 11.9661         |</pre>"
      ],
      "text/plain": [
       "| 58        | 180.545575   | 706.502            | 4.69458       | 433.594              | 11.9661         |"
      ]
     },
     "metadata": {},
     "output_type": "display_data"
    },
    {
     "data": {
      "text/html": [
       "<pre>| 59        | 181.788371   | 706.502            | 4.69458       | 433.592              | 11.9661         |</pre>"
      ],
      "text/plain": [
       "| 59        | 181.788371   | 706.502            | 4.69458       | 433.592              | 11.9661         |"
      ]
     },
     "metadata": {},
     "output_type": "display_data"
    },
    {
     "data": {
      "text/html": [
       "<pre>| 60        | 182.802129   | 706.502            | 4.69458       | 433.592              | 11.9661         |</pre>"
      ],
      "text/plain": [
       "| 60        | 182.802129   | 706.502            | 4.69458       | 433.592              | 11.9661         |"
      ]
     },
     "metadata": {},
     "output_type": "display_data"
    },
    {
     "data": {
      "text/html": [
       "<pre>| 61        | 183.562913   | 706.502            | 4.69458       | 433.592              | 11.9661         |</pre>"
      ],
      "text/plain": [
       "| 61        | 183.562913   | 706.502            | 4.69458       | 433.592              | 11.9661         |"
      ]
     },
     "metadata": {},
     "output_type": "display_data"
    },
    {
     "data": {
      "text/html": [
       "<pre>| 62        | 184.515693   | 706.502            | 4.69458       | 433.592              | 11.9661         |</pre>"
      ],
      "text/plain": [
       "| 62        | 184.515693   | 706.502            | 4.69458       | 433.592              | 11.9661         |"
      ]
     },
     "metadata": {},
     "output_type": "display_data"
    },
    {
     "data": {
      "text/html": [
       "<pre>| 63        | 185.621527   | 706.502            | 4.69458       | 433.592              | 11.9661         |</pre>"
      ],
      "text/plain": [
       "| 63        | 185.621527   | 706.502            | 4.69458       | 433.592              | 11.9661         |"
      ]
     },
     "metadata": {},
     "output_type": "display_data"
    },
    {
     "data": {
      "text/html": [
       "<pre>| 64        | 186.491651   | 706.502            | 4.69458       | 433.592              | 11.9661         |</pre>"
      ],
      "text/plain": [
       "| 64        | 186.491651   | 706.502            | 4.69458       | 433.592              | 11.9661         |"
      ]
     },
     "metadata": {},
     "output_type": "display_data"
    },
    {
     "data": {
      "text/html": [
       "<pre>| 65        | 187.120291   | 706.502            | 4.69458       | 433.592              | 11.9661         |</pre>"
      ],
      "text/plain": [
       "| 65        | 187.120291   | 706.502            | 4.69458       | 433.592              | 11.9661         |"
      ]
     },
     "metadata": {},
     "output_type": "display_data"
    },
    {
     "data": {
      "text/html": [
       "<pre>| 66        | 188.018787   | 706.502            | 4.69458       | 433.592              | 11.9661         |</pre>"
      ],
      "text/plain": [
       "| 66        | 188.018787   | 706.502            | 4.69458       | 433.592              | 11.9661         |"
      ]
     },
     "metadata": {},
     "output_type": "display_data"
    },
    {
     "data": {
      "text/html": [
       "<pre>| 67        | 188.761362   | 706.502            | 4.69458       | 433.592              | 11.9661         |</pre>"
      ],
      "text/plain": [
       "| 67        | 188.761362   | 706.502            | 4.69458       | 433.592              | 11.9661         |"
      ]
     },
     "metadata": {},
     "output_type": "display_data"
    },
    {
     "data": {
      "text/html": [
       "<pre>| 68        | 189.168224   | 706.502            | 4.69458       | 433.592              | 11.9661         |</pre>"
      ],
      "text/plain": [
       "| 68        | 189.168224   | 706.502            | 4.69458       | 433.592              | 11.9661         |"
      ]
     },
     "metadata": {},
     "output_type": "display_data"
    },
    {
     "data": {
      "text/html": [
       "<pre>| 69        | 189.494187   | 706.502            | 4.69458       | 433.592              | 11.9661         |</pre>"
      ],
      "text/plain": [
       "| 69        | 189.494187   | 706.502            | 4.69458       | 433.592              | 11.9661         |"
      ]
     },
     "metadata": {},
     "output_type": "display_data"
    },
    {
     "data": {
      "text/html": [
       "<pre>| 70        | 189.720202   | 706.502            | 4.69458       | 433.592              | 11.9661         |</pre>"
      ],
      "text/plain": [
       "| 70        | 189.720202   | 706.502            | 4.69458       | 433.592              | 11.9661         |"
      ]
     },
     "metadata": {},
     "output_type": "display_data"
    },
    {
     "data": {
      "text/html": [
       "<pre>| 71        | 190.001330   | 706.502            | 4.69458       | 433.592              | 11.9661         |</pre>"
      ],
      "text/plain": [
       "| 71        | 190.001330   | 706.502            | 4.69458       | 433.592              | 11.9661         |"
      ]
     },
     "metadata": {},
     "output_type": "display_data"
    },
    {
     "data": {
      "text/html": [
       "<pre>| 72        | 190.262459   | 706.502            | 4.69458       | 433.592              | 11.9661         |</pre>"
      ],
      "text/plain": [
       "| 72        | 190.262459   | 706.502            | 4.69458       | 433.592              | 11.9661         |"
      ]
     },
     "metadata": {},
     "output_type": "display_data"
    },
    {
     "data": {
      "text/html": [
       "<pre>| 73        | 190.425194   | 706.502            | 4.69458       | 433.592              | 11.9661         |</pre>"
      ],
      "text/plain": [
       "| 73        | 190.425194   | 706.502            | 4.69458       | 433.592              | 11.9661         |"
      ]
     },
     "metadata": {},
     "output_type": "display_data"
    },
    {
     "data": {
      "text/html": [
       "<pre>| 74        | 190.675959   | 706.502            | 4.69458       | 433.59               | 11.9661         |</pre>"
      ],
      "text/plain": [
       "| 74        | 190.675959   | 706.502            | 4.69458       | 433.59               | 11.9661         |"
      ]
     },
     "metadata": {},
     "output_type": "display_data"
    },
    {
     "data": {
      "text/html": [
       "<pre>| 75        | 190.757095   | 706.502            | 4.69458       | 433.59               | 11.9661         |</pre>"
      ],
      "text/plain": [
       "| 75        | 190.757095   | 706.502            | 4.69458       | 433.59               | 11.9661         |"
      ]
     },
     "metadata": {},
     "output_type": "display_data"
    },
    {
     "data": {
      "text/html": [
       "<pre>| 76        | 190.859894   | 706.502            | 4.69458       | 433.59               | 11.9661         |</pre>"
      ],
      "text/plain": [
       "| 76        | 190.859894   | 706.502            | 4.69458       | 433.59               | 11.9661         |"
      ]
     },
     "metadata": {},
     "output_type": "display_data"
    },
    {
     "data": {
      "text/html": [
       "<pre>| 77        | 190.982503   | 706.502            | 4.69458       | 433.59               | 11.9661         |</pre>"
      ],
      "text/plain": [
       "| 77        | 190.982503   | 706.502            | 4.69458       | 433.59               | 11.9661         |"
      ]
     },
     "metadata": {},
     "output_type": "display_data"
    },
    {
     "data": {
      "text/html": [
       "<pre>| 78        | 191.099402   | 706.502            | 4.69458       | 433.59               | 11.9661         |</pre>"
      ],
      "text/plain": [
       "| 78        | 191.099402   | 706.502            | 4.69458       | 433.59               | 11.9661         |"
      ]
     },
     "metadata": {},
     "output_type": "display_data"
    },
    {
     "data": {
      "text/html": [
       "<pre>| 79        | 191.206673   | 706.502            | 4.69458       | 433.59               | 11.9661         |</pre>"
      ],
      "text/plain": [
       "| 79        | 191.206673   | 706.502            | 4.69458       | 433.59               | 11.9661         |"
      ]
     },
     "metadata": {},
     "output_type": "display_data"
    },
    {
     "data": {
      "text/html": [
       "<pre>| 80        | 191.291216   | 706.502            | 4.69458       | 433.59               | 11.9661         |</pre>"
      ],
      "text/plain": [
       "| 80        | 191.291216   | 706.502            | 4.69458       | 433.59               | 11.9661         |"
      ]
     },
     "metadata": {},
     "output_type": "display_data"
    },
    {
     "data": {
      "text/html": [
       "<pre>| 81        | 191.373686   | 706.502            | 4.69458       | 433.59               | 11.9661         |</pre>"
      ],
      "text/plain": [
       "| 81        | 191.373686   | 706.502            | 4.69458       | 433.59               | 11.9661         |"
      ]
     },
     "metadata": {},
     "output_type": "display_data"
    },
    {
     "data": {
      "text/html": [
       "<pre>| 82        | 191.452133   | 706.502            | 4.69458       | 433.59               | 11.9661         |</pre>"
      ],
      "text/plain": [
       "| 82        | 191.452133   | 706.502            | 4.69458       | 433.59               | 11.9661         |"
      ]
     },
     "metadata": {},
     "output_type": "display_data"
    },
    {
     "data": {
      "text/html": [
       "<pre>| 83        | 191.536604   | 706.502            | 4.69458       | 433.59               | 11.9661         |</pre>"
      ],
      "text/plain": [
       "| 83        | 191.536604   | 706.502            | 4.69458       | 433.59               | 11.9661         |"
      ]
     },
     "metadata": {},
     "output_type": "display_data"
    },
    {
     "data": {
      "text/html": [
       "<pre>| 84        | 191.627824   | 706.502            | 4.69458       | 433.59               | 11.9661         |</pre>"
      ],
      "text/plain": [
       "| 84        | 191.627824   | 706.502            | 4.69458       | 433.59               | 11.9661         |"
      ]
     },
     "metadata": {},
     "output_type": "display_data"
    },
    {
     "data": {
      "text/html": [
       "<pre>| 85        | 191.722208   | 706.502            | 4.69458       | 433.59               | 11.9661         |</pre>"
      ],
      "text/plain": [
       "| 85        | 191.722208   | 706.502            | 4.69458       | 433.59               | 11.9661         |"
      ]
     },
     "metadata": {},
     "output_type": "display_data"
    },
    {
     "data": {
      "text/html": [
       "<pre>| 86        | 191.823256   | 706.502            | 4.69458       | 433.59               | 11.9661         |</pre>"
      ],
      "text/plain": [
       "| 86        | 191.823256   | 706.502            | 4.69458       | 433.59               | 11.9661         |"
      ]
     },
     "metadata": {},
     "output_type": "display_data"
    },
    {
     "data": {
      "text/html": [
       "<pre>| 87        | 191.918219   | 706.502            | 4.69458       | 433.59               | 11.9661         |</pre>"
      ],
      "text/plain": [
       "| 87        | 191.918219   | 706.502            | 4.69458       | 433.59               | 11.9661         |"
      ]
     },
     "metadata": {},
     "output_type": "display_data"
    },
    {
     "data": {
      "text/html": [
       "<pre>| 88        | 192.019776   | 706.502            | 4.69458       | 433.59               | 11.9661         |</pre>"
      ],
      "text/plain": [
       "| 88        | 192.019776   | 706.502            | 4.69458       | 433.59               | 11.9661         |"
      ]
     },
     "metadata": {},
     "output_type": "display_data"
    },
    {
     "data": {
      "text/html": [
       "<pre>| 89        | 192.100847   | 706.502            | 4.69458       | 433.59               | 11.9661         |</pre>"
      ],
      "text/plain": [
       "| 89        | 192.100847   | 706.502            | 4.69458       | 433.59               | 11.9661         |"
      ]
     },
     "metadata": {},
     "output_type": "display_data"
    },
    {
     "data": {
      "text/html": [
       "<pre>| 90        | 192.184461   | 706.502            | 4.69458       | 433.59               | 11.9661         |</pre>"
      ],
      "text/plain": [
       "| 90        | 192.184461   | 706.502            | 4.69458       | 433.59               | 11.9661         |"
      ]
     },
     "metadata": {},
     "output_type": "display_data"
    },
    {
     "data": {
      "text/html": [
       "<pre>| 91        | 192.270860   | 706.502            | 4.69458       | 433.59               | 11.9661         |</pre>"
      ],
      "text/plain": [
       "| 91        | 192.270860   | 706.502            | 4.69458       | 433.59               | 11.9661         |"
      ]
     },
     "metadata": {},
     "output_type": "display_data"
    },
    {
     "data": {
      "text/html": [
       "<pre>| 92        | 192.362114   | 706.502            | 4.69458       | 433.59               | 11.9661         |</pre>"
      ],
      "text/plain": [
       "| 92        | 192.362114   | 706.502            | 4.69458       | 433.59               | 11.9661         |"
      ]
     },
     "metadata": {},
     "output_type": "display_data"
    },
    {
     "data": {
      "text/html": [
       "<pre>| 93        | 192.457829   | 706.502            | 4.69458       | 433.59               | 11.9661         |</pre>"
      ],
      "text/plain": [
       "| 93        | 192.457829   | 706.502            | 4.69458       | 433.59               | 11.9661         |"
      ]
     },
     "metadata": {},
     "output_type": "display_data"
    },
    {
     "data": {
      "text/html": [
       "<pre>| 94        | 192.562360   | 706.502            | 4.69458       | 433.59               | 11.9661         |</pre>"
      ],
      "text/plain": [
       "| 94        | 192.562360   | 706.502            | 4.69458       | 433.59               | 11.9661         |"
      ]
     },
     "metadata": {},
     "output_type": "display_data"
    },
    {
     "data": {
      "text/html": [
       "<pre>| 95        | 192.663315   | 706.502            | 4.69458       | 433.59               | 11.9661         |</pre>"
      ],
      "text/plain": [
       "| 95        | 192.663315   | 706.502            | 4.69458       | 433.59               | 11.9661         |"
      ]
     },
     "metadata": {},
     "output_type": "display_data"
    },
    {
     "data": {
      "text/html": [
       "<pre>| 96        | 192.750867   | 706.502            | 4.69458       | 433.59               | 11.9661         |</pre>"
      ],
      "text/plain": [
       "| 96        | 192.750867   | 706.502            | 4.69458       | 433.59               | 11.9661         |"
      ]
     },
     "metadata": {},
     "output_type": "display_data"
    },
    {
     "data": {
      "text/html": [
       "<pre>| 97        | 192.850542   | 706.502            | 4.69458       | 433.59               | 11.9661         |</pre>"
      ],
      "text/plain": [
       "| 97        | 192.850542   | 706.502            | 4.69458       | 433.59               | 11.9661         |"
      ]
     },
     "metadata": {},
     "output_type": "display_data"
    },
    {
     "data": {
      "text/html": [
       "<pre>| 98        | 192.940558   | 706.502            | 4.69458       | 433.59               | 11.9661         |</pre>"
      ],
      "text/plain": [
       "| 98        | 192.940558   | 706.502            | 4.69458       | 433.59               | 11.9661         |"
      ]
     },
     "metadata": {},
     "output_type": "display_data"
    },
    {
     "data": {
      "text/html": [
       "<pre>| 99        | 193.023858   | 706.502            | 4.69458       | 433.59               | 11.9661         |</pre>"
      ],
      "text/plain": [
       "| 99        | 193.023858   | 706.502            | 4.69458       | 433.59               | 11.9661         |"
      ]
     },
     "metadata": {},
     "output_type": "display_data"
    },
    {
     "data": {
      "text/html": [
       "<pre>| 100       | 193.119623   | 706.502            | 4.69458       | 433.59               | 11.9661         |</pre>"
      ],
      "text/plain": [
       "| 100       | 193.119623   | 706.502            | 4.69458       | 433.59               | 11.9661         |"
      ]
     },
     "metadata": {},
     "output_type": "display_data"
    },
    {
     "data": {
      "text/html": [
       "<pre>| 101       | 193.214169   | 706.502            | 4.69458       | 433.59               | 11.9661         |</pre>"
      ],
      "text/plain": [
       "| 101       | 193.214169   | 706.502            | 4.69458       | 433.59               | 11.9661         |"
      ]
     },
     "metadata": {},
     "output_type": "display_data"
    },
    {
     "data": {
      "text/html": [
       "<pre>| 102       | 193.295227   | 706.502            | 4.69458       | 433.59               | 11.9661         |</pre>"
      ],
      "text/plain": [
       "| 102       | 193.295227   | 706.502            | 4.69458       | 433.59               | 11.9661         |"
      ]
     },
     "metadata": {},
     "output_type": "display_data"
    },
    {
     "data": {
      "text/html": [
       "<pre>| 103       | 193.372927   | 706.502            | 4.69458       | 433.59               | 11.9661         |</pre>"
      ],
      "text/plain": [
       "| 103       | 193.372927   | 706.502            | 4.69458       | 433.59               | 11.9661         |"
      ]
     },
     "metadata": {},
     "output_type": "display_data"
    },
    {
     "data": {
      "text/html": [
       "<pre>| 104       | 193.455346   | 706.502            | 4.69458       | 433.59               | 11.9661         |</pre>"
      ],
      "text/plain": [
       "| 104       | 193.455346   | 706.502            | 4.69458       | 433.59               | 11.9661         |"
      ]
     },
     "metadata": {},
     "output_type": "display_data"
    },
    {
     "data": {
      "text/html": [
       "<pre>| 105       | 193.574435   | 706.502            | 4.69458       | 433.59               | 11.9661         |</pre>"
      ],
      "text/plain": [
       "| 105       | 193.574435   | 706.502            | 4.69458       | 433.59               | 11.9661         |"
      ]
     },
     "metadata": {},
     "output_type": "display_data"
    },
    {
     "data": {
      "text/html": [
       "<pre>| 106       | 193.709201   | 706.502            | 4.69458       | 433.59               | 11.9661         |</pre>"
      ],
      "text/plain": [
       "| 106       | 193.709201   | 706.502            | 4.69458       | 433.59               | 11.9661         |"
      ]
     },
     "metadata": {},
     "output_type": "display_data"
    },
    {
     "data": {
      "text/html": [
       "<pre>| 107       | 193.801180   | 706.502            | 4.69458       | 433.59               | 11.9661         |</pre>"
      ],
      "text/plain": [
       "| 107       | 193.801180   | 706.502            | 4.69458       | 433.59               | 11.9661         |"
      ]
     },
     "metadata": {},
     "output_type": "display_data"
    },
    {
     "data": {
      "text/html": [
       "<pre>| 108       | 193.933397   | 706.502            | 4.69458       | 433.59               | 11.9661         |</pre>"
      ],
      "text/plain": [
       "| 108       | 193.933397   | 706.502            | 4.69458       | 433.59               | 11.9661         |"
      ]
     },
     "metadata": {},
     "output_type": "display_data"
    },
    {
     "data": {
      "text/html": [
       "<pre>| 109       | 194.067750   | 706.502            | 4.69458       | 433.59               | 11.9661         |</pre>"
      ],
      "text/plain": [
       "| 109       | 194.067750   | 706.502            | 4.69458       | 433.59               | 11.9661         |"
      ]
     },
     "metadata": {},
     "output_type": "display_data"
    },
    {
     "data": {
      "text/html": [
       "<pre>| 110       | 194.155378   | 706.502            | 4.69458       | 433.59               | 11.9661         |</pre>"
      ],
      "text/plain": [
       "| 110       | 194.155378   | 706.502            | 4.69458       | 433.59               | 11.9661         |"
      ]
     },
     "metadata": {},
     "output_type": "display_data"
    },
    {
     "data": {
      "text/html": [
       "<pre>| 111       | 194.231132   | 706.502            | 4.69458       | 433.59               | 11.9661         |</pre>"
      ],
      "text/plain": [
       "| 111       | 194.231132   | 706.502            | 4.69458       | 433.59               | 11.9661         |"
      ]
     },
     "metadata": {},
     "output_type": "display_data"
    },
    {
     "data": {
      "text/html": [
       "<pre>| 112       | 194.309076   | 706.502            | 4.69458       | 433.59               | 11.9661         |</pre>"
      ],
      "text/plain": [
       "| 112       | 194.309076   | 706.502            | 4.69458       | 433.59               | 11.9661         |"
      ]
     },
     "metadata": {},
     "output_type": "display_data"
    },
    {
     "data": {
      "text/html": [
       "<pre>| 113       | 194.386319   | 706.502            | 4.69458       | 433.59               | 11.9661         |</pre>"
      ],
      "text/plain": [
       "| 113       | 194.386319   | 706.502            | 4.69458       | 433.59               | 11.9661         |"
      ]
     },
     "metadata": {},
     "output_type": "display_data"
    },
    {
     "data": {
      "text/html": [
       "<pre>| 114       | 194.468142   | 706.502            | 4.69458       | 433.59               | 11.9661         |</pre>"
      ],
      "text/plain": [
       "| 114       | 194.468142   | 706.502            | 4.69458       | 433.59               | 11.9661         |"
      ]
     },
     "metadata": {},
     "output_type": "display_data"
    },
    {
     "data": {
      "text/html": [
       "<pre>| 115       | 194.546746   | 706.502            | 4.69458       | 433.59               | 11.9661         |</pre>"
      ],
      "text/plain": [
       "| 115       | 194.546746   | 706.502            | 4.69458       | 433.59               | 11.9661         |"
      ]
     },
     "metadata": {},
     "output_type": "display_data"
    },
    {
     "data": {
      "text/html": [
       "<pre>| 116       | 194.625330   | 706.502            | 4.69458       | 433.59               | 11.9661         |</pre>"
      ],
      "text/plain": [
       "| 116       | 194.625330   | 706.502            | 4.69458       | 433.59               | 11.9661         |"
      ]
     },
     "metadata": {},
     "output_type": "display_data"
    },
    {
     "data": {
      "text/html": [
       "<pre>| 117       | 194.706932   | 706.502            | 4.69458       | 433.59               | 11.9661         |</pre>"
      ],
      "text/plain": [
       "| 117       | 194.706932   | 706.502            | 4.69458       | 433.59               | 11.9661         |"
      ]
     },
     "metadata": {},
     "output_type": "display_data"
    },
    {
     "data": {
      "text/html": [
       "<pre>| 118       | 194.805164   | 706.502            | 4.69458       | 433.59               | 11.9661         |</pre>"
      ],
      "text/plain": [
       "| 118       | 194.805164   | 706.502            | 4.69458       | 433.59               | 11.9661         |"
      ]
     },
     "metadata": {},
     "output_type": "display_data"
    },
    {
     "data": {
      "text/html": [
       "<pre>| 119       | 194.919290   | 706.502            | 4.69458       | 433.59               | 11.9661         |</pre>"
      ],
      "text/plain": [
       "| 119       | 194.919290   | 706.502            | 4.69458       | 433.59               | 11.9661         |"
      ]
     },
     "metadata": {},
     "output_type": "display_data"
    },
    {
     "data": {
      "text/html": [
       "<pre>| 120       | 194.996316   | 706.502            | 4.69458       | 433.59               | 11.9661         |</pre>"
      ],
      "text/plain": [
       "| 120       | 194.996316   | 706.502            | 4.69458       | 433.59               | 11.9661         |"
      ]
     },
     "metadata": {},
     "output_type": "display_data"
    },
    {
     "data": {
      "text/html": [
       "<pre>| 121       | 195.079904   | 706.502            | 4.69458       | 433.59               | 11.9661         |</pre>"
      ],
      "text/plain": [
       "| 121       | 195.079904   | 706.502            | 4.69458       | 433.59               | 11.9661         |"
      ]
     },
     "metadata": {},
     "output_type": "display_data"
    },
    {
     "data": {
      "text/html": [
       "<pre>| 122       | 195.160550   | 706.502            | 4.69458       | 433.59               | 11.9661         |</pre>"
      ],
      "text/plain": [
       "| 122       | 195.160550   | 706.502            | 4.69458       | 433.59               | 11.9661         |"
      ]
     },
     "metadata": {},
     "output_type": "display_data"
    },
    {
     "data": {
      "text/html": [
       "<pre>| 123       | 195.239476   | 706.502            | 4.69458       | 433.59               | 11.9661         |</pre>"
      ],
      "text/plain": [
       "| 123       | 195.239476   | 706.502            | 4.69458       | 433.59               | 11.9661         |"
      ]
     },
     "metadata": {},
     "output_type": "display_data"
    },
    {
     "data": {
      "text/html": [
       "<pre>| 124       | 195.334226   | 706.502            | 4.69458       | 433.59               | 11.9661         |</pre>"
      ],
      "text/plain": [
       "| 124       | 195.334226   | 706.502            | 4.69458       | 433.59               | 11.9661         |"
      ]
     },
     "metadata": {},
     "output_type": "display_data"
    },
    {
     "data": {
      "text/html": [
       "<pre>| 125       | 195.415951   | 706.502            | 4.69458       | 433.59               | 11.9661         |</pre>"
      ],
      "text/plain": [
       "| 125       | 195.415951   | 706.502            | 4.69458       | 433.59               | 11.9661         |"
      ]
     },
     "metadata": {},
     "output_type": "display_data"
    },
    {
     "data": {
      "text/html": [
       "<pre>| 126       | 195.496107   | 706.502            | 4.69458       | 433.59               | 11.9661         |</pre>"
      ],
      "text/plain": [
       "| 126       | 195.496107   | 706.502            | 4.69458       | 433.59               | 11.9661         |"
      ]
     },
     "metadata": {},
     "output_type": "display_data"
    },
    {
     "data": {
      "text/html": [
       "<pre>| 127       | 195.574907   | 706.502            | 4.69458       | 433.59               | 11.9661         |</pre>"
      ],
      "text/plain": [
       "| 127       | 195.574907   | 706.502            | 4.69458       | 433.59               | 11.9661         |"
      ]
     },
     "metadata": {},
     "output_type": "display_data"
    },
    {
     "data": {
      "text/html": [
       "<pre>| 128       | 195.651853   | 706.502            | 4.69458       | 433.59               | 11.9661         |</pre>"
      ],
      "text/plain": [
       "| 128       | 195.651853   | 706.502            | 4.69458       | 433.59               | 11.9661         |"
      ]
     },
     "metadata": {},
     "output_type": "display_data"
    },
    {
     "data": {
      "text/html": [
       "<pre>| 129       | 195.733510   | 706.502            | 4.69458       | 433.59               | 11.9661         |</pre>"
      ],
      "text/plain": [
       "| 129       | 195.733510   | 706.502            | 4.69458       | 433.59               | 11.9661         |"
      ]
     },
     "metadata": {},
     "output_type": "display_data"
    },
    {
     "data": {
      "text/html": [
       "<pre>| 130       | 195.812331   | 706.502            | 4.69458       | 433.59               | 11.9661         |</pre>"
      ],
      "text/plain": [
       "| 130       | 195.812331   | 706.502            | 4.69458       | 433.59               | 11.9661         |"
      ]
     },
     "metadata": {},
     "output_type": "display_data"
    },
    {
     "data": {
      "text/html": [
       "<pre>| 131       | 195.921482   | 706.502            | 4.69458       | 433.59               | 11.9661         |</pre>"
      ],
      "text/plain": [
       "| 131       | 195.921482   | 706.502            | 4.69458       | 433.59               | 11.9661         |"
      ]
     },
     "metadata": {},
     "output_type": "display_data"
    },
    {
     "data": {
      "text/html": [
       "<pre>| 132       | 196.033308   | 706.502            | 4.69458       | 433.59               | 11.9661         |</pre>"
      ],
      "text/plain": [
       "| 132       | 196.033308   | 706.502            | 4.69458       | 433.59               | 11.9661         |"
      ]
     },
     "metadata": {},
     "output_type": "display_data"
    },
    {
     "data": {
      "text/html": [
       "<pre>| 133       | 196.152691   | 706.502            | 4.69458       | 433.59               | 11.9661         |</pre>"
      ],
      "text/plain": [
       "| 133       | 196.152691   | 706.502            | 4.69458       | 433.59               | 11.9661         |"
      ]
     },
     "metadata": {},
     "output_type": "display_data"
    },
    {
     "data": {
      "text/html": [
       "<pre>| 134       | 196.266008   | 706.502            | 4.69458       | 433.59               | 11.9661         |</pre>"
      ],
      "text/plain": [
       "| 134       | 196.266008   | 706.502            | 4.69458       | 433.59               | 11.9661         |"
      ]
     },
     "metadata": {},
     "output_type": "display_data"
    },
    {
     "data": {
      "text/html": [
       "<pre>| 135       | 196.344350   | 706.502            | 4.69458       | 433.59               | 11.9661         |</pre>"
      ],
      "text/plain": [
       "| 135       | 196.344350   | 706.502            | 4.69458       | 433.59               | 11.9661         |"
      ]
     },
     "metadata": {},
     "output_type": "display_data"
    },
    {
     "data": {
      "text/html": [
       "<pre>| 136       | 196.423342   | 706.502            | 4.69458       | 433.59               | 11.9661         |</pre>"
      ],
      "text/plain": [
       "| 136       | 196.423342   | 706.502            | 4.69458       | 433.59               | 11.9661         |"
      ]
     },
     "metadata": {},
     "output_type": "display_data"
    },
    {
     "data": {
      "text/html": [
       "<pre>| 137       | 196.502901   | 706.502            | 4.69458       | 433.59               | 11.9661         |</pre>"
      ],
      "text/plain": [
       "| 137       | 196.502901   | 706.502            | 4.69458       | 433.59               | 11.9661         |"
      ]
     },
     "metadata": {},
     "output_type": "display_data"
    },
    {
     "data": {
      "text/html": [
       "<pre>| 138       | 196.586706   | 706.502            | 4.69458       | 433.59               | 11.9661         |</pre>"
      ],
      "text/plain": [
       "| 138       | 196.586706   | 706.502            | 4.69458       | 433.59               | 11.9661         |"
      ]
     },
     "metadata": {},
     "output_type": "display_data"
    },
    {
     "data": {
      "text/html": [
       "<pre>| 139       | 196.671228   | 706.502            | 4.69458       | 433.59               | 11.9661         |</pre>"
      ],
      "text/plain": [
       "| 139       | 196.671228   | 706.502            | 4.69458       | 433.59               | 11.9661         |"
      ]
     },
     "metadata": {},
     "output_type": "display_data"
    },
    {
     "data": {
      "text/html": [
       "<pre>| 140       | 196.761957   | 706.502            | 4.69458       | 433.59               | 11.9661         |</pre>"
      ],
      "text/plain": [
       "| 140       | 196.761957   | 706.502            | 4.69458       | 433.59               | 11.9661         |"
      ]
     },
     "metadata": {},
     "output_type": "display_data"
    },
    {
     "data": {
      "text/html": [
       "<pre>| 141       | 196.862760   | 706.502            | 4.69458       | 433.59               | 11.9661         |</pre>"
      ],
      "text/plain": [
       "| 141       | 196.862760   | 706.502            | 4.69458       | 433.59               | 11.9661         |"
      ]
     },
     "metadata": {},
     "output_type": "display_data"
    },
    {
     "data": {
      "text/html": [
       "<pre>| 142       | 196.968257   | 706.502            | 4.69458       | 433.59               | 11.9661         |</pre>"
      ],
      "text/plain": [
       "| 142       | 196.968257   | 706.502            | 4.69458       | 433.59               | 11.9661         |"
      ]
     },
     "metadata": {},
     "output_type": "display_data"
    },
    {
     "data": {
      "text/html": [
       "<pre>| 143       | 197.073735   | 706.502            | 4.69458       | 433.59               | 11.9661         |</pre>"
      ],
      "text/plain": [
       "| 143       | 197.073735   | 706.502            | 4.69458       | 433.59               | 11.9661         |"
      ]
     },
     "metadata": {},
     "output_type": "display_data"
    },
    {
     "data": {
      "text/html": [
       "<pre>| 144       | 197.155447   | 706.502            | 4.69458       | 433.59               | 11.9661         |</pre>"
      ],
      "text/plain": [
       "| 144       | 197.155447   | 706.502            | 4.69458       | 433.59               | 11.9661         |"
      ]
     },
     "metadata": {},
     "output_type": "display_data"
    },
    {
     "data": {
      "text/html": [
       "<pre>| 145       | 197.236683   | 706.502            | 4.69458       | 433.59               | 11.9661         |</pre>"
      ],
      "text/plain": [
       "| 145       | 197.236683   | 706.502            | 4.69458       | 433.59               | 11.9661         |"
      ]
     },
     "metadata": {},
     "output_type": "display_data"
    },
    {
     "data": {
      "text/html": [
       "<pre>| 146       | 197.328321   | 706.502            | 4.69458       | 433.59               | 11.9661         |</pre>"
      ],
      "text/plain": [
       "| 146       | 197.328321   | 706.502            | 4.69458       | 433.59               | 11.9661         |"
      ]
     },
     "metadata": {},
     "output_type": "display_data"
    },
    {
     "data": {
      "text/html": [
       "<pre>| 147       | 197.418048   | 706.502            | 4.69458       | 433.59               | 11.9661         |</pre>"
      ],
      "text/plain": [
       "| 147       | 197.418048   | 706.502            | 4.69458       | 433.59               | 11.9661         |"
      ]
     },
     "metadata": {},
     "output_type": "display_data"
    },
    {
     "data": {
      "text/html": [
       "<pre>| 148       | 197.510508   | 706.502            | 4.69458       | 433.59               | 11.9661         |</pre>"
      ],
      "text/plain": [
       "| 148       | 197.510508   | 706.502            | 4.69458       | 433.59               | 11.9661         |"
      ]
     },
     "metadata": {},
     "output_type": "display_data"
    },
    {
     "data": {
      "text/html": [
       "<pre>| 149       | 197.594112   | 706.502            | 4.69458       | 433.59               | 11.9661         |</pre>"
      ],
      "text/plain": [
       "| 149       | 197.594112   | 706.502            | 4.69458       | 433.59               | 11.9661         |"
      ]
     },
     "metadata": {},
     "output_type": "display_data"
    },
    {
     "data": {
      "text/html": [
       "<pre>| 150       | 197.672798   | 706.502            | 4.69458       | 433.59               | 11.9661         |</pre>"
      ],
      "text/plain": [
       "| 150       | 197.672798   | 706.502            | 4.69458       | 433.59               | 11.9661         |"
      ]
     },
     "metadata": {},
     "output_type": "display_data"
    },
    {
     "data": {
      "text/html": [
       "<pre>| 151       | 197.759030   | 706.502            | 4.69458       | 433.59               | 11.9661         |</pre>"
      ],
      "text/plain": [
       "| 151       | 197.759030   | 706.502            | 4.69458       | 433.59               | 11.9661         |"
      ]
     },
     "metadata": {},
     "output_type": "display_data"
    },
    {
     "data": {
      "text/html": [
       "<pre>| 152       | 197.851140   | 706.502            | 4.69458       | 433.59               | 11.9661         |</pre>"
      ],
      "text/plain": [
       "| 152       | 197.851140   | 706.502            | 4.69458       | 433.59               | 11.9661         |"
      ]
     },
     "metadata": {},
     "output_type": "display_data"
    },
    {
     "data": {
      "text/html": [
       "<pre>| 153       | 197.973272   | 706.502            | 4.69458       | 433.59               | 11.9661         |</pre>"
      ],
      "text/plain": [
       "| 153       | 197.973272   | 706.502            | 4.69458       | 433.59               | 11.9661         |"
      ]
     },
     "metadata": {},
     "output_type": "display_data"
    },
    {
     "data": {
      "text/html": [
       "<pre>| 154       | 198.070276   | 706.502            | 4.69458       | 433.59               | 11.9661         |</pre>"
      ],
      "text/plain": [
       "| 154       | 198.070276   | 706.502            | 4.69458       | 433.59               | 11.9661         |"
      ]
     },
     "metadata": {},
     "output_type": "display_data"
    },
    {
     "data": {
      "text/html": [
       "<pre>| 155       | 198.187383   | 706.502            | 4.69458       | 433.59               | 11.9661         |</pre>"
      ],
      "text/plain": [
       "| 155       | 198.187383   | 706.502            | 4.69458       | 433.59               | 11.9661         |"
      ]
     },
     "metadata": {},
     "output_type": "display_data"
    },
    {
     "data": {
      "text/html": [
       "<pre>| 156       | 198.274320   | 706.502            | 4.69458       | 433.59               | 11.9661         |</pre>"
      ],
      "text/plain": [
       "| 156       | 198.274320   | 706.502            | 4.69458       | 433.59               | 11.9661         |"
      ]
     },
     "metadata": {},
     "output_type": "display_data"
    },
    {
     "data": {
      "text/html": [
       "<pre>| 157       | 198.358008   | 706.502            | 4.69458       | 433.59               | 11.9661         |</pre>"
      ],
      "text/plain": [
       "| 157       | 198.358008   | 706.502            | 4.69458       | 433.59               | 11.9661         |"
      ]
     },
     "metadata": {},
     "output_type": "display_data"
    },
    {
     "data": {
      "text/html": [
       "<pre>| 158       | 198.436826   | 706.502            | 4.69458       | 433.59               | 11.9661         |</pre>"
      ],
      "text/plain": [
       "| 158       | 198.436826   | 706.502            | 4.69458       | 433.59               | 11.9661         |"
      ]
     },
     "metadata": {},
     "output_type": "display_data"
    },
    {
     "data": {
      "text/html": [
       "<pre>| 159       | 198.549983   | 706.502            | 4.69458       | 433.59               | 11.9661         |</pre>"
      ],
      "text/plain": [
       "| 159       | 198.549983   | 706.502            | 4.69458       | 433.59               | 11.9661         |"
      ]
     },
     "metadata": {},
     "output_type": "display_data"
    },
    {
     "data": {
      "text/html": [
       "<pre>| 160       | 198.677313   | 706.502            | 4.69458       | 433.59               | 11.9661         |</pre>"
      ],
      "text/plain": [
       "| 160       | 198.677313   | 706.502            | 4.69458       | 433.59               | 11.9661         |"
      ]
     },
     "metadata": {},
     "output_type": "display_data"
    },
    {
     "data": {
      "text/html": [
       "<pre>| 161       | 198.787011   | 706.502            | 4.69458       | 433.59               | 11.9661         |</pre>"
      ],
      "text/plain": [
       "| 161       | 198.787011   | 706.502            | 4.69458       | 433.59               | 11.9661         |"
      ]
     },
     "metadata": {},
     "output_type": "display_data"
    },
    {
     "data": {
      "text/html": [
       "<pre>| 162       | 198.871874   | 706.502            | 4.69458       | 433.59               | 11.9661         |</pre>"
      ],
      "text/plain": [
       "| 162       | 198.871874   | 706.502            | 4.69458       | 433.59               | 11.9661         |"
      ]
     },
     "metadata": {},
     "output_type": "display_data"
    },
    {
     "data": {
      "text/html": [
       "<pre>| 163       | 198.952306   | 706.502            | 4.69458       | 433.59               | 11.9661         |</pre>"
      ],
      "text/plain": [
       "| 163       | 198.952306   | 706.502            | 4.69458       | 433.59               | 11.9661         |"
      ]
     },
     "metadata": {},
     "output_type": "display_data"
    },
    {
     "data": {
      "text/html": [
       "<pre>| 164       | 199.051276   | 706.502            | 4.69458       | 433.59               | 11.9661         |</pre>"
      ],
      "text/plain": [
       "| 164       | 199.051276   | 706.502            | 4.69458       | 433.59               | 11.9661         |"
      ]
     },
     "metadata": {},
     "output_type": "display_data"
    },
    {
     "data": {
      "text/html": [
       "<pre>| 165       | 199.168470   | 706.502            | 4.69458       | 433.59               | 11.9661         |</pre>"
      ],
      "text/plain": [
       "| 165       | 199.168470   | 706.502            | 4.69458       | 433.59               | 11.9661         |"
      ]
     },
     "metadata": {},
     "output_type": "display_data"
    },
    {
     "data": {
      "text/html": [
       "<pre>| 166       | 199.270436   | 706.502            | 4.69458       | 433.59               | 11.9661         |</pre>"
      ],
      "text/plain": [
       "| 166       | 199.270436   | 706.502            | 4.69458       | 433.59               | 11.9661         |"
      ]
     },
     "metadata": {},
     "output_type": "display_data"
    },
    {
     "data": {
      "text/html": [
       "<pre>| 167       | 199.354239   | 706.502            | 4.69458       | 433.59               | 11.9661         |</pre>"
      ],
      "text/plain": [
       "| 167       | 199.354239   | 706.502            | 4.69458       | 433.59               | 11.9661         |"
      ]
     },
     "metadata": {},
     "output_type": "display_data"
    },
    {
     "data": {
      "text/html": [
       "<pre>| 168       | 199.436536   | 706.502            | 4.69458       | 433.59               | 11.9661         |</pre>"
      ],
      "text/plain": [
       "| 168       | 199.436536   | 706.502            | 4.69458       | 433.59               | 11.9661         |"
      ]
     },
     "metadata": {},
     "output_type": "display_data"
    },
    {
     "data": {
      "text/html": [
       "<pre>| 169       | 199.518080   | 706.502            | 4.69458       | 433.59               | 11.9661         |</pre>"
      ],
      "text/plain": [
       "| 169       | 199.518080   | 706.502            | 4.69458       | 433.59               | 11.9661         |"
      ]
     },
     "metadata": {},
     "output_type": "display_data"
    },
    {
     "data": {
      "text/html": [
       "<pre>| 170       | 199.598883   | 706.502            | 4.69458       | 433.59               | 11.9661         |</pre>"
      ],
      "text/plain": [
       "| 170       | 199.598883   | 706.502            | 4.69458       | 433.59               | 11.9661         |"
      ]
     },
     "metadata": {},
     "output_type": "display_data"
    },
    {
     "data": {
      "text/html": [
       "<pre>| 171       | 199.717039   | 706.502            | 4.69458       | 433.59               | 11.9661         |</pre>"
      ],
      "text/plain": [
       "| 171       | 199.717039   | 706.502            | 4.69458       | 433.59               | 11.9661         |"
      ]
     },
     "metadata": {},
     "output_type": "display_data"
    },
    {
     "data": {
      "text/html": [
       "<pre>| 172       | 199.858994   | 706.502            | 4.69458       | 433.59               | 11.9661         |</pre>"
      ],
      "text/plain": [
       "| 172       | 199.858994   | 706.502            | 4.69458       | 433.59               | 11.9661         |"
      ]
     },
     "metadata": {},
     "output_type": "display_data"
    },
    {
     "data": {
      "text/html": [
       "<pre>| 173       | 199.995947   | 706.502            | 4.69458       | 433.59               | 11.9661         |</pre>"
      ],
      "text/plain": [
       "| 173       | 199.995947   | 706.502            | 4.69458       | 433.59               | 11.9661         |"
      ]
     },
     "metadata": {},
     "output_type": "display_data"
    },
    {
     "data": {
      "text/html": [
       "<pre>| 174       | 200.109049   | 706.502            | 4.69458       | 433.59               | 11.9661         |</pre>"
      ],
      "text/plain": [
       "| 174       | 200.109049   | 706.502            | 4.69458       | 433.59               | 11.9661         |"
      ]
     },
     "metadata": {},
     "output_type": "display_data"
    },
    {
     "data": {
      "text/html": [
       "<pre>| 175       | 200.204189   | 706.502            | 4.69458       | 433.59               | 11.9661         |</pre>"
      ],
      "text/plain": [
       "| 175       | 200.204189   | 706.502            | 4.69458       | 433.59               | 11.9661         |"
      ]
     },
     "metadata": {},
     "output_type": "display_data"
    },
    {
     "data": {
      "text/html": [
       "<pre>| 176       | 200.325421   | 706.502            | 4.69458       | 433.59               | 11.9661         |</pre>"
      ],
      "text/plain": [
       "| 176       | 200.325421   | 706.502            | 4.69458       | 433.59               | 11.9661         |"
      ]
     },
     "metadata": {},
     "output_type": "display_data"
    },
    {
     "data": {
      "text/html": [
       "<pre>| 177       | 200.422984   | 706.502            | 4.69458       | 433.59               | 11.9661         |</pre>"
      ],
      "text/plain": [
       "| 177       | 200.422984   | 706.502            | 4.69458       | 433.59               | 11.9661         |"
      ]
     },
     "metadata": {},
     "output_type": "display_data"
    },
    {
     "data": {
      "text/html": [
       "<pre>| 178       | 200.505792   | 706.502            | 4.69458       | 433.59               | 11.9661         |</pre>"
      ],
      "text/plain": [
       "| 178       | 200.505792   | 706.502            | 4.69458       | 433.59               | 11.9661         |"
      ]
     },
     "metadata": {},
     "output_type": "display_data"
    },
    {
     "data": {
      "text/html": [
       "<pre>| 179       | 200.585818   | 706.502            | 4.69458       | 433.59               | 11.9661         |</pre>"
      ],
      "text/plain": [
       "| 179       | 200.585818   | 706.502            | 4.69458       | 433.59               | 11.9661         |"
      ]
     },
     "metadata": {},
     "output_type": "display_data"
    },
    {
     "data": {
      "text/html": [
       "<pre>| 180       | 200.664882   | 706.502            | 4.69458       | 433.59               | 11.9661         |</pre>"
      ],
      "text/plain": [
       "| 180       | 200.664882   | 706.502            | 4.69458       | 433.59               | 11.9661         |"
      ]
     },
     "metadata": {},
     "output_type": "display_data"
    },
    {
     "data": {
      "text/html": [
       "<pre>| 181       | 200.741434   | 706.502            | 4.69458       | 433.59               | 11.9661         |</pre>"
      ],
      "text/plain": [
       "| 181       | 200.741434   | 706.502            | 4.69458       | 433.59               | 11.9661         |"
      ]
     },
     "metadata": {},
     "output_type": "display_data"
    },
    {
     "data": {
      "text/html": [
       "<pre>| 182       | 200.828950   | 706.502            | 4.69458       | 433.59               | 11.9661         |</pre>"
      ],
      "text/plain": [
       "| 182       | 200.828950   | 706.502            | 4.69458       | 433.59               | 11.9661         |"
      ]
     },
     "metadata": {},
     "output_type": "display_data"
    },
    {
     "data": {
      "text/html": [
       "<pre>| 183       | 200.930683   | 706.502            | 4.69458       | 433.59               | 11.9661         |</pre>"
      ],
      "text/plain": [
       "| 183       | 200.930683   | 706.502            | 4.69458       | 433.59               | 11.9661         |"
      ]
     },
     "metadata": {},
     "output_type": "display_data"
    },
    {
     "data": {
      "text/html": [
       "<pre>| 184       | 201.011988   | 706.502            | 4.69458       | 433.59               | 11.9661         |</pre>"
      ],
      "text/plain": [
       "| 184       | 201.011988   | 706.502            | 4.69458       | 433.59               | 11.9661         |"
      ]
     },
     "metadata": {},
     "output_type": "display_data"
    },
    {
     "data": {
      "text/html": [
       "<pre>| 185       | 201.123925   | 706.502            | 4.69458       | 433.59               | 11.9661         |</pre>"
      ],
      "text/plain": [
       "| 185       | 201.123925   | 706.502            | 4.69458       | 433.59               | 11.9661         |"
      ]
     },
     "metadata": {},
     "output_type": "display_data"
    },
    {
     "data": {
      "text/html": [
       "<pre>| 186       | 201.260290   | 706.502            | 4.69458       | 433.59               | 11.9661         |</pre>"
      ],
      "text/plain": [
       "| 186       | 201.260290   | 706.502            | 4.69458       | 433.59               | 11.9661         |"
      ]
     },
     "metadata": {},
     "output_type": "display_data"
    },
    {
     "data": {
      "text/html": [
       "<pre>| 187       | 201.361531   | 706.502            | 4.69458       | 433.59               | 11.9661         |</pre>"
      ],
      "text/plain": [
       "| 187       | 201.361531   | 706.502            | 4.69458       | 433.59               | 11.9661         |"
      ]
     },
     "metadata": {},
     "output_type": "display_data"
    },
    {
     "data": {
      "text/html": [
       "<pre>| 188       | 201.439327   | 706.502            | 4.69458       | 433.59               | 11.9661         |</pre>"
      ],
      "text/plain": [
       "| 188       | 201.439327   | 706.502            | 4.69458       | 433.59               | 11.9661         |"
      ]
     },
     "metadata": {},
     "output_type": "display_data"
    },
    {
     "data": {
      "text/html": [
       "<pre>| 189       | 201.520533   | 706.502            | 4.69458       | 433.59               | 11.9661         |</pre>"
      ],
      "text/plain": [
       "| 189       | 201.520533   | 706.502            | 4.69458       | 433.59               | 11.9661         |"
      ]
     },
     "metadata": {},
     "output_type": "display_data"
    },
    {
     "data": {
      "text/html": [
       "<pre>| 190       | 201.601668   | 706.502            | 4.69458       | 433.59               | 11.9661         |</pre>"
      ],
      "text/plain": [
       "| 190       | 201.601668   | 706.502            | 4.69458       | 433.59               | 11.9661         |"
      ]
     },
     "metadata": {},
     "output_type": "display_data"
    },
    {
     "data": {
      "text/html": [
       "<pre>| 191       | 201.680558   | 706.502            | 4.69458       | 433.59               | 11.9661         |</pre>"
      ],
      "text/plain": [
       "| 191       | 201.680558   | 706.502            | 4.69458       | 433.59               | 11.9661         |"
      ]
     },
     "metadata": {},
     "output_type": "display_data"
    },
    {
     "data": {
      "text/html": [
       "<pre>| 192       | 201.758644   | 706.502            | 4.69458       | 433.59               | 11.9661         |</pre>"
      ],
      "text/plain": [
       "| 192       | 201.758644   | 706.502            | 4.69458       | 433.59               | 11.9661         |"
      ]
     },
     "metadata": {},
     "output_type": "display_data"
    },
    {
     "data": {
      "text/html": [
       "<pre>| 193       | 201.839509   | 706.502            | 4.69458       | 433.59               | 11.9661         |</pre>"
      ],
      "text/plain": [
       "| 193       | 201.839509   | 706.502            | 4.69458       | 433.59               | 11.9661         |"
      ]
     },
     "metadata": {},
     "output_type": "display_data"
    },
    {
     "data": {
      "text/html": [
       "<pre>| 194       | 201.925997   | 706.502            | 4.69458       | 433.59               | 11.9661         |</pre>"
      ],
      "text/plain": [
       "| 194       | 201.925997   | 706.502            | 4.69458       | 433.59               | 11.9661         |"
      ]
     },
     "metadata": {},
     "output_type": "display_data"
    },
    {
     "data": {
      "text/html": [
       "<pre>| 195       | 202.008163   | 706.502            | 4.69458       | 433.59               | 11.9661         |</pre>"
      ],
      "text/plain": [
       "| 195       | 202.008163   | 706.502            | 4.69458       | 433.59               | 11.9661         |"
      ]
     },
     "metadata": {},
     "output_type": "display_data"
    },
    {
     "data": {
      "text/html": [
       "<pre>| 196       | 202.113501   | 706.502            | 4.69458       | 433.59               | 11.9661         |</pre>"
      ],
      "text/plain": [
       "| 196       | 202.113501   | 706.502            | 4.69458       | 433.59               | 11.9661         |"
      ]
     },
     "metadata": {},
     "output_type": "display_data"
    },
    {
     "data": {
      "text/html": [
       "<pre>| 197       | 202.209573   | 706.502            | 4.69458       | 433.59               | 11.9661         |</pre>"
      ],
      "text/plain": [
       "| 197       | 202.209573   | 706.502            | 4.69458       | 433.59               | 11.9661         |"
      ]
     },
     "metadata": {},
     "output_type": "display_data"
    },
    {
     "data": {
      "text/html": [
       "<pre>| 198       | 202.316132   | 706.502            | 4.69458       | 433.59               | 11.9661         |</pre>"
      ],
      "text/plain": [
       "| 198       | 202.316132   | 706.502            | 4.69458       | 433.59               | 11.9661         |"
      ]
     },
     "metadata": {},
     "output_type": "display_data"
    },
    {
     "data": {
      "text/html": [
       "<pre>| 199       | 202.432017   | 706.502            | 4.69458       | 433.59               | 11.9661         |</pre>"
      ],
      "text/plain": [
       "| 199       | 202.432017   | 706.502            | 4.69458       | 433.59               | 11.9661         |"
      ]
     },
     "metadata": {},
     "output_type": "display_data"
    },
    {
     "data": {
      "text/html": [
       "<pre>| 200       | 202.530222   | 706.502            | 4.69458       | 433.59               | 11.9661         |</pre>"
      ],
      "text/plain": [
       "| 200       | 202.530222   | 706.502            | 4.69458       | 433.59               | 11.9661         |"
      ]
     },
     "metadata": {},
     "output_type": "display_data"
    },
    {
     "data": {
      "text/html": [
       "<pre>| 201       | 202.618740   | 706.502            | 4.69458       | 433.59               | 11.9661         |</pre>"
      ],
      "text/plain": [
       "| 201       | 202.618740   | 706.502            | 4.69458       | 433.59               | 11.9661         |"
      ]
     },
     "metadata": {},
     "output_type": "display_data"
    },
    {
     "data": {
      "text/html": [
       "<pre>| 202       | 202.697949   | 706.502            | 4.69458       | 433.59               | 11.9661         |</pre>"
      ],
      "text/plain": [
       "| 202       | 202.697949   | 706.502            | 4.69458       | 433.59               | 11.9661         |"
      ]
     },
     "metadata": {},
     "output_type": "display_data"
    },
    {
     "data": {
      "text/html": [
       "<pre>| 203       | 202.783128   | 706.502            | 4.69458       | 433.59               | 11.9661         |</pre>"
      ],
      "text/plain": [
       "| 203       | 202.783128   | 706.502            | 4.69458       | 433.59               | 11.9661         |"
      ]
     },
     "metadata": {},
     "output_type": "display_data"
    },
    {
     "data": {
      "text/html": [
       "<pre>| 204       | 202.898483   | 706.502            | 4.69458       | 433.59               | 11.9661         |</pre>"
      ],
      "text/plain": [
       "| 204       | 202.898483   | 706.502            | 4.69458       | 433.59               | 11.9661         |"
      ]
     },
     "metadata": {},
     "output_type": "display_data"
    },
    {
     "data": {
      "text/html": [
       "<pre>| 205       | 203.021825   | 706.502            | 4.69458       | 433.59               | 11.9661         |</pre>"
      ],
      "text/plain": [
       "| 205       | 203.021825   | 706.502            | 4.69458       | 433.59               | 11.9661         |"
      ]
     },
     "metadata": {},
     "output_type": "display_data"
    },
    {
     "data": {
      "text/html": [
       "<pre>| 206       | 203.132218   | 706.502            | 4.69458       | 433.59               | 11.9661         |</pre>"
      ],
      "text/plain": [
       "| 206       | 203.132218   | 706.502            | 4.69458       | 433.59               | 11.9661         |"
      ]
     },
     "metadata": {},
     "output_type": "display_data"
    },
    {
     "data": {
      "text/html": [
       "<pre>| 207       | 203.229004   | 706.502            | 4.69458       | 433.59               | 11.9661         |</pre>"
      ],
      "text/plain": [
       "| 207       | 203.229004   | 706.502            | 4.69458       | 433.59               | 11.9661         |"
      ]
     },
     "metadata": {},
     "output_type": "display_data"
    },
    {
     "data": {
      "text/html": [
       "<pre>| 208       | 203.323478   | 706.502            | 4.69458       | 433.59               | 11.9661         |</pre>"
      ],
      "text/plain": [
       "| 208       | 203.323478   | 706.502            | 4.69458       | 433.59               | 11.9661         |"
      ]
     },
     "metadata": {},
     "output_type": "display_data"
    },
    {
     "data": {
      "text/html": [
       "<pre>| 209       | 203.402273   | 706.502            | 4.69458       | 433.59               | 11.9661         |</pre>"
      ],
      "text/plain": [
       "| 209       | 203.402273   | 706.502            | 4.69458       | 433.59               | 11.9661         |"
      ]
     },
     "metadata": {},
     "output_type": "display_data"
    },
    {
     "data": {
      "text/html": [
       "<pre>| 210       | 203.488028   | 706.502            | 4.69458       | 433.59               | 11.9661         |</pre>"
      ],
      "text/plain": [
       "| 210       | 203.488028   | 706.502            | 4.69458       | 433.59               | 11.9661         |"
      ]
     },
     "metadata": {},
     "output_type": "display_data"
    },
    {
     "data": {
      "text/html": [
       "<pre>| 211       | 203.573669   | 706.502            | 4.69458       | 433.59               | 11.9661         |</pre>"
      ],
      "text/plain": [
       "| 211       | 203.573669   | 706.502            | 4.69458       | 433.59               | 11.9661         |"
      ]
     },
     "metadata": {},
     "output_type": "display_data"
    },
    {
     "data": {
      "text/html": [
       "<pre>| 212       | 203.693397   | 706.502            | 4.69458       | 433.59               | 11.9661         |</pre>"
      ],
      "text/plain": [
       "| 212       | 203.693397   | 706.502            | 4.69458       | 433.59               | 11.9661         |"
      ]
     },
     "metadata": {},
     "output_type": "display_data"
    },
    {
     "data": {
      "text/html": [
       "<pre>| 213       | 203.804207   | 706.502            | 4.69458       | 433.59               | 11.9661         |</pre>"
      ],
      "text/plain": [
       "| 213       | 203.804207   | 706.502            | 4.69458       | 433.59               | 11.9661         |"
      ]
     },
     "metadata": {},
     "output_type": "display_data"
    },
    {
     "data": {
      "text/html": [
       "<pre>| 214       | 203.937877   | 706.502            | 4.69458       | 433.59               | 11.9661         |</pre>"
      ],
      "text/plain": [
       "| 214       | 203.937877   | 706.502            | 4.69458       | 433.59               | 11.9661         |"
      ]
     },
     "metadata": {},
     "output_type": "display_data"
    },
    {
     "data": {
      "text/html": [
       "<pre>| 215       | 204.047625   | 706.502            | 4.69458       | 433.59               | 11.9661         |</pre>"
      ],
      "text/plain": [
       "| 215       | 204.047625   | 706.502            | 4.69458       | 433.59               | 11.9661         |"
      ]
     },
     "metadata": {},
     "output_type": "display_data"
    },
    {
     "data": {
      "text/html": [
       "<pre>| 216       | 204.150820   | 706.502            | 4.69458       | 433.59               | 11.9661         |</pre>"
      ],
      "text/plain": [
       "| 216       | 204.150820   | 706.502            | 4.69458       | 433.59               | 11.9661         |"
      ]
     },
     "metadata": {},
     "output_type": "display_data"
    },
    {
     "data": {
      "text/html": [
       "<pre>| 217       | 204.231250   | 706.502            | 4.69458       | 433.59               | 11.9661         |</pre>"
      ],
      "text/plain": [
       "| 217       | 204.231250   | 706.502            | 4.69458       | 433.59               | 11.9661         |"
      ]
     },
     "metadata": {},
     "output_type": "display_data"
    },
    {
     "data": {
      "text/html": [
       "<pre>| 218       | 204.313797   | 706.502            | 4.69458       | 433.59               | 11.9661         |</pre>"
      ],
      "text/plain": [
       "| 218       | 204.313797   | 706.502            | 4.69458       | 433.59               | 11.9661         |"
      ]
     },
     "metadata": {},
     "output_type": "display_data"
    },
    {
     "data": {
      "text/html": [
       "<pre>| 219       | 204.391023   | 706.502            | 4.69458       | 433.59               | 11.9661         |</pre>"
      ],
      "text/plain": [
       "| 219       | 204.391023   | 706.502            | 4.69458       | 433.59               | 11.9661         |"
      ]
     },
     "metadata": {},
     "output_type": "display_data"
    },
    {
     "data": {
      "text/html": [
       "<pre>| 220       | 204.474814   | 706.502            | 4.69458       | 433.59               | 11.9661         |</pre>"
      ],
      "text/plain": [
       "| 220       | 204.474814   | 706.502            | 4.69458       | 433.59               | 11.9661         |"
      ]
     },
     "metadata": {},
     "output_type": "display_data"
    },
    {
     "data": {
      "text/html": [
       "<pre>| 221       | 204.556505   | 706.502            | 4.69458       | 433.59               | 11.9661         |</pre>"
      ],
      "text/plain": [
       "| 221       | 204.556505   | 706.502            | 4.69458       | 433.59               | 11.9661         |"
      ]
     },
     "metadata": {},
     "output_type": "display_data"
    },
    {
     "data": {
      "text/html": [
       "<pre>| 222       | 204.636831   | 706.502            | 4.69458       | 433.59               | 11.9661         |</pre>"
      ],
      "text/plain": [
       "| 222       | 204.636831   | 706.502            | 4.69458       | 433.59               | 11.9661         |"
      ]
     },
     "metadata": {},
     "output_type": "display_data"
    },
    {
     "data": {
      "text/html": [
       "<pre>| 223       | 204.721361   | 706.502            | 4.69458       | 433.59               | 11.9661         |</pre>"
      ],
      "text/plain": [
       "| 223       | 204.721361   | 706.502            | 4.69458       | 433.59               | 11.9661         |"
      ]
     },
     "metadata": {},
     "output_type": "display_data"
    },
    {
     "data": {
      "text/html": [
       "<pre>| 224       | 204.801082   | 706.502            | 4.69458       | 433.59               | 11.9661         |</pre>"
      ],
      "text/plain": [
       "| 224       | 204.801082   | 706.502            | 4.69458       | 433.59               | 11.9661         |"
      ]
     },
     "metadata": {},
     "output_type": "display_data"
    },
    {
     "data": {
      "text/html": [
       "<pre>| 225       | 204.884955   | 706.502            | 4.69458       | 433.59               | 11.9661         |</pre>"
      ],
      "text/plain": [
       "| 225       | 204.884955   | 706.502            | 4.69458       | 433.59               | 11.9661         |"
      ]
     },
     "metadata": {},
     "output_type": "display_data"
    },
    {
     "data": {
      "text/html": [
       "<pre>| 226       | 204.974422   | 706.502            | 4.69458       | 433.59               | 11.9661         |</pre>"
      ],
      "text/plain": [
       "| 226       | 204.974422   | 706.502            | 4.69458       | 433.59               | 11.9661         |"
      ]
     },
     "metadata": {},
     "output_type": "display_data"
    },
    {
     "data": {
      "text/html": [
       "<pre>| 227       | 205.079228   | 706.502            | 4.69458       | 433.59               | 11.9661         |</pre>"
      ],
      "text/plain": [
       "| 227       | 205.079228   | 706.502            | 4.69458       | 433.59               | 11.9661         |"
      ]
     },
     "metadata": {},
     "output_type": "display_data"
    },
    {
     "data": {
      "text/html": [
       "<pre>| 228       | 205.187481   | 706.502            | 4.69458       | 433.59               | 11.9661         |</pre>"
      ],
      "text/plain": [
       "| 228       | 205.187481   | 706.502            | 4.69458       | 433.59               | 11.9661         |"
      ]
     },
     "metadata": {},
     "output_type": "display_data"
    },
    {
     "data": {
      "text/html": [
       "<pre>| 229       | 205.269043   | 706.502            | 4.69458       | 433.59               | 11.9661         |</pre>"
      ],
      "text/plain": [
       "| 229       | 205.269043   | 706.502            | 4.69458       | 433.59               | 11.9661         |"
      ]
     },
     "metadata": {},
     "output_type": "display_data"
    },
    {
     "data": {
      "text/html": [
       "<pre>| 230       | 205.357875   | 706.502            | 4.69458       | 433.59               | 11.9661         |</pre>"
      ],
      "text/plain": [
       "| 230       | 205.357875   | 706.502            | 4.69458       | 433.59               | 11.9661         |"
      ]
     },
     "metadata": {},
     "output_type": "display_data"
    },
    {
     "data": {
      "text/html": [
       "<pre>| 231       | 205.438221   | 706.502            | 4.69458       | 433.59               | 11.9661         |</pre>"
      ],
      "text/plain": [
       "| 231       | 205.438221   | 706.502            | 4.69458       | 433.59               | 11.9661         |"
      ]
     },
     "metadata": {},
     "output_type": "display_data"
    },
    {
     "data": {
      "text/html": [
       "<pre>| 232       | 205.522303   | 706.502            | 4.69458       | 433.59               | 11.9661         |</pre>"
      ],
      "text/plain": [
       "| 232       | 205.522303   | 706.502            | 4.69458       | 433.59               | 11.9661         |"
      ]
     },
     "metadata": {},
     "output_type": "display_data"
    },
    {
     "data": {
      "text/html": [
       "<pre>| 233       | 205.602112   | 706.502            | 4.69458       | 433.59               | 11.9661         |</pre>"
      ],
      "text/plain": [
       "| 233       | 205.602112   | 706.502            | 4.69458       | 433.59               | 11.9661         |"
      ]
     },
     "metadata": {},
     "output_type": "display_data"
    },
    {
     "data": {
      "text/html": [
       "<pre>| 234       | 205.686117   | 706.502            | 4.69458       | 433.59               | 11.9661         |</pre>"
      ],
      "text/plain": [
       "| 234       | 205.686117   | 706.502            | 4.69458       | 433.59               | 11.9661         |"
      ]
     },
     "metadata": {},
     "output_type": "display_data"
    },
    {
     "data": {
      "text/html": [
       "<pre>| 235       | 205.768023   | 706.502            | 4.69458       | 433.59               | 11.9661         |</pre>"
      ],
      "text/plain": [
       "| 235       | 205.768023   | 706.502            | 4.69458       | 433.59               | 11.9661         |"
      ]
     },
     "metadata": {},
     "output_type": "display_data"
    },
    {
     "data": {
      "text/html": [
       "<pre>| 236       | 205.875522   | 706.502            | 4.69458       | 433.59               | 11.9661         |</pre>"
      ],
      "text/plain": [
       "| 236       | 205.875522   | 706.502            | 4.69458       | 433.59               | 11.9661         |"
      ]
     },
     "metadata": {},
     "output_type": "display_data"
    },
    {
     "data": {
      "text/html": [
       "<pre>| 237       | 205.982162   | 706.502            | 4.69458       | 433.59               | 11.9661         |</pre>"
      ],
      "text/plain": [
       "| 237       | 205.982162   | 706.502            | 4.69458       | 433.59               | 11.9661         |"
      ]
     },
     "metadata": {},
     "output_type": "display_data"
    },
    {
     "data": {
      "text/html": [
       "<pre>| 238       | 206.080233   | 706.502            | 4.69458       | 433.59               | 11.9661         |</pre>"
      ],
      "text/plain": [
       "| 238       | 206.080233   | 706.502            | 4.69458       | 433.59               | 11.9661         |"
      ]
     },
     "metadata": {},
     "output_type": "display_data"
    },
    {
     "data": {
      "text/html": [
       "<pre>| 239       | 206.162675   | 706.502            | 4.69458       | 433.59               | 11.9661         |</pre>"
      ],
      "text/plain": [
       "| 239       | 206.162675   | 706.502            | 4.69458       | 433.59               | 11.9661         |"
      ]
     },
     "metadata": {},
     "output_type": "display_data"
    },
    {
     "data": {
      "text/html": [
       "<pre>| 240       | 206.251084   | 706.502            | 4.69458       | 433.59               | 11.9661         |</pre>"
      ],
      "text/plain": [
       "| 240       | 206.251084   | 706.502            | 4.69458       | 433.59               | 11.9661         |"
      ]
     },
     "metadata": {},
     "output_type": "display_data"
    },
    {
     "data": {
      "text/html": [
       "<pre>| 241       | 206.341395   | 706.502            | 4.69458       | 433.59               | 11.9661         |</pre>"
      ],
      "text/plain": [
       "| 241       | 206.341395   | 706.502            | 4.69458       | 433.59               | 11.9661         |"
      ]
     },
     "metadata": {},
     "output_type": "display_data"
    },
    {
     "data": {
      "text/html": [
       "<pre>| 242       | 206.431585   | 706.502            | 4.69458       | 433.59               | 11.9661         |</pre>"
      ],
      "text/plain": [
       "| 242       | 206.431585   | 706.502            | 4.69458       | 433.59               | 11.9661         |"
      ]
     },
     "metadata": {},
     "output_type": "display_data"
    },
    {
     "data": {
      "text/html": [
       "<pre>| 243       | 206.509583   | 706.502            | 4.69458       | 433.59               | 11.9661         |</pre>"
      ],
      "text/plain": [
       "| 243       | 206.509583   | 706.502            | 4.69458       | 433.59               | 11.9661         |"
      ]
     },
     "metadata": {},
     "output_type": "display_data"
    },
    {
     "data": {
      "text/html": [
       "<pre>| 244       | 206.586101   | 706.502            | 4.69458       | 433.59               | 11.9661         |</pre>"
      ],
      "text/plain": [
       "| 244       | 206.586101   | 706.502            | 4.69458       | 433.59               | 11.9661         |"
      ]
     },
     "metadata": {},
     "output_type": "display_data"
    },
    {
     "data": {
      "text/html": [
       "<pre>| 245       | 206.665993   | 706.502            | 4.69458       | 433.59               | 11.9661         |</pre>"
      ],
      "text/plain": [
       "| 245       | 206.665993   | 706.502            | 4.69458       | 433.59               | 11.9661         |"
      ]
     },
     "metadata": {},
     "output_type": "display_data"
    },
    {
     "data": {
      "text/html": [
       "<pre>| 246       | 206.747455   | 706.502            | 4.69458       | 433.59               | 11.9661         |</pre>"
      ],
      "text/plain": [
       "| 246       | 206.747455   | 706.502            | 4.69458       | 433.59               | 11.9661         |"
      ]
     },
     "metadata": {},
     "output_type": "display_data"
    },
    {
     "data": {
      "text/html": [
       "<pre>| 247       | 206.837274   | 706.502            | 4.69458       | 433.59               | 11.9661         |</pre>"
      ],
      "text/plain": [
       "| 247       | 206.837274   | 706.502            | 4.69458       | 433.59               | 11.9661         |"
      ]
     },
     "metadata": {},
     "output_type": "display_data"
    },
    {
     "data": {
      "text/html": [
       "<pre>| 248       | 206.927794   | 706.502            | 4.69458       | 433.59               | 11.9661         |</pre>"
      ],
      "text/plain": [
       "| 248       | 206.927794   | 706.502            | 4.69458       | 433.59               | 11.9661         |"
      ]
     },
     "metadata": {},
     "output_type": "display_data"
    },
    {
     "data": {
      "text/html": [
       "<pre>| 249       | 207.006262   | 706.502            | 4.69458       | 433.59               | 11.9661         |</pre>"
      ],
      "text/plain": [
       "| 249       | 207.006262   | 706.502            | 4.69458       | 433.59               | 11.9661         |"
      ]
     },
     "metadata": {},
     "output_type": "display_data"
    },
    {
     "data": {
      "text/html": [
       "<pre>| 250       | 207.087111   | 706.502            | 4.69458       | 433.59               | 11.9661         |</pre>"
      ],
      "text/plain": [
       "| 250       | 207.087111   | 706.502            | 4.69458       | 433.59               | 11.9661         |"
      ]
     },
     "metadata": {},
     "output_type": "display_data"
    },
    {
     "data": {
      "text/html": [
       "<pre>| 251       | 207.166321   | 706.502            | 4.69458       | 433.59               | 11.9661         |</pre>"
      ],
      "text/plain": [
       "| 251       | 207.166321   | 706.502            | 4.69458       | 433.59               | 11.9661         |"
      ]
     },
     "metadata": {},
     "output_type": "display_data"
    },
    {
     "data": {
      "text/html": [
       "<pre>| 252       | 207.249210   | 706.502            | 4.69458       | 433.59               | 11.9661         |</pre>"
      ],
      "text/plain": [
       "| 252       | 207.249210   | 706.502            | 4.69458       | 433.59               | 11.9661         |"
      ]
     },
     "metadata": {},
     "output_type": "display_data"
    },
    {
     "data": {
      "text/html": [
       "<pre>| 253       | 207.331243   | 706.502            | 4.69458       | 433.59               | 11.9661         |</pre>"
      ],
      "text/plain": [
       "| 253       | 207.331243   | 706.502            | 4.69458       | 433.59               | 11.9661         |"
      ]
     },
     "metadata": {},
     "output_type": "display_data"
    },
    {
     "data": {
      "text/html": [
       "<pre>| 254       | 207.409222   | 706.502            | 4.69458       | 433.59               | 11.9661         |</pre>"
      ],
      "text/plain": [
       "| 254       | 207.409222   | 706.502            | 4.69458       | 433.59               | 11.9661         |"
      ]
     },
     "metadata": {},
     "output_type": "display_data"
    },
    {
     "data": {
      "text/html": [
       "<pre>| 255       | 207.508122   | 706.502            | 4.69458       | 433.59               | 11.9661         |</pre>"
      ],
      "text/plain": [
       "| 255       | 207.508122   | 706.502            | 4.69458       | 433.59               | 11.9661         |"
      ]
     },
     "metadata": {},
     "output_type": "display_data"
    },
    {
     "data": {
      "text/html": [
       "<pre>| 256       | 207.609578   | 706.502            | 4.69458       | 433.59               | 11.9661         |</pre>"
      ],
      "text/plain": [
       "| 256       | 207.609578   | 706.502            | 4.69458       | 433.59               | 11.9661         |"
      ]
     },
     "metadata": {},
     "output_type": "display_data"
    },
    {
     "data": {
      "text/html": [
       "<pre>| 257       | 207.690315   | 706.502            | 4.69458       | 433.59               | 11.9661         |</pre>"
      ],
      "text/plain": [
       "| 257       | 207.690315   | 706.502            | 4.69458       | 433.59               | 11.9661         |"
      ]
     },
     "metadata": {},
     "output_type": "display_data"
    },
    {
     "data": {
      "text/html": [
       "<pre>| 258       | 207.773971   | 706.502            | 4.69458       | 433.59               | 11.9661         |</pre>"
      ],
      "text/plain": [
       "| 258       | 207.773971   | 706.502            | 4.69458       | 433.59               | 11.9661         |"
      ]
     },
     "metadata": {},
     "output_type": "display_data"
    },
    {
     "data": {
      "text/html": [
       "<pre>| 259       | 207.856917   | 706.502            | 4.69458       | 433.59               | 11.9661         |</pre>"
      ],
      "text/plain": [
       "| 259       | 207.856917   | 706.502            | 4.69458       | 433.59               | 11.9661         |"
      ]
     },
     "metadata": {},
     "output_type": "display_data"
    },
    {
     "data": {
      "text/html": [
       "<pre>| 260       | 207.939767   | 706.502            | 4.69458       | 433.59               | 11.9661         |</pre>"
      ],
      "text/plain": [
       "| 260       | 207.939767   | 706.502            | 4.69458       | 433.59               | 11.9661         |"
      ]
     },
     "metadata": {},
     "output_type": "display_data"
    },
    {
     "data": {
      "text/html": [
       "<pre>| 261       | 208.034217   | 706.502            | 4.69458       | 433.59               | 11.9661         |</pre>"
      ],
      "text/plain": [
       "| 261       | 208.034217   | 706.502            | 4.69458       | 433.59               | 11.9661         |"
      ]
     },
     "metadata": {},
     "output_type": "display_data"
    },
    {
     "data": {
      "text/html": [
       "<pre>| 262       | 208.123322   | 706.502            | 4.69458       | 433.59               | 11.9661         |</pre>"
      ],
      "text/plain": [
       "| 262       | 208.123322   | 706.502            | 4.69458       | 433.59               | 11.9661         |"
      ]
     },
     "metadata": {},
     "output_type": "display_data"
    },
    {
     "data": {
      "text/html": [
       "<pre>| 263       | 208.213185   | 706.502            | 4.69458       | 433.59               | 11.9661         |</pre>"
      ],
      "text/plain": [
       "| 263       | 208.213185   | 706.502            | 4.69458       | 433.59               | 11.9661         |"
      ]
     },
     "metadata": {},
     "output_type": "display_data"
    },
    {
     "data": {
      "text/html": [
       "<pre>| 264       | 208.319339   | 706.502            | 4.69458       | 433.59               | 11.9661         |</pre>"
      ],
      "text/plain": [
       "| 264       | 208.319339   | 706.502            | 4.69458       | 433.59               | 11.9661         |"
      ]
     },
     "metadata": {},
     "output_type": "display_data"
    },
    {
     "data": {
      "text/html": [
       "<pre>| 265       | 208.420270   | 706.502            | 4.69458       | 433.59               | 11.9661         |</pre>"
      ],
      "text/plain": [
       "| 265       | 208.420270   | 706.502            | 4.69458       | 433.59               | 11.9661         |"
      ]
     },
     "metadata": {},
     "output_type": "display_data"
    },
    {
     "data": {
      "text/html": [
       "<pre>| 266       | 208.526681   | 706.502            | 4.69458       | 433.59               | 11.9661         |</pre>"
      ],
      "text/plain": [
       "| 266       | 208.526681   | 706.502            | 4.69458       | 433.59               | 11.9661         |"
      ]
     },
     "metadata": {},
     "output_type": "display_data"
    },
    {
     "data": {
      "text/html": [
       "<pre>| 267       | 208.629950   | 706.502            | 4.69458       | 433.59               | 11.9661         |</pre>"
      ],
      "text/plain": [
       "| 267       | 208.629950   | 706.502            | 4.69458       | 433.59               | 11.9661         |"
      ]
     },
     "metadata": {},
     "output_type": "display_data"
    },
    {
     "data": {
      "text/html": [
       "<pre>| 268       | 208.749477   | 706.502            | 4.69458       | 433.59               | 11.9661         |</pre>"
      ],
      "text/plain": [
       "| 268       | 208.749477   | 706.502            | 4.69458       | 433.59               | 11.9661         |"
      ]
     },
     "metadata": {},
     "output_type": "display_data"
    },
    {
     "data": {
      "text/html": [
       "<pre>| 269       | 208.837903   | 706.502            | 4.69458       | 433.59               | 11.9661         |</pre>"
      ],
      "text/plain": [
       "| 269       | 208.837903   | 706.502            | 4.69458       | 433.59               | 11.9661         |"
      ]
     },
     "metadata": {},
     "output_type": "display_data"
    },
    {
     "data": {
      "text/html": [
       "<pre>| 270       | 208.947512   | 706.502            | 4.69458       | 433.59               | 11.9661         |</pre>"
      ],
      "text/plain": [
       "| 270       | 208.947512   | 706.502            | 4.69458       | 433.59               | 11.9661         |"
      ]
     },
     "metadata": {},
     "output_type": "display_data"
    },
    {
     "data": {
      "text/html": [
       "<pre>| 271       | 209.067818   | 706.502            | 4.69458       | 433.59               | 11.9661         |</pre>"
      ],
      "text/plain": [
       "| 271       | 209.067818   | 706.502            | 4.69458       | 433.59               | 11.9661         |"
      ]
     },
     "metadata": {},
     "output_type": "display_data"
    },
    {
     "data": {
      "text/html": [
       "<pre>| 272       | 209.180801   | 706.502            | 4.69458       | 433.59               | 11.9661         |</pre>"
      ],
      "text/plain": [
       "| 272       | 209.180801   | 706.502            | 4.69458       | 433.59               | 11.9661         |"
      ]
     },
     "metadata": {},
     "output_type": "display_data"
    },
    {
     "data": {
      "text/html": [
       "<pre>| 273       | 209.276883   | 706.502            | 4.69458       | 433.59               | 11.9661         |</pre>"
      ],
      "text/plain": [
       "| 273       | 209.276883   | 706.502            | 4.69458       | 433.59               | 11.9661         |"
      ]
     },
     "metadata": {},
     "output_type": "display_data"
    },
    {
     "data": {
      "text/html": [
       "<pre>| 274       | 209.359770   | 706.502            | 4.69458       | 433.59               | 11.9661         |</pre>"
      ],
      "text/plain": [
       "| 274       | 209.359770   | 706.502            | 4.69458       | 433.59               | 11.9661         |"
      ]
     },
     "metadata": {},
     "output_type": "display_data"
    },
    {
     "data": {
      "text/html": [
       "<pre>| 275       | 209.440442   | 706.502            | 4.69458       | 433.59               | 11.9661         |</pre>"
      ],
      "text/plain": [
       "| 275       | 209.440442   | 706.502            | 4.69458       | 433.59               | 11.9661         |"
      ]
     },
     "metadata": {},
     "output_type": "display_data"
    },
    {
     "data": {
      "text/html": [
       "<pre>| 276       | 209.521843   | 706.502            | 4.69458       | 433.59               | 11.9661         |</pre>"
      ],
      "text/plain": [
       "| 276       | 209.521843   | 706.502            | 4.69458       | 433.59               | 11.9661         |"
      ]
     },
     "metadata": {},
     "output_type": "display_data"
    },
    {
     "data": {
      "text/html": [
       "<pre>| 277       | 209.637967   | 706.502            | 4.69458       | 433.59               | 11.9661         |</pre>"
      ],
      "text/plain": [
       "| 277       | 209.637967   | 706.502            | 4.69458       | 433.59               | 11.9661         |"
      ]
     },
     "metadata": {},
     "output_type": "display_data"
    },
    {
     "data": {
      "text/html": [
       "<pre>| 278       | 209.749907   | 706.502            | 4.69458       | 433.59               | 11.9661         |</pre>"
      ],
      "text/plain": [
       "| 278       | 209.749907   | 706.502            | 4.69458       | 433.59               | 11.9661         |"
      ]
     },
     "metadata": {},
     "output_type": "display_data"
    },
    {
     "data": {
      "text/html": [
       "<pre>| 279       | 209.874679   | 706.502            | 4.69458       | 433.59               | 11.9661         |</pre>"
      ],
      "text/plain": [
       "| 279       | 209.874679   | 706.502            | 4.69458       | 433.59               | 11.9661         |"
      ]
     },
     "metadata": {},
     "output_type": "display_data"
    },
    {
     "data": {
      "text/html": [
       "<pre>| 280       | 209.974515   | 706.502            | 4.69458       | 433.59               | 11.9661         |</pre>"
      ],
      "text/plain": [
       "| 280       | 209.974515   | 706.502            | 4.69458       | 433.59               | 11.9661         |"
      ]
     },
     "metadata": {},
     "output_type": "display_data"
    },
    {
     "data": {
      "text/html": [
       "<pre>| 281       | 210.055923   | 706.502            | 4.69458       | 433.59               | 11.9661         |</pre>"
      ],
      "text/plain": [
       "| 281       | 210.055923   | 706.502            | 4.69458       | 433.59               | 11.9661         |"
      ]
     },
     "metadata": {},
     "output_type": "display_data"
    },
    {
     "data": {
      "text/html": [
       "<pre>| 282       | 210.141260   | 706.502            | 4.69458       | 433.59               | 11.9661         |</pre>"
      ],
      "text/plain": [
       "| 282       | 210.141260   | 706.502            | 4.69458       | 433.59               | 11.9661         |"
      ]
     },
     "metadata": {},
     "output_type": "display_data"
    },
    {
     "data": {
      "text/html": [
       "<pre>| 283       | 210.251458   | 706.502            | 4.69458       | 433.59               | 11.9661         |</pre>"
      ],
      "text/plain": [
       "| 283       | 210.251458   | 706.502            | 4.69458       | 433.59               | 11.9661         |"
      ]
     },
     "metadata": {},
     "output_type": "display_data"
    },
    {
     "data": {
      "text/html": [
       "<pre>| 284       | 210.355469   | 706.502            | 4.69458       | 433.59               | 11.9661         |</pre>"
      ],
      "text/plain": [
       "| 284       | 210.355469   | 706.502            | 4.69458       | 433.59               | 11.9661         |"
      ]
     },
     "metadata": {},
     "output_type": "display_data"
    },
    {
     "data": {
      "text/html": [
       "<pre>| 285       | 210.442641   | 706.502            | 4.69458       | 433.59               | 11.9661         |</pre>"
      ],
      "text/plain": [
       "| 285       | 210.442641   | 706.502            | 4.69458       | 433.59               | 11.9661         |"
      ]
     },
     "metadata": {},
     "output_type": "display_data"
    },
    {
     "data": {
      "text/html": [
       "<pre>| 286       | 210.524201   | 706.502            | 4.69458       | 433.59               | 11.9661         |</pre>"
      ],
      "text/plain": [
       "| 286       | 210.524201   | 706.502            | 4.69458       | 433.59               | 11.9661         |"
      ]
     },
     "metadata": {},
     "output_type": "display_data"
    },
    {
     "data": {
      "text/html": [
       "<pre>| 287       | 210.603495   | 706.502            | 4.69458       | 433.59               | 11.9661         |</pre>"
      ],
      "text/plain": [
       "| 287       | 210.603495   | 706.502            | 4.69458       | 433.59               | 11.9661         |"
      ]
     },
     "metadata": {},
     "output_type": "display_data"
    },
    {
     "data": {
      "text/html": [
       "<pre>| 288       | 210.684321   | 706.502            | 4.69458       | 433.59               | 11.9661         |</pre>"
      ],
      "text/plain": [
       "| 288       | 210.684321   | 706.502            | 4.69458       | 433.59               | 11.9661         |"
      ]
     },
     "metadata": {},
     "output_type": "display_data"
    },
    {
     "data": {
      "text/html": [
       "<pre>| 289       | 210.789077   | 706.502            | 4.69458       | 433.59               | 11.9661         |</pre>"
      ],
      "text/plain": [
       "| 289       | 210.789077   | 706.502            | 4.69458       | 433.59               | 11.9661         |"
      ]
     },
     "metadata": {},
     "output_type": "display_data"
    },
    {
     "data": {
      "text/html": [
       "<pre>| 290       | 210.893299   | 706.502            | 4.69458       | 433.59               | 11.9661         |</pre>"
      ],
      "text/plain": [
       "| 290       | 210.893299   | 706.502            | 4.69458       | 433.59               | 11.9661         |"
      ]
     },
     "metadata": {},
     "output_type": "display_data"
    },
    {
     "data": {
      "text/html": [
       "<pre>| 291       | 211.011911   | 706.502            | 4.69458       | 433.59               | 11.9661         |</pre>"
      ],
      "text/plain": [
       "| 291       | 211.011911   | 706.502            | 4.69458       | 433.59               | 11.9661         |"
      ]
     },
     "metadata": {},
     "output_type": "display_data"
    },
    {
     "data": {
      "text/html": [
       "<pre>| 292       | 211.114745   | 706.502            | 4.69458       | 433.59               | 11.9661         |</pre>"
      ],
      "text/plain": [
       "| 292       | 211.114745   | 706.502            | 4.69458       | 433.59               | 11.9661         |"
      ]
     },
     "metadata": {},
     "output_type": "display_data"
    },
    {
     "data": {
      "text/html": [
       "<pre>| 293       | 211.205837   | 706.502            | 4.69458       | 433.59               | 11.9661         |</pre>"
      ],
      "text/plain": [
       "| 293       | 211.205837   | 706.502            | 4.69458       | 433.59               | 11.9661         |"
      ]
     },
     "metadata": {},
     "output_type": "display_data"
    },
    {
     "data": {
      "text/html": [
       "<pre>| 294       | 211.286113   | 706.502            | 4.69458       | 433.59               | 11.9661         |</pre>"
      ],
      "text/plain": [
       "| 294       | 211.286113   | 706.502            | 4.69458       | 433.59               | 11.9661         |"
      ]
     },
     "metadata": {},
     "output_type": "display_data"
    },
    {
     "data": {
      "text/html": [
       "<pre>| 295       | 211.405988   | 706.502            | 4.69458       | 433.59               | 11.9661         |</pre>"
      ],
      "text/plain": [
       "| 295       | 211.405988   | 706.502            | 4.69458       | 433.59               | 11.9661         |"
      ]
     },
     "metadata": {},
     "output_type": "display_data"
    },
    {
     "data": {
      "text/html": [
       "<pre>| 296       | 211.511363   | 706.502            | 4.69458       | 433.59               | 11.9661         |</pre>"
      ],
      "text/plain": [
       "| 296       | 211.511363   | 706.502            | 4.69458       | 433.59               | 11.9661         |"
      ]
     },
     "metadata": {},
     "output_type": "display_data"
    },
    {
     "data": {
      "text/html": [
       "<pre>| 297       | 211.591774   | 706.502            | 4.69458       | 433.59               | 11.9661         |</pre>"
      ],
      "text/plain": [
       "| 297       | 211.591774   | 706.502            | 4.69458       | 433.59               | 11.9661         |"
      ]
     },
     "metadata": {},
     "output_type": "display_data"
    },
    {
     "data": {
      "text/html": [
       "<pre>| 298       | 211.674804   | 706.502            | 4.69458       | 433.59               | 11.9661         |</pre>"
      ],
      "text/plain": [
       "| 298       | 211.674804   | 706.502            | 4.69458       | 433.59               | 11.9661         |"
      ]
     },
     "metadata": {},
     "output_type": "display_data"
    },
    {
     "data": {
      "text/html": [
       "<pre>| 299       | 211.756057   | 706.502            | 4.69458       | 433.59               | 11.9661         |</pre>"
      ],
      "text/plain": [
       "| 299       | 211.756057   | 706.502            | 4.69458       | 433.59               | 11.9661         |"
      ]
     },
     "metadata": {},
     "output_type": "display_data"
    },
    {
     "data": {
      "text/html": [
       "<pre>| 300       | 211.890079   | 706.502            | 4.69458       | 433.59               | 11.9661         |</pre>"
      ],
      "text/plain": [
       "| 300       | 211.890079   | 706.502            | 4.69458       | 433.59               | 11.9661         |"
      ]
     },
     "metadata": {},
     "output_type": "display_data"
    },
    {
     "data": {
      "text/html": [
       "<pre>| 301       | 212.018745   | 706.502            | 4.69458       | 433.59               | 11.9661         |</pre>"
      ],
      "text/plain": [
       "| 301       | 212.018745   | 706.502            | 4.69458       | 433.59               | 11.9661         |"
      ]
     },
     "metadata": {},
     "output_type": "display_data"
    },
    {
     "data": {
      "text/html": [
       "<pre>| 302       | 212.124444   | 706.502            | 4.69458       | 433.59               | 11.9661         |</pre>"
      ],
      "text/plain": [
       "| 302       | 212.124444   | 706.502            | 4.69458       | 433.59               | 11.9661         |"
      ]
     },
     "metadata": {},
     "output_type": "display_data"
    },
    {
     "data": {
      "text/html": [
       "<pre>| 303       | 212.203354   | 706.502            | 4.69458       | 433.59               | 11.9661         |</pre>"
      ],
      "text/plain": [
       "| 303       | 212.203354   | 706.502            | 4.69458       | 433.59               | 11.9661         |"
      ]
     },
     "metadata": {},
     "output_type": "display_data"
    },
    {
     "data": {
      "text/html": [
       "<pre>| 304       | 212.344693   | 706.502            | 4.69458       | 433.59               | 11.9661         |</pre>"
      ],
      "text/plain": [
       "| 304       | 212.344693   | 706.502            | 4.69458       | 433.59               | 11.9661         |"
      ]
     },
     "metadata": {},
     "output_type": "display_data"
    },
    {
     "data": {
      "text/html": [
       "<pre>| 305       | 212.454476   | 706.502            | 4.69458       | 433.59               | 11.9661         |</pre>"
      ],
      "text/plain": [
       "| 305       | 212.454476   | 706.502            | 4.69458       | 433.59               | 11.9661         |"
      ]
     },
     "metadata": {},
     "output_type": "display_data"
    },
    {
     "data": {
      "text/html": [
       "<pre>| 306       | 212.531967   | 706.502            | 4.69458       | 433.59               | 11.9661         |</pre>"
      ],
      "text/plain": [
       "| 306       | 212.531967   | 706.502            | 4.69458       | 433.59               | 11.9661         |"
      ]
     },
     "metadata": {},
     "output_type": "display_data"
    },
    {
     "data": {
      "text/html": [
       "<pre>| 307       | 212.607001   | 706.502            | 4.69458       | 433.59               | 11.9661         |</pre>"
      ],
      "text/plain": [
       "| 307       | 212.607001   | 706.502            | 4.69458       | 433.59               | 11.9661         |"
      ]
     },
     "metadata": {},
     "output_type": "display_data"
    },
    {
     "data": {
      "text/html": [
       "<pre>| 308       | 212.684631   | 706.502            | 4.69458       | 433.59               | 11.9661         |</pre>"
      ],
      "text/plain": [
       "| 308       | 212.684631   | 706.502            | 4.69458       | 433.59               | 11.9661         |"
      ]
     },
     "metadata": {},
     "output_type": "display_data"
    },
    {
     "data": {
      "text/html": [
       "<pre>| 309       | 212.759187   | 706.502            | 4.69458       | 433.59               | 11.9661         |</pre>"
      ],
      "text/plain": [
       "| 309       | 212.759187   | 706.502            | 4.69458       | 433.59               | 11.9661         |"
      ]
     },
     "metadata": {},
     "output_type": "display_data"
    },
    {
     "data": {
      "text/html": [
       "<pre>| 310       | 212.859155   | 706.502            | 4.69458       | 433.59               | 11.9661         |</pre>"
      ],
      "text/plain": [
       "| 310       | 212.859155   | 706.502            | 4.69458       | 433.59               | 11.9661         |"
      ]
     },
     "metadata": {},
     "output_type": "display_data"
    },
    {
     "data": {
      "text/html": [
       "<pre>| 311       | 212.936416   | 706.502            | 4.69458       | 433.59               | 11.9661         |</pre>"
      ],
      "text/plain": [
       "| 311       | 212.936416   | 706.502            | 4.69458       | 433.59               | 11.9661         |"
      ]
     },
     "metadata": {},
     "output_type": "display_data"
    },
    {
     "data": {
      "text/html": [
       "<pre>| 312       | 213.010026   | 706.502            | 4.69458       | 433.59               | 11.9661         |</pre>"
      ],
      "text/plain": [
       "| 312       | 213.010026   | 706.502            | 4.69458       | 433.59               | 11.9661         |"
      ]
     },
     "metadata": {},
     "output_type": "display_data"
    },
    {
     "data": {
      "text/html": [
       "<pre>| 313       | 213.083672   | 706.502            | 4.69458       | 433.59               | 11.9661         |</pre>"
      ],
      "text/plain": [
       "| 313       | 213.083672   | 706.502            | 4.69458       | 433.59               | 11.9661         |"
      ]
     },
     "metadata": {},
     "output_type": "display_data"
    },
    {
     "data": {
      "text/html": [
       "<pre>| 314       | 213.157243   | 706.502            | 4.69458       | 433.59               | 11.9661         |</pre>"
      ],
      "text/plain": [
       "| 314       | 213.157243   | 706.502            | 4.69458       | 433.59               | 11.9661         |"
      ]
     },
     "metadata": {},
     "output_type": "display_data"
    },
    {
     "data": {
      "text/html": [
       "<pre>| 315       | 213.238950   | 706.502            | 4.69458       | 433.59               | 11.9661         |</pre>"
      ],
      "text/plain": [
       "| 315       | 213.238950   | 706.502            | 4.69458       | 433.59               | 11.9661         |"
      ]
     },
     "metadata": {},
     "output_type": "display_data"
    },
    {
     "data": {
      "text/html": [
       "<pre>| 316       | 213.315285   | 706.502            | 4.69458       | 433.59               | 11.9661         |</pre>"
      ],
      "text/plain": [
       "| 316       | 213.315285   | 706.502            | 4.69458       | 433.59               | 11.9661         |"
      ]
     },
     "metadata": {},
     "output_type": "display_data"
    },
    {
     "data": {
      "text/html": [
       "<pre>| 317       | 213.387858   | 706.502            | 4.69458       | 433.59               | 11.9661         |</pre>"
      ],
      "text/plain": [
       "| 317       | 213.387858   | 706.502            | 4.69458       | 433.59               | 11.9661         |"
      ]
     },
     "metadata": {},
     "output_type": "display_data"
    },
    {
     "data": {
      "text/html": [
       "<pre>| 318       | 213.468447   | 706.502            | 4.69458       | 433.59               | 11.9661         |</pre>"
      ],
      "text/plain": [
       "| 318       | 213.468447   | 706.502            | 4.69458       | 433.59               | 11.9661         |"
      ]
     },
     "metadata": {},
     "output_type": "display_data"
    },
    {
     "data": {
      "text/html": [
       "<pre>| 319       | 213.555886   | 706.502            | 4.69458       | 433.59               | 11.9661         |</pre>"
      ],
      "text/plain": [
       "| 319       | 213.555886   | 706.502            | 4.69458       | 433.59               | 11.9661         |"
      ]
     },
     "metadata": {},
     "output_type": "display_data"
    },
    {
     "data": {
      "text/html": [
       "<pre>| 320       | 213.647555   | 706.502            | 4.69458       | 433.59               | 11.9661         |</pre>"
      ],
      "text/plain": [
       "| 320       | 213.647555   | 706.502            | 4.69458       | 433.59               | 11.9661         |"
      ]
     },
     "metadata": {},
     "output_type": "display_data"
    },
    {
     "data": {
      "text/html": [
       "<pre>| 321       | 213.756630   | 706.502            | 4.69458       | 433.59               | 11.9661         |</pre>"
      ],
      "text/plain": [
       "| 321       | 213.756630   | 706.502            | 4.69458       | 433.59               | 11.9661         |"
      ]
     },
     "metadata": {},
     "output_type": "display_data"
    },
    {
     "data": {
      "text/html": [
       "<pre>| 322       | 213.868348   | 706.502            | 4.69458       | 433.59               | 11.9661         |</pre>"
      ],
      "text/plain": [
       "| 322       | 213.868348   | 706.502            | 4.69458       | 433.59               | 11.9661         |"
      ]
     },
     "metadata": {},
     "output_type": "display_data"
    },
    {
     "data": {
      "text/html": [
       "<pre>| 323       | 213.967617   | 706.502            | 4.69458       | 433.59               | 11.9661         |</pre>"
      ],
      "text/plain": [
       "| 323       | 213.967617   | 706.502            | 4.69458       | 433.59               | 11.9661         |"
      ]
     },
     "metadata": {},
     "output_type": "display_data"
    },
    {
     "data": {
      "text/html": [
       "<pre>| 324       | 214.073644   | 706.502            | 4.69458       | 433.59               | 11.9661         |</pre>"
      ],
      "text/plain": [
       "| 324       | 214.073644   | 706.502            | 4.69458       | 433.59               | 11.9661         |"
      ]
     },
     "metadata": {},
     "output_type": "display_data"
    },
    {
     "data": {
      "text/html": [
       "<pre>| 325       | 214.172048   | 706.502            | 4.69458       | 433.59               | 11.9661         |</pre>"
      ],
      "text/plain": [
       "| 325       | 214.172048   | 706.502            | 4.69458       | 433.59               | 11.9661         |"
      ]
     },
     "metadata": {},
     "output_type": "display_data"
    },
    {
     "data": {
      "text/html": [
       "<pre>| 326       | 214.251246   | 706.502            | 4.69458       | 433.59               | 11.9661         |</pre>"
      ],
      "text/plain": [
       "| 326       | 214.251246   | 706.502            | 4.69458       | 433.59               | 11.9661         |"
      ]
     },
     "metadata": {},
     "output_type": "display_data"
    },
    {
     "data": {
      "text/html": [
       "<pre>| 327       | 214.336260   | 706.502            | 4.69458       | 433.59               | 11.9661         |</pre>"
      ],
      "text/plain": [
       "| 327       | 214.336260   | 706.502            | 4.69458       | 433.59               | 11.9661         |"
      ]
     },
     "metadata": {},
     "output_type": "display_data"
    },
    {
     "data": {
      "text/html": [
       "<pre>| 328       | 214.416199   | 706.502            | 4.69458       | 433.59               | 11.9661         |</pre>"
      ],
      "text/plain": [
       "| 328       | 214.416199   | 706.502            | 4.69458       | 433.59               | 11.9661         |"
      ]
     },
     "metadata": {},
     "output_type": "display_data"
    },
    {
     "data": {
      "text/html": [
       "<pre>| 329       | 214.497898   | 706.502            | 4.69458       | 433.59               | 11.9661         |</pre>"
      ],
      "text/plain": [
       "| 329       | 214.497898   | 706.502            | 4.69458       | 433.59               | 11.9661         |"
      ]
     },
     "metadata": {},
     "output_type": "display_data"
    },
    {
     "data": {
      "text/html": [
       "<pre>| 330       | 214.584403   | 706.502            | 4.69458       | 433.59               | 11.9661         |</pre>"
      ],
      "text/plain": [
       "| 330       | 214.584403   | 706.502            | 4.69458       | 433.59               | 11.9661         |"
      ]
     },
     "metadata": {},
     "output_type": "display_data"
    },
    {
     "data": {
      "text/html": [
       "<pre>| 331       | 214.671581   | 706.502            | 4.69458       | 433.59               | 11.9661         |</pre>"
      ],
      "text/plain": [
       "| 331       | 214.671581   | 706.502            | 4.69458       | 433.59               | 11.9661         |"
      ]
     },
     "metadata": {},
     "output_type": "display_data"
    },
    {
     "data": {
      "text/html": [
       "<pre>| 332       | 214.776659   | 706.502            | 4.69458       | 433.59               | 11.9661         |</pre>"
      ],
      "text/plain": [
       "| 332       | 214.776659   | 706.502            | 4.69458       | 433.59               | 11.9661         |"
      ]
     },
     "metadata": {},
     "output_type": "display_data"
    },
    {
     "data": {
      "text/html": [
       "<pre>| 333       | 214.889189   | 706.502            | 4.69458       | 433.59               | 11.9661         |</pre>"
      ],
      "text/plain": [
       "| 333       | 214.889189   | 706.502            | 4.69458       | 433.59               | 11.9661         |"
      ]
     },
     "metadata": {},
     "output_type": "display_data"
    },
    {
     "data": {
      "text/html": [
       "<pre>| 334       | 215.001373   | 706.502            | 4.69458       | 433.59               | 11.9661         |</pre>"
      ],
      "text/plain": [
       "| 334       | 215.001373   | 706.502            | 4.69458       | 433.59               | 11.9661         |"
      ]
     },
     "metadata": {},
     "output_type": "display_data"
    },
    {
     "data": {
      "text/html": [
       "<pre>| 335       | 215.096025   | 706.502            | 4.69458       | 433.59               | 11.9661         |</pre>"
      ],
      "text/plain": [
       "| 335       | 215.096025   | 706.502            | 4.69458       | 433.59               | 11.9661         |"
      ]
     },
     "metadata": {},
     "output_type": "display_data"
    },
    {
     "data": {
      "text/html": [
       "<pre>| 336       | 215.183001   | 706.502            | 4.69458       | 433.59               | 11.9661         |</pre>"
      ],
      "text/plain": [
       "| 336       | 215.183001   | 706.502            | 4.69458       | 433.59               | 11.9661         |"
      ]
     },
     "metadata": {},
     "output_type": "display_data"
    },
    {
     "data": {
      "text/html": [
       "<pre>| 337       | 215.262147   | 706.502            | 4.69458       | 433.59               | 11.9661         |</pre>"
      ],
      "text/plain": [
       "| 337       | 215.262147   | 706.502            | 4.69458       | 433.59               | 11.9661         |"
      ]
     },
     "metadata": {},
     "output_type": "display_data"
    },
    {
     "data": {
      "text/html": [
       "<pre>| 338       | 215.340770   | 706.502            | 4.69458       | 433.59               | 11.9661         |</pre>"
      ],
      "text/plain": [
       "| 338       | 215.340770   | 706.502            | 4.69458       | 433.59               | 11.9661         |"
      ]
     },
     "metadata": {},
     "output_type": "display_data"
    },
    {
     "data": {
      "text/html": [
       "<pre>| 339       | 215.428751   | 706.502            | 4.69458       | 433.59               | 11.9661         |</pre>"
      ],
      "text/plain": [
       "| 339       | 215.428751   | 706.502            | 4.69458       | 433.59               | 11.9661         |"
      ]
     },
     "metadata": {},
     "output_type": "display_data"
    },
    {
     "data": {
      "text/html": [
       "<pre>| 340       | 215.508927   | 706.502            | 4.69458       | 433.59               | 11.9661         |</pre>"
      ],
      "text/plain": [
       "| 340       | 215.508927   | 706.502            | 4.69458       | 433.59               | 11.9661         |"
      ]
     },
     "metadata": {},
     "output_type": "display_data"
    },
    {
     "data": {
      "text/html": [
       "<pre>| 341       | 215.590132   | 706.502            | 4.69458       | 433.59               | 11.9661         |</pre>"
      ],
      "text/plain": [
       "| 341       | 215.590132   | 706.502            | 4.69458       | 433.59               | 11.9661         |"
      ]
     },
     "metadata": {},
     "output_type": "display_data"
    },
    {
     "data": {
      "text/html": [
       "<pre>| 342       | 215.669525   | 706.502            | 4.69458       | 433.59               | 11.9661         |</pre>"
      ],
      "text/plain": [
       "| 342       | 215.669525   | 706.502            | 4.69458       | 433.59               | 11.9661         |"
      ]
     },
     "metadata": {},
     "output_type": "display_data"
    },
    {
     "data": {
      "text/html": [
       "<pre>| 343       | 215.746814   | 706.502            | 4.69458       | 433.59               | 11.9661         |</pre>"
      ],
      "text/plain": [
       "| 343       | 215.746814   | 706.502            | 4.69458       | 433.59               | 11.9661         |"
      ]
     },
     "metadata": {},
     "output_type": "display_data"
    },
    {
     "data": {
      "text/html": [
       "<pre>| 344       | 215.853144   | 706.502            | 4.69458       | 433.59               | 11.9661         |</pre>"
      ],
      "text/plain": [
       "| 344       | 215.853144   | 706.502            | 4.69458       | 433.59               | 11.9661         |"
      ]
     },
     "metadata": {},
     "output_type": "display_data"
    },
    {
     "data": {
      "text/html": [
       "<pre>| 345       | 215.956458   | 706.502            | 4.69458       | 433.59               | 11.9661         |</pre>"
      ],
      "text/plain": [
       "| 345       | 215.956458   | 706.502            | 4.69458       | 433.59               | 11.9661         |"
      ]
     },
     "metadata": {},
     "output_type": "display_data"
    },
    {
     "data": {
      "text/html": [
       "<pre>| 346       | 216.047779   | 706.502            | 4.69458       | 433.59               | 11.9661         |</pre>"
      ],
      "text/plain": [
       "| 346       | 216.047779   | 706.502            | 4.69458       | 433.59               | 11.9661         |"
      ]
     },
     "metadata": {},
     "output_type": "display_data"
    },
    {
     "data": {
      "text/html": [
       "<pre>| 347       | 216.130470   | 706.502            | 4.69458       | 433.59               | 11.9661         |</pre>"
      ],
      "text/plain": [
       "| 347       | 216.130470   | 706.502            | 4.69458       | 433.59               | 11.9661         |"
      ]
     },
     "metadata": {},
     "output_type": "display_data"
    },
    {
     "data": {
      "text/html": [
       "<pre>| 348       | 216.213926   | 706.502            | 4.69458       | 433.59               | 11.9661         |</pre>"
      ],
      "text/plain": [
       "| 348       | 216.213926   | 706.502            | 4.69458       | 433.59               | 11.9661         |"
      ]
     },
     "metadata": {},
     "output_type": "display_data"
    },
    {
     "data": {
      "text/html": [
       "<pre>| 349       | 216.298304   | 706.502            | 4.69458       | 433.59               | 11.9661         |</pre>"
      ],
      "text/plain": [
       "| 349       | 216.298304   | 706.502            | 4.69458       | 433.59               | 11.9661         |"
      ]
     },
     "metadata": {},
     "output_type": "display_data"
    },
    {
     "data": {
      "text/html": [
       "<pre>| 350       | 216.381521   | 706.502            | 4.69458       | 433.59               | 11.9661         |</pre>"
      ],
      "text/plain": [
       "| 350       | 216.381521   | 706.502            | 4.69458       | 433.59               | 11.9661         |"
      ]
     },
     "metadata": {},
     "output_type": "display_data"
    },
    {
     "data": {
      "text/html": [
       "<pre>| 351       | 216.469161   | 706.502            | 4.69458       | 433.59               | 11.9661         |</pre>"
      ],
      "text/plain": [
       "| 351       | 216.469161   | 706.502            | 4.69458       | 433.59               | 11.9661         |"
      ]
     },
     "metadata": {},
     "output_type": "display_data"
    },
    {
     "data": {
      "text/html": [
       "<pre>| 352       | 216.547071   | 706.502            | 4.69458       | 433.59               | 11.9661         |</pre>"
      ],
      "text/plain": [
       "| 352       | 216.547071   | 706.502            | 4.69458       | 433.59               | 11.9661         |"
      ]
     },
     "metadata": {},
     "output_type": "display_data"
    },
    {
     "data": {
      "text/html": [
       "<pre>| 353       | 216.630787   | 706.502            | 4.69458       | 433.59               | 11.9661         |</pre>"
      ],
      "text/plain": [
       "| 353       | 216.630787   | 706.502            | 4.69458       | 433.59               | 11.9661         |"
      ]
     },
     "metadata": {},
     "output_type": "display_data"
    },
    {
     "data": {
      "text/html": [
       "<pre>| 354       | 216.714822   | 706.502            | 4.69458       | 433.59               | 11.9661         |</pre>"
      ],
      "text/plain": [
       "| 354       | 216.714822   | 706.502            | 4.69458       | 433.59               | 11.9661         |"
      ]
     },
     "metadata": {},
     "output_type": "display_data"
    },
    {
     "data": {
      "text/html": [
       "<pre>| 355       | 216.814114   | 706.502            | 4.69458       | 433.59               | 11.9661         |</pre>"
      ],
      "text/plain": [
       "| 355       | 216.814114   | 706.502            | 4.69458       | 433.59               | 11.9661         |"
      ]
     },
     "metadata": {},
     "output_type": "display_data"
    },
    {
     "data": {
      "text/html": [
       "<pre>| 356       | 216.927053   | 706.502            | 4.69458       | 433.59               | 11.9661         |</pre>"
      ],
      "text/plain": [
       "| 356       | 216.927053   | 706.502            | 4.69458       | 433.59               | 11.9661         |"
      ]
     },
     "metadata": {},
     "output_type": "display_data"
    },
    {
     "data": {
      "text/html": [
       "<pre>| 357       | 217.034311   | 706.502            | 4.69458       | 433.59               | 11.9661         |</pre>"
      ],
      "text/plain": [
       "| 357       | 217.034311   | 706.502            | 4.69458       | 433.59               | 11.9661         |"
      ]
     },
     "metadata": {},
     "output_type": "display_data"
    },
    {
     "data": {
      "text/html": [
       "<pre>| 358       | 217.130649   | 706.502            | 4.69458       | 433.59               | 11.9661         |</pre>"
      ],
      "text/plain": [
       "| 358       | 217.130649   | 706.502            | 4.69458       | 433.59               | 11.9661         |"
      ]
     },
     "metadata": {},
     "output_type": "display_data"
    },
    {
     "data": {
      "text/html": [
       "<pre>| 359       | 217.230129   | 706.502            | 4.69458       | 433.59               | 11.9661         |</pre>"
      ],
      "text/plain": [
       "| 359       | 217.230129   | 706.502            | 4.69458       | 433.59               | 11.9661         |"
      ]
     },
     "metadata": {},
     "output_type": "display_data"
    },
    {
     "data": {
      "text/html": [
       "<pre>| 360       | 217.339696   | 706.502            | 4.69458       | 433.59               | 11.9661         |</pre>"
      ],
      "text/plain": [
       "| 360       | 217.339696   | 706.502            | 4.69458       | 433.59               | 11.9661         |"
      ]
     },
     "metadata": {},
     "output_type": "display_data"
    },
    {
     "data": {
      "text/html": [
       "<pre>| 361       | 217.453277   | 706.502            | 4.69458       | 433.59               | 11.9661         |</pre>"
      ],
      "text/plain": [
       "| 361       | 217.453277   | 706.502            | 4.69458       | 433.59               | 11.9661         |"
      ]
     },
     "metadata": {},
     "output_type": "display_data"
    },
    {
     "data": {
      "text/html": [
       "<pre>| 362       | 217.536863   | 706.502            | 4.69458       | 433.59               | 11.9661         |</pre>"
      ],
      "text/plain": [
       "| 362       | 217.536863   | 706.502            | 4.69458       | 433.59               | 11.9661         |"
      ]
     },
     "metadata": {},
     "output_type": "display_data"
    },
    {
     "data": {
      "text/html": [
       "<pre>| 363       | 217.622380   | 706.502            | 4.69458       | 433.59               | 11.9661         |</pre>"
      ],
      "text/plain": [
       "| 363       | 217.622380   | 706.502            | 4.69458       | 433.59               | 11.9661         |"
      ]
     },
     "metadata": {},
     "output_type": "display_data"
    },
    {
     "data": {
      "text/html": [
       "<pre>| 364       | 217.702150   | 706.502            | 4.69458       | 433.59               | 11.9661         |</pre>"
      ],
      "text/plain": [
       "| 364       | 217.702150   | 706.502            | 4.69458       | 433.59               | 11.9661         |"
      ]
     },
     "metadata": {},
     "output_type": "display_data"
    },
    {
     "data": {
      "text/html": [
       "<pre>| 365       | 217.788846   | 706.502            | 4.69458       | 433.59               | 11.9661         |</pre>"
      ],
      "text/plain": [
       "| 365       | 217.788846   | 706.502            | 4.69458       | 433.59               | 11.9661         |"
      ]
     },
     "metadata": {},
     "output_type": "display_data"
    },
    {
     "data": {
      "text/html": [
       "<pre>| 366       | 217.932309   | 706.502            | 4.69458       | 433.59               | 11.9661         |</pre>"
      ],
      "text/plain": [
       "| 366       | 217.932309   | 706.502            | 4.69458       | 433.59               | 11.9661         |"
      ]
     },
     "metadata": {},
     "output_type": "display_data"
    },
    {
     "data": {
      "text/html": [
       "<pre>| 367       | 218.049995   | 706.502            | 4.69458       | 433.59               | 11.9661         |</pre>"
      ],
      "text/plain": [
       "| 367       | 218.049995   | 706.502            | 4.69458       | 433.59               | 11.9661         |"
      ]
     },
     "metadata": {},
     "output_type": "display_data"
    },
    {
     "data": {
      "text/html": [
       "<pre>| 368       | 218.135653   | 706.502            | 4.69458       | 433.59               | 11.9661         |</pre>"
      ],
      "text/plain": [
       "| 368       | 218.135653   | 706.502            | 4.69458       | 433.59               | 11.9661         |"
      ]
     },
     "metadata": {},
     "output_type": "display_data"
    },
    {
     "data": {
      "text/html": [
       "<pre>| 369       | 218.214913   | 706.502            | 4.69458       | 433.59               | 11.9661         |</pre>"
      ],
      "text/plain": [
       "| 369       | 218.214913   | 706.502            | 4.69458       | 433.59               | 11.9661         |"
      ]
     },
     "metadata": {},
     "output_type": "display_data"
    },
    {
     "data": {
      "text/html": [
       "<pre>| 370       | 218.332699   | 706.502            | 4.69458       | 433.59               | 11.9661         |</pre>"
      ],
      "text/plain": [
       "| 370       | 218.332699   | 706.502            | 4.69458       | 433.59               | 11.9661         |"
      ]
     },
     "metadata": {},
     "output_type": "display_data"
    },
    {
     "data": {
      "text/html": [
       "<pre>| 371       | 218.454535   | 706.502            | 4.69458       | 433.59               | 11.9661         |</pre>"
      ],
      "text/plain": [
       "| 371       | 218.454535   | 706.502            | 4.69458       | 433.59               | 11.9661         |"
      ]
     },
     "metadata": {},
     "output_type": "display_data"
    },
    {
     "data": {
      "text/html": [
       "<pre>| 372       | 218.555026   | 706.502            | 4.69458       | 433.59               | 11.9661         |</pre>"
      ],
      "text/plain": [
       "| 372       | 218.555026   | 706.502            | 4.69458       | 433.59               | 11.9661         |"
      ]
     },
     "metadata": {},
     "output_type": "display_data"
    },
    {
     "data": {
      "text/html": [
       "<pre>| 373       | 218.646636   | 706.502            | 4.69458       | 433.59               | 11.9661         |</pre>"
      ],
      "text/plain": [
       "| 373       | 218.646636   | 706.502            | 4.69458       | 433.59               | 11.9661         |"
      ]
     },
     "metadata": {},
     "output_type": "display_data"
    },
    {
     "data": {
      "text/html": [
       "<pre>| 374       | 218.729522   | 706.502            | 4.69458       | 433.59               | 11.9661         |</pre>"
      ],
      "text/plain": [
       "| 374       | 218.729522   | 706.502            | 4.69458       | 433.59               | 11.9661         |"
      ]
     },
     "metadata": {},
     "output_type": "display_data"
    },
    {
     "data": {
      "text/html": [
       "<pre>| 375       | 218.843635   | 706.502            | 4.69458       | 433.59               | 11.9661         |</pre>"
      ],
      "text/plain": [
       "| 375       | 218.843635   | 706.502            | 4.69458       | 433.59               | 11.9661         |"
      ]
     },
     "metadata": {},
     "output_type": "display_data"
    },
    {
     "data": {
      "text/html": [
       "<pre>| 376       | 218.961534   | 706.502            | 4.69458       | 433.59               | 11.9661         |</pre>"
      ],
      "text/plain": [
       "| 376       | 218.961534   | 706.502            | 4.69458       | 433.59               | 11.9661         |"
      ]
     },
     "metadata": {},
     "output_type": "display_data"
    },
    {
     "data": {
      "text/html": [
       "<pre>| 377       | 219.044906   | 706.502            | 4.69458       | 433.59               | 11.9661         |</pre>"
      ],
      "text/plain": [
       "| 377       | 219.044906   | 706.502            | 4.69458       | 433.59               | 11.9661         |"
      ]
     },
     "metadata": {},
     "output_type": "display_data"
    },
    {
     "data": {
      "text/html": [
       "<pre>| 378       | 219.125849   | 706.502            | 4.69458       | 433.59               | 11.9661         |</pre>"
      ],
      "text/plain": [
       "| 378       | 219.125849   | 706.502            | 4.69458       | 433.59               | 11.9661         |"
      ]
     },
     "metadata": {},
     "output_type": "display_data"
    },
    {
     "data": {
      "text/html": [
       "<pre>| 379       | 219.207907   | 706.502            | 4.69458       | 433.59               | 11.9661         |</pre>"
      ],
      "text/plain": [
       "| 379       | 219.207907   | 706.502            | 4.69458       | 433.59               | 11.9661         |"
      ]
     },
     "metadata": {},
     "output_type": "display_data"
    },
    {
     "data": {
      "text/html": [
       "<pre>| 380       | 219.308885   | 706.502            | 4.69458       | 433.59               | 11.9661         |</pre>"
      ],
      "text/plain": [
       "| 380       | 219.308885   | 706.502            | 4.69458       | 433.59               | 11.9661         |"
      ]
     },
     "metadata": {},
     "output_type": "display_data"
    },
    {
     "data": {
      "text/html": [
       "<pre>| 381       | 219.424003   | 706.502            | 4.69458       | 433.59               | 11.9661         |</pre>"
      ],
      "text/plain": [
       "| 381       | 219.424003   | 706.502            | 4.69458       | 433.59               | 11.9661         |"
      ]
     },
     "metadata": {},
     "output_type": "display_data"
    },
    {
     "data": {
      "text/html": [
       "<pre>| 382       | 219.520723   | 706.502            | 4.69458       | 433.59               | 11.9661         |</pre>"
      ],
      "text/plain": [
       "| 382       | 219.520723   | 706.502            | 4.69458       | 433.59               | 11.9661         |"
      ]
     },
     "metadata": {},
     "output_type": "display_data"
    },
    {
     "data": {
      "text/html": [
       "<pre>| 383       | 219.617838   | 706.502            | 4.69458       | 433.59               | 11.9661         |</pre>"
      ],
      "text/plain": [
       "| 383       | 219.617838   | 706.502            | 4.69458       | 433.59               | 11.9661         |"
      ]
     },
     "metadata": {},
     "output_type": "display_data"
    },
    {
     "data": {
      "text/html": [
       "<pre>| 384       | 219.715915   | 706.502            | 4.69458       | 433.59               | 11.9661         |</pre>"
      ],
      "text/plain": [
       "| 384       | 219.715915   | 706.502            | 4.69458       | 433.59               | 11.9661         |"
      ]
     },
     "metadata": {},
     "output_type": "display_data"
    },
    {
     "data": {
      "text/html": [
       "<pre>| 385       | 219.827897   | 706.502            | 4.69458       | 433.59               | 11.9661         |</pre>"
      ],
      "text/plain": [
       "| 385       | 219.827897   | 706.502            | 4.69458       | 433.59               | 11.9661         |"
      ]
     },
     "metadata": {},
     "output_type": "display_data"
    },
    {
     "data": {
      "text/html": [
       "<pre>| 386       | 219.937764   | 706.502            | 4.69458       | 433.59               | 11.9661         |</pre>"
      ],
      "text/plain": [
       "| 386       | 219.937764   | 706.502            | 4.69458       | 433.59               | 11.9661         |"
      ]
     },
     "metadata": {},
     "output_type": "display_data"
    },
    {
     "data": {
      "text/html": [
       "<pre>| 387       | 220.049506   | 706.502            | 4.69458       | 433.59               | 11.9661         |</pre>"
      ],
      "text/plain": [
       "| 387       | 220.049506   | 706.502            | 4.69458       | 433.59               | 11.9661         |"
      ]
     },
     "metadata": {},
     "output_type": "display_data"
    },
    {
     "data": {
      "text/html": [
       "<pre>| 388       | 220.135019   | 706.502            | 4.69458       | 433.59               | 11.9661         |</pre>"
      ],
      "text/plain": [
       "| 388       | 220.135019   | 706.502            | 4.69458       | 433.59               | 11.9661         |"
      ]
     },
     "metadata": {},
     "output_type": "display_data"
    },
    {
     "data": {
      "text/html": [
       "<pre>| 389       | 220.214483   | 706.502            | 4.69458       | 433.59               | 11.9661         |</pre>"
      ],
      "text/plain": [
       "| 389       | 220.214483   | 706.502            | 4.69458       | 433.59               | 11.9661         |"
      ]
     },
     "metadata": {},
     "output_type": "display_data"
    },
    {
     "data": {
      "text/html": [
       "<pre>| 390       | 220.297644   | 706.502            | 4.69458       | 433.59               | 11.9661         |</pre>"
      ],
      "text/plain": [
       "| 390       | 220.297644   | 706.502            | 4.69458       | 433.59               | 11.9661         |"
      ]
     },
     "metadata": {},
     "output_type": "display_data"
    },
    {
     "data": {
      "text/html": [
       "<pre>| 391       | 220.409651   | 706.502            | 4.69458       | 433.59               | 11.9661         |</pre>"
      ],
      "text/plain": [
       "| 391       | 220.409651   | 706.502            | 4.69458       | 433.59               | 11.9661         |"
      ]
     },
     "metadata": {},
     "output_type": "display_data"
    },
    {
     "data": {
      "text/html": [
       "<pre>| 392       | 220.497008   | 706.502            | 4.69458       | 433.59               | 11.9661         |</pre>"
      ],
      "text/plain": [
       "| 392       | 220.497008   | 706.502            | 4.69458       | 433.59               | 11.9661         |"
      ]
     },
     "metadata": {},
     "output_type": "display_data"
    },
    {
     "data": {
      "text/html": [
       "<pre>| 393       | 220.579894   | 706.502            | 4.69458       | 433.59               | 11.9661         |</pre>"
      ],
      "text/plain": [
       "| 393       | 220.579894   | 706.502            | 4.69458       | 433.59               | 11.9661         |"
      ]
     },
     "metadata": {},
     "output_type": "display_data"
    },
    {
     "data": {
      "text/html": [
       "<pre>| 394       | 220.662443   | 706.502            | 4.69458       | 433.59               | 11.9661         |</pre>"
      ],
      "text/plain": [
       "| 394       | 220.662443   | 706.502            | 4.69458       | 433.59               | 11.9661         |"
      ]
     },
     "metadata": {},
     "output_type": "display_data"
    },
    {
     "data": {
      "text/html": [
       "<pre>| 395       | 220.745975   | 706.502            | 4.69458       | 433.59               | 11.9661         |</pre>"
      ],
      "text/plain": [
       "| 395       | 220.745975   | 706.502            | 4.69458       | 433.59               | 11.9661         |"
      ]
     },
     "metadata": {},
     "output_type": "display_data"
    },
    {
     "data": {
      "text/html": [
       "<pre>| 396       | 220.863041   | 706.502            | 4.69458       | 433.59               | 11.9661         |</pre>"
      ],
      "text/plain": [
       "| 396       | 220.863041   | 706.502            | 4.69458       | 433.59               | 11.9661         |"
      ]
     },
     "metadata": {},
     "output_type": "display_data"
    },
    {
     "data": {
      "text/html": [
       "<pre>| 397       | 220.987663   | 706.502            | 4.69458       | 433.59               | 11.9661         |</pre>"
      ],
      "text/plain": [
       "| 397       | 220.987663   | 706.502            | 4.69458       | 433.59               | 11.9661         |"
      ]
     },
     "metadata": {},
     "output_type": "display_data"
    },
    {
     "data": {
      "text/html": [
       "<pre>| 398       | 221.096443   | 706.502            | 4.69458       | 433.59               | 11.9661         |</pre>"
      ],
      "text/plain": [
       "| 398       | 221.096443   | 706.502            | 4.69458       | 433.59               | 11.9661         |"
      ]
     },
     "metadata": {},
     "output_type": "display_data"
    },
    {
     "data": {
      "text/html": [
       "<pre>| 399       | 221.174133   | 706.502            | 4.69458       | 433.59               | 11.9661         |</pre>"
      ],
      "text/plain": [
       "| 399       | 221.174133   | 706.502            | 4.69458       | 433.59               | 11.9661         |"
      ]
     },
     "metadata": {},
     "output_type": "display_data"
    },
    {
     "data": {
      "text/html": [
       "<pre>| 400       | 221.256269   | 706.502            | 4.69458       | 433.59               | 11.9661         |</pre>"
      ],
      "text/plain": [
       "| 400       | 221.256269   | 706.502            | 4.69458       | 433.59               | 11.9661         |"
      ]
     },
     "metadata": {},
     "output_type": "display_data"
    },
    {
     "data": {
      "text/html": [
       "<pre>| 401       | 221.336886   | 706.502            | 4.69458       | 433.59               | 11.9661         |</pre>"
      ],
      "text/plain": [
       "| 401       | 221.336886   | 706.502            | 4.69458       | 433.59               | 11.9661         |"
      ]
     },
     "metadata": {},
     "output_type": "display_data"
    },
    {
     "data": {
      "text/html": [
       "<pre>| 402       | 221.418827   | 706.502            | 4.69458       | 433.59               | 11.9661         |</pre>"
      ],
      "text/plain": [
       "| 402       | 221.418827   | 706.502            | 4.69458       | 433.59               | 11.9661         |"
      ]
     },
     "metadata": {},
     "output_type": "display_data"
    },
    {
     "data": {
      "text/html": [
       "<pre>| 403       | 221.498939   | 706.502            | 4.69458       | 433.59               | 11.9661         |</pre>"
      ],
      "text/plain": [
       "| 403       | 221.498939   | 706.502            | 4.69458       | 433.59               | 11.9661         |"
      ]
     },
     "metadata": {},
     "output_type": "display_data"
    },
    {
     "data": {
      "text/html": [
       "<pre>| 404       | 221.578635   | 706.502            | 4.69458       | 433.59               | 11.9661         |</pre>"
      ],
      "text/plain": [
       "| 404       | 221.578635   | 706.502            | 4.69458       | 433.59               | 11.9661         |"
      ]
     },
     "metadata": {},
     "output_type": "display_data"
    },
    {
     "data": {
      "text/html": [
       "<pre>| 405       | 221.668279   | 706.502            | 4.69458       | 433.59               | 11.9661         |</pre>"
      ],
      "text/plain": [
       "| 405       | 221.668279   | 706.502            | 4.69458       | 433.59               | 11.9661         |"
      ]
     },
     "metadata": {},
     "output_type": "display_data"
    },
    {
     "data": {
      "text/html": [
       "<pre>| 406       | 221.749634   | 706.502            | 4.69458       | 433.59               | 11.9661         |</pre>"
      ],
      "text/plain": [
       "| 406       | 221.749634   | 706.502            | 4.69458       | 433.59               | 11.9661         |"
      ]
     },
     "metadata": {},
     "output_type": "display_data"
    },
    {
     "data": {
      "text/html": [
       "<pre>| 407       | 221.841525   | 706.502            | 4.69458       | 433.59               | 11.9661         |</pre>"
      ],
      "text/plain": [
       "| 407       | 221.841525   | 706.502            | 4.69458       | 433.59               | 11.9661         |"
      ]
     },
     "metadata": {},
     "output_type": "display_data"
    },
    {
     "data": {
      "text/html": [
       "<pre>| 408       | 221.929984   | 706.502            | 4.69458       | 433.59               | 11.9661         |</pre>"
      ],
      "text/plain": [
       "| 408       | 221.929984   | 706.502            | 4.69458       | 433.59               | 11.9661         |"
      ]
     },
     "metadata": {},
     "output_type": "display_data"
    },
    {
     "data": {
      "text/html": [
       "<pre>| 409       | 222.017265   | 706.502            | 4.69458       | 433.59               | 11.9661         |</pre>"
      ],
      "text/plain": [
       "| 409       | 222.017265   | 706.502            | 4.69458       | 433.59               | 11.9661         |"
      ]
     },
     "metadata": {},
     "output_type": "display_data"
    },
    {
     "data": {
      "text/html": [
       "<pre>| 410       | 222.118017   | 706.502            | 4.69458       | 433.59               | 11.9661         |</pre>"
      ],
      "text/plain": [
       "| 410       | 222.118017   | 706.502            | 4.69458       | 433.59               | 11.9661         |"
      ]
     },
     "metadata": {},
     "output_type": "display_data"
    },
    {
     "data": {
      "text/html": [
       "<pre>| 411       | 222.219056   | 706.502            | 4.69458       | 433.59               | 11.9661         |</pre>"
      ],
      "text/plain": [
       "| 411       | 222.219056   | 706.502            | 4.69458       | 433.59               | 11.9661         |"
      ]
     },
     "metadata": {},
     "output_type": "display_data"
    },
    {
     "data": {
      "text/html": [
       "<pre>| 412       | 222.302448   | 706.502            | 4.69458       | 433.59               | 11.9661         |</pre>"
      ],
      "text/plain": [
       "| 412       | 222.302448   | 706.502            | 4.69458       | 433.59               | 11.9661         |"
      ]
     },
     "metadata": {},
     "output_type": "display_data"
    },
    {
     "data": {
      "text/html": [
       "<pre>| 413       | 222.386675   | 706.502            | 4.69458       | 433.59               | 11.9661         |</pre>"
      ],
      "text/plain": [
       "| 413       | 222.386675   | 706.502            | 4.69458       | 433.59               | 11.9661         |"
      ]
     },
     "metadata": {},
     "output_type": "display_data"
    },
    {
     "data": {
      "text/html": [
       "<pre>| 414       | 222.468328   | 706.502            | 4.69458       | 433.59               | 11.9661         |</pre>"
      ],
      "text/plain": [
       "| 414       | 222.468328   | 706.502            | 4.69458       | 433.59               | 11.9661         |"
      ]
     },
     "metadata": {},
     "output_type": "display_data"
    },
    {
     "data": {
      "text/html": [
       "<pre>| 415       | 222.555964   | 706.502            | 4.69458       | 433.59               | 11.9661         |</pre>"
      ],
      "text/plain": [
       "| 415       | 222.555964   | 706.502            | 4.69458       | 433.59               | 11.9661         |"
      ]
     },
     "metadata": {},
     "output_type": "display_data"
    },
    {
     "data": {
      "text/html": [
       "<pre>| 416       | 222.637479   | 706.502            | 4.69458       | 433.59               | 11.9661         |</pre>"
      ],
      "text/plain": [
       "| 416       | 222.637479   | 706.502            | 4.69458       | 433.59               | 11.9661         |"
      ]
     },
     "metadata": {},
     "output_type": "display_data"
    },
    {
     "data": {
      "text/html": [
       "<pre>| 417       | 222.719502   | 706.502            | 4.69458       | 433.59               | 11.9661         |</pre>"
      ],
      "text/plain": [
       "| 417       | 222.719502   | 706.502            | 4.69458       | 433.59               | 11.9661         |"
      ]
     },
     "metadata": {},
     "output_type": "display_data"
    },
    {
     "data": {
      "text/html": [
       "<pre>| 418       | 222.796972   | 706.502            | 4.69458       | 433.59               | 11.9661         |</pre>"
      ],
      "text/plain": [
       "| 418       | 222.796972   | 706.502            | 4.69458       | 433.59               | 11.9661         |"
      ]
     },
     "metadata": {},
     "output_type": "display_data"
    },
    {
     "data": {
      "text/html": [
       "<pre>| 419       | 222.880087   | 706.502            | 4.69458       | 433.59               | 11.9661         |</pre>"
      ],
      "text/plain": [
       "| 419       | 222.880087   | 706.502            | 4.69458       | 433.59               | 11.9661         |"
      ]
     },
     "metadata": {},
     "output_type": "display_data"
    },
    {
     "data": {
      "text/html": [
       "<pre>| 420       | 222.964774   | 706.502            | 4.69458       | 433.59               | 11.9661         |</pre>"
      ],
      "text/plain": [
       "| 420       | 222.964774   | 706.502            | 4.69458       | 433.59               | 11.9661         |"
      ]
     },
     "metadata": {},
     "output_type": "display_data"
    },
    {
     "data": {
      "text/html": [
       "<pre>| 421       | 223.064273   | 706.502            | 4.69458       | 433.59               | 11.9661         |</pre>"
      ],
      "text/plain": [
       "| 421       | 223.064273   | 706.502            | 4.69458       | 433.59               | 11.9661         |"
      ]
     },
     "metadata": {},
     "output_type": "display_data"
    },
    {
     "data": {
      "text/html": [
       "<pre>| 422       | 223.166112   | 706.502            | 4.69458       | 433.59               | 11.9661         |</pre>"
      ],
      "text/plain": [
       "| 422       | 223.166112   | 706.502            | 4.69458       | 433.59               | 11.9661         |"
      ]
     },
     "metadata": {},
     "output_type": "display_data"
    },
    {
     "data": {
      "text/html": [
       "<pre>| 423       | 223.278590   | 706.502            | 4.69458       | 433.59               | 11.9661         |</pre>"
      ],
      "text/plain": [
       "| 423       | 223.278590   | 706.502            | 4.69458       | 433.59               | 11.9661         |"
      ]
     },
     "metadata": {},
     "output_type": "display_data"
    },
    {
     "data": {
      "text/html": [
       "<pre>| 424       | 223.388813   | 706.502            | 4.69458       | 433.59               | 11.9661         |</pre>"
      ],
      "text/plain": [
       "| 424       | 223.388813   | 706.502            | 4.69458       | 433.59               | 11.9661         |"
      ]
     },
     "metadata": {},
     "output_type": "display_data"
    },
    {
     "data": {
      "text/html": [
       "<pre>| 425       | 223.475969   | 706.502            | 4.69458       | 433.59               | 11.9661         |</pre>"
      ],
      "text/plain": [
       "| 425       | 223.475969   | 706.502            | 4.69458       | 433.59               | 11.9661         |"
      ]
     },
     "metadata": {},
     "output_type": "display_data"
    },
    {
     "data": {
      "text/html": [
       "<pre>| 426       | 223.554796   | 706.502            | 4.69458       | 433.59               | 11.9661         |</pre>"
      ],
      "text/plain": [
       "| 426       | 223.554796   | 706.502            | 4.69458       | 433.59               | 11.9661         |"
      ]
     },
     "metadata": {},
     "output_type": "display_data"
    },
    {
     "data": {
      "text/html": [
       "<pre>| 427       | 223.636777   | 706.502            | 4.69458       | 433.59               | 11.9661         |</pre>"
      ],
      "text/plain": [
       "| 427       | 223.636777   | 706.502            | 4.69458       | 433.59               | 11.9661         |"
      ]
     },
     "metadata": {},
     "output_type": "display_data"
    },
    {
     "data": {
      "text/html": [
       "<pre>| 428       | 223.750283   | 706.502            | 4.69458       | 433.59               | 11.9661         |</pre>"
      ],
      "text/plain": [
       "| 428       | 223.750283   | 706.502            | 4.69458       | 433.59               | 11.9661         |"
      ]
     },
     "metadata": {},
     "output_type": "display_data"
    },
    {
     "data": {
      "text/html": [
       "<pre>| 429       | 223.861942   | 706.502            | 4.69458       | 433.59               | 11.9661         |</pre>"
      ],
      "text/plain": [
       "| 429       | 223.861942   | 706.502            | 4.69458       | 433.59               | 11.9661         |"
      ]
     },
     "metadata": {},
     "output_type": "display_data"
    },
    {
     "data": {
      "text/html": [
       "<pre>| 430       | 223.985080   | 706.502            | 4.69458       | 433.59               | 11.9661         |</pre>"
      ],
      "text/plain": [
       "| 430       | 223.985080   | 706.502            | 4.69458       | 433.59               | 11.9661         |"
      ]
     },
     "metadata": {},
     "output_type": "display_data"
    },
    {
     "data": {
      "text/html": [
       "<pre>| 431       | 224.103520   | 706.502            | 4.69458       | 433.59               | 11.9661         |</pre>"
      ],
      "text/plain": [
       "| 431       | 224.103520   | 706.502            | 4.69458       | 433.59               | 11.9661         |"
      ]
     },
     "metadata": {},
     "output_type": "display_data"
    },
    {
     "data": {
      "text/html": [
       "<pre>| 432       | 224.203548   | 706.502            | 4.69458       | 433.59               | 11.9661         |</pre>"
      ],
      "text/plain": [
       "| 432       | 224.203548   | 706.502            | 4.69458       | 433.59               | 11.9661         |"
      ]
     },
     "metadata": {},
     "output_type": "display_data"
    },
    {
     "data": {
      "text/html": [
       "<pre>| 433       | 224.297123   | 706.502            | 4.69458       | 433.59               | 11.9661         |</pre>"
      ],
      "text/plain": [
       "| 433       | 224.297123   | 706.502            | 4.69458       | 433.59               | 11.9661         |"
      ]
     },
     "metadata": {},
     "output_type": "display_data"
    },
    {
     "data": {
      "text/html": [
       "<pre>| 434       | 224.375147   | 706.502            | 4.69458       | 433.59               | 11.9661         |</pre>"
      ],
      "text/plain": [
       "| 434       | 224.375147   | 706.502            | 4.69458       | 433.59               | 11.9661         |"
      ]
     },
     "metadata": {},
     "output_type": "display_data"
    },
    {
     "data": {
      "text/html": [
       "<pre>| 435       | 224.464140   | 706.502            | 4.69458       | 433.59               | 11.9661         |</pre>"
      ],
      "text/plain": [
       "| 435       | 224.464140   | 706.502            | 4.69458       | 433.59               | 11.9661         |"
      ]
     },
     "metadata": {},
     "output_type": "display_data"
    },
    {
     "data": {
      "text/html": [
       "<pre>| 436       | 224.561092   | 706.502            | 4.69458       | 433.59               | 11.9661         |</pre>"
      ],
      "text/plain": [
       "| 436       | 224.561092   | 706.502            | 4.69458       | 433.59               | 11.9661         |"
      ]
     },
     "metadata": {},
     "output_type": "display_data"
    },
    {
     "data": {
      "text/html": [
       "<pre>| 437       | 224.654550   | 706.502            | 4.69458       | 433.59               | 11.9661         |</pre>"
      ],
      "text/plain": [
       "| 437       | 224.654550   | 706.502            | 4.69458       | 433.59               | 11.9661         |"
      ]
     },
     "metadata": {},
     "output_type": "display_data"
    },
    {
     "data": {
      "text/html": [
       "<pre>| 438       | 224.741121   | 706.502            | 4.69458       | 433.59               | 11.9661         |</pre>"
      ],
      "text/plain": [
       "| 438       | 224.741121   | 706.502            | 4.69458       | 433.59               | 11.9661         |"
      ]
     },
     "metadata": {},
     "output_type": "display_data"
    },
    {
     "data": {
      "text/html": [
       "<pre>| 439       | 224.833770   | 706.502            | 4.69458       | 433.59               | 11.9661         |</pre>"
      ],
      "text/plain": [
       "| 439       | 224.833770   | 706.502            | 4.69458       | 433.59               | 11.9661         |"
      ]
     },
     "metadata": {},
     "output_type": "display_data"
    },
    {
     "data": {
      "text/html": [
       "<pre>| 440       | 224.938772   | 706.502            | 4.69458       | 433.59               | 11.9661         |</pre>"
      ],
      "text/plain": [
       "| 440       | 224.938772   | 706.502            | 4.69458       | 433.59               | 11.9661         |"
      ]
     },
     "metadata": {},
     "output_type": "display_data"
    },
    {
     "data": {
      "text/html": [
       "<pre>| 441       | 225.018707   | 706.502            | 4.69458       | 433.59               | 11.9661         |</pre>"
      ],
      "text/plain": [
       "| 441       | 225.018707   | 706.502            | 4.69458       | 433.59               | 11.9661         |"
      ]
     },
     "metadata": {},
     "output_type": "display_data"
    },
    {
     "data": {
      "text/html": [
       "<pre>| 442       | 225.100463   | 706.502            | 4.69458       | 433.59               | 11.9661         |</pre>"
      ],
      "text/plain": [
       "| 442       | 225.100463   | 706.502            | 4.69458       | 433.59               | 11.9661         |"
      ]
     },
     "metadata": {},
     "output_type": "display_data"
    },
    {
     "data": {
      "text/html": [
       "<pre>| 443       | 225.190443   | 706.502            | 4.69458       | 433.59               | 11.9661         |</pre>"
      ],
      "text/plain": [
       "| 443       | 225.190443   | 706.502            | 4.69458       | 433.59               | 11.9661         |"
      ]
     },
     "metadata": {},
     "output_type": "display_data"
    },
    {
     "data": {
      "text/html": [
       "<pre>| 444       | 225.269714   | 706.502            | 4.69458       | 433.59               | 11.9661         |</pre>"
      ],
      "text/plain": [
       "| 444       | 225.269714   | 706.502            | 4.69458       | 433.59               | 11.9661         |"
      ]
     },
     "metadata": {},
     "output_type": "display_data"
    },
    {
     "data": {
      "text/html": [
       "<pre>| 445       | 225.350539   | 706.502            | 4.69458       | 433.59               | 11.9661         |</pre>"
      ],
      "text/plain": [
       "| 445       | 225.350539   | 706.502            | 4.69458       | 433.59               | 11.9661         |"
      ]
     },
     "metadata": {},
     "output_type": "display_data"
    },
    {
     "data": {
      "text/html": [
       "<pre>| 446       | 225.439900   | 706.502            | 4.69458       | 433.59               | 11.9661         |</pre>"
      ],
      "text/plain": [
       "| 446       | 225.439900   | 706.502            | 4.69458       | 433.59               | 11.9661         |"
      ]
     },
     "metadata": {},
     "output_type": "display_data"
    },
    {
     "data": {
      "text/html": [
       "<pre>| 447       | 225.531197   | 706.502            | 4.69458       | 433.59               | 11.9661         |</pre>"
      ],
      "text/plain": [
       "| 447       | 225.531197   | 706.502            | 4.69458       | 433.59               | 11.9661         |"
      ]
     },
     "metadata": {},
     "output_type": "display_data"
    },
    {
     "data": {
      "text/html": [
       "<pre>| 448       | 225.639353   | 706.502            | 4.69458       | 433.59               | 11.9661         |</pre>"
      ],
      "text/plain": [
       "| 448       | 225.639353   | 706.502            | 4.69458       | 433.59               | 11.9661         |"
      ]
     },
     "metadata": {},
     "output_type": "display_data"
    },
    {
     "data": {
      "text/html": [
       "<pre>| 449       | 225.756766   | 706.502            | 4.69458       | 433.59               | 11.9661         |</pre>"
      ],
      "text/plain": [
       "| 449       | 225.756766   | 706.502            | 4.69458       | 433.59               | 11.9661         |"
      ]
     },
     "metadata": {},
     "output_type": "display_data"
    },
    {
     "data": {
      "text/html": [
       "<pre>| 450       | 225.883587   | 706.502            | 4.69458       | 433.59               | 11.9661         |</pre>"
      ],
      "text/plain": [
       "| 450       | 225.883587   | 706.502            | 4.69458       | 433.59               | 11.9661         |"
      ]
     },
     "metadata": {},
     "output_type": "display_data"
    },
    {
     "data": {
      "text/html": [
       "<pre>| 451       | 225.977210   | 706.502            | 4.69458       | 433.59               | 11.9661         |</pre>"
      ],
      "text/plain": [
       "| 451       | 225.977210   | 706.502            | 4.69458       | 433.59               | 11.9661         |"
      ]
     },
     "metadata": {},
     "output_type": "display_data"
    },
    {
     "data": {
      "text/html": [
       "<pre>| 452       | 226.057504   | 706.502            | 4.69458       | 433.59               | 11.9661         |</pre>"
      ],
      "text/plain": [
       "| 452       | 226.057504   | 706.502            | 4.69458       | 433.59               | 11.9661         |"
      ]
     },
     "metadata": {},
     "output_type": "display_data"
    },
    {
     "data": {
      "text/html": [
       "<pre>| 453       | 226.137347   | 706.502            | 4.69458       | 433.59               | 11.9661         |</pre>"
      ],
      "text/plain": [
       "| 453       | 226.137347   | 706.502            | 4.69458       | 433.59               | 11.9661         |"
      ]
     },
     "metadata": {},
     "output_type": "display_data"
    },
    {
     "data": {
      "text/html": [
       "<pre>| 454       | 226.218914   | 706.502            | 4.69458       | 433.59               | 11.9661         |</pre>"
      ],
      "text/plain": [
       "| 454       | 226.218914   | 706.502            | 4.69458       | 433.59               | 11.9661         |"
      ]
     },
     "metadata": {},
     "output_type": "display_data"
    },
    {
     "data": {
      "text/html": [
       "<pre>| 455       | 226.302125   | 706.502            | 4.69458       | 433.59               | 11.9661         |</pre>"
      ],
      "text/plain": [
       "| 455       | 226.302125   | 706.502            | 4.69458       | 433.59               | 11.9661         |"
      ]
     },
     "metadata": {},
     "output_type": "display_data"
    },
    {
     "data": {
      "text/html": [
       "<pre>| 456       | 226.384692   | 706.502            | 4.69458       | 433.59               | 11.9661         |</pre>"
      ],
      "text/plain": [
       "| 456       | 226.384692   | 706.502            | 4.69458       | 433.59               | 11.9661         |"
      ]
     },
     "metadata": {},
     "output_type": "display_data"
    },
    {
     "data": {
      "text/html": [
       "<pre>| 457       | 226.468403   | 706.502            | 4.69458       | 433.59               | 11.9661         |</pre>"
      ],
      "text/plain": [
       "| 457       | 226.468403   | 706.502            | 4.69458       | 433.59               | 11.9661         |"
      ]
     },
     "metadata": {},
     "output_type": "display_data"
    },
    {
     "data": {
      "text/html": [
       "<pre>| 458       | 226.552018   | 706.502            | 4.69458       | 433.59               | 11.9661         |</pre>"
      ],
      "text/plain": [
       "| 458       | 226.552018   | 706.502            | 4.69458       | 433.59               | 11.9661         |"
      ]
     },
     "metadata": {},
     "output_type": "display_data"
    },
    {
     "data": {
      "text/html": [
       "<pre>| 459       | 226.640560   | 706.502            | 4.69458       | 433.59               | 11.9661         |</pre>"
      ],
      "text/plain": [
       "| 459       | 226.640560   | 706.502            | 4.69458       | 433.59               | 11.9661         |"
      ]
     },
     "metadata": {},
     "output_type": "display_data"
    },
    {
     "data": {
      "text/html": [
       "<pre>| 460       | 226.723431   | 706.502            | 4.69458       | 433.59               | 11.9661         |</pre>"
      ],
      "text/plain": [
       "| 460       | 226.723431   | 706.502            | 4.69458       | 433.59               | 11.9661         |"
      ]
     },
     "metadata": {},
     "output_type": "display_data"
    },
    {
     "data": {
      "text/html": [
       "<pre>| 461       | 226.810898   | 706.502            | 4.69458       | 433.59               | 11.9661         |</pre>"
      ],
      "text/plain": [
       "| 461       | 226.810898   | 706.502            | 4.69458       | 433.59               | 11.9661         |"
      ]
     },
     "metadata": {},
     "output_type": "display_data"
    },
    {
     "data": {
      "text/html": [
       "<pre>| 462       | 226.934898   | 706.502            | 4.69458       | 433.59               | 11.9661         |</pre>"
      ],
      "text/plain": [
       "| 462       | 226.934898   | 706.502            | 4.69458       | 433.59               | 11.9661         |"
      ]
     },
     "metadata": {},
     "output_type": "display_data"
    },
    {
     "data": {
      "text/html": [
       "<pre>| 463       | 227.065841   | 706.502            | 4.69458       | 433.59               | 11.9661         |</pre>"
      ],
      "text/plain": [
       "| 463       | 227.065841   | 706.502            | 4.69458       | 433.59               | 11.9661         |"
      ]
     },
     "metadata": {},
     "output_type": "display_data"
    },
    {
     "data": {
      "text/html": [
       "<pre>| 464       | 227.155158   | 706.502            | 4.69458       | 433.59               | 11.9661         |</pre>"
      ],
      "text/plain": [
       "| 464       | 227.155158   | 706.502            | 4.69458       | 433.59               | 11.9661         |"
      ]
     },
     "metadata": {},
     "output_type": "display_data"
    },
    {
     "data": {
      "text/html": [
       "<pre>| 465       | 227.236688   | 706.502            | 4.69458       | 433.59               | 11.9661         |</pre>"
      ],
      "text/plain": [
       "| 465       | 227.236688   | 706.502            | 4.69458       | 433.59               | 11.9661         |"
      ]
     },
     "metadata": {},
     "output_type": "display_data"
    },
    {
     "data": {
      "text/html": [
       "<pre>| 466       | 227.319384   | 706.502            | 4.69458       | 433.59               | 11.9661         |</pre>"
      ],
      "text/plain": [
       "| 466       | 227.319384   | 706.502            | 4.69458       | 433.59               | 11.9661         |"
      ]
     },
     "metadata": {},
     "output_type": "display_data"
    },
    {
     "data": {
      "text/html": [
       "<pre>| 467       | 227.399697   | 706.502            | 4.69458       | 433.59               | 11.9661         |</pre>"
      ],
      "text/plain": [
       "| 467       | 227.399697   | 706.502            | 4.69458       | 433.59               | 11.9661         |"
      ]
     },
     "metadata": {},
     "output_type": "display_data"
    },
    {
     "data": {
      "text/html": [
       "<pre>| 468       | 227.484566   | 706.502            | 4.69458       | 433.59               | 11.9661         |</pre>"
      ],
      "text/plain": [
       "| 468       | 227.484566   | 706.502            | 4.69458       | 433.59               | 11.9661         |"
      ]
     },
     "metadata": {},
     "output_type": "display_data"
    },
    {
     "data": {
      "text/html": [
       "<pre>| 469       | 227.567228   | 706.502            | 4.69458       | 433.59               | 11.9661         |</pre>"
      ],
      "text/plain": [
       "| 469       | 227.567228   | 706.502            | 4.69458       | 433.59               | 11.9661         |"
      ]
     },
     "metadata": {},
     "output_type": "display_data"
    },
    {
     "data": {
      "text/html": [
       "<pre>| 470       | 227.646696   | 706.502            | 4.69458       | 433.59               | 11.9661         |</pre>"
      ],
      "text/plain": [
       "| 470       | 227.646696   | 706.502            | 4.69458       | 433.59               | 11.9661         |"
      ]
     },
     "metadata": {},
     "output_type": "display_data"
    },
    {
     "data": {
      "text/html": [
       "<pre>| 471       | 227.727729   | 706.502            | 4.69458       | 433.59               | 11.9661         |</pre>"
      ],
      "text/plain": [
       "| 471       | 227.727729   | 706.502            | 4.69458       | 433.59               | 11.9661         |"
      ]
     },
     "metadata": {},
     "output_type": "display_data"
    },
    {
     "data": {
      "text/html": [
       "<pre>| 472       | 227.807398   | 706.502            | 4.69458       | 433.59               | 11.9661         |</pre>"
      ],
      "text/plain": [
       "| 472       | 227.807398   | 706.502            | 4.69458       | 433.59               | 11.9661         |"
      ]
     },
     "metadata": {},
     "output_type": "display_data"
    },
    {
     "data": {
      "text/html": [
       "<pre>| 473       | 227.910722   | 706.502            | 4.69458       | 433.59               | 11.9661         |</pre>"
      ],
      "text/plain": [
       "| 473       | 227.910722   | 706.502            | 4.69458       | 433.59               | 11.9661         |"
      ]
     },
     "metadata": {},
     "output_type": "display_data"
    },
    {
     "data": {
      "text/html": [
       "<pre>| 474       | 227.990093   | 706.502            | 4.69458       | 433.59               | 11.9661         |</pre>"
      ],
      "text/plain": [
       "| 474       | 227.990093   | 706.502            | 4.69458       | 433.59               | 11.9661         |"
      ]
     },
     "metadata": {},
     "output_type": "display_data"
    },
    {
     "data": {
      "text/html": [
       "<pre>| 475       | 228.070681   | 706.502            | 4.69458       | 433.59               | 11.9661         |</pre>"
      ],
      "text/plain": [
       "| 475       | 228.070681   | 706.502            | 4.69458       | 433.59               | 11.9661         |"
      ]
     },
     "metadata": {},
     "output_type": "display_data"
    },
    {
     "data": {
      "text/html": [
       "<pre>| 476       | 228.165777   | 706.502            | 4.69458       | 433.59               | 11.9661         |</pre>"
      ],
      "text/plain": [
       "| 476       | 228.165777   | 706.502            | 4.69458       | 433.59               | 11.9661         |"
      ]
     },
     "metadata": {},
     "output_type": "display_data"
    },
    {
     "data": {
      "text/html": [
       "<pre>| 477       | 228.269256   | 706.502            | 4.69458       | 433.59               | 11.9661         |</pre>"
      ],
      "text/plain": [
       "| 477       | 228.269256   | 706.502            | 4.69458       | 433.59               | 11.9661         |"
      ]
     },
     "metadata": {},
     "output_type": "display_data"
    },
    {
     "data": {
      "text/html": [
       "<pre>| 478       | 228.355395   | 706.502            | 4.69458       | 433.59               | 11.9661         |</pre>"
      ],
      "text/plain": [
       "| 478       | 228.355395   | 706.502            | 4.69458       | 433.59               | 11.9661         |"
      ]
     },
     "metadata": {},
     "output_type": "display_data"
    },
    {
     "data": {
      "text/html": [
       "<pre>| 479       | 228.434785   | 706.502            | 4.69458       | 433.59               | 11.9661         |</pre>"
      ],
      "text/plain": [
       "| 479       | 228.434785   | 706.502            | 4.69458       | 433.59               | 11.9661         |"
      ]
     },
     "metadata": {},
     "output_type": "display_data"
    },
    {
     "data": {
      "text/html": [
       "<pre>| 480       | 228.513867   | 706.502            | 4.69458       | 433.59               | 11.9661         |</pre>"
      ],
      "text/plain": [
       "| 480       | 228.513867   | 706.502            | 4.69458       | 433.59               | 11.9661         |"
      ]
     },
     "metadata": {},
     "output_type": "display_data"
    },
    {
     "data": {
      "text/html": [
       "<pre>| 481       | 228.601247   | 706.502            | 4.69458       | 433.59               | 11.9661         |</pre>"
      ],
      "text/plain": [
       "| 481       | 228.601247   | 706.502            | 4.69458       | 433.59               | 11.9661         |"
      ]
     },
     "metadata": {},
     "output_type": "display_data"
    },
    {
     "data": {
      "text/html": [
       "<pre>| 482       | 228.687299   | 706.502            | 4.69458       | 433.59               | 11.9661         |</pre>"
      ],
      "text/plain": [
       "| 482       | 228.687299   | 706.502            | 4.69458       | 433.59               | 11.9661         |"
      ]
     },
     "metadata": {},
     "output_type": "display_data"
    },
    {
     "data": {
      "text/html": [
       "<pre>| 483       | 228.766787   | 706.502            | 4.69458       | 433.59               | 11.9661         |</pre>"
      ],
      "text/plain": [
       "| 483       | 228.766787   | 706.502            | 4.69458       | 433.59               | 11.9661         |"
      ]
     },
     "metadata": {},
     "output_type": "display_data"
    },
    {
     "data": {
      "text/html": [
       "<pre>| 484       | 228.851897   | 706.502            | 4.69458       | 433.59               | 11.9661         |</pre>"
      ],
      "text/plain": [
       "| 484       | 228.851897   | 706.502            | 4.69458       | 433.59               | 11.9661         |"
      ]
     },
     "metadata": {},
     "output_type": "display_data"
    },
    {
     "data": {
      "text/html": [
       "<pre>| 485       | 228.931191   | 706.502            | 4.69458       | 433.59               | 11.9661         |</pre>"
      ],
      "text/plain": [
       "| 485       | 228.931191   | 706.502            | 4.69458       | 433.59               | 11.9661         |"
      ]
     },
     "metadata": {},
     "output_type": "display_data"
    },
    {
     "data": {
      "text/html": [
       "<pre>| 486       | 229.016611   | 706.502            | 4.69458       | 433.59               | 11.9661         |</pre>"
      ],
      "text/plain": [
       "| 486       | 229.016611   | 706.502            | 4.69458       | 433.59               | 11.9661         |"
      ]
     },
     "metadata": {},
     "output_type": "display_data"
    },
    {
     "data": {
      "text/html": [
       "<pre>| 487       | 229.101015   | 706.502            | 4.69458       | 433.59               | 11.9661         |</pre>"
      ],
      "text/plain": [
       "| 487       | 229.101015   | 706.502            | 4.69458       | 433.59               | 11.9661         |"
      ]
     },
     "metadata": {},
     "output_type": "display_data"
    },
    {
     "data": {
      "text/html": [
       "<pre>| 488       | 229.187087   | 706.502            | 4.69458       | 433.59               | 11.9661         |</pre>"
      ],
      "text/plain": [
       "| 488       | 229.187087   | 706.502            | 4.69458       | 433.59               | 11.9661         |"
      ]
     },
     "metadata": {},
     "output_type": "display_data"
    },
    {
     "data": {
      "text/html": [
       "<pre>| 489       | 229.272829   | 706.502            | 4.69458       | 433.59               | 11.9661         |</pre>"
      ],
      "text/plain": [
       "| 489       | 229.272829   | 706.502            | 4.69458       | 433.59               | 11.9661         |"
      ]
     },
     "metadata": {},
     "output_type": "display_data"
    },
    {
     "data": {
      "text/html": [
       "<pre>| 490       | 229.369891   | 706.502            | 4.69458       | 433.59               | 11.9661         |</pre>"
      ],
      "text/plain": [
       "| 490       | 229.369891   | 706.502            | 4.69458       | 433.59               | 11.9661         |"
      ]
     },
     "metadata": {},
     "output_type": "display_data"
    },
    {
     "data": {
      "text/html": [
       "<pre>| 491       | 229.470909   | 706.502            | 4.69458       | 433.59               | 11.9661         |</pre>"
      ],
      "text/plain": [
       "| 491       | 229.470909   | 706.502            | 4.69458       | 433.59               | 11.9661         |"
      ]
     },
     "metadata": {},
     "output_type": "display_data"
    },
    {
     "data": {
      "text/html": [
       "<pre>| 492       | 229.554216   | 706.502            | 4.69458       | 433.59               | 11.9661         |</pre>"
      ],
      "text/plain": [
       "| 492       | 229.554216   | 706.502            | 4.69458       | 433.59               | 11.9661         |"
      ]
     },
     "metadata": {},
     "output_type": "display_data"
    },
    {
     "data": {
      "text/html": [
       "<pre>| 493       | 229.637331   | 706.502            | 4.69458       | 433.59               | 11.9661         |</pre>"
      ],
      "text/plain": [
       "| 493       | 229.637331   | 706.502            | 4.69458       | 433.59               | 11.9661         |"
      ]
     },
     "metadata": {},
     "output_type": "display_data"
    },
    {
     "data": {
      "text/html": [
       "<pre>| 494       | 229.726715   | 706.502            | 4.69458       | 433.59               | 11.9661         |</pre>"
      ],
      "text/plain": [
       "| 494       | 229.726715   | 706.502            | 4.69458       | 433.59               | 11.9661         |"
      ]
     },
     "metadata": {},
     "output_type": "display_data"
    },
    {
     "data": {
      "text/html": [
       "<pre>| 495       | 229.807221   | 706.502            | 4.69458       | 433.59               | 11.9661         |</pre>"
      ],
      "text/plain": [
       "| 495       | 229.807221   | 706.502            | 4.69458       | 433.59               | 11.9661         |"
      ]
     },
     "metadata": {},
     "output_type": "display_data"
    },
    {
     "data": {
      "text/html": [
       "<pre>| 496       | 229.920054   | 706.502            | 4.69458       | 433.59               | 11.9661         |</pre>"
      ],
      "text/plain": [
       "| 496       | 229.920054   | 706.502            | 4.69458       | 433.59               | 11.9661         |"
      ]
     },
     "metadata": {},
     "output_type": "display_data"
    },
    {
     "data": {
      "text/html": [
       "<pre>| 497       | 230.028927   | 706.502            | 4.69458       | 433.59               | 11.9661         |</pre>"
      ],
      "text/plain": [
       "| 497       | 230.028927   | 706.502            | 4.69458       | 433.59               | 11.9661         |"
      ]
     },
     "metadata": {},
     "output_type": "display_data"
    },
    {
     "data": {
      "text/html": [
       "<pre>| 498       | 230.131951   | 706.502            | 4.69458       | 433.59               | 11.9661         |</pre>"
      ],
      "text/plain": [
       "| 498       | 230.131951   | 706.502            | 4.69458       | 433.59               | 11.9661         |"
      ]
     },
     "metadata": {},
     "output_type": "display_data"
    },
    {
     "data": {
      "text/html": [
       "<pre>| 499       | 230.216184   | 706.502            | 4.69458       | 433.59               | 11.9661         |</pre>"
      ],
      "text/plain": [
       "| 499       | 230.216184   | 706.502            | 4.69458       | 433.59               | 11.9661         |"
      ]
     },
     "metadata": {},
     "output_type": "display_data"
    },
    {
     "data": {
      "text/html": [
       "<pre>| 500       | 230.294851   | 706.502            | 4.69458       | 433.59               | 11.9661         |</pre>"
      ],
      "text/plain": [
       "| 500       | 230.294851   | 706.502            | 4.69458       | 433.59               | 11.9661         |"
      ]
     },
     "metadata": {},
     "output_type": "display_data"
    },
    {
     "data": {
      "text/html": [
       "<pre>| 501       | 230.383561   | 706.502            | 4.69458       | 433.59               | 11.9661         |</pre>"
      ],
      "text/plain": [
       "| 501       | 230.383561   | 706.502            | 4.69458       | 433.59               | 11.9661         |"
      ]
     },
     "metadata": {},
     "output_type": "display_data"
    },
    {
     "data": {
      "text/html": [
       "<pre>| 502       | 230.465501   | 706.502            | 4.69458       | 433.59               | 11.9661         |</pre>"
      ],
      "text/plain": [
       "| 502       | 230.465501   | 706.502            | 4.69458       | 433.59               | 11.9661         |"
      ]
     },
     "metadata": {},
     "output_type": "display_data"
    },
    {
     "data": {
      "text/html": [
       "<pre>| 503       | 230.554518   | 706.502            | 4.69458       | 433.59               | 11.9661         |</pre>"
      ],
      "text/plain": [
       "| 503       | 230.554518   | 706.502            | 4.69458       | 433.59               | 11.9661         |"
      ]
     },
     "metadata": {},
     "output_type": "display_data"
    },
    {
     "data": {
      "text/html": [
       "<pre>| 504       | 230.651758   | 706.502            | 4.69458       | 433.59               | 11.9661         |</pre>"
      ],
      "text/plain": [
       "| 504       | 230.651758   | 706.502            | 4.69458       | 433.59               | 11.9661         |"
      ]
     },
     "metadata": {},
     "output_type": "display_data"
    },
    {
     "data": {
      "text/html": [
       "<pre>| 505       | 230.754721   | 706.502            | 4.69458       | 433.59               | 11.9661         |</pre>"
      ],
      "text/plain": [
       "| 505       | 230.754721   | 706.502            | 4.69458       | 433.59               | 11.9661         |"
      ]
     },
     "metadata": {},
     "output_type": "display_data"
    },
    {
     "data": {
      "text/html": [
       "<pre>| 506       | 230.855215   | 706.502            | 4.69458       | 433.59               | 11.9661         |</pre>"
      ],
      "text/plain": [
       "| 506       | 230.855215   | 706.502            | 4.69458       | 433.59               | 11.9661         |"
      ]
     },
     "metadata": {},
     "output_type": "display_data"
    },
    {
     "data": {
      "text/html": [
       "<pre>| 507       | 230.942508   | 706.502            | 4.69458       | 433.59               | 11.9661         |</pre>"
      ],
      "text/plain": [
       "| 507       | 230.942508   | 706.502            | 4.69458       | 433.59               | 11.9661         |"
      ]
     },
     "metadata": {},
     "output_type": "display_data"
    },
    {
     "data": {
      "text/html": [
       "<pre>| 508       | 231.023102   | 706.502            | 4.69458       | 433.59               | 11.9661         |</pre>"
      ],
      "text/plain": [
       "| 508       | 231.023102   | 706.502            | 4.69458       | 433.59               | 11.9661         |"
      ]
     },
     "metadata": {},
     "output_type": "display_data"
    },
    {
     "data": {
      "text/html": [
       "<pre>| 509       | 231.104895   | 706.502            | 4.69458       | 433.59               | 11.9661         |</pre>"
      ],
      "text/plain": [
       "| 509       | 231.104895   | 706.502            | 4.69458       | 433.59               | 11.9661         |"
      ]
     },
     "metadata": {},
     "output_type": "display_data"
    },
    {
     "data": {
      "text/html": [
       "<pre>| 510       | 231.183005   | 706.502            | 4.69458       | 433.59               | 11.9661         |</pre>"
      ],
      "text/plain": [
       "| 510       | 231.183005   | 706.502            | 4.69458       | 433.59               | 11.9661         |"
      ]
     },
     "metadata": {},
     "output_type": "display_data"
    },
    {
     "data": {
      "text/html": [
       "<pre>| 511       | 231.267934   | 706.502            | 4.69458       | 433.59               | 11.9661         |</pre>"
      ],
      "text/plain": [
       "| 511       | 231.267934   | 706.502            | 4.69458       | 433.59               | 11.9661         |"
      ]
     },
     "metadata": {},
     "output_type": "display_data"
    },
    {
     "data": {
      "text/html": [
       "<pre>| 512       | 231.348591   | 706.502            | 4.69458       | 433.59               | 11.9661         |</pre>"
      ],
      "text/plain": [
       "| 512       | 231.348591   | 706.502            | 4.69458       | 433.59               | 11.9661         |"
      ]
     },
     "metadata": {},
     "output_type": "display_data"
    },
    {
     "data": {
      "text/html": [
       "<pre>| 513       | 231.429830   | 706.502            | 4.69458       | 433.59               | 11.9661         |</pre>"
      ],
      "text/plain": [
       "| 513       | 231.429830   | 706.502            | 4.69458       | 433.59               | 11.9661         |"
      ]
     },
     "metadata": {},
     "output_type": "display_data"
    },
    {
     "data": {
      "text/html": [
       "<pre>| 514       | 231.519432   | 706.502            | 4.69458       | 433.59               | 11.9661         |</pre>"
      ],
      "text/plain": [
       "| 514       | 231.519432   | 706.502            | 4.69458       | 433.59               | 11.9661         |"
      ]
     },
     "metadata": {},
     "output_type": "display_data"
    },
    {
     "data": {
      "text/html": [
       "<pre>| 515       | 231.598934   | 706.502            | 4.69458       | 433.59               | 11.9661         |</pre>"
      ],
      "text/plain": [
       "| 515       | 231.598934   | 706.502            | 4.69458       | 433.59               | 11.9661         |"
      ]
     },
     "metadata": {},
     "output_type": "display_data"
    },
    {
     "data": {
      "text/html": [
       "<pre>| 516       | 231.684456   | 706.502            | 4.69458       | 433.59               | 11.9661         |</pre>"
      ],
      "text/plain": [
       "| 516       | 231.684456   | 706.502            | 4.69458       | 433.59               | 11.9661         |"
      ]
     },
     "metadata": {},
     "output_type": "display_data"
    },
    {
     "data": {
      "text/html": [
       "<pre>| 517       | 231.776721   | 706.502            | 4.69458       | 433.59               | 11.9661         |</pre>"
      ],
      "text/plain": [
       "| 517       | 231.776721   | 706.502            | 4.69458       | 433.59               | 11.9661         |"
      ]
     },
     "metadata": {},
     "output_type": "display_data"
    },
    {
     "data": {
      "text/html": [
       "<pre>| 518       | 231.881990   | 706.502            | 4.69458       | 433.59               | 11.9661         |</pre>"
      ],
      "text/plain": [
       "| 518       | 231.881990   | 706.502            | 4.69458       | 433.59               | 11.9661         |"
      ]
     },
     "metadata": {},
     "output_type": "display_data"
    },
    {
     "data": {
      "text/html": [
       "<pre>| 519       | 231.977026   | 706.502            | 4.69458       | 433.59               | 11.9661         |</pre>"
      ],
      "text/plain": [
       "| 519       | 231.977026   | 706.502            | 4.69458       | 433.59               | 11.9661         |"
      ]
     },
     "metadata": {},
     "output_type": "display_data"
    },
    {
     "data": {
      "text/html": [
       "<pre>| 520       | 232.067317   | 706.502            | 4.69458       | 433.59               | 11.9661         |</pre>"
      ],
      "text/plain": [
       "| 520       | 232.067317   | 706.502            | 4.69458       | 433.59               | 11.9661         |"
      ]
     },
     "metadata": {},
     "output_type": "display_data"
    },
    {
     "data": {
      "text/html": [
       "<pre>| 521       | 232.154866   | 706.502            | 4.69458       | 433.59               | 11.9661         |</pre>"
      ],
      "text/plain": [
       "| 521       | 232.154866   | 706.502            | 4.69458       | 433.59               | 11.9661         |"
      ]
     },
     "metadata": {},
     "output_type": "display_data"
    },
    {
     "data": {
      "text/html": [
       "<pre>| 522       | 232.238619   | 706.502            | 4.69458       | 433.59               | 11.9661         |</pre>"
      ],
      "text/plain": [
       "| 522       | 232.238619   | 706.502            | 4.69458       | 433.59               | 11.9661         |"
      ]
     },
     "metadata": {},
     "output_type": "display_data"
    },
    {
     "data": {
      "text/html": [
       "<pre>| 523       | 232.322395   | 706.502            | 4.69458       | 433.59               | 11.9661         |</pre>"
      ],
      "text/plain": [
       "| 523       | 232.322395   | 706.502            | 4.69458       | 433.59               | 11.9661         |"
      ]
     },
     "metadata": {},
     "output_type": "display_data"
    },
    {
     "data": {
      "text/html": [
       "<pre>| 524       | 232.417490   | 706.502            | 4.69458       | 433.59               | 11.9661         |</pre>"
      ],
      "text/plain": [
       "| 524       | 232.417490   | 706.502            | 4.69458       | 433.59               | 11.9661         |"
      ]
     },
     "metadata": {},
     "output_type": "display_data"
    },
    {
     "data": {
      "text/html": [
       "<pre>| 525       | 232.502068   | 706.502            | 4.69458       | 433.59               | 11.9661         |</pre>"
      ],
      "text/plain": [
       "| 525       | 232.502068   | 706.502            | 4.69458       | 433.59               | 11.9661         |"
      ]
     },
     "metadata": {},
     "output_type": "display_data"
    },
    {
     "data": {
      "text/html": [
       "<pre>| 526       | 232.588411   | 706.502            | 4.69458       | 433.59               | 11.9661         |</pre>"
      ],
      "text/plain": [
       "| 526       | 232.588411   | 706.502            | 4.69458       | 433.59               | 11.9661         |"
      ]
     },
     "metadata": {},
     "output_type": "display_data"
    },
    {
     "data": {
      "text/html": [
       "<pre>| 527       | 232.667354   | 706.502            | 4.69458       | 433.59               | 11.9661         |</pre>"
      ],
      "text/plain": [
       "| 527       | 232.667354   | 706.502            | 4.69458       | 433.59               | 11.9661         |"
      ]
     },
     "metadata": {},
     "output_type": "display_data"
    },
    {
     "data": {
      "text/html": [
       "<pre>| 528       | 232.748410   | 706.502            | 4.69458       | 433.59               | 11.9661         |</pre>"
      ],
      "text/plain": [
       "| 528       | 232.748410   | 706.502            | 4.69458       | 433.59               | 11.9661         |"
      ]
     },
     "metadata": {},
     "output_type": "display_data"
    },
    {
     "data": {
      "text/html": [
       "<pre>| 529       | 232.850251   | 706.502            | 4.69458       | 433.59               | 11.9661         |</pre>"
      ],
      "text/plain": [
       "| 529       | 232.850251   | 706.502            | 4.69458       | 433.59               | 11.9661         |"
      ]
     },
     "metadata": {},
     "output_type": "display_data"
    },
    {
     "data": {
      "text/html": [
       "<pre>| 530       | 232.963106   | 706.502            | 4.69458       | 433.59               | 11.9661         |</pre>"
      ],
      "text/plain": [
       "| 530       | 232.963106   | 706.502            | 4.69458       | 433.59               | 11.9661         |"
      ]
     },
     "metadata": {},
     "output_type": "display_data"
    },
    {
     "data": {
      "text/html": [
       "<pre>| 531       | 233.086833   | 706.502            | 4.69458       | 433.59               | 11.9661         |</pre>"
      ],
      "text/plain": [
       "| 531       | 233.086833   | 706.502            | 4.69458       | 433.59               | 11.9661         |"
      ]
     },
     "metadata": {},
     "output_type": "display_data"
    },
    {
     "data": {
      "text/html": [
       "<pre>| 532       | 233.176748   | 706.502            | 4.69458       | 433.59               | 11.9661         |</pre>"
      ],
      "text/plain": [
       "| 532       | 233.176748   | 706.502            | 4.69458       | 433.59               | 11.9661         |"
      ]
     },
     "metadata": {},
     "output_type": "display_data"
    },
    {
     "data": {
      "text/html": [
       "<pre>| 533       | 233.267599   | 706.502            | 4.69458       | 433.59               | 11.9661         |</pre>"
      ],
      "text/plain": [
       "| 533       | 233.267599   | 706.502            | 4.69458       | 433.59               | 11.9661         |"
      ]
     },
     "metadata": {},
     "output_type": "display_data"
    },
    {
     "data": {
      "text/html": [
       "<pre>| 534       | 233.348901   | 706.502            | 4.69458       | 433.59               | 11.9661         |</pre>"
      ],
      "text/plain": [
       "| 534       | 233.348901   | 706.502            | 4.69458       | 433.59               | 11.9661         |"
      ]
     },
     "metadata": {},
     "output_type": "display_data"
    },
    {
     "data": {
      "text/html": [
       "<pre>| 535       | 233.429722   | 706.502            | 4.69458       | 433.59               | 11.9661         |</pre>"
      ],
      "text/plain": [
       "| 535       | 233.429722   | 706.502            | 4.69458       | 433.59               | 11.9661         |"
      ]
     },
     "metadata": {},
     "output_type": "display_data"
    },
    {
     "data": {
      "text/html": [
       "<pre>| 536       | 233.514160   | 706.502            | 4.69458       | 433.59               | 11.9661         |</pre>"
      ],
      "text/plain": [
       "| 536       | 233.514160   | 706.502            | 4.69458       | 433.59               | 11.9661         |"
      ]
     },
     "metadata": {},
     "output_type": "display_data"
    },
    {
     "data": {
      "text/html": [
       "<pre>| 537       | 233.595888   | 706.502            | 4.69458       | 433.59               | 11.9661         |</pre>"
      ],
      "text/plain": [
       "| 537       | 233.595888   | 706.502            | 4.69458       | 433.59               | 11.9661         |"
      ]
     },
     "metadata": {},
     "output_type": "display_data"
    },
    {
     "data": {
      "text/html": [
       "<pre>| 538       | 233.683701   | 706.502            | 4.69458       | 433.59               | 11.9661         |</pre>"
      ],
      "text/plain": [
       "| 538       | 233.683701   | 706.502            | 4.69458       | 433.59               | 11.9661         |"
      ]
     },
     "metadata": {},
     "output_type": "display_data"
    },
    {
     "data": {
      "text/html": [
       "<pre>| 539       | 233.764407   | 706.502            | 4.69458       | 433.59               | 11.9661         |</pre>"
      ],
      "text/plain": [
       "| 539       | 233.764407   | 706.502            | 4.69458       | 433.59               | 11.9661         |"
      ]
     },
     "metadata": {},
     "output_type": "display_data"
    },
    {
     "data": {
      "text/html": [
       "<pre>| 540       | 233.857459   | 706.502            | 4.69458       | 433.59               | 11.9661         |</pre>"
      ],
      "text/plain": [
       "| 540       | 233.857459   | 706.502            | 4.69458       | 433.59               | 11.9661         |"
      ]
     },
     "metadata": {},
     "output_type": "display_data"
    },
    {
     "data": {
      "text/html": [
       "<pre>| 541       | 233.947522   | 706.502            | 4.69458       | 433.59               | 11.9661         |</pre>"
      ],
      "text/plain": [
       "| 541       | 233.947522   | 706.502            | 4.69458       | 433.59               | 11.9661         |"
      ]
     },
     "metadata": {},
     "output_type": "display_data"
    },
    {
     "data": {
      "text/html": [
       "<pre>| 542       | 234.026316   | 706.502            | 4.69458       | 433.59               | 11.9661         |</pre>"
      ],
      "text/plain": [
       "| 542       | 234.026316   | 706.502            | 4.69458       | 433.59               | 11.9661         |"
      ]
     },
     "metadata": {},
     "output_type": "display_data"
    },
    {
     "data": {
      "text/html": [
       "<pre>| 543       | 234.110468   | 706.502            | 4.69458       | 433.59               | 11.9661         |</pre>"
      ],
      "text/plain": [
       "| 543       | 234.110468   | 706.502            | 4.69458       | 433.59               | 11.9661         |"
      ]
     },
     "metadata": {},
     "output_type": "display_data"
    },
    {
     "data": {
      "text/html": [
       "<pre>| 544       | 234.191243   | 706.502            | 4.69458       | 433.59               | 11.9661         |</pre>"
      ],
      "text/plain": [
       "| 544       | 234.191243   | 706.502            | 4.69458       | 433.59               | 11.9661         |"
      ]
     },
     "metadata": {},
     "output_type": "display_data"
    },
    {
     "data": {
      "text/html": [
       "<pre>| 545       | 234.285400   | 706.502            | 4.69458       | 433.59               | 11.9661         |</pre>"
      ],
      "text/plain": [
       "| 545       | 234.285400   | 706.502            | 4.69458       | 433.59               | 11.9661         |"
      ]
     },
     "metadata": {},
     "output_type": "display_data"
    },
    {
     "data": {
      "text/html": [
       "<pre>| 546       | 234.385535   | 706.502            | 4.69458       | 433.59               | 11.9661         |</pre>"
      ],
      "text/plain": [
       "| 546       | 234.385535   | 706.502            | 4.69458       | 433.59               | 11.9661         |"
      ]
     },
     "metadata": {},
     "output_type": "display_data"
    },
    {
     "data": {
      "text/html": [
       "<pre>| 547       | 234.470016   | 706.502            | 4.69458       | 433.59               | 11.9661         |</pre>"
      ],
      "text/plain": [
       "| 547       | 234.470016   | 706.502            | 4.69458       | 433.59               | 11.9661         |"
      ]
     },
     "metadata": {},
     "output_type": "display_data"
    },
    {
     "data": {
      "text/html": [
       "<pre>| 548       | 234.550793   | 706.502            | 4.69458       | 433.59               | 11.9661         |</pre>"
      ],
      "text/plain": [
       "| 548       | 234.550793   | 706.502            | 4.69458       | 433.59               | 11.9661         |"
      ]
     },
     "metadata": {},
     "output_type": "display_data"
    },
    {
     "data": {
      "text/html": [
       "<pre>| 549       | 234.634506   | 706.502            | 4.69458       | 433.59               | 11.9661         |</pre>"
      ],
      "text/plain": [
       "| 549       | 234.634506   | 706.502            | 4.69458       | 433.59               | 11.9661         |"
      ]
     },
     "metadata": {},
     "output_type": "display_data"
    },
    {
     "data": {
      "text/html": [
       "<pre>| 550       | 234.715191   | 706.502            | 4.69458       | 433.59               | 11.9661         |</pre>"
      ],
      "text/plain": [
       "| 550       | 234.715191   | 706.502            | 4.69458       | 433.59               | 11.9661         |"
      ]
     },
     "metadata": {},
     "output_type": "display_data"
    },
    {
     "data": {
      "text/html": [
       "<pre>| 551       | 234.801404   | 706.502            | 4.69458       | 433.59               | 11.9661         |</pre>"
      ],
      "text/plain": [
       "| 551       | 234.801404   | 706.502            | 4.69458       | 433.59               | 11.9661         |"
      ]
     },
     "metadata": {},
     "output_type": "display_data"
    },
    {
     "data": {
      "text/html": [
       "<pre>| 552       | 234.880888   | 706.502            | 4.69458       | 433.59               | 11.9661         |</pre>"
      ],
      "text/plain": [
       "| 552       | 234.880888   | 706.502            | 4.69458       | 433.59               | 11.9661         |"
      ]
     },
     "metadata": {},
     "output_type": "display_data"
    },
    {
     "data": {
      "text/html": [
       "<pre>| 553       | 234.960784   | 706.502            | 4.69458       | 433.59               | 11.9661         |</pre>"
      ],
      "text/plain": [
       "| 553       | 234.960784   | 706.502            | 4.69458       | 433.59               | 11.9661         |"
      ]
     },
     "metadata": {},
     "output_type": "display_data"
    },
    {
     "data": {
      "text/html": [
       "<pre>| 554       | 235.042965   | 706.502            | 4.69458       | 433.59               | 11.9661         |</pre>"
      ],
      "text/plain": [
       "| 554       | 235.042965   | 706.502            | 4.69458       | 433.59               | 11.9661         |"
      ]
     },
     "metadata": {},
     "output_type": "display_data"
    },
    {
     "data": {
      "text/html": [
       "<pre>| 555       | 235.123613   | 706.502            | 4.69458       | 433.59               | 11.9661         |</pre>"
      ],
      "text/plain": [
       "| 555       | 235.123613   | 706.502            | 4.69458       | 433.59               | 11.9661         |"
      ]
     },
     "metadata": {},
     "output_type": "display_data"
    },
    {
     "data": {
      "text/html": [
       "<pre>| 556       | 235.207044   | 706.502            | 4.69458       | 433.59               | 11.9661         |</pre>"
      ],
      "text/plain": [
       "| 556       | 235.207044   | 706.502            | 4.69458       | 433.59               | 11.9661         |"
      ]
     },
     "metadata": {},
     "output_type": "display_data"
    },
    {
     "data": {
      "text/html": [
       "<pre>| 557       | 235.287026   | 706.502            | 4.69458       | 433.59               | 11.9661         |</pre>"
      ],
      "text/plain": [
       "| 557       | 235.287026   | 706.502            | 4.69458       | 433.59               | 11.9661         |"
      ]
     },
     "metadata": {},
     "output_type": "display_data"
    },
    {
     "data": {
      "text/html": [
       "<pre>| 558       | 235.367942   | 706.502            | 4.69458       | 433.59               | 11.9661         |</pre>"
      ],
      "text/plain": [
       "| 558       | 235.367942   | 706.502            | 4.69458       | 433.59               | 11.9661         |"
      ]
     },
     "metadata": {},
     "output_type": "display_data"
    },
    {
     "data": {
      "text/html": [
       "<pre>| 559       | 235.462715   | 706.502            | 4.69458       | 433.59               | 11.9661         |</pre>"
      ],
      "text/plain": [
       "| 559       | 235.462715   | 706.502            | 4.69458       | 433.59               | 11.9661         |"
      ]
     },
     "metadata": {},
     "output_type": "display_data"
    },
    {
     "data": {
      "text/html": [
       "<pre>| 560       | 235.563286   | 706.502            | 4.69458       | 433.59               | 11.9661         |</pre>"
      ],
      "text/plain": [
       "| 560       | 235.563286   | 706.502            | 4.69458       | 433.59               | 11.9661         |"
      ]
     },
     "metadata": {},
     "output_type": "display_data"
    },
    {
     "data": {
      "text/html": [
       "<pre>| 561       | 235.670898   | 706.502            | 4.69458       | 433.59               | 11.9661         |</pre>"
      ],
      "text/plain": [
       "| 561       | 235.670898   | 706.502            | 4.69458       | 433.59               | 11.9661         |"
      ]
     },
     "metadata": {},
     "output_type": "display_data"
    },
    {
     "data": {
      "text/html": [
       "<pre>| 562       | 235.750857   | 706.502            | 4.69458       | 433.59               | 11.9661         |</pre>"
      ],
      "text/plain": [
       "| 562       | 235.750857   | 706.502            | 4.69458       | 433.59               | 11.9661         |"
      ]
     },
     "metadata": {},
     "output_type": "display_data"
    },
    {
     "data": {
      "text/html": [
       "<pre>| 563       | 235.849250   | 706.502            | 4.69458       | 433.59               | 11.9661         |</pre>"
      ],
      "text/plain": [
       "| 563       | 235.849250   | 706.502            | 4.69458       | 433.59               | 11.9661         |"
      ]
     },
     "metadata": {},
     "output_type": "display_data"
    },
    {
     "data": {
      "text/html": [
       "<pre>| 564       | 235.954647   | 706.502            | 4.69458       | 433.59               | 11.9661         |</pre>"
      ],
      "text/plain": [
       "| 564       | 235.954647   | 706.502            | 4.69458       | 433.59               | 11.9661         |"
      ]
     },
     "metadata": {},
     "output_type": "display_data"
    },
    {
     "data": {
      "text/html": [
       "<pre>| 565       | 236.069921   | 706.502            | 4.69458       | 433.59               | 11.9661         |</pre>"
      ],
      "text/plain": [
       "| 565       | 236.069921   | 706.502            | 4.69458       | 433.59               | 11.9661         |"
      ]
     },
     "metadata": {},
     "output_type": "display_data"
    },
    {
     "data": {
      "text/html": [
       "<pre>| 566       | 236.158534   | 706.502            | 4.69458       | 433.59               | 11.9661         |</pre>"
      ],
      "text/plain": [
       "| 566       | 236.158534   | 706.502            | 4.69458       | 433.59               | 11.9661         |"
      ]
     },
     "metadata": {},
     "output_type": "display_data"
    },
    {
     "data": {
      "text/html": [
       "<pre>| 567       | 236.239770   | 706.502            | 4.69458       | 433.59               | 11.9661         |</pre>"
      ],
      "text/plain": [
       "| 567       | 236.239770   | 706.502            | 4.69458       | 433.59               | 11.9661         |"
      ]
     },
     "metadata": {},
     "output_type": "display_data"
    },
    {
     "data": {
      "text/html": [
       "<pre>| 568       | 236.321379   | 706.502            | 4.69458       | 433.59               | 11.9661         |</pre>"
      ],
      "text/plain": [
       "| 568       | 236.321379   | 706.502            | 4.69458       | 433.59               | 11.9661         |"
      ]
     },
     "metadata": {},
     "output_type": "display_data"
    },
    {
     "data": {
      "text/html": [
       "<pre>| 569       | 236.419852   | 706.502            | 4.69458       | 433.59               | 11.9661         |</pre>"
      ],
      "text/plain": [
       "| 569       | 236.419852   | 706.502            | 4.69458       | 433.59               | 11.9661         |"
      ]
     },
     "metadata": {},
     "output_type": "display_data"
    },
    {
     "data": {
      "text/html": [
       "<pre>| 570       | 236.534703   | 706.502            | 4.69458       | 433.59               | 11.9661         |</pre>"
      ],
      "text/plain": [
       "| 570       | 236.534703   | 706.502            | 4.69458       | 433.59               | 11.9661         |"
      ]
     },
     "metadata": {},
     "output_type": "display_data"
    },
    {
     "data": {
      "text/html": [
       "<pre>| 571       | 236.648934   | 706.502            | 4.69458       | 433.59               | 11.9661         |</pre>"
      ],
      "text/plain": [
       "| 571       | 236.648934   | 706.502            | 4.69458       | 433.59               | 11.9661         |"
      ]
     },
     "metadata": {},
     "output_type": "display_data"
    },
    {
     "data": {
      "text/html": [
       "<pre>| 572       | 236.769364   | 706.502            | 4.69458       | 433.59               | 11.9661         |</pre>"
      ],
      "text/plain": [
       "| 572       | 236.769364   | 706.502            | 4.69458       | 433.59               | 11.9661         |"
      ]
     },
     "metadata": {},
     "output_type": "display_data"
    },
    {
     "data": {
      "text/html": [
       "<pre>| 573       | 236.890484   | 706.502            | 4.69458       | 433.59               | 11.9661         |</pre>"
      ],
      "text/plain": [
       "| 573       | 236.890484   | 706.502            | 4.69458       | 433.59               | 11.9661         |"
      ]
     },
     "metadata": {},
     "output_type": "display_data"
    },
    {
     "data": {
      "text/html": [
       "<pre>| 574       | 236.971999   | 706.502            | 4.69458       | 433.59               | 11.9661         |</pre>"
      ],
      "text/plain": [
       "| 574       | 236.971999   | 706.502            | 4.69458       | 433.59               | 11.9661         |"
      ]
     },
     "metadata": {},
     "output_type": "display_data"
    },
    {
     "data": {
      "text/html": [
       "<pre>| 575       | 237.083388   | 706.502            | 4.69458       | 433.59               | 11.9661         |</pre>"
      ],
      "text/plain": [
       "| 575       | 237.083388   | 706.502            | 4.69458       | 433.59               | 11.9661         |"
      ]
     },
     "metadata": {},
     "output_type": "display_data"
    },
    {
     "data": {
      "text/html": [
       "<pre>| 576       | 237.197023   | 706.502            | 4.69458       | 433.59               | 11.9661         |</pre>"
      ],
      "text/plain": [
       "| 576       | 237.197023   | 706.502            | 4.69458       | 433.59               | 11.9661         |"
      ]
     },
     "metadata": {},
     "output_type": "display_data"
    },
    {
     "data": {
      "text/html": [
       "<pre>| 577       | 237.318517   | 706.502            | 4.69458       | 433.59               | 11.9661         |</pre>"
      ],
      "text/plain": [
       "| 577       | 237.318517   | 706.502            | 4.69458       | 433.59               | 11.9661         |"
      ]
     },
     "metadata": {},
     "output_type": "display_data"
    },
    {
     "data": {
      "text/html": [
       "<pre>| 578       | 237.427132   | 706.502            | 4.69458       | 433.59               | 11.9661         |</pre>"
      ],
      "text/plain": [
       "| 578       | 237.427132   | 706.502            | 4.69458       | 433.59               | 11.9661         |"
      ]
     },
     "metadata": {},
     "output_type": "display_data"
    },
    {
     "data": {
      "text/html": [
       "<pre>| 579       | 237.528907   | 706.502            | 4.69458       | 433.59               | 11.9661         |</pre>"
      ],
      "text/plain": [
       "| 579       | 237.528907   | 706.502            | 4.69458       | 433.59               | 11.9661         |"
      ]
     },
     "metadata": {},
     "output_type": "display_data"
    },
    {
     "data": {
      "text/html": [
       "<pre>| 580       | 237.649184   | 706.502            | 4.69458       | 433.59               | 11.9661         |</pre>"
      ],
      "text/plain": [
       "| 580       | 237.649184   | 706.502            | 4.69458       | 433.59               | 11.9661         |"
      ]
     },
     "metadata": {},
     "output_type": "display_data"
    },
    {
     "data": {
      "text/html": [
       "<pre>| 581       | 237.759027   | 706.502            | 4.69458       | 433.59               | 11.9661         |</pre>"
      ],
      "text/plain": [
       "| 581       | 237.759027   | 706.502            | 4.69458       | 433.59               | 11.9661         |"
      ]
     },
     "metadata": {},
     "output_type": "display_data"
    },
    {
     "data": {
      "text/html": [
       "<pre>| 582       | 237.880555   | 706.502            | 4.69458       | 433.59               | 11.9661         |</pre>"
      ],
      "text/plain": [
       "| 582       | 237.880555   | 706.502            | 4.69458       | 433.59               | 11.9661         |"
      ]
     },
     "metadata": {},
     "output_type": "display_data"
    },
    {
     "data": {
      "text/html": [
       "<pre>| 583       | 237.999839   | 706.502            | 4.69458       | 433.59               | 11.9661         |</pre>"
      ],
      "text/plain": [
       "| 583       | 237.999839   | 706.502            | 4.69458       | 433.59               | 11.9661         |"
      ]
     },
     "metadata": {},
     "output_type": "display_data"
    },
    {
     "data": {
      "text/html": [
       "<pre>| 584       | 238.134347   | 706.502            | 4.69458       | 433.59               | 11.9661         |</pre>"
      ],
      "text/plain": [
       "| 584       | 238.134347   | 706.502            | 4.69458       | 433.59               | 11.9661         |"
      ]
     },
     "metadata": {},
     "output_type": "display_data"
    },
    {
     "data": {
      "text/html": [
       "<pre>| 585       | 238.264280   | 706.502            | 4.69458       | 433.59               | 11.9661         |</pre>"
      ],
      "text/plain": [
       "| 585       | 238.264280   | 706.502            | 4.69458       | 433.59               | 11.9661         |"
      ]
     },
     "metadata": {},
     "output_type": "display_data"
    },
    {
     "data": {
      "text/html": [
       "<pre>| 586       | 238.376701   | 706.502            | 4.69458       | 433.59               | 11.9661         |</pre>"
      ],
      "text/plain": [
       "| 586       | 238.376701   | 706.502            | 4.69458       | 433.59               | 11.9661         |"
      ]
     },
     "metadata": {},
     "output_type": "display_data"
    },
    {
     "data": {
      "text/html": [
       "<pre>| 587       | 238.487970   | 706.502            | 4.69458       | 433.59               | 11.9661         |</pre>"
      ],
      "text/plain": [
       "| 587       | 238.487970   | 706.502            | 4.69458       | 433.59               | 11.9661         |"
      ]
     },
     "metadata": {},
     "output_type": "display_data"
    },
    {
     "data": {
      "text/html": [
       "<pre>| 588       | 238.607785   | 706.502            | 4.69458       | 433.59               | 11.9661         |</pre>"
      ],
      "text/plain": [
       "| 588       | 238.607785   | 706.502            | 4.69458       | 433.59               | 11.9661         |"
      ]
     },
     "metadata": {},
     "output_type": "display_data"
    },
    {
     "data": {
      "text/html": [
       "<pre>| 589       | 238.714060   | 706.502            | 4.69458       | 433.59               | 11.9661         |</pre>"
      ],
      "text/plain": [
       "| 589       | 238.714060   | 706.502            | 4.69458       | 433.59               | 11.9661         |"
      ]
     },
     "metadata": {},
     "output_type": "display_data"
    },
    {
     "data": {
      "text/html": [
       "<pre>| 590       | 238.826072   | 706.502            | 4.69458       | 433.59               | 11.9661         |</pre>"
      ],
      "text/plain": [
       "| 590       | 238.826072   | 706.502            | 4.69458       | 433.59               | 11.9661         |"
      ]
     },
     "metadata": {},
     "output_type": "display_data"
    },
    {
     "data": {
      "text/html": [
       "<pre>| 591       | 238.947838   | 706.502            | 4.69458       | 433.59               | 11.9661         |</pre>"
      ],
      "text/plain": [
       "| 591       | 238.947838   | 706.502            | 4.69458       | 433.59               | 11.9661         |"
      ]
     },
     "metadata": {},
     "output_type": "display_data"
    },
    {
     "data": {
      "text/html": [
       "<pre>| 592       | 239.080086   | 706.502            | 4.69458       | 433.59               | 11.9661         |</pre>"
      ],
      "text/plain": [
       "| 592       | 239.080086   | 706.502            | 4.69458       | 433.59               | 11.9661         |"
      ]
     },
     "metadata": {},
     "output_type": "display_data"
    },
    {
     "data": {
      "text/html": [
       "<pre>| 593       | 239.193273   | 706.502            | 4.69458       | 433.59               | 11.9661         |</pre>"
      ],
      "text/plain": [
       "| 593       | 239.193273   | 706.502            | 4.69458       | 433.59               | 11.9661         |"
      ]
     },
     "metadata": {},
     "output_type": "display_data"
    },
    {
     "data": {
      "text/html": [
       "<pre>| 594       | 239.314285   | 706.502            | 4.69458       | 433.59               | 11.9661         |</pre>"
      ],
      "text/plain": [
       "| 594       | 239.314285   | 706.502            | 4.69458       | 433.59               | 11.9661         |"
      ]
     },
     "metadata": {},
     "output_type": "display_data"
    },
    {
     "data": {
      "text/html": [
       "<pre>| 595       | 239.424353   | 706.502            | 4.69458       | 433.59               | 11.9661         |</pre>"
      ],
      "text/plain": [
       "| 595       | 239.424353   | 706.502            | 4.69458       | 433.59               | 11.9661         |"
      ]
     },
     "metadata": {},
     "output_type": "display_data"
    },
    {
     "data": {
      "text/html": [
       "<pre>| 596       | 239.503239   | 706.502            | 4.69458       | 433.59               | 11.9661         |</pre>"
      ],
      "text/plain": [
       "| 596       | 239.503239   | 706.502            | 4.69458       | 433.59               | 11.9661         |"
      ]
     },
     "metadata": {},
     "output_type": "display_data"
    },
    {
     "data": {
      "text/html": [
       "<pre>| 597       | 239.612711   | 706.502            | 4.69458       | 433.59               | 11.9661         |</pre>"
      ],
      "text/plain": [
       "| 597       | 239.612711   | 706.502            | 4.69458       | 433.59               | 11.9661         |"
      ]
     },
     "metadata": {},
     "output_type": "display_data"
    },
    {
     "data": {
      "text/html": [
       "<pre>| 598       | 239.734506   | 706.502            | 4.69458       | 433.59               | 11.9661         |</pre>"
      ],
      "text/plain": [
       "| 598       | 239.734506   | 706.502            | 4.69458       | 433.59               | 11.9661         |"
      ]
     },
     "metadata": {},
     "output_type": "display_data"
    },
    {
     "data": {
      "text/html": [
       "<pre>| 599       | 239.857585   | 706.502            | 4.69458       | 433.59               | 11.9661         |</pre>"
      ],
      "text/plain": [
       "| 599       | 239.857585   | 706.502            | 4.69458       | 433.59               | 11.9661         |"
      ]
     },
     "metadata": {},
     "output_type": "display_data"
    },
    {
     "data": {
      "text/html": [
       "<pre>| 600       | 239.952013   | 706.502            | 4.69458       | 433.59               | 11.9661         |</pre>"
      ],
      "text/plain": [
       "| 600       | 239.952013   | 706.502            | 4.69458       | 433.59               | 11.9661         |"
      ]
     },
     "metadata": {},
     "output_type": "display_data"
    },
    {
     "data": {
      "text/html": [
       "<pre>| 601       | 240.034322   | 706.502            | 4.69458       | 433.59               | 11.9661         |</pre>"
      ],
      "text/plain": [
       "| 601       | 240.034322   | 706.502            | 4.69458       | 433.59               | 11.9661         |"
      ]
     },
     "metadata": {},
     "output_type": "display_data"
    },
    {
     "data": {
      "text/html": [
       "<pre>| 602       | 240.121567   | 706.502            | 4.69458       | 433.59               | 11.9661         |</pre>"
      ],
      "text/plain": [
       "| 602       | 240.121567   | 706.502            | 4.69458       | 433.59               | 11.9661         |"
      ]
     },
     "metadata": {},
     "output_type": "display_data"
    },
    {
     "data": {
      "text/html": [
       "<pre>| 603       | 240.245141   | 706.502            | 4.69458       | 433.59               | 11.9661         |</pre>"
      ],
      "text/plain": [
       "| 603       | 240.245141   | 706.502            | 4.69458       | 433.59               | 11.9661         |"
      ]
     },
     "metadata": {},
     "output_type": "display_data"
    },
    {
     "data": {
      "text/html": [
       "<pre>| 604       | 240.364029   | 706.502            | 4.69458       | 433.59               | 11.9661         |</pre>"
      ],
      "text/plain": [
       "| 604       | 240.364029   | 706.502            | 4.69458       | 433.59               | 11.9661         |"
      ]
     },
     "metadata": {},
     "output_type": "display_data"
    },
    {
     "data": {
      "text/html": [
       "<pre>| 605       | 240.491050   | 706.502            | 4.69458       | 433.59               | 11.9661         |</pre>"
      ],
      "text/plain": [
       "| 605       | 240.491050   | 706.502            | 4.69458       | 433.59               | 11.9661         |"
      ]
     },
     "metadata": {},
     "output_type": "display_data"
    },
    {
     "data": {
      "text/html": [
       "<pre>| 606       | 240.633486   | 706.502            | 4.69458       | 433.59               | 11.9661         |</pre>"
      ],
      "text/plain": [
       "| 606       | 240.633486   | 706.502            | 4.69458       | 433.59               | 11.9661         |"
      ]
     },
     "metadata": {},
     "output_type": "display_data"
    },
    {
     "data": {
      "text/html": [
       "<pre>| 607       | 240.731583   | 706.502            | 4.69458       | 433.59               | 11.9661         |</pre>"
      ],
      "text/plain": [
       "| 607       | 240.731583   | 706.502            | 4.69458       | 433.59               | 11.9661         |"
      ]
     },
     "metadata": {},
     "output_type": "display_data"
    },
    {
     "data": {
      "text/html": [
       "<pre>| 608       | 240.853753   | 706.502            | 4.69458       | 433.59               | 11.9661         |</pre>"
      ],
      "text/plain": [
       "| 608       | 240.853753   | 706.502            | 4.69458       | 433.59               | 11.9661         |"
      ]
     },
     "metadata": {},
     "output_type": "display_data"
    },
    {
     "data": {
      "text/html": [
       "<pre>| 609       | 240.968671   | 706.502            | 4.69458       | 433.59               | 11.9661         |</pre>"
      ],
      "text/plain": [
       "| 609       | 240.968671   | 706.502            | 4.69458       | 433.59               | 11.9661         |"
      ]
     },
     "metadata": {},
     "output_type": "display_data"
    },
    {
     "data": {
      "text/html": [
       "<pre>| 610       | 241.067590   | 706.502            | 4.69458       | 433.59               | 11.9661         |</pre>"
      ],
      "text/plain": [
       "| 610       | 241.067590   | 706.502            | 4.69458       | 433.59               | 11.9661         |"
      ]
     },
     "metadata": {},
     "output_type": "display_data"
    },
    {
     "data": {
      "text/html": [
       "<pre>| 611       | 241.145399   | 706.502            | 4.69458       | 433.59               | 11.9661         |</pre>"
      ],
      "text/plain": [
       "| 611       | 241.145399   | 706.502            | 4.69458       | 433.59               | 11.9661         |"
      ]
     },
     "metadata": {},
     "output_type": "display_data"
    },
    {
     "data": {
      "text/html": [
       "<pre>| 612       | 241.221974   | 706.502            | 4.69458       | 433.59               | 11.9661         |</pre>"
      ],
      "text/plain": [
       "| 612       | 241.221974   | 706.502            | 4.69458       | 433.59               | 11.9661         |"
      ]
     },
     "metadata": {},
     "output_type": "display_data"
    },
    {
     "data": {
      "text/html": [
       "<pre>| 613       | 241.303257   | 706.502            | 4.69458       | 433.59               | 11.9661         |</pre>"
      ],
      "text/plain": [
       "| 613       | 241.303257   | 706.502            | 4.69458       | 433.59               | 11.9661         |"
      ]
     },
     "metadata": {},
     "output_type": "display_data"
    },
    {
     "data": {
      "text/html": [
       "<pre>| 614       | 241.384946   | 706.502            | 4.69458       | 433.59               | 11.9661         |</pre>"
      ],
      "text/plain": [
       "| 614       | 241.384946   | 706.502            | 4.69458       | 433.59               | 11.9661         |"
      ]
     },
     "metadata": {},
     "output_type": "display_data"
    },
    {
     "data": {
      "text/html": [
       "<pre>| 615       | 241.464758   | 706.502            | 4.69458       | 433.59               | 11.9661         |</pre>"
      ],
      "text/plain": [
       "| 615       | 241.464758   | 706.502            | 4.69458       | 433.59               | 11.9661         |"
      ]
     },
     "metadata": {},
     "output_type": "display_data"
    },
    {
     "data": {
      "text/html": [
       "<pre>| 616       | 241.542808   | 706.502            | 4.69458       | 433.59               | 11.9661         |</pre>"
      ],
      "text/plain": [
       "| 616       | 241.542808   | 706.502            | 4.69458       | 433.59               | 11.9661         |"
      ]
     },
     "metadata": {},
     "output_type": "display_data"
    },
    {
     "data": {
      "text/html": [
       "<pre>| 617       | 241.630380   | 706.502            | 4.69458       | 433.59               | 11.9661         |</pre>"
      ],
      "text/plain": [
       "| 617       | 241.630380   | 706.502            | 4.69458       | 433.59               | 11.9661         |"
      ]
     },
     "metadata": {},
     "output_type": "display_data"
    },
    {
     "data": {
      "text/html": [
       "<pre>| 618       | 241.722376   | 706.502            | 4.69458       | 433.59               | 11.9661         |</pre>"
      ],
      "text/plain": [
       "| 618       | 241.722376   | 706.502            | 4.69458       | 433.59               | 11.9661         |"
      ]
     },
     "metadata": {},
     "output_type": "display_data"
    },
    {
     "data": {
      "text/html": [
       "<pre>| 619       | 241.826878   | 706.502            | 4.69458       | 433.59               | 11.9661         |</pre>"
      ],
      "text/plain": [
       "| 619       | 241.826878   | 706.502            | 4.69458       | 433.59               | 11.9661         |"
      ]
     },
     "metadata": {},
     "output_type": "display_data"
    },
    {
     "data": {
      "text/html": [
       "<pre>| 620       | 241.939571   | 706.502            | 4.69458       | 433.59               | 11.9661         |</pre>"
      ],
      "text/plain": [
       "| 620       | 241.939571   | 706.502            | 4.69458       | 433.59               | 11.9661         |"
      ]
     },
     "metadata": {},
     "output_type": "display_data"
    },
    {
     "data": {
      "text/html": [
       "<pre>| 621       | 242.052644   | 706.502            | 4.69458       | 433.59               | 11.9661         |</pre>"
      ],
      "text/plain": [
       "| 621       | 242.052644   | 706.502            | 4.69458       | 433.59               | 11.9661         |"
      ]
     },
     "metadata": {},
     "output_type": "display_data"
    },
    {
     "data": {
      "text/html": [
       "<pre>| 622       | 242.130379   | 706.502            | 4.69458       | 433.59               | 11.9661         |</pre>"
      ],
      "text/plain": [
       "| 622       | 242.130379   | 706.502            | 4.69458       | 433.59               | 11.9661         |"
      ]
     },
     "metadata": {},
     "output_type": "display_data"
    },
    {
     "data": {
      "text/html": [
       "<pre>| 623       | 242.206265   | 706.502            | 4.69458       | 433.59               | 11.9661         |</pre>"
      ],
      "text/plain": [
       "| 623       | 242.206265   | 706.502            | 4.69458       | 433.59               | 11.9661         |"
      ]
     },
     "metadata": {},
     "output_type": "display_data"
    },
    {
     "data": {
      "text/html": [
       "<pre>| 624       | 242.288602   | 706.502            | 4.69458       | 433.59               | 11.9661         |</pre>"
      ],
      "text/plain": [
       "| 624       | 242.288602   | 706.502            | 4.69458       | 433.59               | 11.9661         |"
      ]
     },
     "metadata": {},
     "output_type": "display_data"
    },
    {
     "data": {
      "text/html": [
       "<pre>| 625       | 242.361989   | 706.502            | 4.69458       | 433.59               | 11.9661         |</pre>"
      ],
      "text/plain": [
       "| 625       | 242.361989   | 706.502            | 4.69458       | 433.59               | 11.9661         |"
      ]
     },
     "metadata": {},
     "output_type": "display_data"
    },
    {
     "data": {
      "text/html": [
       "<pre>| 626       | 242.437804   | 706.502            | 4.69458       | 433.59               | 11.9661         |</pre>"
      ],
      "text/plain": [
       "| 626       | 242.437804   | 706.502            | 4.69458       | 433.59               | 11.9661         |"
      ]
     },
     "metadata": {},
     "output_type": "display_data"
    },
    {
     "data": {
      "text/html": [
       "<pre>| 627       | 242.525822   | 706.502            | 4.69458       | 433.59               | 11.9661         |</pre>"
      ],
      "text/plain": [
       "| 627       | 242.525822   | 706.502            | 4.69458       | 433.59               | 11.9661         |"
      ]
     },
     "metadata": {},
     "output_type": "display_data"
    },
    {
     "data": {
      "text/html": [
       "<pre>| 628       | 242.636747   | 706.502            | 4.69458       | 433.59               | 11.9661         |</pre>"
      ],
      "text/plain": [
       "| 628       | 242.636747   | 706.502            | 4.69458       | 433.59               | 11.9661         |"
      ]
     },
     "metadata": {},
     "output_type": "display_data"
    },
    {
     "data": {
      "text/html": [
       "<pre>| 629       | 242.755126   | 706.502            | 4.69458       | 433.59               | 11.9661         |</pre>"
      ],
      "text/plain": [
       "| 629       | 242.755126   | 706.502            | 4.69458       | 433.59               | 11.9661         |"
      ]
     },
     "metadata": {},
     "output_type": "display_data"
    },
    {
     "data": {
      "text/html": [
       "<pre>| 630       | 242.862424   | 706.502            | 4.69458       | 433.59               | 11.9661         |</pre>"
      ],
      "text/plain": [
       "| 630       | 242.862424   | 706.502            | 4.69458       | 433.59               | 11.9661         |"
      ]
     },
     "metadata": {},
     "output_type": "display_data"
    },
    {
     "data": {
      "text/html": [
       "<pre>| 631       | 242.976054   | 706.502            | 4.69458       | 433.59               | 11.9661         |</pre>"
      ],
      "text/plain": [
       "| 631       | 242.976054   | 706.502            | 4.69458       | 433.59               | 11.9661         |"
      ]
     },
     "metadata": {},
     "output_type": "display_data"
    },
    {
     "data": {
      "text/html": [
       "<pre>| 632       | 243.086049   | 706.502            | 4.69458       | 433.59               | 11.9661         |</pre>"
      ],
      "text/plain": [
       "| 632       | 243.086049   | 706.502            | 4.69458       | 433.59               | 11.9661         |"
      ]
     },
     "metadata": {},
     "output_type": "display_data"
    },
    {
     "data": {
      "text/html": [
       "<pre>| 633       | 243.170267   | 706.502            | 4.69458       | 433.59               | 11.9661         |</pre>"
      ],
      "text/plain": [
       "| 633       | 243.170267   | 706.502            | 4.69458       | 433.59               | 11.9661         |"
      ]
     },
     "metadata": {},
     "output_type": "display_data"
    },
    {
     "data": {
      "text/html": [
       "<pre>| 634       | 243.258413   | 706.502            | 4.69458       | 433.59               | 11.9661         |</pre>"
      ],
      "text/plain": [
       "| 634       | 243.258413   | 706.502            | 4.69458       | 433.59               | 11.9661         |"
      ]
     },
     "metadata": {},
     "output_type": "display_data"
    },
    {
     "data": {
      "text/html": [
       "<pre>| 635       | 243.342043   | 706.502            | 4.69458       | 433.59               | 11.9661         |</pre>"
      ],
      "text/plain": [
       "| 635       | 243.342043   | 706.502            | 4.69458       | 433.59               | 11.9661         |"
      ]
     },
     "metadata": {},
     "output_type": "display_data"
    },
    {
     "data": {
      "text/html": [
       "<pre>| 636       | 243.428362   | 706.502            | 4.69458       | 433.59               | 11.9661         |</pre>"
      ],
      "text/plain": [
       "| 636       | 243.428362   | 706.502            | 4.69458       | 433.59               | 11.9661         |"
      ]
     },
     "metadata": {},
     "output_type": "display_data"
    },
    {
     "data": {
      "text/html": [
       "<pre>| 637       | 243.520760   | 706.502            | 4.69458       | 433.59               | 11.9661         |</pre>"
      ],
      "text/plain": [
       "| 637       | 243.520760   | 706.502            | 4.69458       | 433.59               | 11.9661         |"
      ]
     },
     "metadata": {},
     "output_type": "display_data"
    },
    {
     "data": {
      "text/html": [
       "<pre>| 638       | 243.628710   | 706.502            | 4.69458       | 433.59               | 11.9661         |</pre>"
      ],
      "text/plain": [
       "| 638       | 243.628710   | 706.502            | 4.69458       | 433.59               | 11.9661         |"
      ]
     },
     "metadata": {},
     "output_type": "display_data"
    },
    {
     "data": {
      "text/html": [
       "<pre>| 639       | 243.717058   | 706.502            | 4.69458       | 433.59               | 11.9661         |</pre>"
      ],
      "text/plain": [
       "| 639       | 243.717058   | 706.502            | 4.69458       | 433.59               | 11.9661         |"
      ]
     },
     "metadata": {},
     "output_type": "display_data"
    },
    {
     "data": {
      "text/html": [
       "<pre>| 640       | 243.800759   | 706.502            | 4.69458       | 433.59               | 11.9661         |</pre>"
      ],
      "text/plain": [
       "| 640       | 243.800759   | 706.502            | 4.69458       | 433.59               | 11.9661         |"
      ]
     },
     "metadata": {},
     "output_type": "display_data"
    },
    {
     "data": {
      "text/html": [
       "<pre>| 641       | 243.887524   | 706.502            | 4.69458       | 433.59               | 11.9661         |</pre>"
      ],
      "text/plain": [
       "| 641       | 243.887524   | 706.502            | 4.69458       | 433.59               | 11.9661         |"
      ]
     },
     "metadata": {},
     "output_type": "display_data"
    },
    {
     "data": {
      "text/html": [
       "<pre>| 642       | 243.977188   | 706.502            | 4.69458       | 433.59               | 11.9661         |</pre>"
      ],
      "text/plain": [
       "| 642       | 243.977188   | 706.502            | 4.69458       | 433.59               | 11.9661         |"
      ]
     },
     "metadata": {},
     "output_type": "display_data"
    },
    {
     "data": {
      "text/html": [
       "<pre>| 643       | 244.066382   | 706.502            | 4.69458       | 433.59               | 11.9661         |</pre>"
      ],
      "text/plain": [
       "| 643       | 244.066382   | 706.502            | 4.69458       | 433.59               | 11.9661         |"
      ]
     },
     "metadata": {},
     "output_type": "display_data"
    },
    {
     "data": {
      "text/html": [
       "<pre>| 644       | 244.161232   | 706.502            | 4.69458       | 433.59               | 11.9661         |</pre>"
      ],
      "text/plain": [
       "| 644       | 244.161232   | 706.502            | 4.69458       | 433.59               | 11.9661         |"
      ]
     },
     "metadata": {},
     "output_type": "display_data"
    },
    {
     "data": {
      "text/html": [
       "<pre>| 645       | 244.260792   | 706.502            | 4.69458       | 433.59               | 11.9661         |</pre>"
      ],
      "text/plain": [
       "| 645       | 244.260792   | 706.502            | 4.69458       | 433.59               | 11.9661         |"
      ]
     },
     "metadata": {},
     "output_type": "display_data"
    },
    {
     "data": {
      "text/html": [
       "<pre>| 646       | 244.357444   | 706.502            | 4.69458       | 433.59               | 11.9661         |</pre>"
      ],
      "text/plain": [
       "| 646       | 244.357444   | 706.502            | 4.69458       | 433.59               | 11.9661         |"
      ]
     },
     "metadata": {},
     "output_type": "display_data"
    },
    {
     "data": {
      "text/html": [
       "<pre>| 647       | 244.448035   | 706.502            | 4.69458       | 433.59               | 11.9661         |</pre>"
      ],
      "text/plain": [
       "| 647       | 244.448035   | 706.502            | 4.69458       | 433.59               | 11.9661         |"
      ]
     },
     "metadata": {},
     "output_type": "display_data"
    },
    {
     "data": {
      "text/html": [
       "<pre>| 648       | 244.528201   | 706.502            | 4.69458       | 433.59               | 11.9661         |</pre>"
      ],
      "text/plain": [
       "| 648       | 244.528201   | 706.502            | 4.69458       | 433.59               | 11.9661         |"
      ]
     },
     "metadata": {},
     "output_type": "display_data"
    },
    {
     "data": {
      "text/html": [
       "<pre>| 649       | 244.613939   | 706.502            | 4.69458       | 433.59               | 11.9661         |</pre>"
      ],
      "text/plain": [
       "| 649       | 244.613939   | 706.502            | 4.69458       | 433.59               | 11.9661         |"
      ]
     },
     "metadata": {},
     "output_type": "display_data"
    },
    {
     "data": {
      "text/html": [
       "<pre>| 650       | 244.700328   | 706.502            | 4.69458       | 433.59               | 11.9661         |</pre>"
      ],
      "text/plain": [
       "| 650       | 244.700328   | 706.502            | 4.69458       | 433.59               | 11.9661         |"
      ]
     },
     "metadata": {},
     "output_type": "display_data"
    },
    {
     "data": {
      "text/html": [
       "<pre>| 651       | 244.785017   | 706.502            | 4.69458       | 433.59               | 11.9661         |</pre>"
      ],
      "text/plain": [
       "| 651       | 244.785017   | 706.502            | 4.69458       | 433.59               | 11.9661         |"
      ]
     },
     "metadata": {},
     "output_type": "display_data"
    },
    {
     "data": {
      "text/html": [
       "<pre>| 652       | 244.894385   | 706.502            | 4.69458       | 433.59               | 11.9661         |</pre>"
      ],
      "text/plain": [
       "| 652       | 244.894385   | 706.502            | 4.69458       | 433.59               | 11.9661         |"
      ]
     },
     "metadata": {},
     "output_type": "display_data"
    },
    {
     "data": {
      "text/html": [
       "<pre>| 653       | 244.998154   | 706.502            | 4.69458       | 433.59               | 11.9661         |</pre>"
      ],
      "text/plain": [
       "| 653       | 244.998154   | 706.502            | 4.69458       | 433.59               | 11.9661         |"
      ]
     },
     "metadata": {},
     "output_type": "display_data"
    },
    {
     "data": {
      "text/html": [
       "<pre>| 654       | 245.095603   | 706.502            | 4.69458       | 433.59               | 11.9661         |</pre>"
      ],
      "text/plain": [
       "| 654       | 245.095603   | 706.502            | 4.69458       | 433.59               | 11.9661         |"
      ]
     },
     "metadata": {},
     "output_type": "display_data"
    },
    {
     "data": {
      "text/html": [
       "<pre>| 655       | 245.180628   | 706.502            | 4.69458       | 433.59               | 11.9661         |</pre>"
      ],
      "text/plain": [
       "| 655       | 245.180628   | 706.502            | 4.69458       | 433.59               | 11.9661         |"
      ]
     },
     "metadata": {},
     "output_type": "display_data"
    },
    {
     "data": {
      "text/html": [
       "<pre>| 656       | 245.289852   | 706.502            | 4.69458       | 433.59               | 11.9661         |</pre>"
      ],
      "text/plain": [
       "| 656       | 245.289852   | 706.502            | 4.69458       | 433.59               | 11.9661         |"
      ]
     },
     "metadata": {},
     "output_type": "display_data"
    },
    {
     "data": {
      "text/html": [
       "<pre>| 657       | 245.418978   | 706.502            | 4.69458       | 433.59               | 11.9661         |</pre>"
      ],
      "text/plain": [
       "| 657       | 245.418978   | 706.502            | 4.69458       | 433.59               | 11.9661         |"
      ]
     },
     "metadata": {},
     "output_type": "display_data"
    },
    {
     "data": {
      "text/html": [
       "<pre>| 658       | 245.539965   | 706.502            | 4.69458       | 433.59               | 11.9661         |</pre>"
      ],
      "text/plain": [
       "| 658       | 245.539965   | 706.502            | 4.69458       | 433.59               | 11.9661         |"
      ]
     },
     "metadata": {},
     "output_type": "display_data"
    },
    {
     "data": {
      "text/html": [
       "<pre>| 659       | 245.649051   | 706.502            | 4.69458       | 433.59               | 11.9661         |</pre>"
      ],
      "text/plain": [
       "| 659       | 245.649051   | 706.502            | 4.69458       | 433.59               | 11.9661         |"
      ]
     },
     "metadata": {},
     "output_type": "display_data"
    },
    {
     "data": {
      "text/html": [
       "<pre>| 660       | 245.733881   | 706.502            | 4.69458       | 433.59               | 11.9661         |</pre>"
      ],
      "text/plain": [
       "| 660       | 245.733881   | 706.502            | 4.69458       | 433.59               | 11.9661         |"
      ]
     },
     "metadata": {},
     "output_type": "display_data"
    },
    {
     "data": {
      "text/html": [
       "<pre>| 661       | 245.829903   | 706.502            | 4.69458       | 433.59               | 11.9661         |</pre>"
      ],
      "text/plain": [
       "| 661       | 245.829903   | 706.502            | 4.69458       | 433.59               | 11.9661         |"
      ]
     },
     "metadata": {},
     "output_type": "display_data"
    },
    {
     "data": {
      "text/html": [
       "<pre>| 662       | 245.935730   | 706.502            | 4.69458       | 433.59               | 11.9661         |</pre>"
      ],
      "text/plain": [
       "| 662       | 245.935730   | 706.502            | 4.69458       | 433.59               | 11.9661         |"
      ]
     },
     "metadata": {},
     "output_type": "display_data"
    },
    {
     "data": {
      "text/html": [
       "<pre>| 663       | 246.050912   | 706.502            | 4.69458       | 433.59               | 11.9661         |</pre>"
      ],
      "text/plain": [
       "| 663       | 246.050912   | 706.502            | 4.69458       | 433.59               | 11.9661         |"
      ]
     },
     "metadata": {},
     "output_type": "display_data"
    },
    {
     "data": {
      "text/html": [
       "<pre>| 664       | 246.162069   | 706.502            | 4.69458       | 433.59               | 11.9661         |</pre>"
      ],
      "text/plain": [
       "| 664       | 246.162069   | 706.502            | 4.69458       | 433.59               | 11.9661         |"
      ]
     },
     "metadata": {},
     "output_type": "display_data"
    },
    {
     "data": {
      "text/html": [
       "<pre>| 665       | 246.249927   | 706.502            | 4.69458       | 433.59               | 11.9661         |</pre>"
      ],
      "text/plain": [
       "| 665       | 246.249927   | 706.502            | 4.69458       | 433.59               | 11.9661         |"
      ]
     },
     "metadata": {},
     "output_type": "display_data"
    },
    {
     "data": {
      "text/html": [
       "<pre>| 666       | 246.336437   | 706.502            | 4.69458       | 433.59               | 11.9661         |</pre>"
      ],
      "text/plain": [
       "| 666       | 246.336437   | 706.502            | 4.69458       | 433.59               | 11.9661         |"
      ]
     },
     "metadata": {},
     "output_type": "display_data"
    },
    {
     "data": {
      "text/html": [
       "<pre>| 667       | 246.418082   | 706.502            | 4.69458       | 433.59               | 11.9661         |</pre>"
      ],
      "text/plain": [
       "| 667       | 246.418082   | 706.502            | 4.69458       | 433.59               | 11.9661         |"
      ]
     },
     "metadata": {},
     "output_type": "display_data"
    },
    {
     "data": {
      "text/html": [
       "<pre>| 668       | 246.520050   | 706.502            | 4.69458       | 433.59               | 11.9661         |</pre>"
      ],
      "text/plain": [
       "| 668       | 246.520050   | 706.502            | 4.69458       | 433.59               | 11.9661         |"
      ]
     },
     "metadata": {},
     "output_type": "display_data"
    },
    {
     "data": {
      "text/html": [
       "<pre>| 669       | 246.630384   | 706.502            | 4.69458       | 433.59               | 11.9661         |</pre>"
      ],
      "text/plain": [
       "| 669       | 246.630384   | 706.502            | 4.69458       | 433.59               | 11.9661         |"
      ]
     },
     "metadata": {},
     "output_type": "display_data"
    },
    {
     "data": {
      "text/html": [
       "<pre>| 670       | 246.780225   | 706.502            | 4.69458       | 433.59               | 11.9661         |</pre>"
      ],
      "text/plain": [
       "| 670       | 246.780225   | 706.502            | 4.69458       | 433.59               | 11.9661         |"
      ]
     },
     "metadata": {},
     "output_type": "display_data"
    },
    {
     "data": {
      "text/html": [
       "<pre>| 671       | 246.892292   | 706.502            | 4.69458       | 433.59               | 11.9661         |</pre>"
      ],
      "text/plain": [
       "| 671       | 246.892292   | 706.502            | 4.69458       | 433.59               | 11.9661         |"
      ]
     },
     "metadata": {},
     "output_type": "display_data"
    },
    {
     "data": {
      "text/html": [
       "<pre>| 672       | 246.977205   | 706.502            | 4.69458       | 433.59               | 11.9661         |</pre>"
      ],
      "text/plain": [
       "| 672       | 246.977205   | 706.502            | 4.69458       | 433.59               | 11.9661         |"
      ]
     },
     "metadata": {},
     "output_type": "display_data"
    },
    {
     "data": {
      "text/html": [
       "<pre>| 673       | 247.062818   | 706.502            | 4.69458       | 433.59               | 11.9661         |</pre>"
      ],
      "text/plain": [
       "| 673       | 247.062818   | 706.502            | 4.69458       | 433.59               | 11.9661         |"
      ]
     },
     "metadata": {},
     "output_type": "display_data"
    },
    {
     "data": {
      "text/html": [
       "<pre>| 674       | 247.144692   | 706.502            | 4.69458       | 433.59               | 11.9661         |</pre>"
      ],
      "text/plain": [
       "| 674       | 247.144692   | 706.502            | 4.69458       | 433.59               | 11.9661         |"
      ]
     },
     "metadata": {},
     "output_type": "display_data"
    },
    {
     "data": {
      "text/html": [
       "<pre>| 675       | 247.260746   | 706.502            | 4.69458       | 433.59               | 11.9661         |</pre>"
      ],
      "text/plain": [
       "| 675       | 247.260746   | 706.502            | 4.69458       | 433.59               | 11.9661         |"
      ]
     },
     "metadata": {},
     "output_type": "display_data"
    },
    {
     "data": {
      "text/html": [
       "<pre>| 676       | 247.377104   | 706.502            | 4.69458       | 433.59               | 11.9661         |</pre>"
      ],
      "text/plain": [
       "| 676       | 247.377104   | 706.502            | 4.69458       | 433.59               | 11.9661         |"
      ]
     },
     "metadata": {},
     "output_type": "display_data"
    },
    {
     "data": {
      "text/html": [
       "<pre>| 677       | 247.507003   | 706.502            | 4.69458       | 433.59               | 11.9661         |</pre>"
      ],
      "text/plain": [
       "| 677       | 247.507003   | 706.502            | 4.69458       | 433.59               | 11.9661         |"
      ]
     },
     "metadata": {},
     "output_type": "display_data"
    },
    {
     "data": {
      "text/html": [
       "<pre>| 678       | 247.603439   | 706.502            | 4.69458       | 433.59               | 11.9661         |</pre>"
      ],
      "text/plain": [
       "| 678       | 247.603439   | 706.502            | 4.69458       | 433.59               | 11.9661         |"
      ]
     },
     "metadata": {},
     "output_type": "display_data"
    },
    {
     "data": {
      "text/html": [
       "<pre>| 679       | 247.692124   | 706.502            | 4.69458       | 433.59               | 11.9661         |</pre>"
      ],
      "text/plain": [
       "| 679       | 247.692124   | 706.502            | 4.69458       | 433.59               | 11.9661         |"
      ]
     },
     "metadata": {},
     "output_type": "display_data"
    },
    {
     "data": {
      "text/html": [
       "<pre>| 680       | 247.777791   | 706.502            | 4.69458       | 433.59               | 11.9661         |</pre>"
      ],
      "text/plain": [
       "| 680       | 247.777791   | 706.502            | 4.69458       | 433.59               | 11.9661         |"
      ]
     },
     "metadata": {},
     "output_type": "display_data"
    },
    {
     "data": {
      "text/html": [
       "<pre>| 681       | 247.885410   | 706.502            | 4.69458       | 433.59               | 11.9661         |</pre>"
      ],
      "text/plain": [
       "| 681       | 247.885410   | 706.502            | 4.69458       | 433.59               | 11.9661         |"
      ]
     },
     "metadata": {},
     "output_type": "display_data"
    },
    {
     "data": {
      "text/html": [
       "<pre>| 682       | 248.042942   | 706.502            | 4.69458       | 433.59               | 11.9661         |</pre>"
      ],
      "text/plain": [
       "| 682       | 248.042942   | 706.502            | 4.69458       | 433.59               | 11.9661         |"
      ]
     },
     "metadata": {},
     "output_type": "display_data"
    },
    {
     "data": {
      "text/html": [
       "<pre>| 683       | 248.163971   | 706.502            | 4.69458       | 433.59               | 11.9661         |</pre>"
      ],
      "text/plain": [
       "| 683       | 248.163971   | 706.502            | 4.69458       | 433.59               | 11.9661         |"
      ]
     },
     "metadata": {},
     "output_type": "display_data"
    },
    {
     "data": {
      "text/html": [
       "<pre>| 684       | 248.260970   | 706.502            | 4.69458       | 433.59               | 11.9661         |</pre>"
      ],
      "text/plain": [
       "| 684       | 248.260970   | 706.502            | 4.69458       | 433.59               | 11.9661         |"
      ]
     },
     "metadata": {},
     "output_type": "display_data"
    },
    {
     "data": {
      "text/html": [
       "<pre>| 685       | 248.344110   | 706.502            | 4.69458       | 433.59               | 11.9661         |</pre>"
      ],
      "text/plain": [
       "| 685       | 248.344110   | 706.502            | 4.69458       | 433.59               | 11.9661         |"
      ]
     },
     "metadata": {},
     "output_type": "display_data"
    },
    {
     "data": {
      "text/html": [
       "<pre>| 686       | 248.423966   | 706.502            | 4.69458       | 433.59               | 11.9661         |</pre>"
      ],
      "text/plain": [
       "| 686       | 248.423966   | 706.502            | 4.69458       | 433.59               | 11.9661         |"
      ]
     },
     "metadata": {},
     "output_type": "display_data"
    },
    {
     "data": {
      "text/html": [
       "<pre>| 687       | 248.510164   | 706.502            | 4.69458       | 433.59               | 11.9661         |</pre>"
      ],
      "text/plain": [
       "| 687       | 248.510164   | 706.502            | 4.69458       | 433.59               | 11.9661         |"
      ]
     },
     "metadata": {},
     "output_type": "display_data"
    },
    {
     "data": {
      "text/html": [
       "<pre>| 688       | 248.593696   | 706.502            | 4.69458       | 433.59               | 11.9661         |</pre>"
      ],
      "text/plain": [
       "| 688       | 248.593696   | 706.502            | 4.69458       | 433.59               | 11.9661         |"
      ]
     },
     "metadata": {},
     "output_type": "display_data"
    },
    {
     "data": {
      "text/html": [
       "<pre>| 689       | 248.676606   | 706.502            | 4.69458       | 433.59               | 11.9661         |</pre>"
      ],
      "text/plain": [
       "| 689       | 248.676606   | 706.502            | 4.69458       | 433.59               | 11.9661         |"
      ]
     },
     "metadata": {},
     "output_type": "display_data"
    },
    {
     "data": {
      "text/html": [
       "<pre>| 690       | 248.765111   | 706.502            | 4.69458       | 433.59               | 11.9661         |</pre>"
      ],
      "text/plain": [
       "| 690       | 248.765111   | 706.502            | 4.69458       | 433.59               | 11.9661         |"
      ]
     },
     "metadata": {},
     "output_type": "display_data"
    },
    {
     "data": {
      "text/html": [
       "<pre>| 691       | 248.864934   | 706.502            | 4.69458       | 433.59               | 11.9661         |</pre>"
      ],
      "text/plain": [
       "| 691       | 248.864934   | 706.502            | 4.69458       | 433.59               | 11.9661         |"
      ]
     },
     "metadata": {},
     "output_type": "display_data"
    },
    {
     "data": {
      "text/html": [
       "<pre>| 692       | 248.956399   | 706.502            | 4.69458       | 433.59               | 11.9661         |</pre>"
      ],
      "text/plain": [
       "| 692       | 248.956399   | 706.502            | 4.69458       | 433.59               | 11.9661         |"
      ]
     },
     "metadata": {},
     "output_type": "display_data"
    },
    {
     "data": {
      "text/html": [
       "<pre>| 693       | 249.044152   | 706.502            | 4.69458       | 433.59               | 11.9661         |</pre>"
      ],
      "text/plain": [
       "| 693       | 249.044152   | 706.502            | 4.69458       | 433.59               | 11.9661         |"
      ]
     },
     "metadata": {},
     "output_type": "display_data"
    },
    {
     "data": {
      "text/html": [
       "<pre>| 694       | 249.126694   | 706.502            | 4.69458       | 433.59               | 11.9661         |</pre>"
      ],
      "text/plain": [
       "| 694       | 249.126694   | 706.502            | 4.69458       | 433.59               | 11.9661         |"
      ]
     },
     "metadata": {},
     "output_type": "display_data"
    },
    {
     "data": {
      "text/html": [
       "<pre>| 695       | 249.212866   | 706.502            | 4.69458       | 433.59               | 11.9661         |</pre>"
      ],
      "text/plain": [
       "| 695       | 249.212866   | 706.502            | 4.69458       | 433.59               | 11.9661         |"
      ]
     },
     "metadata": {},
     "output_type": "display_data"
    },
    {
     "data": {
      "text/html": [
       "<pre>| 696       | 249.322373   | 706.502            | 4.69458       | 433.59               | 11.9661         |</pre>"
      ],
      "text/plain": [
       "| 696       | 249.322373   | 706.502            | 4.69458       | 433.59               | 11.9661         |"
      ]
     },
     "metadata": {},
     "output_type": "display_data"
    },
    {
     "data": {
      "text/html": [
       "<pre>| 697       | 249.431228   | 706.502            | 4.69458       | 433.59               | 11.9661         |</pre>"
      ],
      "text/plain": [
       "| 697       | 249.431228   | 706.502            | 4.69458       | 433.59               | 11.9661         |"
      ]
     },
     "metadata": {},
     "output_type": "display_data"
    },
    {
     "data": {
      "text/html": [
       "<pre>| 698       | 249.520691   | 706.502            | 4.69458       | 433.59               | 11.9661         |</pre>"
      ],
      "text/plain": [
       "| 698       | 249.520691   | 706.502            | 4.69458       | 433.59               | 11.9661         |"
      ]
     },
     "metadata": {},
     "output_type": "display_data"
    },
    {
     "data": {
      "text/html": [
       "<pre>| 699       | 249.607130   | 706.502            | 4.69458       | 433.59               | 11.9661         |</pre>"
      ],
      "text/plain": [
       "| 699       | 249.607130   | 706.502            | 4.69458       | 433.59               | 11.9661         |"
      ]
     },
     "metadata": {},
     "output_type": "display_data"
    },
    {
     "data": {
      "text/html": [
       "<pre>| 700       | 249.695263   | 706.502            | 4.69458       | 433.59               | 11.9661         |</pre>"
      ],
      "text/plain": [
       "| 700       | 249.695263   | 706.502            | 4.69458       | 433.59               | 11.9661         |"
      ]
     },
     "metadata": {},
     "output_type": "display_data"
    },
    {
     "data": {
      "text/html": [
       "<pre>+-----------+--------------+--------------------+---------------+----------------------+-----------------+</pre>"
      ],
      "text/plain": [
       "+-----------+--------------+--------------------+---------------+----------------------+-----------------+"
      ]
     },
     "metadata": {},
     "output_type": "display_data"
    }
   ],
   "source": [
    "modelbt = graphlab.boosted_trees_regression.create(train,\n",
    "                                         target='270',\n",
    "                                                 max_depth=400,\n",
    "                                                   max_iterations=700,\n",
    "                                                   features=ft,\n",
    "                                         validation_set=val)"
   ]
  },
  {
   "cell_type": "code",
   "execution_count": 81,
   "metadata": {
    "collapsed": false
   },
   "outputs": [
    {
     "name": "stdout",
     "output_type": "stream",
     "text": [
      "{'max_error': 525.746142578125, 'rmse': 21.22382264080033}\n"
     ]
    }
   ],
   "source": [
    "print model.evaluate(test)"
   ]
  },
  {
   "cell_type": "code",
   "execution_count": 87,
   "metadata": {
    "collapsed": false
   },
   "outputs": [
    {
     "data": {
      "text/html": [
       "<pre>Finished parsing file /home/him/AllProjects/Enigma/test.csv</pre>"
      ],
      "text/plain": [
       "Finished parsing file /home/him/AllProjects/Enigma/test.csv"
      ]
     },
     "metadata": {},
     "output_type": "display_data"
    },
    {
     "data": {
      "text/html": [
       "<pre>Parsing completed. Parsed 100 lines in 0.442391 secs.</pre>"
      ],
      "text/plain": [
       "Parsing completed. Parsed 100 lines in 0.442391 secs."
      ]
     },
     "metadata": {},
     "output_type": "display_data"
    },
    {
     "data": {
      "text/html": [
       "<pre>Finished parsing file /home/him/AllProjects/Enigma/test.csv</pre>"
      ],
      "text/plain": [
       "Finished parsing file /home/him/AllProjects/Enigma/test.csv"
      ]
     },
     "metadata": {},
     "output_type": "display_data"
    },
    {
     "data": {
      "text/html": [
       "<pre>Parsing completed. Parsed 7624 lines in 0.30966 secs.</pre>"
      ],
      "text/plain": [
       "Parsing completed. Parsed 7624 lines in 0.30966 secs."
      ]
     },
     "metadata": {},
     "output_type": "display_data"
    },
    {
     "name": "stdout",
     "output_type": "stream",
     "text": [
      "------------------------------------------------------\n",
      "Inferred types from first line of file as \n",
      "column_type_hints=[str,str,str,int,int,int,int,int,int,int,int,int,int,int,int,int,int,int,int,int,int,int,int,int,int,int,int,int,int,int,int,int,int,int,int,int,int,int,int,int,int,int,int,int,int,int,int,int,int,int,int,int,int,int,int,int,int,int,int,int,int,int,int,int,int,int,int,int,int,int,int,int,int,int,int,int,int,int,int,int,int,int,int,int,int,int,int,int,int,int,int,int,int,int,int,int,int,int,int,int,int,int,int,int,int,int,int,int,int,int,int,int,int,int,int,int,int,int,int,int,int,int,int,int,int,int,int,int,int,int,int,int,int,int,int,int,int,int,int,int,int,int,int,int,int,int,int,int,int,int,int,int,int,int,int,int,int,int,int,int,int,int,int,int,int,int,int,int,int,int,int,int,int,int,int,int,int,int,int,int,int,int,int,int,int,int,int,int,int,int,int,int,int,int,int,int,int,int,int,int,int,int,int,int,int,int,int,int,int,int,int,int,int,int,int,int,int,int,int,int,float,int,int,float,int,float,int,int,float,int,float,int,int,float,int,float,float,int,float,int,float,int,int,float,int,float,float,int,float,int,float,float,int,float,int,float,float,int,float,int,float,float,int,float,int,float,float,int,float]\n",
      "If parsing fails due to incorrect types, you can correct\n",
      "the inferred type list above and pass it to read_csv in\n",
      "the column_type_hints argument\n",
      "------------------------------------------------------\n"
     ]
    }
   ],
   "source": [
    "sf_test = graphlab.SFrame('test.csv')"
   ]
  },
  {
   "cell_type": "code",
   "execution_count": 88,
   "metadata": {
    "collapsed": false
   },
   "outputs": [
    {
     "name": "stdout",
     "output_type": "stream",
     "text": [
      "7624\n"
     ]
    }
   ],
   "source": [
    "predictions = modelbt.predict(sf_test)\n",
    "print len(predictions)"
   ]
  },
  {
   "cell_type": "code",
   "execution_count": 89,
   "metadata": {
    "collapsed": false
   },
   "outputs": [
    {
     "name": "stdout",
     "output_type": "stream",
     "text": [
      "X0,3\n",
      "X1,97\n",
      "X2,0\n",
      "X3,0\n",
      "X4,0\n",
      "X5,11\n",
      "X6,2\n",
      "X7,8\n",
      "X8,0\n",
      "X9,0\n",
      "X10,0\n",
      "X11,47\n",
      "X12,1\n",
      "X13,0\n",
      "X14,0\n",
      "X15,1\n",
      "X16,0\n",
      "X17,27\n",
      "X18,134\n",
      "X19,1\n",
      "X20,0\n",
      "X21,1\n",
      "X22,0\n",
      "X23,0\n",
      "X24,0\n",
      "X25,5\n",
      "X26,0\n",
      "X27,0\n",
      "X28,0\n",
      "X29,0\n",
      "X30,0\n",
      "X31,0\n",
      "X32,0\n",
      "X33,0\n",
      "X34,0\n",
      "X35,10\n",
      "X36,0\n",
      "X37,0\n",
      "X38,0\n",
      "X39,8\n",
      "X40,0\n",
      "X41,2\n",
      "X42,3\n",
      "X43,0\n",
      "X44,0\n",
      "X45,0\n",
      "X46,0\n",
      "X47,3\n",
      "X48,5\n",
      "X49,5\n",
      "X50,9\n",
      "X51,50\n",
      "X52,0\n",
      "X53,0\n",
      "X54,0\n",
      "X55,0\n",
      "X56,0\n",
      "X57,11\n",
      "X58,2\n",
      "X59,0\n",
      "X60,2\n",
      "X61,8\n",
      "X62,0\n",
      "X63,1\n",
      "X64,1\n",
      "X65,1\n",
      "X66,4\n",
      "X67,0\n",
      "X68,4\n",
      "X69,0\n",
      "X70,0\n",
      "X71,0\n",
      "X72,1\n",
      "X73,0\n",
      "X74,1\n",
      "X75,0\n",
      "X76,0\n",
      "X77,6\n",
      "X78,14\n",
      "X79,0\n",
      "X80,2\n",
      "X81,0\n",
      "X82,3\n",
      "X83,11\n",
      "X84,1\n",
      "X85,0\n",
      "X86,0\n",
      "X87,0\n",
      "X88,0\n",
      "X89,0\n",
      "X90,1\n",
      "X91,0\n",
      "X92,0\n",
      "X93,0\n",
      "X94,0\n",
      "X95,10\n",
      "X96,0\n",
      "X97,0\n",
      "X98,0\n",
      "X99,105\n",
      "X100,0\n",
      "X101,0\n",
      "X102,0\n",
      "X103,1\n",
      "X104,0\n",
      "X105,0\n",
      "X106,11\n",
      "X107,0\n",
      "X108,0\n",
      "X109,0\n",
      "X110,1\n",
      "X111,0\n",
      "X112,10\n",
      "X113,0\n",
      "X114,0\n",
      "X115,0\n",
      "X116,0\n",
      "X117,0\n",
      "X118,1\n",
      "X119,0\n",
      "X120,0\n",
      "X121,0\n",
      "X122,2\n",
      "X123,0\n",
      "X124,0\n",
      "X125,0\n",
      "X126,3\n",
      "X127,8\n",
      "X128,0\n",
      "X129,77\n",
      "X130,0\n",
      "X131,0\n",
      "X132,1\n",
      "X133,0\n",
      "X134,0\n",
      "X135,12\n",
      "X136,1\n",
      "X137,0\n",
      "X138,1\n",
      "X139,1\n",
      "X140,0\n",
      "X141,0\n",
      "X142,0\n",
      "X143,23\n",
      "X144,0\n",
      "X145,0\n",
      "X146,0\n",
      "X147,0\n",
      "X148,0\n",
      "X149,1\n",
      "X150,0\n",
      "X151,0\n",
      "X152,0\n",
      "X153,0\n",
      "X154,0\n",
      "X155,0\n",
      "X156,0\n",
      "X157,0\n",
      "X158,1\n",
      "X159,1\n",
      "X160,1\n",
      "X161,0\n",
      "X162,1\n",
      "X163,16\n",
      "X164,0\n",
      "X165,0\n",
      "X166,0\n",
      "X167,0\n",
      "X168,0\n",
      "X169,0\n",
      "X170,1\n",
      "X171,0\n",
      "X172,2\n",
      "X173,0\n",
      "X174,0\n",
      "X175,3\n",
      "X176,1\n",
      "X177,10\n",
      "X178,1\n",
      "X179,1\n",
      "X180,0\n",
      "X181,0\n",
      "X182,0\n",
      "X183,0\n",
      "X184,0\n",
      "X185,1\n",
      "X186,0\n",
      "X187,1\n",
      "X188,1\n",
      "X189,1\n",
      "X190,0\n",
      "X191,10\n",
      "X192,0\n",
      "X193,0\n",
      "X194,0\n",
      "X195,0\n",
      "X196,0\n",
      "X197,0\n",
      "X198,0\n",
      "X199,0\n",
      "X200,0\n",
      "X201,41\n",
      "X202,0\n",
      "X203,0\n",
      "X204,76\n",
      "X205,1\n",
      "X206,3\n",
      "X207,2\n",
      "X208,0\n",
      "X209,0\n",
      "X210,0\n",
      "X211,0\n",
      "X212,0\n",
      "X213,1\n",
      "X214,0\n",
      "X215,0\n",
      "X216,0\n",
      "X217,0\n",
      "X218,0\n",
      "X219,0\n",
      "X220,0\n",
      "X221,0\n",
      "X222,33\n",
      "X223,1\n",
      "X224,0\n",
      "X225,2\n",
      "X226,0\n",
      "X227,0\n",
      "X228,0\n",
      "X229,0\n",
      "X230,1\n",
      "X231,3\n",
      "X232,0\n",
      "X233,0\n",
      "X234,0\n",
      "X235,24\n",
      "X236,0\n",
      "X237,0\n",
      "X238,0\n",
      "X239,26\n",
      "X240,1\n",
      "X241,1\n",
      "X242,0\n",
      "X243,0\n",
      "X244,0\n",
      "X245,8\n",
      "X246,0\n",
      "X247,0\n",
      "X248,0\n",
      "X249,0\n",
      "X250,1\n",
      "X251,1\n",
      "X252,1\n",
      "X253,0\n",
      "X254,5\n",
      "X255,0\n",
      "X256,1\n",
      "X257,9\n",
      "X258,4\n",
      "X259,0\n",
      "X260,0\n",
      "X261,8\n",
      "X262,3\n",
      "X263,8\n",
      "X264,0\n",
      "X265,5\n",
      "X266,1\n",
      "X267,0\n",
      "X268,0\n",
      "X269,0\n",
      "X270,1\n",
      "X271,0\n",
      "X272,0\n",
      "X273,0\n",
      "X274,1\n",
      "X275,0\n",
      "X276,0\n",
      "X277,0\n",
      "X278,35\n",
      "X279,1\n",
      "X280,0\n",
      "X281,0\n",
      "X282,0\n",
      "X283,3\n",
      "X284,0\n",
      "X285,0\n",
      "X286,0\n",
      "X287,0\n",
      "X288,0\n",
      "X289,0\n",
      "X290,8\n",
      "X291,0\n",
      "X292,0\n",
      "X293,0\n",
      "X294,1\n",
      "X295,10\n",
      "X296,0\n",
      "X297,0\n",
      "X298,14\n",
      "X299,5\n",
      "X300,65\n",
      "X301,0\n",
      "X302,11\n",
      "X303,2\n",
      "X304,0\n",
      "X305,24\n",
      "X306,0\n",
      "X307,1\n",
      "X308,8\n",
      "X309,4\n",
      "X310,1\n",
      "X311,0\n",
      "X312,4\n",
      "X313,3\n",
      "X314,0\n",
      "X315,0\n",
      "X316,10\n",
      "X317,0\n",
      "X318,5\n",
      "X319,0\n",
      "X320,0\n",
      "X321,0\n",
      "X322,8\n",
      "X323,4\n",
      "X324,1\n",
      "X325,2\n",
      "X326,1\n",
      "X327,15\n",
      "X328,0\n",
      "X329,0\n",
      "X330,2\n",
      "X331,0\n",
      "X332,0\n",
      "X333,5\n",
      "X334,0\n",
      "X335,6\n",
      "X336,1\n",
      "X337,5\n",
      "X338,0\n",
      "X339,23\n",
      "X340,2\n",
      "X341,0\n",
      "X342,0\n",
      "X343,0\n",
      "X344,0\n",
      "X345,26\n",
      "X346,0\n",
      "X347,37\n",
      "X348,1\n",
      "X349,1\n",
      "X350,2\n",
      "X351,0\n",
      "X352,0\n",
      "X353,0\n",
      "X354,1\n",
      "X355,7\n",
      "X356,0\n",
      "X357,0\n",
      "X358,7\n",
      "X359,0\n",
      "X360,0\n",
      "X361,30\n",
      "X362,2\n",
      "X363,52\n",
      "X364,0\n",
      "X365,2\n",
      "X366,33\n",
      "X367,257\n",
      "X368,0\n",
      "X369,0\n",
      "X370,0\n",
      "X371,0\n",
      "X372,0\n",
      "X373,0\n",
      "X374,0\n",
      "X375,1\n",
      "X376,0\n",
      "X377,1\n",
      "X378,0\n",
      "X379,10\n",
      "X380,3\n",
      "X381,0\n",
      "X382,0\n",
      "X383,0\n",
      "X384,0\n",
      "X385,0\n",
      "X386,0\n",
      "X387,11\n",
      "X388,0\n",
      "X389,0\n",
      "X390,5\n",
      "X391,0\n",
      "X392,0\n",
      "X393,9\n",
      "X394,21\n",
      "X395,2\n",
      "X396,0\n",
      "X397,0\n",
      "X398,6\n",
      "X399,56\n",
      "X400,0\n",
      "X401,0\n",
      "X402,0\n",
      "X403,11\n",
      "X404,0\n",
      "X405,0\n",
      "X406,1\n",
      "X407,1\n",
      "X408,1\n",
      "X409,0\n",
      "X410,0\n",
      "X411,1\n",
      "X412,0\n",
      "X413,0\n",
      "X414,3\n",
      "X415,6\n",
      "X416,376\n",
      "X417,0\n",
      "X418,2\n",
      "X419,0\n",
      "X420,7\n",
      "X421,0\n",
      "X422,0\n",
      "X423,10\n",
      "X424,24\n",
      "X425,0\n",
      "X426,1\n",
      "X427,0\n",
      "X428,0\n",
      "X429,0\n",
      "X430,11\n",
      "X431,0\n",
      "X432,0\n",
      "X433,0\n",
      "X434,23\n",
      "X435,0\n",
      "X436,1\n",
      "X437,0\n",
      "X438,0\n",
      "X439,0\n",
      "X440,2\n",
      "X441,0\n",
      "X442,0\n",
      "X443,0\n",
      "X444,0\n",
      "X445,2\n",
      "X446,0\n",
      "X447,0\n",
      "X448,3\n",
      "X449,0\n",
      "X450,1\n",
      "X451,6\n",
      "X452,1\n",
      "X453,4\n",
      "X454,0\n",
      "X455,1\n",
      "X456,1\n",
      "X457,0\n",
      "X458,0\n",
      "X459,0\n",
      "X460,2\n",
      "X461,0\n",
      "X462,3\n",
      "X463,0\n",
      "X464,0\n",
      "X465,73\n",
      "X466,1\n",
      "X467,3\n",
      "X468,92\n",
      "X469,0\n",
      "X470,0\n",
      "X471,15\n",
      "X472,6\n",
      "X473,0\n",
      "X474,3\n",
      "X475,0\n",
      "X476,7\n",
      "X477,2\n",
      "X478,11\n",
      "X479,62\n",
      "X480,0\n",
      "X481,1\n",
      "X482,0\n",
      "X483,0\n",
      "X484,0\n",
      "X485,0\n",
      "X486,0\n",
      "X487,0\n",
      "X488,36\n",
      "X489,0\n",
      "X490,7\n",
      "X491,0\n",
      "X492,1\n",
      "X493,0\n",
      "X494,0\n",
      "X495,0\n",
      "X496,1\n",
      "X497,0\n",
      "X498,1\n",
      "X499,0\n",
      "X500,0\n",
      "X501,11\n",
      "X502,3\n",
      "X503,0\n",
      "X504,0\n",
      "X505,0\n",
      "X506,15\n",
      "X507,0\n",
      "X508,1\n",
      "X509,0\n",
      "X510,2\n",
      "X511,0\n",
      "X512,0\n",
      "X513,0\n",
      "X514,0\n",
      "X515,0\n",
      "X516,0\n",
      "X517,0\n",
      "X518,9\n",
      "X519,21\n",
      "X520,35\n",
      "X521,2\n",
      "X522,0\n",
      "X523,0\n",
      "X524,2\n",
      "X525,10\n",
      "X526,1\n",
      "X527,0\n",
      "X528,0\n",
      "X529,0\n",
      "X530,0\n",
      "X531,2\n",
      "X532,0\n",
      "X533,1\n",
      "X534,0\n",
      "X535,10\n",
      "X536,13\n",
      "X537,0\n",
      "X538,0\n",
      "X539,15\n",
      "X540,131\n",
      "X541,0\n",
      "X542,0\n",
      "X543,0\n",
      "X544,0\n",
      "X545,0\n",
      "X546,0\n",
      "X547,1\n",
      "X548,1\n",
      "X549,0\n",
      "X550,1\n",
      "X551,0\n",
      "X552,0\n",
      "X553,5\n",
      "X554,1\n",
      "X555,0\n",
      "X556,0\n",
      "X557,0\n",
      "X558,3\n",
      "X559,0\n",
      "X560,0\n",
      "X561,2\n",
      "X562,0\n",
      "X563,0\n",
      "X564,11\n",
      "X565,0\n",
      "X566,0\n",
      "X567,29\n",
      "X568,0\n",
      "X569,0\n",
      "X570,0\n",
      "X571,0\n",
      "X572,0\n",
      "X573,0\n",
      "X574,2\n",
      "X575,0\n",
      "X576,0\n",
      "X577,6\n",
      "X578,0\n",
      "X579,0\n",
      "X580,3\n",
      "X581,0\n",
      "X582,2\n",
      "X583,0\n",
      "X584,0\n",
      "X585,0\n",
      "X586,1\n",
      "X587,0\n",
      "X588,1\n",
      "X589,0\n",
      "X590,89\n",
      "X591,2\n",
      "X592,9\n",
      "X593,0\n",
      "X594,0\n",
      "X595,52\n",
      "X596,0\n",
      "X597,0\n",
      "X598,0\n",
      "X599,1\n",
      "X600,0\n",
      "X601,1\n",
      "X602,0\n",
      "X603,0\n",
      "X604,333\n",
      "X605,0\n",
      "X606,0\n",
      "X607,0\n",
      "X608,17\n",
      "X609,3\n",
      "X610,0\n",
      "X611,0\n",
      "X612,0\n",
      "X613,0\n",
      "X614,0\n",
      "X615,0\n",
      "X616,3\n",
      "X617,2\n",
      "X618,0\n",
      "X619,0\n",
      "X620,0\n",
      "X621,31\n",
      "X622,7\n",
      "X623,0\n",
      "X624,5\n",
      "X625,4\n",
      "X626,4\n",
      "X627,0\n",
      "X628,0\n",
      "X629,0\n",
      "X630,0\n",
      "X631,0\n",
      "X632,4\n",
      "X633,11\n",
      "X634,2\n",
      "X635,0\n",
      "X636,1\n",
      "X637,0\n",
      "X638,0\n",
      "X639,1\n",
      "X640,0\n",
      "X641,1\n",
      "X642,0\n",
      "X643,0\n",
      "X644,0\n",
      "X645,3\n",
      "X646,2\n",
      "X647,4\n",
      "X648,0\n",
      "X649,0\n",
      "X650,4\n",
      "X651,0\n",
      "X652,0\n",
      "X653,0\n",
      "X654,0\n",
      "X655,1\n",
      "X656,0\n",
      "X657,0\n",
      "X658,0\n",
      "X659,0\n",
      "X660,0\n",
      "X661,0\n",
      "X662,0\n",
      "X663,60\n",
      "X664,0\n",
      "X665,0\n",
      "X666,5\n",
      "X667,1\n",
      "X668,10\n",
      "X669,2\n",
      "X670,1\n",
      "X671,0\n",
      "X672,4\n",
      "X673,0\n",
      "X674,1\n",
      "X675,0\n",
      "X676,1\n",
      "X677,0\n",
      "X678,2\n",
      "X679,1\n",
      "X680,3\n",
      "X681,11\n",
      "X682,0\n",
      "X683,0\n",
      "X684,0\n",
      "X685,2\n",
      "X686,0\n",
      "X687,2\n",
      "X688,0\n",
      "X689,37\n",
      "X690,0\n",
      "X691,0\n",
      "X692,0\n",
      "X693,1\n",
      "X694,26\n",
      "X695,61\n",
      "X696,2\n",
      "X697,0\n",
      "X698,0\n",
      "X699,1\n",
      "X700,1\n",
      "X701,0\n",
      "X702,2\n",
      "X703,474\n",
      "X704,0\n",
      "X705,0\n",
      "X706,0\n",
      "X707,1\n",
      "X708,0\n",
      "X709,0\n",
      "X710,0\n",
      "X711,0\n",
      "X712,1\n",
      "X713,0\n",
      "X714,1\n",
      "X715,0\n",
      "X716,0\n",
      "X717,0\n",
      "X718,4\n",
      "X719,14\n",
      "X720,0\n",
      "X721,0\n",
      "X722,0\n",
      "X723,125\n",
      "X724,1\n",
      "X725,0\n",
      "X726,0\n",
      "X727,0\n",
      "X728,0\n",
      "X729,1\n",
      "X730,0\n",
      "X731,0\n",
      "X732,0\n",
      "X733,0\n",
      "X734,1\n",
      "X735,0\n",
      "X736,0\n",
      "X737,0\n",
      "X738,0\n",
      "X739,255\n",
      "X740,0\n",
      "X741,0\n",
      "X742,0\n",
      "X743,0\n",
      "X744,1\n",
      "X745,0\n",
      "X746,0\n",
      "X747,1\n",
      "X748,0\n",
      "X749,0\n",
      "X750,0\n",
      "X751,6\n",
      "X752,2\n",
      "X753,1\n",
      "X754,0\n",
      "X755,1\n",
      "X756,0\n",
      "X757,0\n",
      "X758,11\n",
      "X759,0\n",
      "X760,2\n",
      "X761,0\n",
      "X762,0\n",
      "X763,0\n",
      "X764,0\n",
      "X765,0\n",
      "X766,4\n",
      "X767,1\n",
      "X768,11\n",
      "X769,0\n",
      "X770,0\n",
      "X771,0\n",
      "X772,0\n",
      "X773,1\n",
      "X774,1\n",
      "X775,0\n",
      "X776,0\n",
      "X777,0\n",
      "X778,1\n",
      "X779,0\n",
      "X780,0\n",
      "X781,0\n",
      "X782,0\n",
      "X783,0\n",
      "X784,0\n",
      "X785,0\n",
      "X786,0\n",
      "X787,1\n",
      "X788,0\n",
      "X789,8\n",
      "X790,1\n",
      "X791,8\n",
      "X792,0\n",
      "X793,0\n",
      "X794,1\n",
      "X795,0\n",
      "X796,0\n",
      "X797,2\n",
      "X798,4\n",
      "X799,0\n",
      "X800,1\n",
      "X801,42\n",
      "X802,0\n",
      "X803,9\n",
      "X804,2\n",
      "X805,6\n",
      "X806,82\n",
      "X807,0\n",
      "X808,0\n",
      "X809,0\n",
      "X810,0\n",
      "X811,0\n",
      "X812,3\n",
      "X813,0\n",
      "X814,35\n",
      "X815,0\n",
      "X816,0\n",
      "X817,0\n",
      "X818,0\n",
      "X819,3\n",
      "X820,0\n",
      "X821,0\n",
      "X822,0\n",
      "X823,0\n",
      "X824,3\n",
      "X825,0\n",
      "X826,0\n",
      "X827,0\n",
      "X828,0\n",
      "X829,0\n",
      "X830,0\n",
      "X831,2\n",
      "X832,0\n",
      "X833,5\n",
      "X834,0\n",
      "X835,1\n",
      "X836,0\n",
      "X837,8\n",
      "X838,0\n",
      "X839,0\n",
      "X840,1\n",
      "X841,1\n",
      "X842,0\n",
      "X843,0\n",
      "X844,0\n",
      "X845,0\n",
      "X846,1\n",
      "X847,0\n",
      "X848,0\n",
      "X849,0\n",
      "X850,0\n",
      "X851,0\n",
      "X852,0\n",
      "X853,0\n",
      "X854,2\n",
      "X855,0\n",
      "X856,1\n",
      "X857,0\n",
      "X858,0\n",
      "X859,0\n",
      "X860,0\n",
      "X861,4\n",
      "X862,0\n",
      "X863,108\n",
      "X864,0\n",
      "X865,1\n",
      "X866,0\n",
      "X867,10\n",
      "X868,0\n",
      "X869,4\n",
      "X870,0\n",
      "X871,1\n",
      "X872,1\n",
      "X873,30\n",
      "X874,33\n",
      "X875,0\n",
      "X876,0\n",
      "X877,0\n",
      "X878,0\n",
      "X879,0\n",
      "X880,5\n",
      "X881,7\n",
      "X882,0\n",
      "X883,1\n",
      "X884,1\n",
      "X885,3\n",
      "X886,0\n",
      "X887,0\n",
      "X888,0\n",
      "X889,0\n",
      "X890,7\n",
      "X891,0\n",
      "X892,1\n",
      "X893,6\n",
      "X894,8\n",
      "X895,0\n",
      "X896,0\n",
      "X897,0\n",
      "X898,0\n",
      "X899,0\n",
      "X900,0\n",
      "X901,1\n",
      "X902,1\n",
      "X903,2\n",
      "X904,1\n",
      "X905,0\n",
      "X906,1\n",
      "X907,1\n",
      "X908,18\n",
      "X909,0\n",
      "X910,0\n",
      "X911,1\n",
      "X912,53\n",
      "X913,0\n",
      "X914,1\n",
      "X915,0\n",
      "X916,0\n",
      "X917,0\n",
      "X918,0\n",
      "X919,2\n",
      "X920,0\n",
      "X921,0\n",
      "X922,0\n",
      "X923,0\n",
      "X924,0\n",
      "X925,0\n",
      "X926,0\n",
      "X927,1\n",
      "X928,0\n",
      "X929,0\n",
      "X930,1\n",
      "X931,29\n",
      "X932,0\n",
      "X933,0\n",
      "X934,1\n",
      "X935,0\n",
      "X936,1\n",
      "X937,0\n",
      "X938,1\n",
      "X939,0\n",
      "X940,0\n",
      "X941,2\n",
      "X942,0\n",
      "X943,0\n",
      "X944,0\n",
      "X945,1\n",
      "X946,0\n",
      "X947,6\n",
      "X948,2\n",
      "X949,0\n",
      "X950,1\n",
      "X951,1\n",
      "X952,0\n",
      "X953,0\n",
      "X954,0\n",
      "X955,0\n",
      "X956,0\n",
      "X957,34\n",
      "X958,0\n",
      "X959,60\n",
      "X960,0\n",
      "X961,3\n",
      "X962,14\n",
      "X963,0\n",
      "X964,3\n",
      "X965,1\n",
      "X966,0\n",
      "X967,61\n",
      "X968,0\n",
      "X969,55\n",
      "X970,0\n",
      "X971,0\n",
      "X972,0\n",
      "X973,24\n",
      "X974,1\n",
      "X975,42\n",
      "X976,7\n",
      "X977,45\n",
      "X978,8\n",
      "X979,0\n",
      "X980,13\n",
      "X981,0\n",
      "X982,0\n",
      "X983,1\n",
      "X984,0\n",
      "X985,0\n",
      "X986,0\n",
      "X987,1\n",
      "X988,0\n",
      "X989,0\n",
      "X990,4\n",
      "X991,11\n",
      "X992,215\n",
      "X993,33\n",
      "X994,0\n",
      "X995,3\n",
      "X996,0\n",
      "X997,1\n",
      "X998,0\n",
      "X999,1\n",
      "X1000,32\n",
      "X1001,82\n",
      "X1002,0\n",
      "X1003,0\n",
      "X1004,0\n",
      "X1005,5\n",
      "X1006,0\n",
      "X1007,1\n",
      "X1008,0\n",
      "X1009,0\n",
      "X1010,0\n",
      "X1011,0\n",
      "X1012,0\n",
      "X1013,0\n",
      "X1014,1\n",
      "X1015,0\n",
      "X1016,0\n",
      "X1017,3\n",
      "X1018,0\n",
      "X1019,0\n",
      "X1020,3\n",
      "X1021,2\n",
      "X1022,0\n",
      "X1023,65\n",
      "X1024,11\n",
      "X1025,0\n",
      "X1026,0\n",
      "X1027,0\n",
      "X1028,4\n",
      "X1029,0\n",
      "X1030,0\n",
      "X1031,0\n",
      "X1032,8\n",
      "X1033,0\n",
      "X1034,7\n",
      "X1035,0\n",
      "X1036,99\n",
      "X1037,3\n",
      "X1038,0\n",
      "X1039,0\n",
      "X1040,2\n",
      "X1041,0\n",
      "X1042,3\n",
      "X1043,1\n",
      "X1044,5\n",
      "X1045,0\n",
      "X1046,0\n",
      "X1047,0\n",
      "X1048,0\n",
      "X1049,0\n",
      "X1050,3\n",
      "X1051,34\n",
      "X1052,2\n",
      "X1053,1\n",
      "X1054,307\n",
      "X1055,8\n",
      "X1056,4\n",
      "X1057,80\n",
      "X1058,0\n",
      "X1059,0\n",
      "X1060,0\n",
      "X1061,49\n",
      "X1062,1\n",
      "X1063,0\n",
      "X1064,0\n",
      "X1065,0\n",
      "X1066,1\n",
      "X1067,0\n",
      "X1068,1\n",
      "X1069,0\n",
      "X1070,0\n",
      "X1071,0\n",
      "X1072,3\n",
      "X1073,0\n",
      "X1074,0\n",
      "X1075,0\n",
      "X1076,0\n",
      "X1077,0\n",
      "X1078,0\n",
      "X1079,0\n",
      "X1080,25\n",
      "X1081,0\n",
      "X1082,0\n",
      "X1083,1\n",
      "X1084,0\n",
      "X1085,2\n",
      "X1086,0\n",
      "X1087,0\n",
      "X1088,17\n",
      "X1089,0\n",
      "X1090,0\n",
      "X1091,0\n",
      "X1092,0\n",
      "X1093,7\n",
      "X1094,0\n",
      "X1095,1\n",
      "X1096,37\n",
      "X1097,0\n",
      "X1098,2\n",
      "X1099,1\n",
      "X1100,0\n",
      "X1101,0\n",
      "X1102,0\n",
      "X1103,0\n",
      "X1104,0\n",
      "X1105,0\n",
      "X1106,45\n",
      "X1107,1\n",
      "X1108,0\n",
      "X1109,0\n",
      "X1110,0\n",
      "X1111,0\n",
      "X1112,0\n",
      "X1113,0\n",
      "X1114,6\n",
      "X1115,0\n",
      "X1116,5\n",
      "X1117,1\n",
      "X1118,0\n",
      "X1119,0\n",
      "X1120,1\n",
      "X1121,0\n",
      "X1122,3\n",
      "X1123,0\n",
      "X1124,0\n",
      "X1125,3\n",
      "X1126,3\n",
      "X1127,0\n",
      "X1128,0\n",
      "X1129,2\n",
      "X1130,164\n",
      "X1131,0\n",
      "X1132,0\n",
      "X1133,0\n",
      "X1134,3\n",
      "X1135,0\n",
      "X1136,0\n",
      "X1137,1\n",
      "X1138,0\n",
      "X1139,0\n",
      "X1140,0\n",
      "X1141,0\n",
      "X1142,1\n",
      "X1143,0\n",
      "X1144,1\n",
      "X1145,0\n",
      "X1146,0\n",
      "X1147,4\n",
      "X1148,26\n",
      "X1149,0\n",
      "X1150,2\n",
      "X1151,0\n",
      "X1152,0\n",
      "X1153,1\n",
      "X1154,1\n",
      "X1155,0\n",
      "X1156,0\n",
      "X1157,0\n",
      "X1158,6\n",
      "X1159,0\n",
      "X1160,0\n",
      "X1161,0\n",
      "X1162,0\n",
      "X1163,0\n",
      "X1164,65\n",
      "X1165,0\n",
      "X1166,0\n",
      "X1167,0\n",
      "X1168,28\n",
      "X1169,1\n",
      "X1170,0\n",
      "X1171,3\n",
      "X1172,0\n",
      "X1173,5\n",
      "X1174,1\n",
      "X1175,0\n",
      "X1176,0\n",
      "X1177,17\n",
      "X1178,0\n",
      "X1179,0\n",
      "X1180,0\n",
      "X1181,0\n",
      "X1182,8\n",
      "X1183,0\n",
      "X1184,0\n",
      "X1185,0\n",
      "X1186,0\n",
      "X1187,3\n",
      "X1188,1\n",
      "X1189,2\n",
      "X1190,112\n",
      "X1191,0\n",
      "X1192,0\n",
      "X1193,3\n",
      "X1194,0\n",
      "X1195,0\n",
      "X1196,0\n",
      "X1197,0\n",
      "X1198,0\n",
      "X1199,0\n",
      "X1200,3\n",
      "X1201,2\n",
      "X1202,2\n",
      "X1203,31\n",
      "X1204,7\n",
      "X1205,1\n",
      "X1206,2\n",
      "X1207,2\n",
      "X1208,32\n",
      "X1209,0\n",
      "X1210,0\n",
      "X1211,0\n",
      "X1212,0\n",
      "X1213,0\n",
      "X1214,0\n",
      "X1215,4\n",
      "X1216,2\n",
      "X1217,7\n",
      "X1218,0\n",
      "X1219,0\n",
      "X1220,0\n",
      "X1221,1\n",
      "X1222,10\n",
      "X1223,0\n",
      "X1224,6\n",
      "X1225,3\n",
      "X1226,8\n",
      "X1227,0\n",
      "X1228,0\n",
      "X1229,0\n",
      "X1230,0\n",
      "X1231,3\n",
      "X1232,1\n",
      "X1233,4\n",
      "X1234,19\n",
      "X1235,1\n",
      "X1236,34\n",
      "X1237,0\n",
      "X1238,0\n",
      "X1239,0\n",
      "X1240,2\n",
      "X1241,0\n",
      "X1242,0\n",
      "X1243,0\n",
      "X1244,3\n",
      "X1245,0\n",
      "X1246,0\n",
      "X1247,0\n",
      "X1248,1\n",
      "X1249,6\n",
      "X1250,0\n",
      "X1251,0\n",
      "X1252,4\n",
      "X1253,1\n",
      "X1254,0\n",
      "X1255,0\n",
      "X1256,0\n",
      "X1257,1\n",
      "X1258,3\n",
      "X1259,23\n",
      "X1260,1\n",
      "X1261,0\n",
      "X1262,0\n",
      "X1263,0\n",
      "X1264,14\n",
      "X1265,0\n",
      "X1266,74\n",
      "X1267,1\n",
      "X1268,0\n",
      "X1269,0\n",
      "X1270,0\n",
      "X1271,19\n",
      "X1272,14\n",
      "X1273,0\n",
      "X1274,23\n",
      "X1275,0\n",
      "X1276,0\n",
      "X1277,33\n",
      "X1278,0\n",
      "X1279,2\n",
      "X1280,0\n",
      "X1281,1\n",
      "X1282,4\n",
      "X1283,0\n",
      "X1284,0\n",
      "X1285,0\n",
      "X1286,0\n",
      "X1287,2\n",
      "X1288,0\n",
      "X1289,0\n",
      "X1290,0\n",
      "X1291,0\n",
      "X1292,0\n",
      "X1293,0\n",
      "X1294,3\n",
      "X1295,25\n",
      "X1296,0\n",
      "X1297,0\n",
      "X1298,0\n",
      "X1299,1\n",
      "X1300,3\n",
      "X1301,1\n",
      "X1302,0\n",
      "X1303,1\n",
      "X1304,23\n",
      "X1305,0\n",
      "X1306,1\n",
      "X1307,0\n",
      "X1308,0\n",
      "X1309,0\n",
      "X1310,3\n",
      "X1311,0\n",
      "X1312,0\n",
      "X1313,0\n",
      "X1314,1\n",
      "X1315,0\n",
      "X1316,5\n",
      "X1317,0\n",
      "X1318,0\n",
      "X1319,3\n",
      "X1320,0\n",
      "X1321,0\n",
      "X1322,0\n",
      "X1323,0\n",
      "X1324,0\n",
      "X1325,1\n",
      "X1326,0\n",
      "X1327,0\n",
      "X1328,6\n",
      "X1329,5\n",
      "X1330,0\n",
      "X1331,0\n",
      "X1332,2\n",
      "X1333,0\n",
      "X1334,1\n",
      "X1335,0\n",
      "X1336,59\n",
      "X1337,7\n",
      "X1338,3\n",
      "X1339,9\n",
      "X1340,0\n",
      "X1341,0\n",
      "X1342,0\n",
      "X1343,1\n",
      "X1344,0\n",
      "X1345,9\n",
      "X1346,2\n",
      "X1347,92\n",
      "X1348,2\n",
      "X1349,0\n",
      "X1350,0\n",
      "X1351,0\n",
      "X1352,0\n",
      "X1353,0\n",
      "X1354,12\n",
      "X1355,2\n",
      "X1356,2\n",
      "X1357,10\n",
      "X1358,2\n",
      "X1359,179\n",
      "X1360,1\n",
      "X1361,1\n",
      "X1362,0\n",
      "X1363,0\n",
      "X1364,1\n",
      "X1365,26\n",
      "X1366,0\n",
      "X1367,0\n",
      "X1368,0\n",
      "X1369,3\n",
      "X1370,56\n",
      "X1371,0\n",
      "X1372,5\n",
      "X1373,0\n",
      "X1374,0\n",
      "X1375,3\n",
      "X1376,3\n",
      "X1377,0\n",
      "X1378,0\n",
      "X1379,0\n",
      "X1380,16\n",
      "X1381,2\n",
      "X1382,0\n",
      "X1383,0\n",
      "X1384,1\n",
      "X1385,0\n",
      "X1386,19\n",
      "X1387,0\n",
      "X1388,0\n",
      "X1389,1\n",
      "X1390,0\n",
      "X1391,0\n",
      "X1392,2\n",
      "X1393,1\n",
      "X1394,0\n",
      "X1395,1\n",
      "X1396,0\n",
      "X1397,0\n",
      "X1398,1\n",
      "X1399,0\n",
      "X1400,0\n",
      "X1401,0\n",
      "X1402,0\n",
      "X1403,0\n",
      "X1404,0\n",
      "X1405,2\n",
      "X1406,11\n",
      "X1407,0\n",
      "X1408,3\n",
      "X1409,103\n",
      "X1410,0\n",
      "X1411,0\n",
      "X1412,0\n",
      "X1413,1\n",
      "X1414,2\n",
      "X1415,0\n",
      "X1416,0\n",
      "X1417,0\n",
      "X1418,7\n",
      "X1419,0\n",
      "X1420,0\n",
      "X1421,42\n",
      "X1422,0\n",
      "X1423,0\n",
      "X1424,1\n",
      "X1425,4\n",
      "X1426,0\n",
      "X1427,0\n",
      "X1428,5\n",
      "X1429,0\n",
      "X1430,0\n",
      "X1431,0\n",
      "X1432,0\n",
      "X1433,0\n",
      "X1434,1\n",
      "X1435,0\n",
      "X1436,0\n",
      "X1437,0\n",
      "X1438,5\n",
      "X1439,0\n",
      "X1440,1\n",
      "X1441,0\n",
      "X1442,4\n",
      "X1443,0\n",
      "X1444,0\n",
      "X1445,0\n",
      "X1446,0\n",
      "X1447,0\n",
      "X1448,0\n",
      "X1449,0\n",
      "X1450,0\n",
      "X1451,0\n",
      "X1452,78\n",
      "X1453,0\n",
      "X1454,0\n",
      "X1455,2\n",
      "X1456,4\n",
      "X1457,0\n",
      "X1458,153\n",
      "X1459,0\n",
      "X1460,0\n",
      "X1461,0\n",
      "X1462,18\n",
      "X1463,2\n",
      "X1464,0\n",
      "X1465,0\n",
      "X1466,0\n",
      "X1467,2\n",
      "X1468,2\n",
      "X1469,0\n",
      "X1470,0\n",
      "X1471,1\n",
      "X1472,0\n",
      "X1473,0\n",
      "X1474,0\n",
      "X1475,0\n",
      "X1476,0\n",
      "X1477,0\n",
      "X1478,1\n",
      "X1479,0\n",
      "X1480,23\n",
      "X1481,1\n",
      "X1482,0\n",
      "X1483,0\n",
      "X1484,0\n",
      "X1485,0\n",
      "X1486,0\n",
      "X1487,0\n",
      "X1488,0\n",
      "X1489,0\n",
      "X1490,2\n",
      "X1491,0\n",
      "X1492,0\n",
      "X1493,0\n",
      "X1494,0\n",
      "X1495,1\n",
      "X1496,0\n",
      "X1497,16\n",
      "X1498,0\n",
      "X1499,0\n",
      "X1500,8\n",
      "X1501,1\n",
      "X1502,0\n",
      "X1503,0\n",
      "X1504,0\n",
      "X1505,2\n",
      "X1506,1\n",
      "X1507,0\n",
      "X1508,0\n",
      "X1509,33\n",
      "X1510,0\n",
      "X1511,2\n",
      "X1512,1\n",
      "X1513,0\n",
      "X1514,3\n",
      "X1515,2\n",
      "X1516,1\n",
      "X1517,0\n",
      "X1518,1\n",
      "X1519,0\n",
      "X1520,3\n",
      "X1521,2\n",
      "X1522,0\n",
      "X1523,0\n",
      "X1524,47\n",
      "X1525,0\n",
      "X1526,1\n",
      "X1527,0\n",
      "X1528,0\n",
      "X1529,1\n",
      "X1530,0\n",
      "X1531,0\n",
      "X1532,0\n",
      "X1533,0\n",
      "X1534,0\n",
      "X1535,8\n",
      "X1536,16\n",
      "X1537,49\n",
      "X1538,0\n",
      "X1539,0\n",
      "X1540,2\n",
      "X1541,2\n",
      "X1542,2\n",
      "X1543,0\n",
      "X1544,2\n",
      "X1545,1\n",
      "X1546,12\n",
      "X1547,0\n",
      "X1548,1\n",
      "X1549,0\n",
      "X1550,0\n",
      "X1551,24\n",
      "X1552,0\n",
      "X1553,0\n",
      "X1554,0\n",
      "X1555,1\n",
      "X1556,23\n",
      "X1557,0\n",
      "X1558,0\n",
      "X1559,0\n",
      "X1560,2\n",
      "X1561,0\n",
      "X1562,1\n",
      "X1563,122\n",
      "X1564,0\n",
      "X1565,19\n",
      "X1566,11\n",
      "X1567,0\n",
      "X1568,0\n",
      "X1569,5\n",
      "X1570,8\n",
      "X1571,0\n",
      "X1572,0\n",
      "X1573,11\n",
      "X1574,2\n",
      "X1575,0\n",
      "X1576,0\n",
      "X1577,0\n",
      "X1578,0\n",
      "X1579,8\n",
      "X1580,0\n",
      "X1581,25\n",
      "X1582,93\n",
      "X1583,0\n",
      "X1584,0\n",
      "X1585,0\n",
      "X1586,0\n",
      "X1587,0\n",
      "X1588,31\n",
      "X1589,0\n",
      "X1590,0\n",
      "X1591,0\n",
      "X1592,0\n",
      "X1593,0\n",
      "X1594,4\n",
      "X1595,0\n",
      "X1596,3\n",
      "X1597,5\n",
      "X1598,0\n",
      "X1599,14\n",
      "X1600,0\n",
      "X1601,0\n",
      "X1602,0\n",
      "X1603,0\n",
      "X1604,1\n",
      "X1605,2\n",
      "X1606,0\n",
      "X1607,5\n",
      "X1608,0\n",
      "X1609,0\n",
      "X1610,2\n",
      "X1611,0\n",
      "X1612,1\n",
      "X1613,1\n",
      "X1614,0\n",
      "X1615,0\n",
      "X1616,0\n",
      "X1617,2\n",
      "X1618,0\n",
      "X1619,0\n",
      "X1620,0\n",
      "X1621,0\n",
      "X1622,0\n",
      "X1623,1\n",
      "X1624,0\n",
      "X1625,0\n",
      "X1626,0\n",
      "X1627,0\n",
      "X1628,0\n",
      "X1629,11\n",
      "X1630,1\n",
      "X1631,1\n",
      "X1632,0\n",
      "X1633,0\n",
      "X1634,0\n",
      "X1635,0\n",
      "X1636,0\n",
      "X1637,18\n",
      "X1638,203\n",
      "X1639,0\n",
      "X1640,0\n",
      "X1641,0\n",
      "X1642,45\n",
      "X1643,0\n",
      "X1644,10\n",
      "X1645,0\n",
      "X1646,0\n",
      "X1647,1\n",
      "X1648,0\n",
      "X1649,0\n",
      "X1650,0\n",
      "X1651,0\n",
      "X1652,0\n",
      "X1653,3\n",
      "X1654,0\n",
      "X1655,0\n",
      "X1656,3\n",
      "X1657,0\n",
      "X1658,3\n",
      "X1659,0\n",
      "X1660,3\n",
      "X1661,0\n",
      "X1662,0\n",
      "X1663,0\n",
      "X1664,0\n",
      "X1665,9\n",
      "X1666,0\n",
      "X1667,0\n",
      "X1668,0\n",
      "X1669,0\n",
      "X1670,0\n",
      "X1671,1\n",
      "X1672,0\n",
      "X1673,0\n",
      "X1674,0\n",
      "X1675,0\n",
      "X1676,2\n",
      "X1677,6\n",
      "X1678,2\n",
      "X1679,0\n",
      "X1680,0\n",
      "X1681,1\n",
      "X1682,1\n",
      "X1683,3\n",
      "X1684,2\n",
      "X1685,0\n",
      "X1686,0\n",
      "X1687,0\n",
      "X1688,5\n",
      "X1689,0\n",
      "X1690,2\n",
      "X1691,30\n",
      "X1692,1\n",
      "X1693,3\n",
      "X1694,3\n",
      "X1695,0\n",
      "X1696,6\n",
      "X1697,0\n",
      "X1698,0\n",
      "X1699,5\n",
      "X1700,20\n",
      "X1701,0\n",
      "X1702,0\n",
      "X1703,0\n",
      "X1704,0\n",
      "X1705,0\n",
      "X1706,0\n",
      "X1707,0\n",
      "X1708,3\n",
      "X1709,0\n",
      "X1710,0\n",
      "X1711,1\n",
      "X1712,94\n",
      "X1713,0\n",
      "X1714,1\n",
      "X1715,1\n",
      "X1716,0\n",
      "X1717,12\n",
      "X1718,0\n",
      "X1719,0\n",
      "X1720,0\n",
      "X1721,0\n",
      "X1722,0\n",
      "X1723,0\n",
      "X1724,24\n",
      "X1725,0\n",
      "X1726,10\n",
      "X1727,1\n",
      "X1728,0\n",
      "X1729,0\n",
      "X1730,1\n",
      "X1731,0\n",
      "X1732,4\n",
      "X1733,0\n",
      "X1734,3\n",
      "X1735,4\n",
      "X1736,0\n",
      "X1737,4\n",
      "X1738,0\n",
      "X1739,0\n",
      "X1740,1\n",
      "X1741,0\n",
      "X1742,3\n",
      "X1743,0\n",
      "X1744,0\n",
      "X1745,20\n",
      "X1746,0\n",
      "X1747,0\n",
      "X1748,0\n",
      "X1749,0\n",
      "X1750,0\n",
      "X1751,2\n",
      "X1752,0\n",
      "X1753,0\n",
      "X1754,0\n",
      "X1755,0\n",
      "X1756,0\n",
      "X1757,5\n",
      "X1758,2\n",
      "X1759,3\n",
      "X1760,0\n",
      "X1761,86\n",
      "X1762,0\n",
      "X1763,0\n",
      "X1764,1\n",
      "X1765,25\n",
      "X1766,0\n",
      "X1767,2\n",
      "X1768,0\n",
      "X1769,0\n",
      "X1770,1\n",
      "X1771,2\n",
      "X1772,17\n",
      "X1773,15\n",
      "X1774,4\n",
      "X1775,0\n",
      "X1776,0\n",
      "X1777,7\n",
      "X1778,0\n",
      "X1779,0\n",
      "X1780,1\n",
      "X1781,0\n",
      "X1782,0\n",
      "X1783,0\n",
      "X1784,0\n",
      "X1785,0\n",
      "X1786,0\n",
      "X1787,0\n",
      "X1788,1\n",
      "X1789,2\n",
      "X1790,0\n",
      "X1791,138\n",
      "X1792,1\n",
      "X1793,3\n",
      "X1794,7\n",
      "X1795,3\n",
      "X1796,5\n",
      "X1797,0\n",
      "X1798,0\n",
      "X1799,0\n",
      "X1800,1\n",
      "X1801,0\n",
      "X1802,2\n",
      "X1803,0\n",
      "X1804,0\n",
      "X1805,1\n",
      "X1806,0\n",
      "X1807,0\n",
      "X1808,0\n",
      "X1809,1\n",
      "X1810,15\n",
      "X1811,3\n",
      "X1812,27\n",
      "X1813,0\n",
      "X1814,5\n",
      "X1815,2\n",
      "X1816,0\n",
      "X1817,3\n",
      "X1818,4\n",
      "X1819,1\n",
      "X1820,0\n",
      "X1821,0\n",
      "X1822,1\n",
      "X1823,1\n",
      "X1824,0\n",
      "X1825,0\n",
      "X1826,171\n",
      "X1827,2\n",
      "X1828,0\n",
      "X1829,0\n",
      "X1830,0\n",
      "X1831,2\n",
      "X1832,5\n",
      "X1833,1\n",
      "X1834,0\n",
      "X1835,1\n",
      "X1836,4\n",
      "X1837,2\n",
      "X1838,0\n",
      "X1839,0\n",
      "X1840,1\n",
      "X1841,7\n",
      "X1842,1\n",
      "X1843,2\n",
      "X1844,3\n",
      "X1845,0\n",
      "X1846,1\n",
      "X1847,0\n",
      "X1848,0\n",
      "X1849,0\n",
      "X1850,0\n",
      "X1851,3\n",
      "X1852,9\n",
      "X1853,0\n",
      "X1854,0\n",
      "X1855,0\n",
      "X1856,2\n",
      "X1857,10\n",
      "X1858,0\n",
      "X1859,0\n",
      "X1860,0\n",
      "X1861,0\n",
      "X1862,5\n",
      "X1863,1\n",
      "X1864,33\n",
      "X1865,0\n",
      "X1866,0\n",
      "X1867,0\n",
      "X1868,1\n",
      "X1869,3\n",
      "X1870,0\n",
      "X1871,0\n",
      "X1872,5\n",
      "X1873,1\n",
      "X1874,5\n",
      "X1875,2\n",
      "X1876,6\n",
      "X1877,1\n",
      "X1878,4\n",
      "X1879,0\n",
      "X1880,0\n",
      "X1881,1\n",
      "X1882,1\n",
      "X1883,2\n",
      "X1884,0\n",
      "X1885,0\n",
      "X1886,0\n",
      "X1887,131\n",
      "X1888,2\n",
      "X1889,4\n",
      "X1890,2\n",
      "X1891,1\n",
      "X1892,0\n",
      "X1893,1\n",
      "X1894,0\n",
      "X1895,0\n",
      "X1896,0\n",
      "X1897,0\n",
      "X1898,0\n",
      "X1899,0\n",
      "X1900,0\n",
      "X1901,1\n",
      "X1902,0\n",
      "X1903,0\n",
      "X1904,0\n",
      "X1905,18\n",
      "X1906,0\n",
      "X1907,0\n",
      "X1908,0\n",
      "X1909,12\n",
      "X1910,0\n",
      "X1911,0\n",
      "X1912,0\n",
      "X1913,1\n",
      "X1914,0\n",
      "X1915,1\n",
      "X1916,0\n",
      "X1917,0\n",
      "X1918,0\n",
      "X1919,0\n",
      "X1920,1\n",
      "X1921,0\n",
      "X1922,0\n",
      "X1923,12\n",
      "X1924,2\n",
      "X1925,0\n",
      "X1926,0\n",
      "X1927,1\n",
      "X1928,0\n",
      "X1929,1\n",
      "X1930,2\n",
      "X1931,0\n",
      "X1932,0\n",
      "X1933,0\n",
      "X1934,0\n",
      "X1935,0\n",
      "X1936,3\n",
      "X1937,31\n",
      "X1938,1\n",
      "X1939,0\n",
      "X1940,1\n",
      "X1941,1\n",
      "X1942,1\n",
      "X1943,7\n",
      "X1944,0\n",
      "X1945,2\n",
      "X1946,46\n",
      "X1947,1\n",
      "X1948,0\n",
      "X1949,0\n",
      "X1950,0\n",
      "X1951,1\n",
      "X1952,19\n",
      "X1953,0\n",
      "X1954,3\n",
      "X1955,0\n",
      "X1956,1\n",
      "X1957,0\n",
      "X1958,0\n",
      "X1959,0\n",
      "X1960,0\n",
      "X1961,0\n",
      "X1962,0\n",
      "X1963,3\n",
      "X1964,0\n",
      "X1965,0\n",
      "X1966,0\n",
      "X1967,17\n",
      "X1968,0\n",
      "X1969,0\n",
      "X1970,0\n",
      "X1971,0\n",
      "X1972,0\n",
      "X1973,0\n",
      "X1974,7\n",
      "X1975,0\n",
      "X1976,77\n",
      "X1977,0\n",
      "X1978,18\n",
      "X1979,2\n",
      "X1980,0\n",
      "X1981,0\n",
      "X1982,0\n",
      "X1983,1\n",
      "X1984,0\n",
      "X1985,21\n",
      "X1986,0\n",
      "X1987,3\n",
      "X1988,7\n",
      "X1989,0\n",
      "X1990,1\n",
      "X1991,0\n",
      "X1992,0\n",
      "X1993,113\n",
      "X1994,0\n",
      "X1995,0\n",
      "X1996,0\n",
      "X1997,0\n",
      "X1998,161\n",
      "X1999,0\n",
      "X2000,3\n",
      "X2001,18\n",
      "X2002,0\n",
      "X2003,0\n",
      "X2004,0\n",
      "X2005,1\n",
      "X2006,0\n",
      "X2007,0\n",
      "X2008,2\n",
      "X2009,6\n",
      "X2010,0\n",
      "X2011,0\n",
      "X2012,1\n",
      "X2013,1\n",
      "X2014,24\n",
      "X2015,2\n",
      "X2016,0\n",
      "X2017,0\n",
      "X2018,1\n",
      "X2019,44\n",
      "X2020,0\n",
      "X2021,0\n",
      "X2022,0\n",
      "X2023,27\n",
      "X2024,0\n",
      "X2025,0\n",
      "X2026,1\n",
      "X2027,0\n",
      "X2028,37\n",
      "X2029,0\n",
      "X2030,0\n",
      "X2031,0\n",
      "X2032,0\n",
      "X2033,0\n",
      "X2034,1\n",
      "X2035,1\n",
      "X2036,16\n",
      "X2037,0\n",
      "X2038,0\n",
      "X2039,1\n",
      "X2040,0\n",
      "X2041,1\n",
      "X2042,1\n",
      "X2043,0\n",
      "X2044,34\n",
      "X2045,3\n",
      "X2046,0\n",
      "X2047,0\n",
      "X2048,0\n",
      "X2049,1\n",
      "X2050,0\n",
      "X2051,4\n",
      "X2052,0\n",
      "X2053,0\n",
      "X2054,1\n",
      "X2055,0\n",
      "X2056,0\n",
      "X2057,0\n",
      "X2058,0\n",
      "X2059,2\n",
      "X2060,13\n",
      "X2061,3\n",
      "X2062,1\n",
      "X2063,1\n",
      "X2064,3\n",
      "X2065,0\n",
      "X2066,0\n",
      "X2067,0\n",
      "X2068,0\n",
      "X2069,0\n",
      "X2070,0\n",
      "X2071,0\n",
      "X2072,0\n",
      "X2073,0\n",
      "X2074,0\n",
      "X2075,0\n",
      "X2076,1\n",
      "X2077,0\n",
      "X2078,17\n",
      "X2079,0\n",
      "X2080,2\n",
      "X2081,52\n",
      "X2082,0\n",
      "X2083,5\n",
      "X2084,1\n",
      "X2085,0\n",
      "X2086,4\n",
      "X2087,0\n",
      "X2088,0\n",
      "X2089,1\n",
      "X2090,0\n",
      "X2091,5\n",
      "X2092,1\n",
      "X2093,2\n",
      "X2094,2\n",
      "X2095,3\n",
      "X2096,1\n",
      "X2097,1\n",
      "X2098,21\n",
      "X2099,0\n",
      "X2100,5\n",
      "X2101,0\n",
      "X2102,63\n",
      "X2103,1\n",
      "X2104,1\n",
      "X2105,1\n",
      "X2106,2\n",
      "X2107,0\n",
      "X2108,0\n",
      "X2109,0\n",
      "X2110,1\n",
      "X2111,0\n",
      "X2112,0\n",
      "X2113,0\n",
      "X2114,0\n",
      "X2115,1\n",
      "X2116,7\n",
      "X2117,5\n",
      "X2118,2\n",
      "X2119,1\n",
      "X2120,2\n",
      "X2121,0\n",
      "X2122,0\n",
      "X2123,0\n",
      "X2124,0\n",
      "X2125,5\n",
      "X2126,0\n",
      "X2127,0\n",
      "X2128,0\n",
      "X2129,0\n",
      "X2130,41\n",
      "X2131,0\n",
      "X2132,35\n",
      "X2133,10\n",
      "X2134,0\n",
      "X2135,1\n",
      "X2136,0\n",
      "X2137,0\n",
      "X2138,98\n",
      "X2139,1\n",
      "X2140,0\n",
      "X2141,42\n",
      "X2142,0\n",
      "X2143,1\n",
      "X2144,0\n",
      "X2145,0\n",
      "X2146,0\n",
      "X2147,0\n",
      "X2148,0\n",
      "X2149,0\n",
      "X2150,0\n",
      "X2151,0\n",
      "X2152,0\n",
      "X2153,7\n",
      "X2154,0\n",
      "X2155,0\n",
      "X2156,0\n",
      "X2157,0\n",
      "X2158,5\n",
      "X2159,2\n",
      "X2160,8\n",
      "X2161,0\n",
      "X2162,0\n",
      "X2163,3\n",
      "X2164,1\n",
      "X2165,0\n",
      "X2166,0\n",
      "X2167,0\n",
      "X2168,1\n",
      "X2169,0\n",
      "X2170,0\n",
      "X2171,31\n",
      "X2172,0\n",
      "X2173,38\n",
      "X2174,32\n",
      "X2175,0\n",
      "X2176,1\n",
      "X2177,9\n",
      "X2178,0\n",
      "X2179,2\n",
      "X2180,9\n",
      "X2181,1\n",
      "X2182,0\n",
      "X2183,0\n",
      "X2184,0\n",
      "X2185,0\n",
      "X2186,1\n",
      "X2187,0\n",
      "X2188,0\n",
      "X2189,1\n",
      "X2190,0\n",
      "X2191,1\n",
      "X2192,0\n",
      "X2193,0\n",
      "X2194,0\n",
      "X2195,2\n",
      "X2196,0\n",
      "X2197,4\n",
      "X2198,0\n",
      "X2199,8\n",
      "X2200,0\n",
      "X2201,0\n",
      "X2202,0\n",
      "X2203,1\n",
      "X2204,0\n",
      "X2205,0\n",
      "X2206,2\n",
      "X2207,1\n",
      "X2208,0\n",
      "X2209,0\n",
      "X2210,92\n",
      "X2211,0\n",
      "X2212,0\n",
      "X2213,0\n",
      "X2214,0\n",
      "X2215,0\n",
      "X2216,0\n",
      "X2217,1\n",
      "X2218,9\n",
      "X2219,0\n",
      "X2220,1\n",
      "X2221,0\n",
      "X2222,0\n",
      "X2223,0\n",
      "X2224,1\n",
      "X2225,0\n",
      "X2226,0\n",
      "X2227,0\n",
      "X2228,0\n",
      "X2229,0\n",
      "X2230,0\n",
      "X2231,0\n",
      "X2232,0\n",
      "X2233,0\n",
      "X2234,1\n",
      "X2235,0\n",
      "X2236,0\n",
      "X2237,4\n",
      "X2238,3\n",
      "X2239,0\n",
      "X2240,0\n",
      "X2241,1\n",
      "X2242,6\n",
      "X2243,1\n",
      "X2244,0\n",
      "X2245,0\n",
      "X2246,0\n",
      "X2247,0\n",
      "X2248,0\n",
      "X2249,0\n",
      "X2250,0\n",
      "X2251,0\n",
      "X2252,8\n",
      "X2253,0\n",
      "X2254,0\n",
      "X2255,1\n",
      "X2256,3\n",
      "X2257,0\n",
      "X2258,0\n",
      "X2259,0\n",
      "X2260,0\n",
      "X2261,9\n",
      "X2262,0\n",
      "X2263,0\n",
      "X2264,2\n",
      "X2265,0\n",
      "X2266,0\n",
      "X2267,0\n",
      "X2268,11\n",
      "X2269,10\n",
      "X2270,0\n",
      "X2271,8\n",
      "X2272,0\n",
      "X2273,9\n",
      "X2274,21\n",
      "X2275,4\n",
      "X2276,0\n",
      "X2277,0\n",
      "X2278,0\n",
      "X2279,0\n",
      "X2280,3\n",
      "X2281,0\n",
      "X2282,0\n",
      "X2283,0\n",
      "X2284,63\n",
      "X2285,123\n",
      "X2286,0\n",
      "X2287,0\n",
      "X2288,0\n",
      "X2289,2\n",
      "X2290,1\n",
      "X2291,0\n",
      "X2292,0\n",
      "X2293,0\n",
      "X2294,0\n",
      "X2295,2\n",
      "X2296,2\n",
      "X2297,1\n",
      "X2298,142\n",
      "X2299,0\n",
      "X2300,25\n",
      "X2301,0\n",
      "X2302,2\n",
      "X2303,2\n",
      "X2304,0\n",
      "X2305,0\n",
      "X2306,1\n",
      "X2307,2\n",
      "X2308,1\n",
      "X2309,539\n",
      "X2310,0\n",
      "X2311,0\n",
      "X2312,0\n",
      "X2313,0\n",
      "X2314,0\n",
      "X2315,2\n",
      "X2316,0\n",
      "X2317,0\n",
      "X2318,0\n",
      "X2319,0\n",
      "X2320,3\n",
      "X2321,0\n",
      "X2322,16\n",
      "X2323,1\n",
      "X2324,0\n",
      "X2325,3\n",
      "X2326,5\n",
      "X2327,1\n",
      "X2328,0\n",
      "X2329,4\n",
      "X2330,2\n",
      "X2331,3\n",
      "X2332,0\n",
      "X2333,2\n",
      "X2334,0\n",
      "X2335,0\n",
      "X2336,0\n",
      "X2337,0\n",
      "X2338,0\n",
      "X2339,0\n",
      "X2340,7\n",
      "X2341,0\n",
      "X2342,0\n",
      "X2343,0\n",
      "X2344,1\n",
      "X2345,6\n",
      "X2346,11\n",
      "X2347,0\n",
      "X2348,1\n",
      "X2349,0\n",
      "X2350,1\n",
      "X2351,0\n",
      "X2352,2\n",
      "X2353,0\n",
      "X2354,0\n",
      "X2355,2\n",
      "X2356,0\n",
      "X2357,1\n",
      "X2358,0\n",
      "X2359,0\n",
      "X2360,12\n",
      "X2361,19\n",
      "X2362,18\n",
      "X2363,2\n",
      "X2364,6\n",
      "X2365,0\n",
      "X2366,0\n",
      "X2367,5\n",
      "X2368,1\n",
      "X2369,0\n",
      "X2370,1\n",
      "X2371,0\n",
      "X2372,0\n",
      "X2373,1\n",
      "X2374,0\n",
      "X2375,53\n",
      "X2376,0\n",
      "X2377,4\n",
      "X2378,1\n",
      "X2379,0\n",
      "X2380,1\n",
      "X2381,0\n",
      "X2382,0\n",
      "X2383,0\n",
      "X2384,0\n",
      "X2385,0\n",
      "X2386,3\n",
      "X2387,6\n",
      "X2388,0\n",
      "X2389,0\n",
      "X2390,0\n",
      "X2391,0\n",
      "X2392,0\n",
      "X2393,0\n",
      "X2394,0\n",
      "X2395,0\n",
      "X2396,11\n",
      "X2397,2\n",
      "X2398,1\n",
      "X2399,0\n",
      "X2400,1\n",
      "X2401,0\n",
      "X2402,0\n",
      "X2403,0\n",
      "X2404,0\n",
      "X2405,41\n",
      "X2406,0\n",
      "X2407,0\n",
      "X2408,0\n",
      "X2409,0\n",
      "X2410,1\n",
      "X2411,0\n",
      "X2412,0\n",
      "X2413,2\n",
      "X2414,0\n",
      "X2415,3\n",
      "X2416,0\n",
      "X2417,1\n",
      "X2418,0\n",
      "X2419,0\n",
      "X2420,0\n",
      "X2421,2\n",
      "X2422,0\n",
      "X2423,0\n",
      "X2424,0\n",
      "X2425,2\n",
      "X2426,0\n",
      "X2427,0\n",
      "X2428,1\n",
      "X2429,0\n",
      "X2430,0\n",
      "X2431,0\n",
      "X2432,1\n",
      "X2433,4\n",
      "X2434,0\n",
      "X2435,1\n",
      "X2436,1\n",
      "X2437,0\n",
      "X2438,0\n",
      "X2439,63\n",
      "X2440,0\n",
      "X2441,0\n",
      "X2442,2\n",
      "X2443,2\n",
      "X2444,2\n",
      "X2445,0\n",
      "X2446,3\n",
      "X2447,0\n",
      "X2448,0\n",
      "X2449,0\n",
      "X2450,0\n",
      "X2451,0\n",
      "X2452,0\n",
      "X2453,0\n",
      "X2454,0\n",
      "X2455,2\n",
      "X2456,0\n",
      "X2457,0\n",
      "X2458,0\n",
      "X2459,0\n",
      "X2460,0\n",
      "X2461,2\n",
      "X2462,0\n",
      "X2463,59\n",
      "X2464,18\n",
      "X2465,0\n",
      "X2466,0\n",
      "X2467,0\n",
      "X2468,0\n",
      "X2469,12\n",
      "X2470,0\n",
      "X2471,0\n",
      "X2472,0\n",
      "X2473,1\n",
      "X2474,0\n",
      "X2475,83\n",
      "X2476,1\n",
      "X2477,2\n",
      "X2478,0\n",
      "X2479,2\n",
      "X2480,0\n",
      "X2481,0\n",
      "X2482,2\n",
      "X2483,1\n",
      "X2484,0\n",
      "X2485,3\n",
      "X2486,0\n",
      "X2487,0\n",
      "X2488,29\n",
      "X2489,1\n",
      "X2490,0\n",
      "X2491,0\n",
      "X2492,3\n",
      "X2493,1\n",
      "X2494,8\n",
      "X2495,0\n",
      "X2496,33\n",
      "X2497,5\n",
      "X2498,5\n",
      "X2499,0\n",
      "X2500,9\n",
      "X2501,0\n",
      "X2502,0\n",
      "X2503,0\n",
      "X2504,1\n",
      "X2505,0\n",
      "X2506,0\n",
      "X2507,56\n",
      "X2508,0\n",
      "X2509,0\n",
      "X2510,0\n",
      "X2511,1\n",
      "X2512,0\n",
      "X2513,4\n",
      "X2514,0\n",
      "X2515,0\n",
      "X2516,0\n",
      "X2517,64\n",
      "X2518,1\n",
      "X2519,0\n",
      "X2520,0\n",
      "X2521,9\n",
      "X2522,3\n",
      "X2523,0\n",
      "X2524,0\n",
      "X2525,0\n",
      "X2526,0\n",
      "X2527,0\n",
      "X2528,0\n",
      "X2529,55\n",
      "X2530,1\n",
      "X2531,0\n",
      "X2532,9\n",
      "X2533,4\n",
      "X2534,2\n",
      "X2535,0\n",
      "X2536,0\n",
      "X2537,0\n",
      "X2538,13\n",
      "X2539,0\n",
      "X2540,45\n",
      "X2541,1\n",
      "X2542,0\n",
      "X2543,0\n",
      "X2544,9\n",
      "X2545,2\n",
      "X2546,0\n",
      "X2547,0\n",
      "X2548,2\n",
      "X2549,0\n",
      "X2550,0\n",
      "X2551,0\n",
      "X2552,1\n",
      "X2553,1\n",
      "X2554,0\n",
      "X2555,0\n",
      "X2556,0\n",
      "X2557,0\n",
      "X2558,29\n",
      "X2559,0\n",
      "X2560,0\n",
      "X2561,0\n",
      "X2562,0\n",
      "X2563,0\n",
      "X2564,0\n",
      "X2565,2\n",
      "X2566,11\n",
      "X2567,12\n",
      "X2568,2\n",
      "X2569,3\n",
      "X2570,0\n",
      "X2571,0\n",
      "X2572,10\n",
      "X2573,1\n",
      "X2574,0\n",
      "X2575,0\n",
      "X2576,0\n",
      "X2577,0\n",
      "X2578,0\n",
      "X2579,0\n",
      "X2580,1\n",
      "X2581,1\n",
      "X2582,2\n",
      "X2583,0\n",
      "X2584,0\n",
      "X2585,0\n",
      "X2586,0\n",
      "X2587,0\n",
      "X2588,1\n",
      "X2589,0\n",
      "X2590,1\n",
      "X2591,1\n",
      "X2592,1\n",
      "X2593,43\n",
      "X2594,1\n",
      "X2595,0\n",
      "X2596,0\n",
      "X2597,0\n",
      "X2598,2\n",
      "X2599,0\n",
      "X2600,2\n",
      "X2601,0\n",
      "X2602,0\n",
      "X2603,0\n",
      "X2604,0\n",
      "X2605,0\n",
      "X2606,0\n",
      "X2607,91\n",
      "X2608,0\n",
      "X2609,0\n",
      "X2610,2\n",
      "X2611,1\n",
      "X2612,5\n",
      "X2613,0\n",
      "X2614,0\n",
      "X2615,0\n",
      "X2616,0\n",
      "X2617,0\n",
      "X2618,0\n",
      "X2619,0\n",
      "X2620,0\n",
      "X2621,0\n",
      "X2622,0\n",
      "X2623,0\n",
      "X2624,0\n",
      "X2625,0\n",
      "X2626,1\n",
      "X2627,0\n",
      "X2628,0\n",
      "X2629,0\n",
      "X2630,0\n",
      "X2631,0\n",
      "X2632,0\n",
      "X2633,0\n",
      "X2634,8\n",
      "X2635,0\n",
      "X2636,0\n",
      "X2637,0\n",
      "X2638,1\n",
      "X2639,0\n",
      "X2640,1\n",
      "X2641,0\n",
      "X2642,0\n",
      "X2643,0\n",
      "X2644,11\n",
      "X2645,0\n",
      "X2646,1\n",
      "X2647,0\n",
      "X2648,13\n",
      "X2649,1\n",
      "X2650,0\n",
      "X2651,0\n",
      "X2652,0\n",
      "X2653,0\n",
      "X2654,0\n",
      "X2655,0\n",
      "X2656,0\n",
      "X2657,0\n",
      "X2658,0\n",
      "X2659,0\n",
      "X2660,0\n",
      "X2661,2\n",
      "X2662,0\n",
      "X2663,0\n",
      "X2664,0\n",
      "X2665,10\n",
      "X2666,0\n",
      "X2667,1\n",
      "X2668,1\n",
      "X2669,4\n",
      "X2670,0\n",
      "X2671,3\n",
      "X2672,0\n",
      "X2673,1\n",
      "X2674,0\n",
      "X2675,0\n",
      "X2676,5\n",
      "X2677,0\n",
      "X2678,50\n",
      "X2679,0\n",
      "X2680,0\n",
      "X2681,0\n",
      "X2682,0\n",
      "X2683,24\n",
      "X2684,0\n",
      "X2685,141\n",
      "X2686,8\n",
      "X2687,0\n",
      "X2688,23\n",
      "X2689,1\n",
      "X2690,9\n",
      "X2691,0\n",
      "X2692,0\n",
      "X2693,27\n",
      "X2694,0\n",
      "X2695,1\n",
      "X2696,1\n",
      "X2697,0\n",
      "X2698,0\n",
      "X2699,0\n",
      "X2700,0\n",
      "X2701,0\n",
      "X2702,3\n",
      "X2703,0\n",
      "X2704,29\n",
      "X2705,0\n",
      "X2706,34\n",
      "X2707,0\n",
      "X2708,8\n",
      "X2709,0\n",
      "X2710,0\n",
      "X2711,0\n",
      "X2712,0\n",
      "X2713,0\n",
      "X2714,0\n",
      "X2715,2\n",
      "X2716,0\n",
      "X2717,2\n",
      "X2718,41\n",
      "X2719,0\n",
      "X2720,0\n",
      "X2721,2\n",
      "X2722,3\n",
      "X2723,0\n",
      "X2724,0\n",
      "X2725,0\n",
      "X2726,0\n",
      "X2727,0\n",
      "X2728,4\n",
      "X2729,0\n",
      "X2730,0\n",
      "X2731,0\n",
      "X2732,0\n",
      "X2733,0\n",
      "X2734,0\n",
      "X2735,0\n",
      "X2736,0\n",
      "X2737,11\n",
      "X2738,0\n",
      "X2739,33\n",
      "X2740,0\n",
      "X2741,0\n",
      "X2742,0\n",
      "X2743,0\n",
      "X2744,0\n",
      "X2745,3\n",
      "X2746,0\n",
      "X2747,4\n",
      "X2748,0\n",
      "X2749,1\n",
      "X2750,1\n",
      "X2751,0\n",
      "X2752,0\n",
      "X2753,0\n",
      "X2754,1\n",
      "X2755,0\n",
      "X2756,88\n",
      "X2757,0\n",
      "X2758,1\n",
      "X2759,0\n",
      "X2760,0\n",
      "X2761,0\n",
      "X2762,0\n",
      "X2763,0\n",
      "X2764,229\n",
      "X2765,0\n",
      "X2766,3\n",
      "X2767,0\n",
      "X2768,2\n",
      "X2769,0\n",
      "X2770,5\n",
      "X2771,4\n",
      "X2772,0\n",
      "X2773,0\n",
      "X2774,1\n",
      "X2775,1\n",
      "X2776,0\n",
      "X2777,15\n",
      "X2778,0\n",
      "X2779,21\n",
      "X2780,0\n",
      "X2781,0\n",
      "X2782,0\n",
      "X2783,12\n",
      "X2784,0\n",
      "X2785,0\n",
      "X2786,1\n",
      "X2787,0\n",
      "X2788,0\n",
      "X2789,3\n",
      "X2790,346\n",
      "X2791,1\n",
      "X2792,0\n",
      "X2793,0\n",
      "X2794,4\n",
      "X2795,10\n",
      "X2796,0\n",
      "X2797,3\n",
      "X2798,0\n",
      "X2799,0\n",
      "X2800,0\n",
      "X2801,0\n",
      "X2802,0\n",
      "X2803,0\n",
      "X2804,0\n",
      "X2805,1\n",
      "X2806,0\n",
      "X2807,0\n",
      "X2808,0\n",
      "X2809,0\n",
      "X2810,0\n",
      "X2811,0\n",
      "X2812,3\n",
      "X2813,0\n",
      "X2814,0\n",
      "X2815,0\n",
      "X2816,0\n",
      "X2817,0\n",
      "X2818,0\n",
      "X2819,2\n",
      "X2820,0\n",
      "X2821,0\n",
      "X2822,1\n",
      "X2823,3\n",
      "X2824,2\n",
      "X2825,0\n",
      "X2826,0\n",
      "X2827,0\n",
      "X2828,0\n",
      "X2829,0\n",
      "X2830,0\n",
      "X2831,0\n",
      "X2832,1\n",
      "X2833,0\n",
      "X2834,0\n",
      "X2835,0\n",
      "X2836,0\n",
      "X2837,0\n",
      "X2838,0\n",
      "X2839,0\n",
      "X2840,0\n",
      "X2841,0\n",
      "X2842,0\n",
      "X2843,0\n",
      "X2844,0\n",
      "X2845,19\n",
      "X2846,24\n",
      "X2847,2\n",
      "X2848,0\n",
      "X2849,0\n",
      "X2850,0\n",
      "X2851,0\n",
      "X2852,0\n",
      "X2853,1\n",
      "X2854,0\n",
      "X2855,0\n",
      "X2856,2\n",
      "X2857,0\n",
      "X2858,0\n",
      "X2859,20\n",
      "X2860,1\n",
      "X2861,0\n",
      "X2862,3\n",
      "X2863,0\n",
      "X2864,0\n",
      "X2865,1\n",
      "X2866,4\n",
      "X2867,0\n",
      "X2868,0\n",
      "X2869,0\n",
      "X2870,28\n",
      "X2871,4\n",
      "X2872,0\n",
      "X2873,0\n",
      "X2874,1\n",
      "X2875,6\n",
      "X2876,1\n",
      "X2877,0\n",
      "X2878,0\n",
      "X2879,0\n",
      "X2880,1\n",
      "X2881,0\n",
      "X2882,12\n",
      "X2883,0\n",
      "X2884,0\n",
      "X2885,0\n",
      "X2886,0\n",
      "X2887,1\n",
      "X2888,0\n",
      "X2889,1\n",
      "X2890,4\n",
      "X2891,0\n",
      "X2892,0\n",
      "X2893,0\n",
      "X2894,20\n",
      "X2895,1\n",
      "X2896,0\n",
      "X2897,0\n",
      "X2898,2\n",
      "X2899,0\n",
      "X2900,0\n",
      "X2901,5\n",
      "X2902,0\n",
      "X2903,6\n",
      "X2904,0\n",
      "X2905,0\n",
      "X2906,0\n",
      "X2907,3\n",
      "X2908,0\n",
      "X2909,6\n",
      "X2910,24\n",
      "X2911,17\n",
      "X2912,0\n",
      "X2913,0\n",
      "X2914,0\n",
      "X2915,1\n",
      "X2916,1\n",
      "X2917,0\n",
      "X2918,0\n",
      "X2919,0\n",
      "X2920,0\n",
      "X2921,0\n",
      "X2922,2\n",
      "X2923,0\n",
      "X2924,1\n",
      "X2925,0\n",
      "X2926,2\n",
      "X2927,0\n",
      "X2928,0\n",
      "X2929,0\n",
      "X2930,0\n",
      "X2931,0\n",
      "X2932,0\n",
      "X2933,0\n",
      "X2934,1\n",
      "X2935,0\n",
      "X2936,0\n",
      "X2937,0\n",
      "X2938,10\n",
      "X2939,0\n",
      "X2940,0\n",
      "X2941,1\n",
      "X2942,0\n",
      "X2943,0\n",
      "X2944,3\n",
      "X2945,0\n",
      "X2946,0\n",
      "X2947,0\n",
      "X2948,2\n",
      "X2949,7\n",
      "X2950,13\n",
      "X2951,1\n",
      "X2952,5\n",
      "X2953,1\n",
      "X2954,0\n",
      "X2955,0\n",
      "X2956,18\n",
      "X2957,0\n",
      "X2958,0\n",
      "X2959,0\n",
      "X2960,0\n",
      "X2961,0\n",
      "X2962,0\n",
      "X2963,0\n",
      "X2964,0\n",
      "X2965,0\n",
      "X2966,0\n",
      "X2967,0\n",
      "X2968,0\n",
      "X2969,0\n",
      "X2970,11\n",
      "X2971,0\n",
      "X2972,0\n",
      "X2973,0\n",
      "X2974,0\n",
      "X2975,0\n",
      "X2976,0\n",
      "X2977,3\n",
      "X2978,1\n",
      "X2979,1\n",
      "X2980,230\n",
      "X2981,0\n",
      "X2982,7\n",
      "X2983,1\n",
      "X2984,1\n",
      "X2985,0\n",
      "X2986,0\n",
      "X2987,0\n",
      "X2988,13\n",
      "X2989,0\n",
      "X2990,8\n",
      "X2991,0\n",
      "X2992,0\n",
      "X2993,9\n",
      "X2994,0\n",
      "X2995,0\n",
      "X2996,0\n",
      "X2997,0\n",
      "X2998,69\n",
      "X2999,3\n",
      "X3000,1\n",
      "X3001,0\n",
      "X3002,3\n",
      "X3003,0\n",
      "X3004,70\n",
      "X3005,0\n",
      "X3006,0\n",
      "X3007,2\n",
      "X3008,0\n",
      "X3009,63\n",
      "X3010,0\n",
      "X3011,0\n",
      "X3012,0\n",
      "X3013,1\n",
      "X3014,0\n",
      "X3015,1\n",
      "X3016,2\n",
      "X3017,1\n",
      "X3018,0\n",
      "X3019,0\n",
      "X3020,0\n",
      "X3021,2\n",
      "X3022,10\n",
      "X3023,0\n",
      "X3024,0\n",
      "X3025,1\n",
      "X3026,0\n",
      "X3027,1\n",
      "X3028,18\n",
      "X3029,0\n",
      "X3030,0\n",
      "X3031,0\n",
      "X3032,8\n",
      "X3033,0\n",
      "X3034,1\n",
      "X3035,9\n",
      "X3036,11\n",
      "X3037,0\n",
      "X3038,0\n",
      "X3039,7\n",
      "X3040,0\n",
      "X3041,0\n",
      "X3042,47\n",
      "X3043,0\n",
      "X3044,3\n",
      "X3045,0\n",
      "X3046,1\n",
      "X3047,0\n",
      "X3048,0\n",
      "X3049,0\n",
      "X3050,16\n",
      "X3051,0\n",
      "X3052,0\n",
      "X3053,0\n",
      "X3054,20\n",
      "X3055,0\n",
      "X3056,0\n",
      "X3057,0\n",
      "X3058,0\n",
      "X3059,0\n",
      "X3060,0\n",
      "X3061,6\n",
      "X3062,0\n",
      "X3063,0\n",
      "X3064,0\n",
      "X3065,1\n",
      "X3066,8\n",
      "X3067,0\n",
      "X3068,0\n",
      "X3069,3\n",
      "X3070,10\n",
      "X3071,0\n",
      "X3072,3\n",
      "X3073,21\n",
      "X3074,11\n",
      "X3075,0\n",
      "X3076,0\n",
      "X3077,3\n",
      "X3078,0\n",
      "X3079,0\n",
      "X3080,0\n",
      "X3081,3\n",
      "X3082,155\n",
      "X3083,2\n",
      "X3084,0\n",
      "X3085,0\n",
      "X3086,1\n",
      "X3087,10\n",
      "X3088,0\n",
      "X3089,1\n",
      "X3090,0\n",
      "X3091,0\n",
      "X3092,5\n",
      "X3093,1\n",
      "X3094,0\n",
      "X3095,10\n",
      "X3096,15\n",
      "X3097,0\n",
      "X3098,3\n",
      "X3099,0\n",
      "X3100,0\n",
      "X3101,3\n",
      "X3102,0\n",
      "X3103,0\n",
      "X3104,18\n",
      "X3105,0\n",
      "X3106,1\n",
      "X3107,0\n",
      "X3108,2\n",
      "X3109,0\n",
      "X3110,0\n",
      "X3111,7\n",
      "X3112,0\n",
      "X3113,4\n",
      "X3114,5\n",
      "X3115,0\n",
      "X3116,2\n",
      "X3117,0\n",
      "X3118,27\n",
      "X3119,2\n",
      "X3120,0\n",
      "X3121,0\n",
      "X3122,0\n",
      "X3123,2\n",
      "X3124,2\n",
      "X3125,32\n",
      "X3126,0\n",
      "X3127,3\n",
      "X3128,2\n",
      "X3129,4\n",
      "X3130,6\n",
      "X3131,1\n",
      "X3132,2\n",
      "X3133,0\n",
      "X3134,2\n",
      "X3135,0\n",
      "X3136,2\n",
      "X3137,0\n",
      "X3138,21\n",
      "X3139,3\n",
      "X3140,0\n",
      "X3141,87\n",
      "X3142,24\n",
      "X3143,0\n",
      "X3144,0\n",
      "X3145,0\n",
      "X3146,2\n",
      "X3147,0\n",
      "X3148,0\n",
      "X3149,0\n",
      "X3150,0\n",
      "X3151,0\n",
      "X3152,2\n",
      "X3153,0\n",
      "X3154,9\n",
      "X3155,0\n",
      "X3156,1\n",
      "X3157,2\n",
      "X3158,1\n",
      "X3159,0\n",
      "X3160,1\n",
      "X3161,0\n",
      "X3162,4\n",
      "X3163,0\n",
      "X3164,0\n",
      "X3165,3\n",
      "X3166,2\n",
      "X3167,28\n",
      "X3168,11\n",
      "X3169,3\n",
      "X3170,0\n",
      "X3171,100\n",
      "X3172,0\n",
      "X3173,0\n",
      "X3174,10\n",
      "X3175,0\n",
      "X3176,0\n",
      "X3177,2\n",
      "X3178,0\n",
      "X3179,0\n",
      "X3180,4\n",
      "X3181,42\n",
      "X3182,236\n",
      "X3183,0\n",
      "X3184,0\n",
      "X3185,0\n",
      "X3186,0\n",
      "X3187,0\n",
      "X3188,1\n",
      "X3189,232\n",
      "X3190,2\n",
      "X3191,5\n",
      "X3192,0\n",
      "X3193,0\n",
      "X3194,7\n",
      "X3195,0\n",
      "X3196,5\n",
      "X3197,0\n",
      "X3198,128\n",
      "X3199,0\n",
      "X3200,0\n",
      "X3201,0\n",
      "X3202,2\n",
      "X3203,0\n",
      "X3204,1\n",
      "X3205,0\n",
      "X3206,0\n",
      "X3207,4\n",
      "X3208,4\n",
      "X3209,1\n",
      "X3210,0\n",
      "X3211,1\n",
      "X3212,0\n",
      "X3213,4\n",
      "X3214,0\n",
      "X3215,0\n",
      "X3216,0\n",
      "X3217,0\n",
      "X3218,1\n",
      "X3219,0\n",
      "X3220,0\n",
      "X3221,0\n",
      "X3222,1\n",
      "X3223,15\n",
      "X3224,0\n",
      "X3225,8\n",
      "X3226,0\n",
      "X3227,0\n",
      "X3228,0\n",
      "X3229,0\n",
      "X3230,5\n",
      "X3231,1\n",
      "X3232,0\n",
      "X3233,0\n",
      "X3234,0\n",
      "X3235,0\n",
      "X3236,0\n",
      "X3237,0\n",
      "X3238,0\n",
      "X3239,0\n",
      "X3240,0\n",
      "X3241,0\n",
      "X3242,0\n",
      "X3243,0\n",
      "X3244,0\n",
      "X3245,0\n",
      "X3246,38\n",
      "X3247,7\n",
      "X3248,0\n",
      "X3249,0\n",
      "X3250,1\n",
      "X3251,0\n",
      "X3252,0\n",
      "X3253,0\n",
      "X3254,0\n",
      "X3255,0\n",
      "X3256,1\n",
      "X3257,0\n",
      "X3258,0\n",
      "X3259,0\n",
      "X3260,1\n",
      "X3261,0\n",
      "X3262,15\n",
      "X3263,0\n",
      "X3264,0\n",
      "X3265,0\n",
      "X3266,0\n",
      "X3267,9\n",
      "X3268,0\n",
      "X3269,0\n",
      "X3270,5\n",
      "X3271,6\n",
      "X3272,0\n",
      "X3273,2\n",
      "X3274,1\n",
      "X3275,8\n",
      "X3276,0\n",
      "X3277,1\n",
      "X3278,0\n",
      "X3279,1\n",
      "X3280,0\n",
      "X3281,0\n",
      "X3282,0\n",
      "X3283,0\n",
      "X3284,0\n",
      "X3285,1\n",
      "X3286,1\n",
      "X3287,0\n",
      "X3288,3\n",
      "X3289,1\n",
      "X3290,0\n",
      "X3291,8\n",
      "X3292,0\n",
      "X3293,4\n",
      "X3294,2\n",
      "X3295,1\n",
      "X3296,0\n",
      "X3297,0\n",
      "X3298,0\n",
      "X3299,0\n",
      "X3300,2\n",
      "X3301,0\n",
      "X3302,0\n",
      "X3303,0\n",
      "X3304,4\n",
      "X3305,0\n",
      "X3306,0\n",
      "X3307,53\n",
      "X3308,1\n",
      "X3309,0\n",
      "X3310,2\n",
      "X3311,0\n",
      "X3312,0\n",
      "X3313,0\n",
      "X3314,0\n",
      "X3315,0\n",
      "X3316,0\n",
      "X3317,0\n",
      "X3318,64\n",
      "X3319,0\n",
      "X3320,12\n",
      "X3321,0\n",
      "X3322,2\n",
      "X3323,0\n",
      "X3324,0\n",
      "X3325,0\n",
      "X3326,0\n",
      "X3327,3\n",
      "X3328,3\n",
      "X3329,0\n",
      "X3330,202\n",
      "X3331,0\n",
      "X3332,0\n",
      "X3333,0\n",
      "X3334,0\n",
      "X3335,0\n",
      "X3336,35\n",
      "X3337,1\n",
      "X3338,7\n",
      "X3339,0\n",
      "X3340,4\n",
      "X3341,3\n",
      "X3342,1\n",
      "X3343,0\n",
      "X3344,0\n",
      "X3345,0\n",
      "X3346,0\n",
      "X3347,0\n",
      "X3348,1\n",
      "X3349,0\n",
      "X3350,1\n",
      "X3351,0\n",
      "X3352,0\n",
      "X3353,9\n",
      "X3354,0\n",
      "X3355,1\n",
      "X3356,66\n",
      "X3357,0\n",
      "X3358,3\n",
      "X3359,0\n",
      "X3360,0\n",
      "X3361,1\n",
      "X3362,104\n",
      "X3363,0\n",
      "X3364,0\n",
      "X3365,1\n",
      "X3366,2\n",
      "X3367,29\n",
      "X3368,2\n",
      "X3369,0\n",
      "X3370,6\n",
      "X3371,2\n",
      "X3372,1\n",
      "X3373,0\n",
      "X3374,0\n",
      "X3375,0\n",
      "X3376,0\n",
      "X3377,0\n",
      "X3378,1\n",
      "X3379,0\n",
      "X3380,8\n",
      "X3381,0\n",
      "X3382,0\n",
      "X3383,0\n",
      "X3384,0\n",
      "X3385,0\n",
      "X3386,0\n",
      "X3387,1\n",
      "X3388,0\n",
      "X3389,0\n",
      "X3390,0\n",
      "X3391,64\n",
      "X3392,12\n",
      "X3393,0\n",
      "X3394,0\n",
      "X3395,0\n",
      "X3396,0\n",
      "X3397,18\n",
      "X3398,5\n",
      "X3399,1\n",
      "X3400,0\n",
      "X3401,0\n",
      "X3402,15\n",
      "X3403,1\n",
      "X3404,0\n",
      "X3405,0\n",
      "X3406,0\n",
      "X3407,11\n",
      "X3408,3\n",
      "X3409,0\n",
      "X3410,3\n",
      "X3411,0\n",
      "X3412,0\n",
      "X3413,0\n",
      "X3414,2\n",
      "X3415,0\n",
      "X3416,0\n",
      "X3417,33\n",
      "X3418,0\n",
      "X3419,0\n",
      "X3420,0\n",
      "X3421,0\n",
      "X3422,0\n",
      "X3423,39\n",
      "X3424,0\n",
      "X3425,1\n",
      "X3426,1\n",
      "X3427,1\n",
      "X3428,0\n",
      "X3429,0\n",
      "X3430,64\n",
      "X3431,2\n",
      "X3432,0\n",
      "X3433,11\n",
      "X3434,0\n",
      "X3435,4\n",
      "X3436,13\n",
      "X3437,0\n",
      "X3438,10\n",
      "X3439,1\n",
      "X3440,11\n",
      "X3441,0\n",
      "X3442,0\n",
      "X3443,1\n",
      "X3444,0\n",
      "X3445,0\n",
      "X3446,0\n",
      "X3447,0\n",
      "X3448,0\n",
      "X3449,11\n",
      "X3450,1\n",
      "X3451,0\n",
      "X3452,1\n",
      "X3453,0\n",
      "X3454,1\n",
      "X3455,11\n",
      "X3456,1\n",
      "X3457,5\n",
      "X3458,0\n",
      "X3459,1\n",
      "X3460,0\n",
      "X3461,0\n",
      "X3462,0\n",
      "X3463,0\n",
      "X3464,1\n",
      "X3465,0\n",
      "X3466,0\n",
      "X3467,0\n",
      "X3468,0\n",
      "X3469,0\n",
      "X3470,0\n",
      "X3471,21\n",
      "X3472,1\n",
      "X3473,0\n",
      "X3474,0\n",
      "X3475,8\n",
      "X3476,2\n",
      "X3477,0\n",
      "X3478,0\n",
      "X3479,0\n",
      "X3480,0\n",
      "X3481,0\n",
      "X3482,0\n",
      "X3483,2\n",
      "X3484,0\n",
      "X3485,1\n",
      "X3486,1\n",
      "X3487,0\n",
      "X3488,119\n",
      "X3489,0\n",
      "X3490,3\n",
      "X3491,0\n",
      "X3492,0\n",
      "X3493,0\n",
      "X3494,1\n",
      "X3495,12\n",
      "X3496,0\n",
      "X3497,0\n",
      "X3498,0\n",
      "X3499,0\n",
      "X3500,61\n",
      "X3501,0\n",
      "X3502,0\n",
      "X3503,0\n",
      "X3504,0\n",
      "X3505,0\n",
      "X3506,19\n",
      "X3507,0\n",
      "X3508,86\n",
      "X3509,0\n",
      "X3510,0\n",
      "X3511,0\n",
      "X3512,0\n",
      "X3513,0\n",
      "X3514,0\n",
      "X3515,0\n",
      "X3516,0\n",
      "X3517,4\n",
      "X3518,1\n",
      "X3519,1\n",
      "X3520,0\n",
      "X3521,0\n",
      "X3522,5\n",
      "X3523,1\n",
      "X3524,0\n",
      "X3525,0\n",
      "X3526,0\n",
      "X3527,8\n",
      "X3528,0\n",
      "X3529,39\n",
      "X3530,9\n",
      "X3531,1\n",
      "X3532,1\n",
      "X3533,0\n",
      "X3534,22\n",
      "X3535,3\n",
      "X3536,0\n",
      "X3537,4\n",
      "X3538,1\n",
      "X3539,0\n",
      "X3540,1\n",
      "X3541,0\n",
      "X3542,0\n",
      "X3543,7\n",
      "X3544,3\n",
      "X3545,0\n",
      "X3546,0\n",
      "X3547,10\n",
      "X3548,0\n",
      "X3549,0\n",
      "X3550,0\n",
      "X3551,0\n",
      "X3552,0\n",
      "X3553,88\n",
      "X3554,40\n",
      "X3555,0\n",
      "X3556,0\n",
      "X3557,0\n",
      "X3558,0\n",
      "X3559,2\n",
      "X3560,3\n",
      "X3561,2\n",
      "X3562,0\n",
      "X3563,1\n",
      "X3564,1\n",
      "X3565,1\n",
      "X3566,0\n",
      "X3567,0\n",
      "X3568,0\n",
      "X3569,0\n",
      "X3570,12\n",
      "X3571,10\n",
      "X3572,2\n",
      "X3573,0\n",
      "X3574,0\n",
      "X3575,0\n",
      "X3576,0\n",
      "X3577,3\n",
      "X3578,0\n",
      "X3579,0\n",
      "X3580,0\n",
      "X3581,1\n",
      "X3582,0\n",
      "X3583,0\n",
      "X3584,0\n",
      "X3585,5\n",
      "X3586,13\n",
      "X3587,0\n",
      "X3588,1\n",
      "X3589,1\n",
      "X3590,0\n",
      "X3591,0\n",
      "X3592,1\n",
      "X3593,0\n",
      "X3594,0\n",
      "X3595,0\n",
      "X3596,0\n",
      "X3597,0\n",
      "X3598,0\n",
      "X3599,0\n",
      "X3600,1\n",
      "X3601,21\n",
      "X3602,4\n",
      "X3603,0\n",
      "X3604,5\n",
      "X3605,0\n",
      "X3606,0\n",
      "X3607,0\n",
      "X3608,72\n",
      "X3609,0\n",
      "X3610,0\n",
      "X3611,1\n",
      "X3612,1\n",
      "X3613,0\n",
      "X3614,0\n",
      "X3615,4\n",
      "X3616,0\n",
      "X3617,0\n",
      "X3618,0\n",
      "X3619,40\n",
      "X3620,2\n",
      "X3621,1\n",
      "X3622,0\n",
      "X3623,23\n",
      "X3624,0\n",
      "X3625,0\n",
      "X3626,1\n",
      "X3627,0\n",
      "X3628,0\n",
      "X3629,0\n",
      "X3630,0\n",
      "X3631,16\n",
      "X3632,2\n",
      "X3633,9\n",
      "X3634,0\n",
      "X3635,0\n",
      "X3636,0\n",
      "X3637,0\n",
      "X3638,5\n",
      "X3639,0\n",
      "X3640,39\n",
      "X3641,2\n",
      "X3642,2\n",
      "X3643,0\n",
      "X3644,1\n",
      "X3645,10\n",
      "X3646,5\n",
      "X3647,3\n",
      "X3648,0\n",
      "X3649,0\n",
      "X3650,0\n",
      "X3651,2\n",
      "X3652,2\n",
      "X3653,0\n",
      "X3654,6\n",
      "X3655,3\n",
      "X3656,0\n",
      "X3657,6\n",
      "X3658,0\n",
      "X3659,0\n",
      "X3660,1\n",
      "X3661,0\n",
      "X3662,3\n",
      "X3663,0\n",
      "X3664,0\n",
      "X3665,2\n",
      "X3666,0\n",
      "X3667,0\n",
      "X3668,7\n",
      "X3669,1\n",
      "X3670,0\n",
      "X3671,0\n",
      "X3672,1\n",
      "X3673,2\n",
      "X3674,6\n",
      "X3675,0\n",
      "X3676,0\n",
      "X3677,0\n",
      "X3678,6\n",
      "X3679,18\n",
      "X3680,0\n",
      "X3681,1\n",
      "X3682,0\n",
      "X3683,0\n",
      "X3684,1\n",
      "X3685,0\n",
      "X3686,0\n",
      "X3687,0\n",
      "X3688,0\n",
      "X3689,0\n",
      "X3690,0\n",
      "X3691,1\n",
      "X3692,0\n",
      "X3693,0\n",
      "X3694,0\n",
      "X3695,9\n",
      "X3696,0\n",
      "X3697,0\n",
      "X3698,39\n",
      "X3699,76\n",
      "X3700,0\n",
      "X3701,0\n",
      "X3702,1\n",
      "X3703,2\n",
      "X3704,8\n",
      "X3705,0\n",
      "X3706,2\n",
      "X3707,0\n",
      "X3708,3\n",
      "X3709,0\n",
      "X3710,1\n",
      "X3711,473\n",
      "X3712,2\n",
      "X3713,0\n",
      "X3714,0\n",
      "X3715,0\n",
      "X3716,25\n",
      "X3717,0\n",
      "X3718,29\n",
      "X3719,2\n",
      "X3720,4\n",
      "X3721,4\n",
      "X3722,0\n",
      "X3723,0\n",
      "X3724,19\n",
      "X3725,0\n",
      "X3726,0\n",
      "X3727,3\n",
      "X3728,0\n",
      "X3729,1\n",
      "X3730,3\n",
      "X3731,0\n",
      "X3732,0\n",
      "X3733,0\n",
      "X3734,0\n",
      "X3735,0\n",
      "X3736,14\n",
      "X3737,0\n",
      "X3738,1\n",
      "X3739,0\n",
      "X3740,0\n",
      "X3741,0\n",
      "X3742,0\n",
      "X3743,1\n",
      "X3744,6\n",
      "X3745,0\n",
      "X3746,0\n",
      "X3747,0\n",
      "X3748,20\n",
      "X3749,0\n",
      "X3750,0\n",
      "X3751,6\n",
      "X3752,0\n",
      "X3753,0\n",
      "X3754,0\n",
      "X3755,18\n",
      "X3756,0\n",
      "X3757,2\n",
      "X3758,1\n",
      "X3759,14\n",
      "X3760,0\n",
      "X3761,0\n",
      "X3762,0\n",
      "X3763,44\n",
      "X3764,1\n",
      "X3765,0\n",
      "X3766,0\n",
      "X3767,1\n",
      "X3768,0\n",
      "X3769,0\n",
      "X3770,6\n",
      "X3771,5\n",
      "X3772,1\n",
      "X3773,127\n",
      "X3774,0\n",
      "X3775,0\n",
      "X3776,1\n",
      "X3777,0\n",
      "X3778,0\n",
      "X3779,0\n",
      "X3780,1\n",
      "X3781,0\n",
      "X3782,3\n",
      "X3783,0\n",
      "X3784,0\n",
      "X3785,334\n",
      "X3786,57\n",
      "X3787,0\n",
      "X3788,0\n",
      "X3789,1\n",
      "X3790,69\n",
      "X3791,0\n",
      "X3792,4\n",
      "X3793,10\n",
      "X3794,0\n",
      "X3795,0\n",
      "X3796,1\n",
      "X3797,0\n",
      "X3798,1\n",
      "X3799,0\n",
      "X3800,4\n",
      "X3801,0\n",
      "X3802,0\n",
      "X3803,2\n",
      "X3804,0\n",
      "X3805,0\n",
      "X3806,0\n",
      "X3807,1\n",
      "X3808,1\n",
      "X3809,24\n",
      "X3810,0\n",
      "X3811,105\n",
      "X3812,1\n",
      "X3813,2\n",
      "X3814,0\n",
      "X3815,0\n",
      "X3816,0\n",
      "X3817,0\n",
      "X3818,0\n",
      "X3819,0\n",
      "X3820,0\n",
      "X3821,1\n",
      "X3822,1\n",
      "X3823,0\n",
      "X3824,2\n",
      "X3825,0\n",
      "X3826,0\n",
      "X3827,1\n",
      "X3828,13\n",
      "X3829,11\n",
      "X3830,2\n",
      "X3831,0\n",
      "X3832,0\n",
      "X3833,1\n",
      "X3834,0\n",
      "X3835,0\n",
      "X3836,0\n",
      "X3837,7\n",
      "X3838,0\n",
      "X3839,0\n",
      "X3840,1\n",
      "X3841,1\n",
      "X3842,2\n",
      "X3843,0\n",
      "X3844,2\n",
      "X3845,0\n",
      "X3846,0\n",
      "X3847,1\n",
      "X3848,24\n",
      "X3849,0\n",
      "X3850,0\n",
      "X3851,0\n",
      "X3852,1\n",
      "X3853,1\n",
      "X3854,6\n",
      "X3855,0\n",
      "X3856,0\n",
      "X3857,0\n",
      "X3858,0\n",
      "X3859,0\n",
      "X3860,0\n",
      "X3861,1\n",
      "X3862,0\n",
      "X3863,0\n",
      "X3864,7\n",
      "X3865,2\n",
      "X3866,0\n",
      "X3867,0\n",
      "X3868,0\n",
      "X3869,0\n",
      "X3870,0\n",
      "X3871,0\n",
      "X3872,0\n",
      "X3873,13\n",
      "X3874,0\n",
      "X3875,2\n",
      "X3876,11\n",
      "X3877,51\n",
      "X3878,1\n",
      "X3879,4\n",
      "X3880,0\n",
      "X3881,0\n",
      "X3882,1\n",
      "X3883,0\n",
      "X3884,1\n",
      "X3885,2\n",
      "X3886,0\n",
      "X3887,1\n",
      "X3888,3\n",
      "X3889,0\n",
      "X3890,0\n",
      "X3891,0\n",
      "X3892,0\n",
      "X3893,2\n",
      "X3894,0\n",
      "X3895,0\n",
      "X3896,2\n",
      "X3897,12\n",
      "X3898,0\n",
      "X3899,0\n",
      "X3900,0\n",
      "X3901,0\n",
      "X3902,0\n",
      "X3903,0\n",
      "X3904,0\n",
      "X3905,0\n",
      "X3906,0\n",
      "X3907,1\n",
      "X3908,0\n",
      "X3909,2\n",
      "X3910,1\n",
      "X3911,0\n",
      "X3912,0\n",
      "X3913,6\n",
      "X3914,2\n",
      "X3915,0\n",
      "X3916,11\n",
      "X3917,0\n",
      "X3918,0\n",
      "X3919,0\n",
      "X3920,0\n",
      "X3921,0\n",
      "X3922,0\n",
      "X3923,1\n",
      "X3924,0\n",
      "X3925,0\n",
      "X3926,2\n",
      "X3927,3\n",
      "X3928,0\n",
      "X3929,0\n",
      "X3930,0\n",
      "X3931,2\n",
      "X3932,0\n",
      "X3933,2\n",
      "X3934,2\n",
      "X3935,1\n",
      "X3936,20\n",
      "X3937,0\n",
      "X3938,11\n",
      "X3939,0\n",
      "X3940,8\n",
      "X3941,5\n",
      "X3942,0\n",
      "X3943,0\n",
      "X3944,0\n",
      "X3945,23\n",
      "X3946,1\n",
      "X3947,9\n",
      "X3948,0\n",
      "X3949,1\n",
      "X3950,2\n",
      "X3951,0\n",
      "X3952,0\n",
      "X3953,2\n",
      "X3954,2\n",
      "X3955,1\n",
      "X3956,0\n",
      "X3957,0\n",
      "X3958,0\n",
      "X3959,3\n",
      "X3960,0\n",
      "X3961,0\n",
      "X3962,2\n",
      "X3963,6\n",
      "X3964,0\n",
      "X3965,1\n",
      "X3966,1\n",
      "X3967,0\n",
      "X3968,1\n",
      "X3969,0\n",
      "X3970,0\n",
      "X3971,14\n",
      "X3972,0\n",
      "X3973,0\n",
      "X3974,0\n",
      "X3975,17\n",
      "X3976,0\n",
      "X3977,1\n",
      "X3978,2\n",
      "X3979,0\n",
      "X3980,0\n",
      "X3981,1\n",
      "X3982,0\n",
      "X3983,1\n",
      "X3984,3\n",
      "X3985,0\n",
      "X3986,0\n",
      "X3987,0\n",
      "X3988,0\n",
      "X3989,1\n",
      "X3990,0\n",
      "X3991,0\n",
      "X3992,5\n",
      "X3993,1\n",
      "X3994,0\n",
      "X3995,0\n",
      "X3996,12\n",
      "X3997,1\n",
      "X3998,0\n",
      "X3999,0\n",
      "X4000,25\n",
      "X4001,1\n",
      "X4002,1\n",
      "X4003,56\n",
      "X4004,20\n",
      "X4005,0\n",
      "X4006,0\n",
      "X4007,0\n",
      "X4008,0\n",
      "X4009,0\n",
      "X4010,0\n",
      "X4011,1\n",
      "X4012,0\n",
      "X4013,0\n",
      "X4014,0\n",
      "X4015,0\n",
      "X4016,0\n",
      "X4017,6\n",
      "X4018,1\n",
      "X4019,1\n",
      "X4020,0\n",
      "X4021,12\n",
      "X4022,2\n",
      "X4023,1\n",
      "X4024,2\n",
      "X4025,0\n",
      "X4026,0\n",
      "X4027,0\n",
      "X4028,1\n",
      "X4029,1\n",
      "X4030,0\n",
      "X4031,39\n",
      "X4032,0\n",
      "X4033,1\n",
      "X4034,3\n",
      "X4035,0\n",
      "X4036,0\n",
      "X4037,0\n",
      "X4038,1\n",
      "X4039,0\n",
      "X4040,4\n",
      "X4041,0\n",
      "X4042,4\n",
      "X4043,5\n",
      "X4044,1\n",
      "X4045,0\n",
      "X4046,0\n",
      "X4047,269\n",
      "X4048,0\n",
      "X4049,0\n",
      "X4050,0\n",
      "X4051,6\n",
      "X4052,2\n",
      "X4053,0\n",
      "X4054,0\n",
      "X4055,3\n",
      "X4056,0\n",
      "X4057,2\n",
      "X4058,0\n",
      "X4059,0\n",
      "X4060,1\n",
      "X4061,0\n",
      "X4062,0\n",
      "X4063,0\n",
      "X4064,18\n",
      "X4065,0\n",
      "X4066,0\n",
      "X4067,0\n",
      "X4068,0\n",
      "X4069,1\n",
      "X4070,1\n",
      "X4071,0\n",
      "X4072,0\n",
      "X4073,0\n",
      "X4074,6\n",
      "X4075,6\n",
      "X4076,0\n",
      "X4077,0\n",
      "X4078,0\n",
      "X4079,0\n",
      "X4080,0\n",
      "X4081,0\n",
      "X4082,0\n",
      "X4083,3\n",
      "X4084,0\n",
      "X4085,18\n",
      "X4086,0\n",
      "X4087,0\n",
      "X4088,1\n",
      "X4089,0\n",
      "X4090,7\n",
      "X4091,3\n",
      "X4092,0\n",
      "X4093,0\n",
      "X4094,0\n",
      "X4095,1\n",
      "X4096,95\n",
      "X4097,2\n",
      "X4098,3\n",
      "X4099,3\n",
      "X4100,3\n",
      "X4101,1\n",
      "X4102,1\n",
      "X4103,1\n",
      "X4104,1\n",
      "X4105,0\n",
      "X4106,4\n",
      "X4107,9\n",
      "X4108,1\n",
      "X4109,6\n",
      "X4110,0\n",
      "X4111,0\n",
      "X4112,7\n",
      "X4113,0\n",
      "X4114,0\n",
      "X4115,0\n",
      "X4116,0\n",
      "X4117,59\n",
      "X4118,0\n",
      "X4119,10\n",
      "X4120,1\n",
      "X4121,0\n",
      "X4122,0\n",
      "X4123,0\n",
      "X4124,0\n",
      "X4125,0\n",
      "X4126,0\n",
      "X4127,1\n",
      "X4128,0\n",
      "X4129,0\n",
      "X4130,0\n",
      "X4131,0\n",
      "X4132,0\n",
      "X4133,13\n",
      "X4134,0\n",
      "X4135,125\n",
      "X4136,0\n",
      "X4137,2\n",
      "X4138,0\n",
      "X4139,0\n",
      "X4140,0\n",
      "X4141,0\n",
      "X4142,7\n",
      "X4143,0\n",
      "X4144,0\n",
      "X4145,175\n",
      "X4146,0\n",
      "X4147,1\n",
      "X4148,1\n",
      "X4149,0\n",
      "X4150,3\n",
      "X4151,0\n",
      "X4152,9\n",
      "X4153,2\n",
      "X4154,0\n",
      "X4155,0\n",
      "X4156,1\n",
      "X4157,0\n",
      "X4158,6\n",
      "X4159,0\n",
      "X4160,0\n",
      "X4161,2\n",
      "X4162,0\n",
      "X4163,2\n",
      "X4164,0\n",
      "X4165,0\n",
      "X4166,10\n",
      "X4167,0\n",
      "X4168,0\n",
      "X4169,0\n",
      "X4170,0\n",
      "X4171,15\n",
      "X4172,0\n",
      "X4173,3\n",
      "X4174,6\n",
      "X4175,3\n",
      "X4176,0\n",
      "X4177,4\n",
      "X4178,24\n",
      "X4179,2\n",
      "X4180,10\n",
      "X4181,4\n",
      "X4182,36\n",
      "X4183,4\n",
      "X4184,0\n",
      "X4185,3\n",
      "X4186,0\n",
      "X4187,8\n",
      "X4188,86\n",
      "X4189,0\n",
      "X4190,0\n",
      "X4191,0\n",
      "X4192,0\n",
      "X4193,0\n",
      "X4194,0\n",
      "X4195,1\n",
      "X4196,33\n",
      "X4197,2\n",
      "X4198,1\n",
      "X4199,0\n",
      "X4200,24\n",
      "X4201,0\n",
      "X4202,0\n",
      "X4203,0\n",
      "X4204,30\n",
      "X4205,0\n",
      "X4206,0\n",
      "X4207,0\n",
      "X4208,2\n",
      "X4209,1\n",
      "X4210,0\n",
      "X4211,0\n",
      "X4212,1\n",
      "X4213,0\n",
      "X4214,0\n",
      "X4215,6\n",
      "X4216,5\n",
      "X4217,0\n",
      "X4218,41\n",
      "X4219,0\n",
      "X4220,0\n",
      "X4221,0\n",
      "X4222,49\n",
      "X4223,0\n",
      "X4224,2\n",
      "X4225,0\n",
      "X4226,0\n",
      "X4227,5\n",
      "X4228,6\n",
      "X4229,7\n",
      "X4230,0\n",
      "X4231,1\n",
      "X4232,3\n",
      "X4233,0\n",
      "X4234,5\n",
      "X4235,0\n",
      "X4236,0\n",
      "X4237,0\n",
      "X4238,0\n",
      "X4239,0\n",
      "X4240,13\n",
      "X4241,0\n",
      "X4242,1\n",
      "X4243,81\n",
      "X4244,1\n",
      "X4245,3\n",
      "X4246,0\n",
      "X4247,0\n",
      "X4248,1\n",
      "X4249,0\n",
      "X4250,2\n",
      "X4251,0\n",
      "X4252,0\n",
      "X4253,0\n",
      "X4254,70\n",
      "X4255,1\n",
      "X4256,4\n",
      "X4257,96\n",
      "X4258,1\n",
      "X4259,0\n",
      "X4260,0\n",
      "X4261,0\n",
      "X4262,0\n",
      "X4263,2\n",
      "X4264,2\n",
      "X4265,0\n",
      "X4266,0\n",
      "X4267,1\n",
      "X4268,4\n",
      "X4269,0\n",
      "X4270,0\n",
      "X4271,63\n",
      "X4272,0\n",
      "X4273,0\n",
      "X4274,1\n",
      "X4275,0\n",
      "X4276,15\n",
      "X4277,0\n",
      "X4278,1\n",
      "X4279,2\n",
      "X4280,0\n",
      "X4281,2\n",
      "X4282,0\n",
      "X4283,0\n",
      "X4284,0\n",
      "X4285,0\n",
      "X4286,0\n",
      "X4287,0\n",
      "X4288,1\n",
      "X4289,0\n",
      "X4290,0\n",
      "X4291,114\n",
      "X4292,0\n",
      "X4293,0\n",
      "X4294,0\n",
      "X4295,3\n",
      "X4296,0\n",
      "X4297,0\n",
      "X4298,0\n",
      "X4299,2\n",
      "X4300,1\n",
      "X4301,0\n",
      "X4302,1\n",
      "X4303,0\n",
      "X4304,0\n",
      "X4305,0\n",
      "X4306,4\n",
      "X4307,7\n",
      "X4308,0\n",
      "X4309,0\n",
      "X4310,0\n",
      "X4311,0\n",
      "X4312,26\n",
      "X4313,1\n",
      "X4314,3\n",
      "X4315,2\n",
      "X4316,8\n",
      "X4317,0\n",
      "X4318,1\n",
      "X4319,0\n",
      "X4320,2\n",
      "X4321,0\n",
      "X4322,1\n",
      "X4323,0\n",
      "X4324,0\n",
      "X4325,0\n",
      "X4326,0\n",
      "X4327,0\n",
      "X4328,13\n",
      "X4329,0\n",
      "X4330,0\n",
      "X4331,0\n",
      "X4332,0\n",
      "X4333,1\n",
      "X4334,0\n",
      "X4335,0\n",
      "X4336,0\n",
      "X4337,6\n",
      "X4338,0\n",
      "X4339,15\n",
      "X4340,0\n",
      "X4341,3\n",
      "X4342,1\n",
      "X4343,85\n",
      "X4344,1\n",
      "X4345,230\n",
      "X4346,3\n",
      "X4347,0\n",
      "X4348,29\n",
      "X4349,0\n",
      "X4350,0\n",
      "X4351,0\n",
      "X4352,0\n",
      "X4353,1\n",
      "X4354,0\n",
      "X4355,0\n",
      "X4356,1\n",
      "X4357,1\n",
      "X4358,0\n",
      "X4359,0\n",
      "X4360,0\n",
      "X4361,76\n",
      "X4362,0\n",
      "X4363,2\n",
      "X4364,5\n",
      "X4365,0\n",
      "X4366,1\n",
      "X4367,0\n",
      "X4368,0\n",
      "X4369,0\n",
      "X4370,0\n",
      "X4371,8\n",
      "X4372,0\n",
      "X4373,0\n",
      "X4374,27\n",
      "X4375,5\n",
      "X4376,8\n",
      "X4377,0\n",
      "X4378,0\n",
      "X4379,0\n",
      "X4380,0\n",
      "X4381,5\n",
      "X4382,0\n",
      "X4383,0\n",
      "X4384,0\n",
      "X4385,0\n",
      "X4386,0\n",
      "X4387,9\n",
      "X4388,0\n",
      "X4389,0\n",
      "X4390,1\n",
      "X4391,0\n",
      "X4392,0\n",
      "X4393,0\n",
      "X4394,1\n",
      "X4395,1\n",
      "X4396,0\n",
      "X4397,2\n",
      "X4398,0\n",
      "X4399,0\n",
      "X4400,3\n",
      "X4401,0\n",
      "X4402,0\n",
      "X4403,0\n",
      "X4404,0\n",
      "X4405,3\n",
      "X4406,1\n",
      "X4407,0\n",
      "X4408,0\n",
      "X4409,1\n",
      "X4410,64\n",
      "X4411,1\n",
      "X4412,0\n",
      "X4413,0\n",
      "X4414,0\n",
      "X4415,0\n",
      "X4416,0\n",
      "X4417,13\n",
      "X4418,0\n",
      "X4419,0\n",
      "X4420,0\n",
      "X4421,0\n",
      "X4422,24\n",
      "X4423,0\n",
      "X4424,0\n",
      "X4425,0\n",
      "X4426,1\n",
      "X4427,0\n",
      "X4428,15\n",
      "X4429,1\n",
      "X4430,0\n",
      "X4431,15\n",
      "X4432,0\n",
      "X4433,0\n",
      "X4434,0\n",
      "X4435,0\n",
      "X4436,4\n",
      "X4437,0\n",
      "X4438,1\n",
      "X4439,1\n",
      "X4440,9\n",
      "X4441,0\n",
      "X4442,2\n",
      "X4443,8\n",
      "X4444,0\n",
      "X4445,0\n",
      "X4446,0\n",
      "X4447,0\n",
      "X4448,2\n",
      "X4449,1\n",
      "X4450,1\n",
      "X4451,28\n",
      "X4452,0\n",
      "X4453,0\n",
      "X4454,4\n",
      "X4455,0\n",
      "X4456,0\n",
      "X4457,0\n",
      "X4458,0\n",
      "X4459,0\n",
      "X4460,0\n",
      "X4461,0\n",
      "X4462,0\n",
      "X4463,0\n",
      "X4464,0\n",
      "X4465,0\n",
      "X4466,0\n",
      "X4467,1\n",
      "X4468,8\n",
      "X4469,0\n",
      "X4470,0\n",
      "X4471,0\n",
      "X4472,6\n",
      "X4473,0\n",
      "X4474,0\n",
      "X4475,0\n",
      "X4476,0\n",
      "X4477,0\n",
      "X4478,0\n",
      "X4479,40\n",
      "X4480,1\n",
      "X4481,0\n",
      "X4482,0\n",
      "X4483,4\n",
      "X4484,1\n",
      "X4485,1\n",
      "X4486,0\n",
      "X4487,0\n",
      "X4488,0\n",
      "X4489,4\n",
      "X4490,2\n",
      "X4491,0\n",
      "X4492,0\n",
      "X4493,1\n",
      "X4494,48\n",
      "X4495,0\n",
      "X4496,0\n",
      "X4497,0\n",
      "X4498,0\n",
      "X4499,0\n",
      "X4500,0\n",
      "X4501,0\n",
      "X4502,35\n",
      "X4503,18\n",
      "X4504,0\n",
      "X4505,2\n",
      "X4506,0\n",
      "X4507,7\n",
      "X4508,0\n",
      "X4509,3\n",
      "X4510,1\n",
      "X4511,13\n",
      "X4512,1\n",
      "X4513,0\n",
      "X4514,0\n",
      "X4515,0\n",
      "X4516,2\n",
      "X4517,0\n",
      "X4518,5\n",
      "X4519,9\n",
      "X4520,22\n",
      "X4521,7\n",
      "X4522,0\n",
      "X4523,9\n",
      "X4524,0\n",
      "X4525,55\n",
      "X4526,61\n",
      "X4527,0\n",
      "X4528,0\n",
      "X4529,1\n",
      "X4530,0\n",
      "X4531,0\n",
      "X4532,0\n",
      "X4533,0\n",
      "X4534,0\n",
      "X4535,0\n",
      "X4536,0\n",
      "X4537,0\n",
      "X4538,1\n",
      "X4539,0\n",
      "X4540,2\n",
      "X4541,0\n",
      "X4542,1\n",
      "X4543,0\n",
      "X4544,0\n",
      "X4545,0\n",
      "X4546,5\n",
      "X4547,0\n",
      "X4548,9\n",
      "X4549,1\n",
      "X4550,0\n",
      "X4551,1\n",
      "X4552,0\n",
      "X4553,0\n",
      "X4554,0\n",
      "X4555,1\n",
      "X4556,4\n",
      "X4557,0\n",
      "X4558,0\n",
      "X4559,1\n",
      "X4560,0\n",
      "X4561,0\n",
      "X4562,2\n",
      "X4563,0\n",
      "X4564,46\n",
      "X4565,2\n",
      "X4566,0\n",
      "X4567,1\n",
      "X4568,3\n",
      "X4569,0\n",
      "X4570,0\n",
      "X4571,0\n",
      "X4572,2\n",
      "X4573,0\n",
      "X4574,0\n",
      "X4575,0\n",
      "X4576,1\n",
      "X4577,22\n",
      "X4578,54\n",
      "X4579,12\n",
      "X4580,2\n",
      "X4581,0\n",
      "X4582,0\n",
      "X4583,0\n",
      "X4584,0\n",
      "X4585,0\n",
      "X4586,0\n",
      "X4587,0\n",
      "X4588,26\n",
      "X4589,2\n",
      "X4590,0\n",
      "X4591,0\n",
      "X4592,0\n",
      "X4593,0\n",
      "X4594,1\n",
      "X4595,0\n",
      "X4596,16\n",
      "X4597,0\n",
      "X4598,0\n",
      "X4599,0\n",
      "X4600,1\n",
      "X4601,3\n",
      "X4602,0\n",
      "X4603,3\n",
      "X4604,1\n",
      "X4605,7\n",
      "X4606,0\n",
      "X4607,11\n",
      "X4608,0\n",
      "X4609,3\n",
      "X4610,1\n",
      "X4611,0\n",
      "X4612,0\n",
      "X4613,1\n",
      "X4614,0\n",
      "X4615,0\n",
      "X4616,0\n",
      "X4617,0\n",
      "X4618,0\n",
      "X4619,0\n",
      "X4620,0\n",
      "X4621,1\n",
      "X4622,0\n",
      "X4623,0\n",
      "X4624,0\n",
      "X4625,0\n",
      "X4626,0\n",
      "X4627,1\n",
      "X4628,0\n",
      "X4629,0\n",
      "X4630,0\n",
      "X4631,0\n",
      "X4632,0\n",
      "X4633,1\n",
      "X4634,1\n",
      "X4635,0\n",
      "X4636,0\n",
      "X4637,0\n",
      "X4638,2\n",
      "X4639,0\n",
      "X4640,24\n",
      "X4641,13\n",
      "X4642,0\n",
      "X4643,3\n",
      "X4644,12\n",
      "X4645,0\n",
      "X4646,1\n",
      "X4647,0\n",
      "X4648,0\n",
      "X4649,34\n",
      "X4650,1\n",
      "X4651,0\n",
      "X4652,0\n",
      "X4653,47\n",
      "X4654,0\n",
      "X4655,2\n",
      "X4656,0\n",
      "X4657,49\n",
      "X4658,0\n",
      "X4659,3\n",
      "X4660,0\n",
      "X4661,0\n",
      "X4662,0\n",
      "X4663,0\n",
      "X4664,0\n",
      "X4665,0\n",
      "X4666,0\n",
      "X4667,0\n",
      "X4668,0\n",
      "X4669,1\n",
      "X4670,0\n",
      "X4671,0\n",
      "X4672,0\n",
      "X4673,0\n",
      "X4674,0\n",
      "X4675,0\n",
      "X4676,0\n",
      "X4677,0\n",
      "X4678,0\n",
      "X4679,0\n",
      "X4680,31\n",
      "X4681,0\n",
      "X4682,2\n",
      "X4683,0\n",
      "X4684,0\n",
      "X4685,2\n",
      "X4686,0\n",
      "X4687,0\n",
      "X4688,14\n",
      "X4689,84\n",
      "X4690,0\n",
      "X4691,126\n",
      "X4692,0\n",
      "X4693,9\n",
      "X4694,0\n",
      "X4695,0\n",
      "X4696,0\n",
      "X4697,4\n",
      "X4698,31\n",
      "X4699,6\n",
      "X4700,0\n",
      "X4701,0\n",
      "X4702,1\n",
      "X4703,0\n",
      "X4704,0\n",
      "X4705,3\n",
      "X4706,0\n",
      "X4707,0\n",
      "X4708,2\n",
      "X4709,1\n",
      "X4710,1\n",
      "X4711,0\n",
      "X4712,0\n",
      "X4713,7\n",
      "X4714,10\n",
      "X4715,1\n",
      "X4716,33\n",
      "X4717,4\n",
      "X4718,0\n",
      "X4719,0\n",
      "X4720,0\n",
      "X4721,4\n",
      "X4722,0\n",
      "X4723,0\n",
      "X4724,0\n",
      "X4725,1\n",
      "X4726,5\n",
      "X4727,8\n",
      "X4728,0\n",
      "X4729,8\n",
      "X4730,1\n",
      "X4731,80\n",
      "X4732,1\n",
      "X4733,14\n",
      "X4734,0\n",
      "X4735,1\n",
      "X4736,2\n",
      "X4737,0\n",
      "X4738,20\n",
      "X4739,0\n",
      "X4740,1\n",
      "X4741,0\n",
      "X4742,39\n",
      "X4743,4\n",
      "X4744,0\n",
      "X4745,0\n",
      "X4746,0\n",
      "X4747,0\n",
      "X4748,6\n",
      "X4749,0\n",
      "X4750,0\n",
      "X4751,0\n",
      "X4752,0\n",
      "X4753,0\n",
      "X4754,0\n",
      "X4755,24\n",
      "X4756,1\n",
      "X4757,0\n",
      "X4758,0\n",
      "X4759,0\n",
      "X4760,0\n",
      "X4761,0\n",
      "X4762,0\n",
      "X4763,0\n",
      "X4764,1\n",
      "X4765,1\n",
      "X4766,0\n",
      "X4767,1\n",
      "X4768,1\n",
      "X4769,13\n",
      "X4770,1\n",
      "X4771,0\n",
      "X4772,1\n",
      "X4773,0\n",
      "X4774,11\n",
      "X4775,0\n",
      "X4776,0\n",
      "X4777,0\n",
      "X4778,0\n",
      "X4779,0\n",
      "X4780,0\n",
      "X4781,1\n",
      "X4782,22\n",
      "X4783,1\n",
      "X4784,0\n",
      "X4785,61\n",
      "X4786,11\n",
      "X4787,7\n",
      "X4788,1\n",
      "X4789,0\n",
      "X4790,0\n",
      "X4791,0\n",
      "X4792,2\n",
      "X4793,0\n",
      "X4794,0\n",
      "X4795,0\n",
      "X4796,0\n",
      "X4797,0\n",
      "X4798,3\n",
      "X4799,1\n",
      "X4800,0\n",
      "X4801,2\n",
      "X4802,0\n",
      "X4803,1\n",
      "X4804,0\n",
      "X4805,0\n",
      "X4806,0\n",
      "X4807,1\n",
      "X4808,0\n",
      "X4809,0\n",
      "X4810,0\n",
      "X4811,9\n",
      "X4812,0\n",
      "X4813,8\n",
      "X4814,0\n",
      "X4815,0\n",
      "X4816,28\n",
      "X4817,3\n",
      "X4818,1\n",
      "X4819,1\n",
      "X4820,0\n",
      "X4821,1\n",
      "X4822,1\n",
      "X4823,0\n",
      "X4824,1\n",
      "X4825,26\n",
      "X4826,2\n",
      "X4827,55\n",
      "X4828,51\n",
      "X4829,0\n",
      "X4830,0\n",
      "X4831,0\n",
      "X4832,0\n",
      "X4833,0\n",
      "X4834,0\n",
      "X4835,0\n",
      "X4836,0\n",
      "X4837,1\n",
      "X4838,36\n",
      "X4839,0\n",
      "X4840,36\n",
      "X4841,0\n",
      "X4842,35\n",
      "X4843,1\n",
      "X4844,1\n",
      "X4845,2\n",
      "X4846,0\n",
      "X4847,6\n",
      "X4848,0\n",
      "X4849,5\n",
      "X4850,0\n",
      "X4851,5\n",
      "X4852,1\n",
      "X4853,0\n",
      "X4854,0\n",
      "X4855,5\n",
      "X4856,50\n",
      "X4857,2\n",
      "X4858,1\n",
      "X4859,0\n",
      "X4860,0\n",
      "X4861,0\n",
      "X4862,0\n",
      "X4863,0\n",
      "X4864,0\n",
      "X4865,2\n",
      "X4866,1\n",
      "X4867,4\n",
      "X4868,1\n",
      "X4869,0\n",
      "X4870,0\n",
      "X4871,8\n",
      "X4872,0\n",
      "X4873,4\n",
      "X4874,4\n",
      "X4875,0\n",
      "X4876,2\n",
      "X4877,0\n",
      "X4878,10\n",
      "X4879,1\n",
      "X4880,0\n",
      "X4881,7\n",
      "X4882,0\n",
      "X4883,0\n",
      "X4884,0\n",
      "X4885,0\n",
      "X4886,1\n",
      "X4887,1\n",
      "X4888,3\n",
      "X4889,0\n",
      "X4890,44\n",
      "X4891,0\n",
      "X4892,0\n",
      "X4893,0\n",
      "X4894,0\n",
      "X4895,0\n",
      "X4896,0\n",
      "X4897,0\n",
      "X4898,4\n",
      "X4899,0\n",
      "X4900,0\n",
      "X4901,0\n",
      "X4902,1\n",
      "X4903,0\n",
      "X4904,0\n",
      "X4905,0\n",
      "X4906,0\n",
      "X4907,1\n",
      "X4908,0\n",
      "X4909,0\n",
      "X4910,1\n",
      "X4911,0\n",
      "X4912,1\n",
      "X4913,0\n",
      "X4914,0\n",
      "X4915,0\n",
      "X4916,0\n",
      "X4917,0\n",
      "X4918,0\n",
      "X4919,0\n",
      "X4920,0\n",
      "X4921,4\n",
      "X4922,0\n",
      "X4923,0\n",
      "X4924,0\n",
      "X4925,3\n",
      "X4926,0\n",
      "X4927,15\n",
      "X4928,0\n",
      "X4929,3\n",
      "X4930,1\n",
      "X4931,0\n",
      "X4932,0\n",
      "X4933,0\n",
      "X4934,0\n",
      "X4935,3\n",
      "X4936,0\n",
      "X4937,1\n",
      "X4938,10\n",
      "X4939,0\n",
      "X4940,0\n",
      "X4941,0\n",
      "X4942,0\n",
      "X4943,0\n",
      "X4944,0\n",
      "X4945,0\n",
      "X4946,2\n",
      "X4947,0\n",
      "X4948,75\n",
      "X4949,1\n",
      "X4950,0\n",
      "X4951,0\n",
      "X4952,0\n",
      "X4953,0\n",
      "X4954,55\n",
      "X4955,0\n",
      "X4956,0\n",
      "X4957,2\n",
      "X4958,0\n",
      "X4959,7\n",
      "X4960,8\n",
      "X4961,0\n",
      "X4962,0\n",
      "X4963,0\n",
      "X4964,0\n",
      "X4965,4\n",
      "X4966,3\n",
      "X4967,2\n",
      "X4968,0\n",
      "X4969,0\n",
      "X4970,0\n",
      "X4971,0\n",
      "X4972,0\n",
      "X4973,1\n",
      "X4974,0\n",
      "X4975,5\n",
      "X4976,0\n",
      "X4977,0\n",
      "X4978,11\n",
      "X4979,2\n",
      "X4980,0\n",
      "X4981,0\n",
      "X4982,0\n",
      "X4983,2\n",
      "X4984,0\n",
      "X4985,0\n",
      "X4986,0\n",
      "X4987,0\n",
      "X4988,1\n",
      "X4989,0\n",
      "X4990,42\n",
      "X4991,0\n",
      "X4992,146\n",
      "X4993,0\n",
      "X4994,0\n",
      "X4995,0\n",
      "X4996,2\n",
      "X4997,3\n",
      "X4998,10\n",
      "X4999,26\n",
      "X5000,1\n",
      "X5001,45\n",
      "X5002,0\n",
      "X5003,0\n",
      "X5004,0\n",
      "X5005,3\n",
      "X5006,0\n",
      "X5007,0\n",
      "X5008,0\n",
      "X5009,0\n",
      "X5010,0\n",
      "X5011,0\n",
      "X5012,1\n",
      "X5013,10\n",
      "X5014,0\n",
      "X5015,0\n",
      "X5016,0\n",
      "X5017,0\n",
      "X5018,0\n",
      "X5019,12\n",
      "X5020,0\n",
      "X5021,3\n",
      "X5022,1\n",
      "X5023,0\n",
      "X5024,0\n",
      "X5025,0\n",
      "X5026,10\n",
      "X5027,0\n",
      "X5028,2\n",
      "X5029,0\n",
      "X5030,0\n",
      "X5031,1\n",
      "X5032,519\n",
      "X5033,1\n",
      "X5034,4\n",
      "X5035,0\n",
      "X5036,37\n",
      "X5037,21\n",
      "X5038,0\n",
      "X5039,0\n",
      "X5040,0\n",
      "X5041,1\n",
      "X5042,0\n",
      "X5043,1\n",
      "X5044,9\n",
      "X5045,0\n",
      "X5046,0\n",
      "X5047,0\n",
      "X5048,1\n",
      "X5049,5\n",
      "X5050,0\n",
      "X5051,0\n",
      "X5052,1\n",
      "X5053,3\n",
      "X5054,113\n",
      "X5055,0\n",
      "X5056,0\n",
      "X5057,0\n",
      "X5058,0\n",
      "X5059,5\n",
      "X5060,46\n",
      "X5061,0\n",
      "X5062,0\n",
      "X5063,1\n",
      "X5064,0\n",
      "X5065,0\n",
      "X5066,11\n",
      "X5067,0\n",
      "X5068,0\n",
      "X5069,10\n",
      "X5070,6\n",
      "X5071,0\n",
      "X5072,0\n",
      "X5073,1\n",
      "X5074,1\n",
      "X5075,3\n",
      "X5076,3\n",
      "X5077,4\n",
      "X5078,1\n",
      "X5079,0\n",
      "X5080,0\n",
      "X5081,0\n",
      "X5082,1\n",
      "X5083,0\n",
      "X5084,0\n",
      "X5085,0\n",
      "X5086,0\n",
      "X5087,0\n",
      "X5088,0\n",
      "X5089,0\n",
      "X5090,0\n",
      "X5091,0\n",
      "X5092,0\n",
      "X5093,0\n",
      "X5094,3\n",
      "X5095,0\n",
      "X5096,0\n",
      "X5097,0\n",
      "X5098,0\n",
      "X5099,0\n",
      "X5100,0\n",
      "X5101,0\n",
      "X5102,4\n",
      "X5103,1\n",
      "X5104,2\n",
      "X5105,10\n",
      "X5106,0\n",
      "X5107,0\n",
      "X5108,0\n",
      "X5109,0\n",
      "X5110,1\n",
      "X5111,0\n",
      "X5112,0\n",
      "X5113,0\n",
      "X5114,4\n",
      "X5115,0\n",
      "X5116,17\n",
      "X5117,0\n",
      "X5118,2\n",
      "X5119,0\n",
      "X5120,1\n",
      "X5121,57\n",
      "X5122,0\n",
      "X5123,0\n",
      "X5124,0\n",
      "X5125,5\n",
      "X5126,1\n",
      "X5127,0\n",
      "X5128,0\n",
      "X5129,1\n",
      "X5130,1\n",
      "X5131,0\n",
      "X5132,72\n",
      "X5133,1\n",
      "X5134,3\n",
      "X5135,0\n",
      "X5136,0\n",
      "X5137,5\n",
      "X5138,0\n",
      "X5139,43\n",
      "X5140,1\n",
      "X5141,7\n",
      "X5142,0\n",
      "X5143,0\n",
      "X5144,0\n",
      "X5145,0\n",
      "X5146,1\n",
      "X5147,7\n",
      "X5148,2\n",
      "X5149,0\n",
      "X5150,0\n",
      "X5151,0\n",
      "X5152,0\n",
      "X5153,0\n",
      "X5154,0\n",
      "X5155,1\n",
      "X5156,0\n",
      "X5157,2\n",
      "X5158,0\n",
      "X5159,0\n",
      "X5160,11\n",
      "X5161,0\n",
      "X5162,0\n",
      "X5163,1\n",
      "X5164,3\n",
      "X5165,20\n",
      "X5166,0\n",
      "X5167,23\n",
      "X5168,0\n",
      "X5169,0\n",
      "X5170,0\n",
      "X5171,5\n",
      "X5172,0\n",
      "X5173,2\n",
      "X5174,11\n",
      "X5175,0\n",
      "X5176,2\n",
      "X5177,0\n",
      "X5178,6\n",
      "X5179,0\n",
      "X5180,1\n",
      "X5181,0\n",
      "X5182,12\n",
      "X5183,10\n",
      "X5184,0\n",
      "X5185,6\n",
      "X5186,1\n",
      "X5187,0\n",
      "X5188,23\n",
      "X5189,1\n",
      "X5190,0\n",
      "X5191,0\n",
      "X5192,13\n",
      "X5193,15\n",
      "X5194,0\n",
      "X5195,0\n",
      "X5196,0\n",
      "X5197,0\n",
      "X5198,6\n",
      "X5199,0\n",
      "X5200,11\n",
      "X5201,0\n",
      "X5202,2\n",
      "X5203,3\n",
      "X5204,0\n",
      "X5205,0\n",
      "X5206,7\n",
      "X5207,9\n",
      "X5208,0\n",
      "X5209,0\n",
      "X5210,0\n",
      "X5211,0\n",
      "X5212,0\n",
      "X5213,18\n",
      "X5214,0\n",
      "X5215,2\n",
      "X5216,1\n",
      "X5217,0\n",
      "X5218,0\n",
      "X5219,4\n",
      "X5220,35\n",
      "X5221,0\n",
      "X5222,3\n",
      "X5223,0\n",
      "X5224,9\n",
      "X5225,12\n",
      "X5226,0\n",
      "X5227,4\n",
      "X5228,1\n",
      "X5229,2\n",
      "X5230,0\n",
      "X5231,0\n",
      "X5232,2\n",
      "X5233,0\n",
      "X5234,1\n",
      "X5235,2\n",
      "X5236,1\n",
      "X5237,0\n",
      "X5238,0\n",
      "X5239,1\n",
      "X5240,18\n",
      "X5241,0\n",
      "X5242,5\n",
      "X5243,1\n",
      "X5244,0\n",
      "X5245,0\n",
      "X5246,9\n",
      "X5247,0\n",
      "X5248,24\n",
      "X5249,0\n",
      "X5250,0\n",
      "X5251,0\n",
      "X5252,0\n",
      "X5253,0\n",
      "X5254,0\n",
      "X5255,21\n",
      "X5256,0\n",
      "X5257,2\n",
      "X5258,0\n",
      "X5259,5\n",
      "X5260,2\n",
      "X5261,1\n",
      "X5262,2\n",
      "X5263,0\n",
      "X5264,0\n",
      "X5265,0\n",
      "X5266,0\n",
      "X5267,0\n",
      "X5268,8\n",
      "X5269,0\n",
      "X5270,2\n",
      "X5271,2\n",
      "X5272,1\n",
      "X5273,0\n",
      "X5274,8\n",
      "X5275,0\n",
      "X5276,0\n",
      "X5277,1\n",
      "X5278,0\n",
      "X5279,1\n",
      "X5280,0\n",
      "X5281,0\n",
      "X5282,0\n",
      "X5283,1\n",
      "X5284,0\n",
      "X5285,1\n",
      "X5286,11\n",
      "X5287,0\n",
      "X5288,1\n",
      "X5289,2\n",
      "X5290,2\n",
      "X5291,8\n",
      "X5292,0\n",
      "X5293,0\n",
      "X5294,8\n",
      "X5295,2\n",
      "X5296,0\n",
      "X5297,0\n",
      "X5298,0\n",
      "X5299,43\n",
      "X5300,1\n",
      "X5301,24\n",
      "X5302,0\n",
      "X5303,1\n",
      "X5304,0\n",
      "X5305,0\n",
      "X5306,1\n",
      "X5307,0\n",
      "X5308,0\n",
      "X5309,0\n",
      "X5310,0\n",
      "X5311,0\n",
      "X5312,0\n",
      "X5313,0\n",
      "X5314,0\n",
      "X5315,0\n",
      "X5316,1\n",
      "X5317,0\n",
      "X5318,0\n",
      "X5319,0\n",
      "X5320,0\n",
      "X5321,0\n",
      "X5322,0\n",
      "X5323,0\n",
      "X5324,0\n",
      "X5325,3\n",
      "X5326,0\n",
      "X5327,0\n",
      "X5328,1\n",
      "X5329,3\n",
      "X5330,10\n",
      "X5331,1\n",
      "X5332,0\n",
      "X5333,0\n",
      "X5334,0\n",
      "X5335,1\n",
      "X5336,2\n",
      "X5337,0\n",
      "X5338,12\n",
      "X5339,0\n",
      "X5340,0\n",
      "X5341,0\n",
      "X5342,0\n",
      "X5343,0\n",
      "X5344,1\n",
      "X5345,0\n",
      "X5346,0\n",
      "X5347,0\n",
      "X5348,29\n",
      "X5349,10\n",
      "X5350,1\n",
      "X5351,3\n",
      "X5352,5\n",
      "X5353,0\n",
      "X5354,0\n",
      "X5355,1\n",
      "X5356,0\n",
      "X5357,0\n",
      "X5358,0\n",
      "X5359,1\n",
      "X5360,0\n",
      "X5361,0\n",
      "X5362,3\n",
      "X5363,0\n",
      "X5364,1\n",
      "X5365,0\n",
      "X5366,3\n",
      "X5367,0\n",
      "X5368,1\n",
      "X5369,0\n",
      "X5370,0\n",
      "X5371,0\n",
      "X5372,0\n",
      "X5373,1\n",
      "X5374,0\n",
      "X5375,0\n",
      "X5376,0\n",
      "X5377,0\n",
      "X5378,0\n",
      "X5379,0\n",
      "X5380,6\n",
      "X5381,2\n",
      "X5382,51\n",
      "X5383,10\n",
      "X5384,0\n",
      "X5385,1\n",
      "X5386,1\n",
      "X5387,0\n",
      "X5388,31\n",
      "X5389,32\n",
      "X5390,42\n",
      "X5391,0\n",
      "X5392,0\n",
      "X5393,0\n",
      "X5394,0\n",
      "X5395,0\n",
      "X5396,346\n",
      "X5397,0\n",
      "X5398,1\n",
      "X5399,2\n",
      "X5400,1\n",
      "X5401,0\n",
      "X5402,0\n",
      "X5403,3\n",
      "X5404,10\n",
      "X5405,1\n",
      "X5406,0\n",
      "X5407,0\n",
      "X5408,10\n",
      "X5409,167\n",
      "X5410,2\n",
      "X5411,0\n",
      "X5412,170\n",
      "X5413,0\n",
      "X5414,0\n",
      "X5415,0\n",
      "X5416,19\n",
      "X5417,1\n",
      "X5418,3\n",
      "X5419,0\n",
      "X5420,0\n",
      "X5421,2\n",
      "X5422,0\n",
      "X5423,1\n",
      "X5424,1\n",
      "X5425,0\n",
      "X5426,0\n",
      "X5427,0\n",
      "X5428,0\n",
      "X5429,6\n",
      "X5430,0\n",
      "X5431,2\n",
      "X5432,1\n",
      "X5433,0\n",
      "X5434,33\n",
      "X5435,0\n",
      "X5436,3\n",
      "X5437,0\n",
      "X5438,0\n",
      "X5439,2\n",
      "X5440,0\n",
      "X5441,1\n",
      "X5442,1\n",
      "X5443,0\n",
      "X5444,0\n",
      "X5445,0\n",
      "X5446,0\n",
      "X5447,0\n",
      "X5448,98\n",
      "X5449,0\n",
      "X5450,0\n",
      "X5451,0\n",
      "X5452,17\n",
      "X5453,45\n",
      "X5454,0\n",
      "X5455,0\n",
      "X5456,0\n",
      "X5457,0\n",
      "X5458,0\n",
      "X5459,0\n",
      "X5460,0\n",
      "X5461,5\n",
      "X5462,0\n",
      "X5463,2\n",
      "X5464,2\n",
      "X5465,0\n",
      "X5466,1\n",
      "X5467,1\n",
      "X5468,5\n",
      "X5469,0\n",
      "X5470,12\n",
      "X5471,0\n",
      "X5472,0\n",
      "X5473,0\n",
      "X5474,1\n",
      "X5475,0\n",
      "X5476,1\n",
      "X5477,0\n",
      "X5478,0\n",
      "X5479,0\n",
      "X5480,7\n",
      "X5481,0\n",
      "X5482,0\n",
      "X5483,0\n",
      "X5484,0\n",
      "X5485,0\n",
      "X5486,20\n",
      "X5487,0\n",
      "X5488,4\n",
      "X5489,1\n",
      "X5490,1\n",
      "X5491,0\n",
      "X5492,3\n",
      "X5493,0\n",
      "X5494,0\n",
      "X5495,0\n",
      "X5496,0\n",
      "X5497,2\n",
      "X5498,0\n",
      "X5499,14\n",
      "X5500,4\n",
      "X5501,0\n",
      "X5502,0\n",
      "X5503,9\n",
      "X5504,0\n",
      "X5505,0\n",
      "X5506,0\n",
      "X5507,4\n",
      "X5508,0\n",
      "X5509,1\n",
      "X5510,0\n",
      "X5511,0\n",
      "X5512,24\n",
      "X5513,0\n",
      "X5514,0\n",
      "X5515,1\n",
      "X5516,1\n",
      "X5517,1\n",
      "X5518,0\n",
      "X5519,0\n",
      "X5520,0\n",
      "X5521,3\n",
      "X5522,0\n",
      "X5523,13\n",
      "X5524,0\n",
      "X5525,2\n",
      "X5526,0\n",
      "X5527,0\n",
      "X5528,0\n",
      "X5529,25\n",
      "X5530,2\n",
      "X5531,2\n",
      "X5532,1\n",
      "X5533,2\n",
      "X5534,2\n",
      "X5535,1\n",
      "X5536,9\n",
      "X5537,2\n",
      "X5538,0\n",
      "X5539,1\n",
      "X5540,1\n",
      "X5541,1\n",
      "X5542,0\n",
      "X5543,0\n",
      "X5544,0\n",
      "X5545,0\n",
      "X5546,0\n",
      "X5547,3\n",
      "X5548,4\n",
      "X5549,0\n",
      "X5550,1\n",
      "X5551,1\n",
      "X5552,0\n",
      "X5553,0\n",
      "X5554,1\n",
      "X5555,4\n",
      "X5556,0\n",
      "X5557,0\n",
      "X5558,1\n",
      "X5559,2\n",
      "X5560,0\n",
      "X5561,0\n",
      "X5562,0\n",
      "X5563,1\n",
      "X5564,1\n",
      "X5565,1\n",
      "X5566,0\n",
      "X5567,0\n",
      "X5568,0\n",
      "X5569,0\n",
      "X5570,0\n",
      "X5571,2\n",
      "X5572,0\n",
      "X5573,0\n",
      "X5574,1\n",
      "X5575,9\n",
      "X5576,0\n",
      "X5577,0\n",
      "X5578,0\n",
      "X5579,0\n",
      "X5580,1\n",
      "X5581,4\n",
      "X5582,0\n",
      "X5583,7\n",
      "X5584,8\n",
      "X5585,11\n",
      "X5586,0\n",
      "X5587,0\n",
      "X5588,18\n",
      "X5589,1\n",
      "X5590,11\n",
      "X5591,1\n",
      "X5592,0\n",
      "X5593,1\n",
      "X5594,0\n",
      "X5595,0\n",
      "X5596,3\n",
      "X5597,0\n",
      "X5598,0\n",
      "X5599,0\n",
      "X5600,24\n",
      "X5601,0\n",
      "X5602,26\n",
      "X5603,0\n",
      "X5604,2\n",
      "X5605,309\n",
      "X5606,1\n",
      "X5607,2\n",
      "X5608,1\n",
      "X5609,0\n",
      "X5610,0\n",
      "X5611,0\n",
      "X5612,0\n",
      "X5613,0\n",
      "X5614,0\n",
      "X5615,0\n",
      "X5616,0\n",
      "X5617,1\n",
      "X5618,0\n",
      "X5619,0\n",
      "X5620,1\n",
      "X5621,8\n",
      "X5622,0\n",
      "X5623,1\n",
      "X5624,0\n",
      "X5625,68\n",
      "X5626,1\n",
      "X5627,7\n",
      "X5628,0\n",
      "X5629,1\n",
      "X5630,0\n",
      "X5631,2\n",
      "X5632,0\n",
      "X5633,1\n",
      "X5634,1\n",
      "X5635,0\n",
      "X5636,0\n",
      "X5637,0\n",
      "X5638,0\n",
      "X5639,1\n",
      "X5640,1\n",
      "X5641,0\n",
      "X5642,0\n",
      "X5643,0\n",
      "X5644,0\n",
      "X5645,0\n",
      "X5646,0\n",
      "X5647,0\n",
      "X5648,0\n",
      "X5649,0\n",
      "X5650,2\n",
      "X5651,0\n",
      "X5652,0\n",
      "X5653,52\n",
      "X5654,1\n",
      "X5655,28\n",
      "X5656,1\n",
      "X5657,0\n",
      "X5658,0\n",
      "X5659,0\n",
      "X5660,6\n",
      "X5661,1\n",
      "X5662,0\n",
      "X5663,0\n",
      "X5664,1\n",
      "X5665,1\n",
      "X5666,0\n",
      "X5667,7\n",
      "X5668,0\n",
      "X5669,2\n",
      "X5670,1\n",
      "X5671,0\n",
      "X5672,3\n",
      "X5673,1\n",
      "X5674,6\n",
      "X5675,1\n",
      "X5676,0\n",
      "X5677,0\n",
      "X5678,0\n",
      "X5679,0\n",
      "X5680,10\n",
      "X5681,4\n",
      "X5682,0\n",
      "X5683,9\n",
      "X5684,4\n",
      "X5685,0\n",
      "X5686,2\n",
      "X5687,0\n",
      "X5688,0\n",
      "X5689,0\n",
      "X5690,2\n",
      "X5691,11\n",
      "X5692,0\n",
      "X5693,4\n",
      "X5694,8\n",
      "X5695,3\n",
      "X5696,1\n",
      "X5697,1\n",
      "X5698,0\n",
      "X5699,7\n",
      "X5700,0\n",
      "X5701,0\n",
      "X5702,0\n",
      "X5703,0\n",
      "X5704,1\n",
      "X5705,0\n",
      "X5706,3\n",
      "X5707,2\n",
      "X5708,0\n",
      "X5709,1\n",
      "X5710,0\n",
      "X5711,20\n",
      "X5712,7\n",
      "X5713,0\n",
      "X5714,0\n",
      "X5715,0\n",
      "X5716,2\n",
      "X5717,28\n",
      "X5718,1\n",
      "X5719,4\n",
      "X5720,0\n",
      "X5721,0\n",
      "X5722,0\n",
      "X5723,0\n",
      "X5724,0\n",
      "X5725,0\n",
      "X5726,0\n",
      "X5727,28\n",
      "X5728,0\n",
      "X5729,1\n",
      "X5730,0\n",
      "X5731,10\n",
      "X5732,0\n",
      "X5733,0\n",
      "X5734,0\n",
      "X5735,0\n",
      "X5736,1\n",
      "X5737,0\n",
      "X5738,39\n",
      "X5739,5\n",
      "X5740,0\n",
      "X5741,0\n",
      "X5742,28\n",
      "X5743,0\n",
      "X5744,5\n",
      "X5745,0\n",
      "X5746,2\n",
      "X5747,0\n",
      "X5748,0\n",
      "X5749,3\n",
      "X5750,0\n",
      "X5751,0\n",
      "X5752,0\n",
      "X5753,0\n",
      "X5754,0\n",
      "X5755,2\n",
      "X5756,0\n",
      "X5757,0\n",
      "X5758,0\n",
      "X5759,1\n",
      "X5760,0\n",
      "X5761,4\n",
      "X5762,1\n",
      "X5763,2\n",
      "X5764,44\n",
      "X5765,5\n",
      "X5766,0\n",
      "X5767,0\n",
      "X5768,1\n",
      "X5769,0\n",
      "X5770,0\n",
      "X5771,0\n",
      "X5772,0\n",
      "X5773,0\n",
      "X5774,1\n",
      "X5775,1\n",
      "X5776,0\n",
      "X5777,0\n",
      "X5778,0\n",
      "X5779,0\n",
      "X5780,0\n",
      "X5781,3\n",
      "X5782,0\n",
      "X5783,0\n",
      "X5784,0\n",
      "X5785,0\n",
      "X5786,3\n",
      "X5787,1\n",
      "X5788,0\n",
      "X5789,3\n",
      "X5790,0\n",
      "X5791,0\n",
      "X5792,0\n",
      "X5793,4\n",
      "X5794,0\n",
      "X5795,10\n",
      "X5796,6\n",
      "X5797,0\n",
      "X5798,0\n",
      "X5799,0\n",
      "X5800,1\n",
      "X5801,1\n",
      "X5802,10\n",
      "X5803,87\n",
      "X5804,0\n",
      "X5805,31\n",
      "X5806,0\n",
      "X5807,0\n",
      "X5808,4\n",
      "X5809,0\n",
      "X5810,4\n",
      "X5811,1\n",
      "X5812,2\n",
      "X5813,0\n",
      "X5814,0\n",
      "X5815,0\n",
      "X5816,0\n",
      "X5817,0\n",
      "X5818,3\n",
      "X5819,1\n",
      "X5820,0\n",
      "X5821,0\n",
      "X5822,0\n",
      "X5823,1\n",
      "X5824,0\n",
      "X5825,0\n",
      "X5826,0\n",
      "X5827,15\n",
      "X5828,0\n",
      "X5829,2\n",
      "X5830,11\n",
      "X5831,0\n",
      "X5832,0\n",
      "X5833,8\n",
      "X5834,1\n",
      "X5835,0\n",
      "X5836,0\n",
      "X5837,0\n",
      "X5838,1\n",
      "X5839,0\n",
      "X5840,0\n",
      "X5841,0\n",
      "X5842,0\n",
      "X5843,1\n",
      "X5844,0\n",
      "X5845,0\n",
      "X5846,5\n",
      "X5847,0\n",
      "X5848,3\n",
      "X5849,0\n",
      "X5850,2\n",
      "X5851,1\n",
      "X5852,1\n",
      "X5853,0\n",
      "X5854,0\n",
      "X5855,0\n",
      "X5856,2\n",
      "X5857,0\n",
      "X5858,10\n",
      "X5859,1\n",
      "X5860,0\n",
      "X5861,2\n",
      "X5862,4\n",
      "X5863,1\n",
      "X5864,0\n",
      "X5865,0\n",
      "X5866,0\n",
      "X5867,17\n",
      "X5868,0\n",
      "X5869,14\n",
      "X5870,0\n",
      "X5871,12\n",
      "X5872,0\n",
      "X5873,0\n",
      "X5874,8\n",
      "X5875,0\n",
      "X5876,1\n",
      "X5877,0\n",
      "X5878,1\n",
      "X5879,0\n",
      "X5880,1\n",
      "X5881,1\n",
      "X5882,0\n",
      "X5883,16\n",
      "X5884,0\n",
      "X5885,0\n",
      "X5886,3\n",
      "X5887,6\n",
      "X5888,0\n",
      "X5889,0\n",
      "X5890,0\n",
      "X5891,0\n",
      "X5892,2\n",
      "X5893,0\n",
      "X5894,11\n",
      "X5895,2\n",
      "X5896,0\n",
      "X5897,2\n",
      "X5898,0\n",
      "X5899,0\n",
      "X5900,7\n",
      "X5901,8\n",
      "X5902,0\n",
      "X5903,0\n",
      "X5904,0\n",
      "X5905,0\n",
      "X5906,0\n",
      "X5907,0\n",
      "X5908,5\n",
      "X5909,0\n",
      "X5910,1\n",
      "X5911,0\n",
      "X5912,5\n",
      "X5913,0\n",
      "X5914,0\n",
      "X5915,0\n",
      "X5916,0\n",
      "X5917,0\n",
      "X5918,0\n",
      "X5919,4\n",
      "X5920,1\n",
      "X5921,0\n",
      "X5922,1\n",
      "X5923,0\n",
      "X5924,0\n",
      "X5925,14\n",
      "X5926,1\n",
      "X5927,3\n",
      "X5928,0\n",
      "X5929,3\n",
      "X5930,2\n",
      "X5931,0\n",
      "X5932,0\n",
      "X5933,4\n",
      "X5934,0\n",
      "X5935,0\n",
      "X5936,0\n",
      "X5937,0\n",
      "X5938,0\n",
      "X5939,0\n",
      "X5940,0\n",
      "X5941,0\n",
      "X5942,1\n",
      "X5943,0\n",
      "X5944,2\n",
      "X5945,0\n",
      "X5946,9\n",
      "X5947,1\n",
      "X5948,0\n",
      "X5949,1\n",
      "X5950,1\n",
      "X5951,0\n",
      "X5952,0\n",
      "X5953,1\n",
      "X5954,0\n",
      "X5955,25\n",
      "X5956,0\n",
      "X5957,1\n",
      "X5958,0\n",
      "X5959,10\n",
      "X5960,19\n",
      "X5961,0\n",
      "X5962,0\n",
      "X5963,0\n",
      "X5964,38\n",
      "X5965,14\n",
      "X5966,3\n",
      "X5967,13\n",
      "X5968,203\n",
      "X5969,0\n",
      "X5970,4\n",
      "X5971,0\n",
      "X5972,1\n",
      "X5973,2\n",
      "X5974,12\n",
      "X5975,0\n",
      "X5976,0\n",
      "X5977,0\n",
      "X5978,0\n",
      "X5979,2\n",
      "X5980,0\n",
      "X5981,0\n",
      "X5982,0\n",
      "X5983,0\n",
      "X5984,10\n",
      "X5985,1\n",
      "X5986,0\n",
      "X5987,0\n",
      "X5988,0\n",
      "X5989,0\n",
      "X5990,11\n",
      "X5991,13\n",
      "X5992,0\n",
      "X5993,3\n",
      "X5994,0\n",
      "X5995,0\n",
      "X5996,0\n",
      "X5997,0\n",
      "X5998,0\n",
      "X5999,5\n",
      "X6000,0\n",
      "X6001,1\n",
      "X6002,0\n",
      "X6003,4\n",
      "X6004,0\n",
      "X6005,3\n",
      "X6006,3\n",
      "X6007,13\n",
      "X6008,0\n",
      "X6009,0\n",
      "X6010,2\n",
      "X6011,0\n",
      "X6012,91\n",
      "X6013,0\n",
      "X6014,0\n",
      "X6015,0\n",
      "X6016,11\n",
      "X6017,1\n",
      "X6018,1\n",
      "X6019,0\n",
      "X6020,6\n",
      "X6021,0\n",
      "X6022,0\n",
      "X6023,0\n",
      "X6024,30\n",
      "X6025,1\n",
      "X6026,0\n",
      "X6027,4\n",
      "X6028,0\n",
      "X6029,1\n",
      "X6030,2\n",
      "X6031,0\n",
      "X6032,30\n",
      "X6033,0\n",
      "X6034,0\n",
      "X6035,0\n",
      "X6036,0\n",
      "X6037,25\n",
      "X6038,1\n",
      "X6039,0\n",
      "X6040,0\n",
      "X6041,1\n",
      "X6042,0\n",
      "X6043,0\n",
      "X6044,30\n",
      "X6045,0\n",
      "X6046,1\n",
      "X6047,0\n",
      "X6048,1\n",
      "X6049,10\n",
      "X6050,0\n",
      "X6051,0\n",
      "X6052,0\n",
      "X6053,0\n",
      "X6054,0\n",
      "X6055,1\n",
      "X6056,1\n",
      "X6057,2\n",
      "X6058,1\n",
      "X6059,4\n",
      "X6060,0\n",
      "X6061,0\n",
      "X6062,0\n",
      "X6063,0\n",
      "X6064,0\n",
      "X6065,1\n",
      "X6066,0\n",
      "X6067,1\n",
      "X6068,5\n",
      "X6069,1\n",
      "X6070,55\n",
      "X6071,3\n",
      "X6072,0\n",
      "X6073,0\n",
      "X6074,0\n",
      "X6075,0\n",
      "X6076,0\n",
      "X6077,0\n",
      "X6078,12\n",
      "X6079,0\n",
      "X6080,0\n",
      "X6081,0\n",
      "X6082,0\n",
      "X6083,107\n",
      "X6084,0\n",
      "X6085,0\n",
      "X6086,0\n",
      "X6087,0\n",
      "X6088,12\n",
      "X6089,0\n",
      "X6090,0\n",
      "X6091,0\n",
      "X6092,2\n",
      "X6093,8\n",
      "X6094,0\n",
      "X6095,1\n",
      "X6096,1\n",
      "X6097,1\n",
      "X6098,1\n",
      "X6099,2\n",
      "X6100,0\n",
      "X6101,5\n",
      "X6102,0\n",
      "X6103,0\n",
      "X6104,1\n",
      "X6105,2\n",
      "X6106,0\n",
      "X6107,0\n",
      "X6108,0\n",
      "X6109,6\n",
      "X6110,0\n",
      "X6111,3\n",
      "X6112,0\n",
      "X6113,0\n",
      "X6114,0\n",
      "X6115,0\n",
      "X6116,2\n",
      "X6117,0\n",
      "X6118,0\n",
      "X6119,4\n",
      "X6120,58\n",
      "X6121,31\n",
      "X6122,1\n",
      "X6123,0\n",
      "X6124,0\n",
      "X6125,69\n",
      "X6126,3\n",
      "X6127,13\n",
      "X6128,0\n",
      "X6129,0\n",
      "X6130,0\n",
      "X6131,1\n",
      "X6132,0\n",
      "X6133,0\n",
      "X6134,0\n",
      "X6135,0\n",
      "X6136,0\n",
      "X6137,1\n",
      "X6138,2\n",
      "X6139,0\n",
      "X6140,0\n",
      "X6141,0\n",
      "X6142,5\n",
      "X6143,0\n",
      "X6144,0\n",
      "X6145,0\n",
      "X6146,1\n",
      "X6147,2\n",
      "X6148,3\n",
      "X6149,0\n",
      "X6150,0\n",
      "X6151,0\n",
      "X6152,14\n",
      "X6153,0\n",
      "X6154,2\n",
      "X6155,0\n",
      "X6156,0\n",
      "X6157,0\n",
      "X6158,1\n",
      "X6159,27\n",
      "X6160,0\n",
      "X6161,0\n",
      "X6162,0\n",
      "X6163,20\n",
      "X6164,123\n",
      "X6165,0\n",
      "X6166,6\n",
      "X6167,14\n",
      "X6168,0\n",
      "X6169,0\n",
      "X6170,58\n",
      "X6171,0\n",
      "X6172,0\n",
      "X6173,0\n",
      "X6174,7\n",
      "X6175,0\n",
      "X6176,0\n",
      "X6177,0\n",
      "X6178,0\n",
      "X6179,2\n",
      "X6180,3\n",
      "X6181,9\n",
      "X6182,2\n",
      "X6183,0\n",
      "X6184,4\n",
      "X6185,1\n",
      "X6186,0\n",
      "X6187,5\n",
      "X6188,1\n",
      "X6189,3\n",
      "X6190,0\n",
      "X6191,0\n",
      "X6192,0\n",
      "X6193,0\n",
      "X6194,4\n",
      "X6195,3\n",
      "X6196,0\n",
      "X6197,0\n",
      "X6198,2\n",
      "X6199,0\n",
      "X6200,0\n",
      "X6201,0\n",
      "X6202,12\n",
      "X6203,0\n",
      "X6204,0\n",
      "X6205,31\n",
      "X6206,0\n",
      "X6207,9\n",
      "X6208,0\n",
      "X6209,1\n",
      "X6210,16\n",
      "X6211,3\n",
      "X6212,2\n",
      "X6213,0\n",
      "X6214,2\n",
      "X6215,2\n",
      "X6216,0\n",
      "X6217,0\n",
      "X6218,0\n",
      "X6219,1\n",
      "X6220,0\n",
      "X6221,0\n",
      "X6222,0\n",
      "X6223,0\n",
      "X6224,0\n",
      "X6225,1\n",
      "X6226,0\n",
      "X6227,0\n",
      "X6228,0\n",
      "X6229,0\n",
      "X6230,0\n",
      "X6231,0\n",
      "X6232,7\n",
      "X6233,0\n",
      "X6234,4\n",
      "X6235,1\n",
      "X6236,0\n",
      "X6237,0\n",
      "X6238,0\n",
      "X6239,0\n",
      "X6240,2\n",
      "X6241,0\n",
      "X6242,0\n",
      "X6243,6\n",
      "X6244,0\n",
      "X6245,26\n",
      "X6246,9\n",
      "X6247,0\n",
      "X6248,7\n",
      "X6249,0\n",
      "X6250,1\n",
      "X6251,0\n",
      "X6252,0\n",
      "X6253,1\n",
      "X6254,21\n",
      "X6255,0\n",
      "X6256,0\n",
      "X6257,0\n",
      "X6258,0\n",
      "X6259,2\n",
      "X6260,0\n",
      "X6261,1\n",
      "X6262,1\n",
      "X6263,0\n",
      "X6264,0\n",
      "X6265,2\n",
      "X6266,2\n",
      "X6267,0\n",
      "X6268,0\n",
      "X6269,0\n",
      "X6270,3\n",
      "X6271,0\n",
      "X6272,1\n",
      "X6273,0\n",
      "X6274,1\n",
      "X6275,0\n",
      "X6276,1\n",
      "X6277,1\n",
      "X6278,10\n",
      "X6279,0\n",
      "X6280,0\n",
      "X6281,0\n",
      "X6282,2\n",
      "X6283,0\n",
      "X6284,0\n",
      "X6285,2\n",
      "X6286,7\n",
      "X6287,0\n",
      "X6288,0\n",
      "X6289,0\n",
      "X6290,15\n",
      "X6291,0\n",
      "X6292,0\n",
      "X6293,1\n",
      "X6294,0\n",
      "X6295,0\n",
      "X6296,0\n",
      "X6297,0\n",
      "X6298,0\n",
      "X6299,1\n",
      "X6300,0\n",
      "X6301,0\n",
      "X6302,0\n",
      "X6303,1\n",
      "X6304,0\n",
      "X6305,0\n",
      "X6306,0\n",
      "X6307,0\n",
      "X6308,0\n",
      "X6309,0\n",
      "X6310,0\n",
      "X6311,7\n",
      "X6312,0\n",
      "X6313,0\n",
      "X6314,5\n",
      "X6315,0\n",
      "X6316,0\n",
      "X6317,0\n",
      "X6318,0\n",
      "X6319,4\n",
      "X6320,0\n",
      "X6321,0\n",
      "X6322,6\n",
      "X6323,0\n",
      "X6324,3\n",
      "X6325,0\n",
      "X6326,150\n",
      "X6327,22\n",
      "X6328,0\n",
      "X6329,0\n",
      "X6330,2\n",
      "X6331,1\n",
      "X6332,0\n",
      "X6333,0\n",
      "X6334,7\n",
      "X6335,1\n",
      "X6336,5\n",
      "X6337,3\n",
      "X6338,0\n",
      "X6339,0\n",
      "X6340,0\n",
      "X6341,1\n",
      "X6342,0\n",
      "X6343,0\n",
      "X6344,0\n",
      "X6345,0\n",
      "X6346,0\n",
      "X6347,3\n",
      "X6348,0\n",
      "X6349,0\n",
      "X6350,0\n",
      "X6351,6\n",
      "X6352,0\n",
      "X6353,0\n",
      "X6354,1\n",
      "X6355,0\n",
      "X6356,0\n",
      "X6357,1\n",
      "X6358,0\n",
      "X6359,0\n",
      "X6360,0\n",
      "X6361,0\n",
      "X6362,0\n",
      "X6363,32\n",
      "X6364,0\n",
      "X6365,1\n",
      "X6366,0\n",
      "X6367,9\n",
      "X6368,0\n",
      "X6369,0\n",
      "X6370,0\n",
      "X6371,0\n",
      "X6372,0\n",
      "X6373,0\n",
      "X6374,0\n",
      "X6375,0\n",
      "X6376,0\n",
      "X6377,0\n",
      "X6378,10\n",
      "X6379,0\n",
      "X6380,0\n",
      "X6381,4\n",
      "X6382,5\n",
      "X6383,15\n",
      "X6384,0\n",
      "X6385,26\n",
      "X6386,0\n",
      "X6387,0\n",
      "X6388,0\n",
      "X6389,0\n",
      "X6390,1\n",
      "X6391,0\n",
      "X6392,0\n",
      "X6393,6\n",
      "X6394,0\n",
      "X6395,0\n",
      "X6396,0\n",
      "X6397,0\n",
      "X6398,0\n",
      "X6399,36\n",
      "X6400,1\n",
      "X6401,0\n",
      "X6402,0\n",
      "X6403,3\n",
      "X6404,3\n",
      "X6405,3\n",
      "X6406,9\n",
      "X6407,2\n",
      "X6408,0\n",
      "X6409,0\n",
      "X6410,1\n",
      "X6411,1\n",
      "X6412,1\n",
      "X6413,1\n",
      "X6414,1\n",
      "X6415,13\n",
      "X6416,8\n",
      "X6417,0\n",
      "X6418,2\n",
      "X6419,0\n",
      "X6420,0\n",
      "X6421,2\n",
      "X6422,0\n",
      "X6423,0\n",
      "X6424,0\n",
      "X6425,0\n",
      "X6426,1\n",
      "X6427,1\n",
      "X6428,0\n",
      "X6429,0\n",
      "X6430,3\n",
      "X6431,0\n",
      "X6432,0\n",
      "X6433,1\n",
      "X6434,0\n",
      "X6435,3\n",
      "X6436,0\n",
      "X6437,0\n",
      "X6438,0\n",
      "X6439,0\n",
      "X6440,0\n",
      "X6441,1\n",
      "X6442,9\n",
      "X6443,1\n",
      "X6444,0\n",
      "X6445,0\n",
      "X6446,2\n",
      "X6447,0\n",
      "X6448,28\n",
      "X6449,0\n",
      "X6450,0\n",
      "X6451,0\n",
      "X6452,0\n",
      "X6453,0\n",
      "X6454,17\n",
      "X6455,1\n",
      "X6456,0\n",
      "X6457,2\n",
      "X6458,0\n",
      "X6459,6\n",
      "X6460,0\n",
      "X6461,0\n",
      "X6462,50\n",
      "X6463,0\n",
      "X6464,0\n",
      "X6465,0\n",
      "X6466,0\n",
      "X6467,3\n",
      "X6468,0\n",
      "X6469,0\n",
      "X6470,3\n",
      "X6471,0\n",
      "X6472,0\n",
      "X6473,3\n",
      "X6474,0\n",
      "X6475,3\n",
      "X6476,0\n",
      "X6477,1\n",
      "X6478,0\n",
      "X6479,1\n",
      "X6480,0\n",
      "X6481,0\n",
      "X6482,3\n",
      "X6483,0\n",
      "X6484,0\n",
      "X6485,0\n",
      "X6486,1\n",
      "X6487,2\n",
      "X6488,10\n",
      "X6489,0\n",
      "X6490,0\n",
      "X6491,2\n",
      "X6492,0\n",
      "X6493,0\n",
      "X6494,0\n",
      "X6495,21\n",
      "X6496,0\n",
      "X6497,1\n",
      "X6498,1\n",
      "X6499,0\n",
      "X6500,0\n",
      "X6501,0\n",
      "X6502,45\n",
      "X6503,0\n",
      "X6504,5\n",
      "X6505,0\n",
      "X6506,0\n",
      "X6507,1\n",
      "X6508,1\n",
      "X6509,3\n",
      "X6510,2\n",
      "X6511,0\n",
      "X6512,0\n",
      "X6513,1\n",
      "X6514,0\n",
      "X6515,0\n",
      "X6516,0\n",
      "X6517,0\n",
      "X6518,1\n",
      "X6519,4\n",
      "X6520,3\n",
      "X6521,9\n",
      "X6522,0\n",
      "X6523,0\n",
      "X6524,10\n",
      "X6525,0\n",
      "X6526,0\n",
      "X6527,2\n",
      "X6528,0\n",
      "X6529,0\n",
      "X6530,0\n",
      "X6531,0\n",
      "X6532,0\n",
      "X6533,0\n",
      "X6534,0\n",
      "X6535,0\n",
      "X6536,44\n",
      "X6537,12\n",
      "X6538,0\n",
      "X6539,0\n",
      "X6540,0\n",
      "X6541,0\n",
      "X6542,1\n",
      "X6543,0\n",
      "X6544,1\n",
      "X6545,2\n",
      "X6546,0\n",
      "X6547,15\n",
      "X6548,12\n",
      "X6549,0\n",
      "X6550,0\n",
      "X6551,0\n",
      "X6552,0\n",
      "X6553,0\n",
      "X6554,0\n",
      "X6555,2\n",
      "X6556,9\n",
      "X6557,0\n",
      "X6558,3\n",
      "X6559,3\n",
      "X6560,0\n",
      "X6561,2\n",
      "X6562,0\n",
      "X6563,0\n",
      "X6564,0\n",
      "X6565,2\n",
      "X6566,0\n",
      "X6567,0\n",
      "X6568,1\n",
      "X6569,52\n",
      "X6570,0\n",
      "X6571,4\n",
      "X6572,68\n",
      "X6573,0\n",
      "X6574,0\n",
      "X6575,0\n",
      "X6576,0\n",
      "X6577,0\n",
      "X6578,8\n",
      "X6579,3\n",
      "X6580,0\n",
      "X6581,0\n",
      "X6582,2\n",
      "X6583,4\n",
      "X6584,0\n",
      "X6585,1\n",
      "X6586,1\n",
      "X6587,0\n",
      "X6588,0\n",
      "X6589,0\n",
      "X6590,0\n",
      "X6591,0\n",
      "X6592,0\n",
      "X6593,0\n",
      "X6594,0\n",
      "X6595,0\n",
      "X6596,0\n",
      "X6597,0\n",
      "X6598,10\n",
      "X6599,0\n",
      "X6600,0\n",
      "X6601,173\n",
      "X6602,3\n",
      "X6603,0\n",
      "X6604,0\n",
      "X6605,1\n",
      "X6606,0\n",
      "X6607,0\n",
      "X6608,1\n",
      "X6609,0\n",
      "X6610,4\n",
      "X6611,1\n",
      "X6612,9\n",
      "X6613,1\n",
      "X6614,0\n",
      "X6615,0\n",
      "X6616,4\n",
      "X6617,0\n",
      "X6618,0\n",
      "X6619,15\n",
      "X6620,0\n",
      "X6621,3\n",
      "X6622,0\n",
      "X6623,4\n",
      "X6624,1\n",
      "X6625,0\n",
      "X6626,1\n",
      "X6627,0\n",
      "X6628,0\n",
      "X6629,0\n",
      "X6630,1\n",
      "X6631,4\n",
      "X6632,0\n",
      "X6633,0\n",
      "X6634,0\n",
      "X6635,12\n",
      "X6636,0\n",
      "X6637,0\n",
      "X6638,1\n",
      "X6639,1\n",
      "X6640,2\n",
      "X6641,2\n",
      "X6642,0\n",
      "X6643,18\n",
      "X6644,0\n",
      "X6645,0\n",
      "X6646,0\n",
      "X6647,0\n",
      "X6648,0\n",
      "X6649,0\n",
      "X6650,3\n",
      "X6651,25\n",
      "X6652,0\n",
      "X6653,0\n",
      "X6654,0\n",
      "X6655,0\n",
      "X6656,28\n",
      "X6657,0\n",
      "X6658,0\n",
      "X6659,0\n",
      "X6660,0\n",
      "X6661,0\n",
      "X6662,0\n",
      "X6663,0\n",
      "X6664,0\n",
      "X6665,1\n",
      "X6666,0\n",
      "X6667,5\n",
      "X6668,0\n",
      "X6669,0\n",
      "X6670,0\n",
      "X6671,0\n",
      "X6672,0\n",
      "X6673,2\n",
      "X6674,0\n",
      "X6675,1\n",
      "X6676,0\n",
      "X6677,0\n",
      "X6678,0\n",
      "X6679,0\n",
      "X6680,4\n",
      "X6681,5\n",
      "X6682,1\n",
      "X6683,1\n",
      "X6684,1\n",
      "X6685,0\n",
      "X6686,3\n",
      "X6687,1\n",
      "X6688,0\n",
      "X6689,0\n",
      "X6690,0\n",
      "X6691,1\n",
      "X6692,1\n",
      "X6693,0\n",
      "X6694,1\n",
      "X6695,2\n",
      "X6696,0\n",
      "X6697,5\n",
      "X6698,0\n",
      "X6699,0\n",
      "X6700,0\n",
      "X6701,1\n",
      "X6702,12\n",
      "X6703,1\n",
      "X6704,0\n",
      "X6705,0\n",
      "X6706,15\n",
      "X6707,0\n",
      "X6708,2\n",
      "X6709,0\n",
      "X6710,0\n",
      "X6711,1\n",
      "X6712,1\n",
      "X6713,0\n",
      "X6714,3\n",
      "X6715,0\n",
      "X6716,0\n",
      "X6717,0\n",
      "X6718,2\n",
      "X6719,6\n",
      "X6720,0\n",
      "X6721,1\n",
      "X6722,1\n",
      "X6723,0\n",
      "X6724,0\n",
      "X6725,0\n",
      "X6726,15\n",
      "X6727,1\n",
      "X6728,0\n",
      "X6729,1\n",
      "X6730,0\n",
      "X6731,0\n",
      "X6732,0\n",
      "X6733,4\n",
      "X6734,0\n",
      "X6735,3\n",
      "X6736,0\n",
      "X6737,0\n",
      "X6738,1\n",
      "X6739,5\n",
      "X6740,1\n",
      "X6741,3\n",
      "X6742,0\n",
      "X6743,0\n",
      "X6744,2\n",
      "X6745,34\n",
      "X6746,1\n",
      "X6747,0\n",
      "X6748,4\n",
      "X6749,0\n",
      "X6750,0\n",
      "X6751,0\n",
      "X6752,3\n",
      "X6753,3\n",
      "X6754,1\n",
      "X6755,0\n",
      "X6756,1\n",
      "X6757,0\n",
      "X6758,0\n",
      "X6759,0\n",
      "X6760,0\n",
      "X6761,23\n",
      "X6762,0\n",
      "X6763,0\n",
      "X6764,0\n",
      "X6765,0\n",
      "X6766,0\n",
      "X6767,0\n",
      "X6768,0\n",
      "X6769,1\n",
      "X6770,8\n",
      "X6771,0\n",
      "X6772,2\n",
      "X6773,2\n",
      "X6774,0\n",
      "X6775,0\n",
      "X6776,16\n",
      "X6777,0\n",
      "X6778,2\n",
      "X6779,1\n",
      "X6780,1\n",
      "X6781,0\n",
      "X6782,0\n",
      "X6783,1\n",
      "X6784,0\n",
      "X6785,1\n",
      "X6786,1\n",
      "X6787,0\n",
      "X6788,1\n",
      "X6789,11\n",
      "X6790,0\n",
      "X6791,0\n",
      "X6792,5\n",
      "X6793,1\n",
      "X6794,0\n",
      "X6795,0\n",
      "X6796,0\n",
      "X6797,2\n",
      "X6798,75\n",
      "X6799,0\n",
      "X6800,0\n",
      "X6801,19\n",
      "X6802,0\n",
      "X6803,0\n",
      "X6804,1\n",
      "X6805,1\n",
      "X6806,0\n",
      "X6807,38\n",
      "X6808,0\n",
      "X6809,1\n",
      "X6810,0\n",
      "X6811,1\n",
      "X6812,0\n",
      "X6813,19\n",
      "X6814,0\n",
      "X6815,26\n",
      "X6816,0\n",
      "X6817,1\n",
      "X6818,1\n",
      "X6819,24\n",
      "X6820,0\n",
      "X6821,1\n",
      "X6822,0\n",
      "X6823,0\n",
      "X6824,4\n",
      "X6825,2\n",
      "X6826,0\n",
      "X6827,0\n",
      "X6828,1\n",
      "X6829,0\n",
      "X6830,0\n",
      "X6831,0\n",
      "X6832,0\n",
      "X6833,1\n",
      "X6834,0\n",
      "X6835,0\n",
      "X6836,0\n",
      "X6837,0\n",
      "X6838,0\n",
      "X6839,33\n",
      "X6840,0\n",
      "X6841,0\n",
      "X6842,0\n",
      "X6843,1\n",
      "X6844,0\n",
      "X6845,0\n",
      "X6846,0\n",
      "X6847,0\n",
      "X6848,0\n",
      "X6849,5\n",
      "X6850,3\n",
      "X6851,1\n",
      "X6852,1\n",
      "X6853,0\n",
      "X6854,0\n",
      "X6855,7\n",
      "X6856,0\n",
      "X6857,0\n",
      "X6858,15\n",
      "X6859,0\n",
      "X6860,0\n",
      "X6861,0\n",
      "X6862,0\n",
      "X6863,5\n",
      "X6864,4\n",
      "X6865,1\n",
      "X6866,5\n",
      "X6867,0\n",
      "X6868,0\n",
      "X6869,0\n",
      "X6870,1\n",
      "X6871,0\n",
      "X6872,1\n",
      "X6873,2\n",
      "X6874,1\n",
      "X6875,0\n",
      "X6876,0\n",
      "X6877,0\n",
      "X6878,1\n",
      "X6879,7\n",
      "X6880,0\n",
      "X6881,10\n",
      "X6882,53\n",
      "X6883,0\n",
      "X6884,26\n",
      "X6885,219\n",
      "X6886,0\n",
      "X6887,0\n",
      "X6888,4\n",
      "X6889,0\n",
      "X6890,1\n",
      "X6891,0\n",
      "X6892,4\n",
      "X6893,0\n",
      "X6894,0\n",
      "X6895,0\n",
      "X6896,0\n",
      "X6897,0\n",
      "X6898,0\n",
      "X6899,0\n",
      "X6900,13\n",
      "X6901,0\n",
      "X6902,0\n",
      "X6903,0\n",
      "X6904,0\n",
      "X6905,17\n",
      "X6906,0\n",
      "X6907,11\n",
      "X6908,14\n",
      "X6909,0\n",
      "X6910,3\n",
      "X6911,0\n",
      "X6912,0\n",
      "X6913,0\n",
      "X6914,0\n",
      "X6915,4\n",
      "X6916,0\n",
      "X6917,2\n",
      "X6918,64\n",
      "X6919,2\n",
      "X6920,0\n",
      "X6921,0\n",
      "X6922,2\n",
      "X6923,0\n",
      "X6924,12\n",
      "X6925,0\n",
      "X6926,3\n",
      "X6927,0\n",
      "X6928,2\n",
      "X6929,3\n",
      "X6930,0\n",
      "X6931,0\n",
      "X6932,12\n",
      "X6933,0\n",
      "X6934,0\n",
      "X6935,0\n",
      "X6936,7\n",
      "X6937,143\n",
      "X6938,0\n",
      "X6939,1\n",
      "X6940,25\n",
      "X6941,0\n",
      "X6942,1\n",
      "X6943,8\n",
      "X6944,42\n",
      "X6945,0\n",
      "X6946,11\n",
      "X6947,0\n",
      "X6948,1\n",
      "X6949,0\n",
      "X6950,1\n",
      "X6951,1\n",
      "X6952,1\n",
      "X6953,0\n",
      "X6954,0\n",
      "X6955,22\n",
      "X6956,0\n",
      "X6957,1\n",
      "X6958,0\n",
      "X6959,15\n",
      "X6960,1\n",
      "X6961,0\n",
      "X6962,2\n",
      "X6963,0\n",
      "X6964,0\n",
      "X6965,0\n",
      "X6966,0\n",
      "X6967,0\n",
      "X6968,6\n",
      "X6969,0\n",
      "X6970,3\n",
      "X6971,0\n",
      "X6972,1\n",
      "X6973,4\n",
      "X6974,0\n",
      "X6975,0\n",
      "X6976,1\n",
      "X6977,0\n",
      "X6978,0\n",
      "X6979,0\n",
      "X6980,56\n",
      "X6981,0\n",
      "X6982,0\n",
      "X6983,5\n",
      "X6984,0\n",
      "X6985,5\n",
      "X6986,0\n",
      "X6987,0\n",
      "X6988,1\n",
      "X6989,0\n",
      "X6990,0\n",
      "X6991,0\n",
      "X6992,7\n",
      "X6993,6\n",
      "X6994,0\n",
      "X6995,0\n",
      "X6996,0\n",
      "X6997,6\n",
      "X6998,9\n",
      "X6999,0\n",
      "X7000,0\n",
      "X7001,0\n",
      "X7002,0\n",
      "X7003,3\n",
      "X7004,1\n",
      "X7005,0\n",
      "X7006,24\n",
      "X7007,0\n",
      "X7008,1\n",
      "X7009,24\n",
      "X7010,0\n",
      "X7011,0\n",
      "X7012,0\n",
      "X7013,2\n",
      "X7014,7\n",
      "X7015,0\n",
      "X7016,0\n",
      "X7017,0\n",
      "X7018,0\n",
      "X7019,3\n",
      "X7020,0\n",
      "X7021,1\n",
      "X7022,0\n",
      "X7023,0\n",
      "X7024,0\n",
      "X7025,0\n",
      "X7026,0\n",
      "X7027,0\n",
      "X7028,16\n",
      "X7029,1\n",
      "X7030,0\n",
      "X7031,47\n",
      "X7032,0\n",
      "X7033,0\n",
      "X7034,74\n",
      "X7035,0\n",
      "X7036,0\n",
      "X7037,0\n",
      "X7038,8\n",
      "X7039,0\n",
      "X7040,1\n",
      "X7041,0\n",
      "X7042,12\n",
      "X7043,0\n",
      "X7044,2\n",
      "X7045,31\n",
      "X7046,0\n",
      "X7047,107\n",
      "X7048,3\n",
      "X7049,0\n",
      "X7050,0\n",
      "X7051,0\n",
      "X7052,0\n",
      "X7053,0\n",
      "X7054,2\n",
      "X7055,7\n",
      "X7056,0\n",
      "X7057,0\n",
      "X7058,0\n",
      "X7059,0\n",
      "X7060,0\n",
      "X7061,0\n",
      "X7062,238\n",
      "X7063,1\n",
      "X7064,1\n",
      "X7065,1\n",
      "X7066,84\n",
      "X7067,10\n",
      "X7068,0\n",
      "X7069,4\n",
      "X7070,0\n",
      "X7071,0\n",
      "X7072,1\n",
      "X7073,1\n",
      "X7074,2\n",
      "X7075,1\n",
      "X7076,1\n",
      "X7077,1\n",
      "X7078,0\n",
      "X7079,5\n",
      "X7080,0\n",
      "X7081,32\n",
      "X7082,0\n",
      "X7083,1\n",
      "X7084,0\n",
      "X7085,0\n",
      "X7086,0\n",
      "X7087,0\n",
      "X7088,0\n",
      "X7089,20\n",
      "X7090,0\n",
      "X7091,1\n",
      "X7092,10\n",
      "X7093,1\n",
      "X7094,0\n",
      "X7095,11\n",
      "X7096,0\n",
      "X7097,0\n",
      "X7098,5\n",
      "X7099,0\n",
      "X7100,0\n",
      "X7101,1\n",
      "X7102,0\n",
      "X7103,0\n",
      "X7104,2\n",
      "X7105,0\n",
      "X7106,5\n",
      "X7107,0\n",
      "X7108,2\n",
      "X7109,201\n",
      "X7110,2\n",
      "X7111,1\n",
      "X7112,1\n",
      "X7113,0\n",
      "X7114,0\n",
      "X7115,0\n",
      "X7116,0\n",
      "X7117,0\n",
      "X7118,0\n",
      "X7119,1\n",
      "X7120,1\n",
      "X7121,1\n",
      "X7122,1\n",
      "X7123,6\n",
      "X7124,4\n",
      "X7125,45\n",
      "X7126,0\n",
      "X7127,0\n",
      "X7128,0\n",
      "X7129,2\n",
      "X7130,0\n",
      "X7131,59\n",
      "X7132,0\n",
      "X7133,2\n",
      "X7134,0\n",
      "X7135,7\n",
      "X7136,0\n",
      "X7137,49\n",
      "X7138,0\n",
      "X7139,0\n",
      "X7140,0\n",
      "X7141,0\n",
      "X7142,0\n",
      "X7143,0\n",
      "X7144,3\n",
      "X7145,0\n",
      "X7146,0\n",
      "X7147,0\n",
      "X7148,0\n",
      "X7149,6\n",
      "X7150,1\n",
      "X7151,6\n",
      "X7152,31\n",
      "X7153,28\n",
      "X7154,0\n",
      "X7155,0\n",
      "X7156,14\n",
      "X7157,1\n",
      "X7158,8\n",
      "X7159,0\n",
      "X7160,0\n",
      "X7161,1\n",
      "X7162,0\n",
      "X7163,0\n",
      "X7164,1\n",
      "X7165,1\n",
      "X7166,0\n",
      "X7167,13\n",
      "X7168,13\n",
      "X7169,0\n",
      "X7170,1\n",
      "X7171,0\n",
      "X7172,0\n",
      "X7173,0\n",
      "X7174,0\n",
      "X7175,0\n",
      "X7176,2\n",
      "X7177,59\n",
      "X7178,0\n",
      "X7179,6\n",
      "X7180,0\n",
      "X7181,0\n",
      "X7182,0\n",
      "X7183,2\n",
      "X7184,0\n",
      "X7185,8\n",
      "X7186,13\n",
      "X7187,0\n",
      "X7188,0\n",
      "X7189,0\n",
      "X7190,2\n",
      "X7191,0\n",
      "X7192,2\n",
      "X7193,2\n",
      "X7194,0\n",
      "X7195,101\n",
      "X7196,0\n",
      "X7197,13\n",
      "X7198,10\n",
      "X7199,9\n",
      "X7200,0\n",
      "X7201,0\n",
      "X7202,1\n",
      "X7203,1\n",
      "X7204,0\n",
      "X7205,0\n",
      "X7206,0\n",
      "X7207,0\n",
      "X7208,0\n",
      "X7209,0\n",
      "X7210,4\n",
      "X7211,0\n",
      "X7212,0\n",
      "X7213,2\n",
      "X7214,1\n",
      "X7215,5\n",
      "X7216,0\n",
      "X7217,2\n",
      "X7218,380\n",
      "X7219,0\n",
      "X7220,0\n",
      "X7221,0\n",
      "X7222,1\n",
      "X7223,13\n",
      "X7224,0\n",
      "X7225,86\n",
      "X7226,1\n",
      "X7227,0\n",
      "X7228,23\n",
      "X7229,11\n",
      "X7230,0\n",
      "X7231,0\n",
      "X7232,0\n",
      "X7233,0\n",
      "X7234,0\n",
      "X7235,0\n",
      "X7236,3\n",
      "X7237,13\n",
      "X7238,1\n",
      "X7239,0\n",
      "X7240,0\n",
      "X7241,2\n",
      "X7242,0\n",
      "X7243,0\n",
      "X7244,2\n",
      "X7245,29\n",
      "X7246,2\n",
      "X7247,0\n",
      "X7248,2\n",
      "X7249,0\n",
      "X7250,1\n",
      "X7251,1\n",
      "X7252,0\n",
      "X7253,15\n",
      "X7254,3\n",
      "X7255,3\n",
      "X7256,15\n",
      "X7257,1\n",
      "X7258,0\n",
      "X7259,0\n",
      "X7260,3\n",
      "X7261,0\n",
      "X7262,5\n",
      "X7263,0\n",
      "X7264,7\n",
      "X7265,6\n",
      "X7266,1\n",
      "X7267,0\n",
      "X7268,8\n",
      "X7269,6\n",
      "X7270,0\n",
      "X7271,0\n",
      "X7272,1\n",
      "X7273,0\n",
      "X7274,0\n",
      "X7275,0\n",
      "X7276,0\n",
      "X7277,8\n",
      "X7278,0\n",
      "X7279,20\n",
      "X7280,87\n",
      "X7281,3\n",
      "X7282,13\n",
      "X7283,0\n",
      "X7284,0\n",
      "X7285,0\n",
      "X7286,0\n",
      "X7287,0\n",
      "X7288,15\n",
      "X7289,4\n",
      "X7290,1\n",
      "X7291,0\n",
      "X7292,0\n",
      "X7293,0\n",
      "X7294,4\n",
      "X7295,1\n",
      "X7296,0\n",
      "X7297,0\n",
      "X7298,0\n",
      "X7299,0\n",
      "X7300,14\n",
      "X7301,0\n",
      "X7302,0\n",
      "X7303,0\n",
      "X7304,1\n",
      "X7305,1\n",
      "X7306,4\n",
      "X7307,0\n",
      "X7308,3\n",
      "X7309,0\n",
      "X7310,143\n",
      "X7311,5\n",
      "X7312,0\n",
      "X7313,53\n",
      "X7314,0\n",
      "X7315,0\n",
      "X7316,0\n",
      "X7317,1\n",
      "X7318,0\n",
      "X7319,0\n",
      "X7320,0\n",
      "X7321,0\n",
      "X7322,0\n",
      "X7323,2\n",
      "X7324,10\n",
      "X7325,1\n",
      "X7326,0\n",
      "X7327,0\n",
      "X7328,5\n",
      "X7329,0\n",
      "X7330,2\n",
      "X7331,0\n",
      "X7332,0\n",
      "X7333,1\n",
      "X7334,1\n",
      "X7335,3\n",
      "X7336,0\n",
      "X7337,0\n",
      "X7338,0\n",
      "X7339,0\n",
      "X7340,2\n",
      "X7341,0\n",
      "X7342,0\n",
      "X7343,0\n",
      "X7344,0\n",
      "X7345,1\n",
      "X7346,2\n",
      "X7347,66\n",
      "X7348,0\n",
      "X7349,1\n",
      "X7350,0\n",
      "X7351,0\n",
      "X7352,17\n",
      "X7353,0\n",
      "X7354,0\n",
      "X7355,0\n",
      "X7356,0\n",
      "X7357,0\n",
      "X7358,8\n",
      "X7359,1\n",
      "X7360,0\n",
      "X7361,0\n",
      "X7362,0\n",
      "X7363,0\n",
      "X7364,0\n",
      "X7365,0\n",
      "X7366,0\n",
      "X7367,17\n",
      "X7368,0\n",
      "X7369,0\n",
      "X7370,0\n",
      "X7371,5\n",
      "X7372,0\n",
      "X7373,0\n",
      "X7374,0\n",
      "X7375,0\n",
      "X7376,6\n",
      "X7377,0\n",
      "X7378,1\n",
      "X7379,0\n",
      "X7380,9\n",
      "X7381,0\n",
      "X7382,0\n",
      "X7383,4\n",
      "X7384,0\n",
      "X7385,0\n",
      "X7386,21\n",
      "X7387,3\n",
      "X7388,0\n",
      "X7389,0\n",
      "X7390,0\n",
      "X7391,8\n",
      "X7392,0\n",
      "X7393,2\n",
      "X7394,0\n",
      "X7395,0\n",
      "X7396,3\n",
      "X7397,0\n",
      "X7398,2\n",
      "X7399,0\n",
      "X7400,0\n",
      "X7401,1\n",
      "X7402,0\n",
      "X7403,0\n",
      "X7404,1\n",
      "X7405,0\n",
      "X7406,0\n",
      "X7407,1\n",
      "X7408,0\n",
      "X7409,0\n",
      "X7410,3\n",
      "X7411,0\n",
      "X7412,1\n",
      "X7413,0\n",
      "X7414,0\n",
      "X7415,1\n",
      "X7416,1\n",
      "X7417,0\n",
      "X7418,20\n",
      "X7419,0\n",
      "X7420,1\n",
      "X7421,15\n",
      "X7422,565\n",
      "X7423,0\n",
      "X7424,0\n",
      "X7425,3\n",
      "X7426,0\n",
      "X7427,0\n",
      "X7428,0\n",
      "X7429,0\n",
      "X7430,0\n",
      "X7431,1\n",
      "X7432,0\n",
      "X7433,0\n",
      "X7434,141\n",
      "X7435,6\n",
      "X7436,1\n",
      "X7437,0\n",
      "X7438,0\n",
      "X7439,0\n",
      "X7440,1\n",
      "X7441,0\n",
      "X7442,0\n",
      "X7443,0\n",
      "X7444,1\n",
      "X7445,0\n",
      "X7446,0\n",
      "X7447,4\n",
      "X7448,20\n",
      "X7449,0\n",
      "X7450,0\n",
      "X7451,6\n",
      "X7452,0\n",
      "X7453,0\n",
      "X7454,0\n",
      "X7455,1\n",
      "X7456,94\n",
      "X7457,0\n",
      "X7458,3\n",
      "X7459,0\n",
      "X7460,3\n",
      "X7461,0\n",
      "X7462,20\n",
      "X7463,1\n",
      "X7464,0\n",
      "X7465,0\n",
      "X7466,0\n",
      "X7467,0\n",
      "X7468,1\n",
      "X7469,2\n",
      "X7470,11\n",
      "X7471,0\n",
      "X7472,0\n",
      "X7473,0\n",
      "X7474,0\n",
      "X7475,4\n",
      "X7476,0\n",
      "X7477,34\n",
      "X7478,0\n",
      "X7479,0\n",
      "X7480,0\n",
      "X7481,0\n",
      "X7482,0\n",
      "X7483,1\n",
      "X7484,8\n",
      "X7485,0\n",
      "X7486,0\n",
      "X7487,4\n",
      "X7488,0\n",
      "X7489,3\n",
      "X7490,0\n",
      "X7491,0\n",
      "X7492,0\n",
      "X7493,0\n",
      "X7494,70\n",
      "X7495,0\n",
      "X7496,0\n",
      "X7497,0\n",
      "X7498,0\n",
      "X7499,1\n",
      "X7500,0\n",
      "X7501,1\n",
      "X7502,0\n",
      "X7503,3\n",
      "X7504,2\n",
      "X7505,0\n",
      "X7506,0\n",
      "X7507,0\n",
      "X7508,0\n",
      "X7509,7\n",
      "X7510,0\n",
      "X7511,0\n",
      "X7512,0\n",
      "X7513,1\n",
      "X7514,0\n",
      "X7515,0\n",
      "X7516,0\n",
      "X7517,2\n",
      "X7518,5\n",
      "X7519,0\n",
      "X7520,2\n",
      "X7521,8\n",
      "X7522,0\n",
      "X7523,2\n",
      "X7524,0\n",
      "X7525,0\n",
      "X7526,0\n",
      "X7527,0\n",
      "X7528,10\n",
      "X7529,3\n",
      "X7530,0\n",
      "X7531,10\n",
      "X7532,1\n",
      "X7533,0\n",
      "X7534,0\n",
      "X7535,1\n",
      "X7536,0\n",
      "X7537,0\n",
      "X7538,0\n",
      "X7539,0\n",
      "X7540,0\n",
      "X7541,100\n",
      "X7542,3\n",
      "X7543,0\n",
      "X7544,0\n",
      "X7545,0\n",
      "X7546,0\n",
      "X7547,0\n",
      "X7548,0\n",
      "X7549,0\n",
      "X7550,1\n",
      "X7551,8\n",
      "X7552,0\n",
      "X7553,0\n",
      "X7554,0\n",
      "X7555,0\n",
      "X7556,0\n",
      "X7557,0\n",
      "X7558,8\n",
      "X7559,0\n",
      "X7560,0\n",
      "X7561,0\n",
      "X7562,0\n",
      "X7563,1\n",
      "X7564,1\n",
      "X7565,1\n",
      "X7566,0\n",
      "X7567,0\n",
      "X7568,0\n",
      "X7569,0\n",
      "X7570,0\n",
      "X7571,1\n",
      "X7572,9\n",
      "X7573,1\n",
      "X7574,0\n",
      "X7575,3\n",
      "X7576,0\n",
      "X7577,1\n",
      "X7578,0\n",
      "X7579,8\n",
      "X7580,0\n",
      "X7581,0\n",
      "X7582,93\n",
      "X7583,2\n",
      "X7584,4\n",
      "X7585,1\n",
      "X7586,0\n",
      "X7587,3\n",
      "X7588,0\n",
      "X7589,0\n",
      "X7590,6\n",
      "X7591,1\n",
      "X7592,0\n",
      "X7593,2\n",
      "X7594,9\n",
      "X7595,0\n",
      "X7596,0\n",
      "X7597,68\n",
      "X7598,0\n",
      "X7599,0\n",
      "X7600,0\n",
      "X7601,1\n",
      "X7602,0\n",
      "X7603,0\n",
      "X7604,9\n",
      "X7605,0\n",
      "X7606,4\n",
      "X7607,0\n",
      "X7608,2\n",
      "X7609,0\n",
      "X7610,0\n",
      "X7611,2\n",
      "X7612,0\n",
      "X7613,0\n",
      "X7614,21\n",
      "X7615,0\n",
      "X7616,0\n",
      "X7617,0\n",
      "X7618,0\n",
      "X7619,1\n",
      "X7620,9\n",
      "X7621,0\n",
      "X7622,0\n",
      "X7623,0\n"
     ]
    }
   ],
   "source": [
    "for i in range(len(predictions)):\n",
    "    print 'X'+str(i)+','+str(int(predictions[i]+0.5))"
   ]
  },
  {
   "cell_type": "code",
   "execution_count": null,
   "metadata": {
    "collapsed": true
   },
   "outputs": [],
   "source": []
  }
 ],
 "metadata": {
  "kernelspec": {
   "display_name": "Python 2",
   "language": "python",
   "name": "python2"
  },
  "language_info": {
   "codemirror_mode": {
    "name": "ipython",
    "version": 2
   },
   "file_extension": ".py",
   "mimetype": "text/x-python",
   "name": "python",
   "nbconvert_exporter": "python",
   "pygments_lexer": "ipython2",
   "version": "2.7.10"
  }
 },
 "nbformat": 4,
 "nbformat_minor": 0
}
